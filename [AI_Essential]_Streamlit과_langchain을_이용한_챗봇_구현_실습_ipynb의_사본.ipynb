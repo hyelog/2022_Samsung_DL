{
  "cells": [
    {
      "cell_type": "markdown",
      "metadata": {
        "id": "view-in-github",
        "colab_type": "text"
      },
      "source": [
        "<a href=\"https://colab.research.google.com/github/hyelog/2022_Samsung_DL/blob/main/%5BAI_Essential%5D_Streamlit%EA%B3%BC_langchain%EC%9D%84_%EC%9D%B4%EC%9A%A9%ED%95%9C_%EC%B1%97%EB%B4%87_%EA%B5%AC%ED%98%84_%EC%8B%A4%EC%8A%B5_ipynb%EC%9D%98_%EC%82%AC%EB%B3%B8.ipynb\" target=\"_parent\"><img src=\"https://colab.research.google.com/assets/colab-badge.svg\" alt=\"Open In Colab\"/></a>"
      ]
    },
    {
      "cell_type": "markdown",
      "id": "6e3b0b50-aef9-408f-87bc-5e849f1d7e1d",
      "metadata": {
        "id": "6e3b0b50-aef9-408f-87bc-5e849f1d7e1d"
      },
      "source": [
        "# [AI Essential] 4일차 LCEL Workshop\n",
        "## Streamlit과 langchain을 이용한 챗봇 구현"
      ]
    },
    {
      "cell_type": "markdown",
      "source": [
        "### 필수 패키지 설치"
      ],
      "metadata": {
        "id": "rhHipKfjVem7"
      },
      "id": "rhHipKfjVem7"
    },
    {
      "cell_type": "code",
      "source": [
        "%%capture\n",
        "!pip install langchain langchain_community langchain_openai streamlit pyngrok -qU"
      ],
      "metadata": {
        "collapsed": true,
        "id": "V_dsFyTJNQ0J"
      },
      "id": "V_dsFyTJNQ0J",
      "execution_count": null,
      "outputs": []
    },
    {
      "cell_type": "markdown",
      "source": [
        "### NGROK API Key 설정"
      ],
      "metadata": {
        "id": "ulMy8xOnVp0N"
      },
      "id": "ulMy8xOnVp0N"
    },
    {
      "cell_type": "code",
      "execution_count": null,
      "id": "13f55ba2-3c13-4a0f-915a-65302f7490d9",
      "metadata": {
        "id": "13f55ba2-3c13-4a0f-915a-65302f7490d9"
      },
      "outputs": [],
      "source": [
        "PYNGROK_API_KEY = '2rNnTWy7dlvRWFCzizHoKwY222E_7pNcHaAZravgzZa9Q7BrV'"
      ]
    },
    {
      "cell_type": "markdown",
      "source": [
        "### Base Page 만들기\n",
        " - 제목이 \"가전제품 고객지원 봇\"인 스트림릿 페이지를 생성하세요."
      ],
      "metadata": {
        "id": "PgYhUIp_XuOq"
      },
      "id": "PgYhUIp_XuOq"
    },
    {
      "cell_type": "code",
      "source": [
        "%%writefile app.py\n",
        "import streamlit as st\n",
        "\n",
        "# 제목 입력\n",
        "st.title(\"가전제품 고객지원 봇\")"
      ],
      "metadata": {
        "colab": {
          "base_uri": "https://localhost:8080/"
        },
        "id": "pMH-nCpdXtBU",
        "outputId": "5c99eddd-4953-484c-a170-8fbb2f615714"
      },
      "id": "pMH-nCpdXtBU",
      "execution_count": null,
      "outputs": [
        {
          "output_type": "stream",
          "name": "stdout",
          "text": [
            "Overwriting app.py\n"
          ]
        }
      ]
    },
    {
      "cell_type": "markdown",
      "source": [
        " - 스트림릿 서버 실행 후 생성 결과를 확인하세요."
      ],
      "metadata": {
        "id": "CNtilCXCaIq1"
      },
      "id": "CNtilCXCaIq1"
    },
    {
      "cell_type": "code",
      "source": [
        "# 그대로 실행하세요.\n",
        "from pyngrok import ngrok\n",
        "\n",
        "# ngrok 서비스 인증\n",
        "ngrok.set_auth_token(PYNGROK_API_KEY)\n",
        "\n",
        "# app1.py 백그라운드 프로세스 실행\n",
        "!nohup streamlit run app.py --server.port 5011 &\n",
        "\n",
        "# ngrok 터널링 실행\n",
        "ngrok_tunnel = ngrok.connect(addr='5011', proto='http', bind_tls=True)\n",
        "\n",
        "# ngrok 터널링 결과\n",
        "print(' * Tunnel URL:', ngrok_tunnel.public_url)"
      ],
      "metadata": {
        "colab": {
          "base_uri": "https://localhost:8080/"
        },
        "id": "O6LBpKD7aIVk",
        "outputId": "7ab018b0-a16d-4340-9abd-8db287477539"
      },
      "id": "O6LBpKD7aIVk",
      "execution_count": null,
      "outputs": [
        {
          "output_type": "stream",
          "name": "stdout",
          "text": [
            "nohup: appending output to 'nohup.out'\n",
            " * Tunnel URL: https://9d4a-34-73-229-250.ngrok-free.app\n"
          ]
        }
      ]
    },
    {
      "cell_type": "markdown",
      "source": [
        "### 사이드 바 추가하기\n",
        " - 사이드 바를 추가하세요.\n",
        " - 사이드 바에 OPENAI API Key를 입력 받기 위한 텍스트 입력기를 추가하세요.\n",
        "   - Key 입력 시 노출되지 않도록 비밀번호 입력 형식으로 생성하세요.\n",
        " - 페이지 재생성 후 이전 웹페이지에서 F5를 눌러 반영된 결과를 확인하세요."
      ],
      "metadata": {
        "id": "1Xc_d7n-ahOl"
      },
      "id": "1Xc_d7n-ahOl"
    },
    {
      "cell_type": "code",
      "source": [
        "%%writefile app.py\n",
        "import streamlit as st\n",
        "\n",
        "# 사이드 바 추가 및 텍스트 입력기 추가\n",
        "st.sidebar.text_input('OPENAI API KEY', type='password')\n",
        "\n",
        "# 제목 출력\n",
        "st.title(\"가전제품 고객지원 봇\")"
      ],
      "metadata": {
        "colab": {
          "base_uri": "https://localhost:8080/"
        },
        "id": "kLYvSZ-Fa57t",
        "outputId": "584f59aa-d1aa-4fdf-bfc5-3fad51cdd330"
      },
      "id": "kLYvSZ-Fa57t",
      "execution_count": null,
      "outputs": [
        {
          "output_type": "stream",
          "name": "stdout",
          "text": [
            "Overwriting app.py\n"
          ]
        }
      ]
    },
    {
      "cell_type": "markdown",
      "source": [
        " - 이제 제목 \"가전제품 고객지원 봇\"은 기본적으로 출력하지 않습니다.\n",
        " - 텍스트 입력기에 값이 입력되면 메인 페이지에 \"가전제품 고객지원 봇\"이 제목으로 출력되도록 페이지를 수정하세요.\n",
        " - 페이지 재생성 후 이전 웹페이지에서 F5를 눌러 반영된 결과를 확인하세요.\n"
      ],
      "metadata": {
        "id": "bxOlQ04hbYtk"
      },
      "id": "bxOlQ04hbYtk"
    },
    {
      "cell_type": "code",
      "source": [
        "%%writefile app.py\n",
        "import streamlit as st\n",
        "\n",
        "# 사이드 바 추가 및 텍스트 입력기 추가\n",
        "key = st.sidebar.text_input('OPENAI API KEY', type='password')\n",
        "\n",
        "# key 값이 있는 경우만\n",
        "if key:\n",
        "    # 제목 출력\n",
        "    st.title(\"가전제품 고객지원 봇\")"
      ],
      "metadata": {
        "colab": {
          "base_uri": "https://localhost:8080/"
        },
        "id": "kRwfm_7RbYcU",
        "outputId": "08403810-813b-490a-a628-496412a573e3"
      },
      "id": "kRwfm_7RbYcU",
      "execution_count": null,
      "outputs": [
        {
          "output_type": "stream",
          "name": "stdout",
          "text": [
            "Overwriting app.py\n"
          ]
        }
      ]
    },
    {
      "cell_type": "markdown",
      "source": [
        "### Key 확인 및 LLM Chain 구성하기\n",
        " - 입력된 Key가 유효한 Key인지 확인하는 코드를 작성하세요.\n",
        " - 유효한 경우 제목 \"가전제품 고객지원 봇\"을 출력합니다.\n",
        " - 페이지 재생성 후 이전 웹페이지에서 F5를 눌러 반영된 결과를 확인하세요."
      ],
      "metadata": {
        "id": "q6ixNSXof81c"
      },
      "id": "q6ixNSXof81c"
    },
    {
      "cell_type": "code",
      "source": [
        "%%writefile app.py\n",
        "import streamlit as st\n",
        "from langchain_openai import ChatOpenAI\n",
        "\n",
        "# OpenAI API Key 설정\n",
        "OPENAI_API_KEY = ''\n",
        "\n",
        "# api key 유효성 체크 (그대로 실행하세요)\n",
        "def validate_openai_api_key(key):\n",
        "    try:\n",
        "        llm = ChatOpenAI(model_name=\"gpt-4o-mini\", temperature=0, openai_api_key=key)\n",
        "        llm.invoke('key테스트입니다.')\n",
        "        return True\n",
        "    except Exception as e:\n",
        "        if e.code == 'invalid_api_key':\n",
        "            st.sidebar.error('OPENAI API 키를 확인해주세요.')\n",
        "        else:\n",
        "            st.sidebar.error(e.code)\n",
        "        return False\n",
        "\n",
        "# 사이드 바 추가 및 텍스트 입력기 추가\n",
        "key = st.sidebar.text_input('OPENAI API KEY', type='password', value=OPENAI_API_KEY)\n",
        "\n",
        "# key 값이 있는 경우만\n",
        "if key:\n",
        "    # key가 유효한 경우만 제목 출력\n",
        "    if validate_openai_api_key(key):\n",
        "        st.title(\"가전제품 고객지원 봇\")"
      ],
      "metadata": {
        "colab": {
          "base_uri": "https://localhost:8080/"
        },
        "id": "65R1l_7Wf8ej",
        "outputId": "bb518943-ede0-49fa-8c72-42aca12a1f06"
      },
      "id": "65R1l_7Wf8ej",
      "execution_count": null,
      "outputs": [
        {
          "output_type": "stream",
          "name": "stdout",
          "text": [
            "Overwriting app.py\n"
          ]
        }
      ]
    },
    {
      "cell_type": "markdown",
      "source": [
        " - LLM Chain을 구성하여 페이지에 추가하세요.\n",
        " - Chain은 Prompt, LLM, Parser로 구성하세요.\n",
        " - Prompt는 제품 고장에 대해 문의할 수 있도록 간단하게 구성하세요.\n",
        " - st.chat_input을 이용하여 사용자 문의사항을 입력 받으세요.\n",
        "  ```\n",
        "        # 예시\n",
        "        message = st.chat_input('메시지를 입력하세요.')\n",
        "  ```\n",
        " - 입력 값이 있는 경우 LLM을 이용하여 답변을 생성하고 사용자 입력과 LLM 응답을 st.chat_message를 이용하여 출력하세요.\n",
        "   ```\n",
        "        # 예시\n",
        "        with st.chat_message('user'):\n",
        "            st.write(message)\n",
        "        with st.chat_message('assistant'):\n",
        "            st.write(message)\n",
        "   ```\n",
        " - 페이지 재생성 후 이전 웹페이지에서 F5를 눌러 반영된 결과를 확인하세요."
      ],
      "metadata": {
        "id": "_UtU4jXghqTp"
      },
      "id": "_UtU4jXghqTp"
    },
    {
      "cell_type": "code",
      "source": [
        "%%writefile app.py\n",
        "import streamlit as st\n",
        "from langchain_openai import ChatOpenAI\n",
        "from langchain_core.prompts import PromptTemplate\n",
        "from langchain_core.output_parsers import StrOutputParser\n",
        "\n",
        "# OpenAI API Key 설정\n",
        "OPENAI_API_KEY = ''\n",
        "\n",
        "# api key 유효성 체크 (그대로 실행하세요)\n",
        "def validate_openai_api_key(key):\n",
        "    try:\n",
        "        llm = ChatOpenAI(model_name=\"gpt-4o-mini\", temperature=0, openai_api_key=key)\n",
        "        llm.invoke('key테스트입니다.')\n",
        "        del llm\n",
        "        return True\n",
        "    except Exception as e:\n",
        "        if e.code == 'invalid_api_key':\n",
        "            st.sidebar.error('OPENAI API 키를 확인해주세요.')\n",
        "        else:\n",
        "            st.sidebar.error(e.code)\n",
        "        del llm\n",
        "        return False\n",
        "\n",
        "# 사이드 바 추가 및 텍스트 입력기 추가\n",
        "key = st.sidebar.text_input('OPENAI API KEY', type='password', value=OPENAI_API_KEY)\n",
        "\n",
        "# key 값이 있는 경우만 출력\n",
        "if key:\n",
        "    # key가 유효한 경우만 제목 출력\n",
        "    if validate_openai_api_key(key):\n",
        "        template = \"\"\"당신은 가전제품 고객지원을 담당하는 챗봇입니다. 고객의 문의에 친절하고 상세하게 답해주세요. 가전제품과 관련 없는 질문은 답하지 마세요.\n",
        "user: {user_input}\"\"\"\n",
        "        # 프롬프트 생성\n",
        "        prompt = PromptTemplate.from_template(template)\n",
        "        # LLM 생성\n",
        "        llm = ChatOpenAI(model_name=\"gpt-4o-mini\", temperature=0, openai_api_key=key)\n",
        "        # 파서 생성\n",
        "        parser = StrOutputParser()\n",
        "        # 체인 생성\n",
        "        chain = (prompt | llm | parser)\n",
        "\n",
        "        # 제목 출력\n",
        "        st.title(\"가전제품 고객지원 봇\")\n",
        "\n",
        "        if \"message\" not in st.session_state:\n",
        "            st.session_state.messages = []\n",
        "        for message in st.session_state.messages:\n",
        "            with st.chat_messae(message[\"role\"]):\n",
        "                st.write(message[\"content\"])\n",
        "\n",
        "        # 챗 유저 메시지 입력\n",
        "        if question := st.chat_input(\"고장 사항을 입력하세요:\"):\n",
        "            # 챗 유저 메시지 출력\n",
        "            with st.chat_message(\"user\"):\n",
        "                st.write(question)\n",
        "            # 챗 도우미 메시지 출력\n",
        "            with st.chat_message(\"assistant\"):\n",
        "                # LLM 체인을 이용하여 유저 메시지에 대한 도우미 메시지 생성 후 출력\n",
        "                history = '\\n'.join([':'.join(entry.values()) for entry in st.session_state.messages])\n",
        "\n",
        "                message = st.write_stream(chain.stream({\"user_input\": question, \"history\": history}))\n",
        "                st.write(message)\n",
        "            st.session_state.messages.append({\"role\": \"user\", \"content\": question})\n",
        "            st.session_state.messages.append({\"role\": \"assistant\", \"content\": message})\n",
        "\n",
        "\n",
        "# 자동 스크롤 스크립트 (그대로 사용하세요.)\n",
        "js = '''\n",
        "<script>\n",
        "    var body = window.parent.document.querySelector(\".main\");\n",
        "    console.log(body);\n",
        "    body.scrollTop = 0;\n",
        "</script>\n",
        "'''\n",
        "\n",
        "st.components.v1.html(js)"
      ],
      "metadata": {
        "colab": {
          "base_uri": "https://localhost:8080/"
        },
        "id": "dLTY5jiThph9",
        "outputId": "0e2be4b5-6526-4e86-b8b3-55a965349e43"
      },
      "id": "dLTY5jiThph9",
      "execution_count": null,
      "outputs": [
        {
          "output_type": "stream",
          "name": "stdout",
          "text": [
            "Overwriting app.py\n"
          ]
        }
      ]
    },
    {
      "cell_type": "markdown",
      "id": "454f8359-6f9d-41ef-9946-d2a4b68fd419",
      "metadata": {
        "id": "454f8359-6f9d-41ef-9946-d2a4b68fd419"
      },
      "source": [
        "### 서비스 종료 및 터널링 종료"
      ]
    },
    {
      "cell_type": "code",
      "execution_count": null,
      "id": "9e0c9c36-820f-4020-9c78-d2bbd8eeac84",
      "metadata": {
        "colab": {
          "base_uri": "https://localhost:8080/"
        },
        "id": "9e0c9c36-820f-4020-9c78-d2bbd8eeac84",
        "outputId": "0b16e71c-3945-443f-87e8-6e61d2462ed7"
      },
      "outputs": [
        {
          "output_type": "stream",
          "name": "stderr",
          "text": [
            "WARNING:pyngrok.process.ngrok:t=2025-01-13T03:57:39+0000 lvl=warn msg=\"Stopping forwarder\" name=http-5011-0d3fc64c-55c2-4825-bb32-e4146d5bc4c9 acceptErr=\"failed to accept connection: Listener closed\"\n"
          ]
        }
      ],
      "source": [
        "# Streamlit 서비스 종료\n",
        "!pkill -f streamlit\n",
        "# ngrok 터널링 종료\n",
        "ngrok.disconnect(ngrok_tunnel.public_url)"
      ]
    }
  ],
  "metadata": {
    "kernelspec": {
      "display_name": "Python 3 (ipykernel)",
      "language": "python",
      "name": "python3"
    },
    "language_info": {
      "codemirror_mode": {
        "name": "ipython",
        "version": 3
      },
      "file_extension": ".py",
      "mimetype": "text/x-python",
      "name": "python",
      "nbconvert_exporter": "python",
      "pygments_lexer": "ipython3",
      "version": "3.10.14"
    },
    "colab": {
      "provenance": [],
      "include_colab_link": true
    }
  },
  "nbformat": 4,
  "nbformat_minor": 5
}