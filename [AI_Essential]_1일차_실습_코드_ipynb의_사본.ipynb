{
  "cells": [
    {
      "cell_type": "markdown",
      "metadata": {
        "id": "view-in-github",
        "colab_type": "text"
      },
      "source": [
        "<a href=\"https://colab.research.google.com/github/hyelog/2022_Samsung_DL/blob/main/%5BAI_Essential%5D_1%EC%9D%BC%EC%B0%A8_%EC%8B%A4%EC%8A%B5_%EC%BD%94%EB%93%9C_ipynb%EC%9D%98_%EC%82%AC%EB%B3%B8.ipynb\" target=\"_parent\"><img src=\"https://colab.research.google.com/assets/colab-badge.svg\" alt=\"Open In Colab\"/></a>"
      ]
    },
    {
      "cell_type": "markdown",
      "id": "4354f038",
      "metadata": {
        "id": "4354f038"
      },
      "source": [
        "## 01-001 Python 코드"
      ]
    },
    {
      "cell_type": "code",
      "execution_count": null,
      "id": "33845045",
      "metadata": {
        "id": "33845045",
        "outputId": "242bfc66-8316-4418-e19b-a705d4c41aab",
        "colab": {
          "base_uri": "https://localhost:8080/"
        }
      },
      "outputs": [
        {
          "output_type": "stream",
          "name": "stdout",
          "text": [
            "1 is odd\n",
            "2 is even\n",
            "3 is odd\n",
            "4 is even\n",
            "5 is odd\n"
          ]
        }
      ],
      "source": [
        "# Python: 들여쓰기로 코드 블록 설정\n",
        "def check_numbers(numbers):\n",
        "    for number in numbers:\n",
        "        if number % 2 == 0:\n",
        "            print(f'{number} is even')\n",
        "        else:\n",
        "            print(f'{number} is odd')\n",
        "\n",
        "# 함수 호출\n",
        "numbers = [1, 2, 3, 4, 5]\n",
        "check_numbers(numbers)"
      ]
    },
    {
      "cell_type": "markdown",
      "id": "3aa94c4f",
      "metadata": {
        "id": "3aa94c4f"
      },
      "source": [
        "## 01-002 Python: for문을 이용한 시퀀스 순회 구조"
      ]
    },
    {
      "cell_type": "code",
      "execution_count": null,
      "id": "753fb67e",
      "metadata": {
        "scrolled": true,
        "id": "753fb67e",
        "colab": {
          "base_uri": "https://localhost:8080/",
          "height": 108
        },
        "outputId": "1185bc1a-e91d-49d5-ab3e-2d911047968f"
      },
      "outputs": [
        {
          "output_type": "error",
          "ename": "SyntaxError",
          "evalue": "invalid syntax (<ipython-input-4-54d8c16c433b>, line 4)",
          "traceback": [
            "\u001b[0;36m  File \u001b[0;32m\"<ipython-input-4-54d8c16c433b>\"\u001b[0;36m, line \u001b[0;32m4\u001b[0m\n\u001b[0;31m    실행할 코드\u001b[0m\n\u001b[0m        ^\u001b[0m\n\u001b[0;31mSyntaxError\u001b[0m\u001b[0;31m:\u001b[0m invalid syntax\n"
          ]
        }
      ],
      "source": [
        "# for문을 이용한 시퀀스 순회 구조\n",
        "# 시퀀스의 각 요소가 변수에 순차적으로 대입되어 실행 코드가 반복 수행됨\n",
        "for 변수 in 시퀀스:\n",
        "    실행할 코드"
      ]
    },
    {
      "cell_type": "markdown",
      "id": "db87ac98",
      "metadata": {
        "id": "db87ac98"
      },
      "source": [
        "## 01-003 Python: for문을 이용한 시퀀스 순회 구조"
      ]
    },
    {
      "cell_type": "code",
      "execution_count": null,
      "id": "a89c82eb",
      "metadata": {
        "id": "a89c82eb",
        "outputId": "b86da4b6-dc20-4760-c7c7-62172e8db536",
        "colab": {
          "base_uri": "https://localhost:8080/"
        }
      },
      "outputs": [
        {
          "output_type": "stream",
          "name": "stdout",
          "text": [
            "0\n",
            "1\n",
            "2\n",
            "3\n",
            "4\n"
          ]
        }
      ],
      "source": [
        "numbers = [0, 1, 2, 3, 4]  # 리스트 생성\n",
        "\n",
        "for number in numbers:  # 리스트의 각 요소를 순차적으로 number 변수에 대입\n",
        "    print(number)  # number의 값을 출력"
      ]
    },
    {
      "cell_type": "markdown",
      "id": "44709f67",
      "metadata": {
        "id": "44709f67"
      },
      "source": [
        "## 01-004 Python: range() 함수를 이용한 반복"
      ]
    },
    {
      "cell_type": "code",
      "execution_count": null,
      "id": "4f798d81",
      "metadata": {
        "id": "4f798d81",
        "outputId": "33bf9f66-79bb-4ddd-f362-766676845128",
        "colab": {
          "base_uri": "https://localhost:8080/"
        }
      },
      "outputs": [
        {
          "output_type": "stream",
          "name": "stdout",
          "text": [
            "0\n",
            "1\n",
            "2\n",
            "3\n",
            "4\n"
          ]
        }
      ],
      "source": [
        "# range() 함수를 사용한 반복문\n",
        "for number in range(5):  # 0부터 4까지의 숫자를 생성하여 number 변수에 대입\n",
        "    print(number)  # number의 값을 출력"
      ]
    },
    {
      "cell_type": "markdown",
      "id": "85a2407e",
      "metadata": {
        "id": "85a2407e"
      },
      "source": [
        "## 01-005 Python: 함수의 기본 구조"
      ]
    },
    {
      "cell_type": "code",
      "execution_count": null,
      "id": "5732817c",
      "metadata": {
        "id": "5732817c"
      },
      "outputs": [],
      "source": [
        "# 함수 정의 예시\n",
        "def 함수이름(매개변수1, 매개변수2):\n",
        "    # 실행할 코드\n",
        "    return 반환값  # 반환값은 선택 사항"
      ]
    },
    {
      "cell_type": "markdown",
      "id": "8f5d4be5",
      "metadata": {
        "id": "8f5d4be5"
      },
      "source": [
        "## 01-006 Python: 함수 정의 및 호출"
      ]
    },
    {
      "cell_type": "code",
      "execution_count": null,
      "id": "66eeb895",
      "metadata": {
        "id": "66eeb895",
        "outputId": "86c7a0a0-9767-4513-f733-4c3cd4afdc12",
        "colab": {
          "base_uri": "https://localhost:8080/"
        }
      },
      "outputs": [
        {
          "output_type": "stream",
          "name": "stdout",
          "text": [
            "8\n"
          ]
        }
      ],
      "source": [
        "# 두 값을 더하는 함수 정의\n",
        "def add(a, b):  # a와 b라는 두 매개변수를 받음\n",
        "    return a + b  # 두 값을 더한 결과를 반환\n",
        "\n",
        "# 함수 호출 및 결과 출력\n",
        "result = add(5, 3)  # add 함수를 호출하여 5와 3을 더한 결과를 반환받음\n",
        "print(result)  # 결과값 출력 -> 8"
      ]
    },
    {
      "cell_type": "markdown",
      "id": "87219767",
      "metadata": {
        "id": "87219767"
      },
      "source": [
        "## 01-007 Python: 기본 매개변수를 사용하는 함수"
      ]
    },
    {
      "cell_type": "code",
      "execution_count": null,
      "id": "28650805",
      "metadata": {
        "id": "28650805",
        "outputId": "04592abb-3ab4-4ac8-d971-9a6d3984712f",
        "colab": {
          "base_uri": "https://localhost:8080/"
        }
      },
      "outputs": [
        {
          "output_type": "stream",
          "name": "stdout",
          "text": [
            "Welcome Guest!\n",
            "Welcome to AI Essential!\n"
          ]
        }
      ],
      "source": [
        "# 기본 매개변수를 사용하는 함수 정의\n",
        "def welcome(name='Guest'):  # 기본값이 'Guest'인 매개변수 name\n",
        "    return f'Welcome {name}!'  # name 값을 사용해 환영 메시지 반환\n",
        "\n",
        "# 함수 호출 및 결과 출력\n",
        "print(welcome())  # 매개변수를 전달하지 않으면 기본값 'Guest'가 사용됨 -> 'Welcome Guest!'\n",
        "print(welcome('to AI Essential'))  # 'to AI Essential' 값을 전달 -> 'Welcome to AI Essential!'"
      ]
    },
    {
      "cell_type": "markdown",
      "id": "ce207703",
      "metadata": {
        "id": "ce207703"
      },
      "source": [
        "## 01-008 Python: 모듈 생성 및 사용"
      ]
    },
    {
      "cell_type": "code",
      "execution_count": null,
      "id": "914dee08",
      "metadata": {
        "id": "914dee08",
        "outputId": "3b43e7b7-7456-4417-f872-9f313b157819",
        "colab": {
          "base_uri": "https://localhost:8080/"
        }
      },
      "outputs": [
        {
          "output_type": "stream",
          "name": "stdout",
          "text": [
            "Writing mymodule.py\n"
          ]
        }
      ],
      "source": [
        "%%writefile mymodule.py\n",
        "# mymodule.py\n",
        "def welcome(name='Guest'):\n",
        "    return f'Welcome {name}!'  # 기본값을 사용하여 환영 메시지 반환\n",
        "\n",
        "def add(a, b):\n",
        "    return a + b  # 두 값을 더한 결과를 반환"
      ]
    },
    {
      "cell_type": "markdown",
      "id": "443334b1",
      "metadata": {
        "id": "443334b1"
      },
      "source": [
        "## 01-009 Python: 모듈을 사용하여 함수 호출하기"
      ]
    },
    {
      "cell_type": "code",
      "execution_count": null,
      "id": "98747b62",
      "metadata": {
        "id": "98747b62",
        "outputId": "01566d6b-0c15-41b7-c85e-7a5fb7e3ebea",
        "colab": {
          "base_uri": "https://localhost:8080/"
        }
      },
      "outputs": [
        {
          "output_type": "stream",
          "name": "stdout",
          "text": [
            "Welcome to AI Essential!\n",
            "8\n"
          ]
        }
      ],
      "source": [
        "# mymodule 모듈을 import\n",
        "import mymodule\n",
        "\n",
        "# 모듈 내 함수 호출\n",
        "print(mymodule.welcome('to AI Essential'))  # 'Welcome to AI Essential!' 출력\n",
        "print(mymodule.add(3, 5))  # 3 + 5 = 8 출력"
      ]
    },
    {
      "cell_type": "markdown",
      "id": "d48e9a29",
      "metadata": {
        "id": "d48e9a29"
      },
      "source": [
        "## 01-010 Python: 모듈을 별칭으로 불러오기"
      ]
    },
    {
      "cell_type": "code",
      "execution_count": null,
      "id": "b4d47074",
      "metadata": {
        "id": "b4d47074",
        "outputId": "921ebdf5-e740-4b0c-8153-714c70b10197",
        "colab": {
          "base_uri": "https://localhost:8080/"
        }
      },
      "outputs": [
        {
          "output_type": "stream",
          "name": "stdout",
          "text": [
            "Welcome to AI Essential!\n",
            "8\n"
          ]
        }
      ],
      "source": [
        "# mymodule 모듈을 별칭 'mm'으로 import\n",
        "import mymodule as mm\n",
        "\n",
        "# 모듈의 함수를 별칭을 사용하여 호출\n",
        "print(mm.welcome('to AI Essential'))  # 'Welcome to AI Essential!' 출력\n",
        "print(mm.add(3, 5))  # 3 + 5 = 8 출력"
      ]
    },
    {
      "cell_type": "markdown",
      "id": "b0bc1b04",
      "metadata": {
        "id": "b0bc1b04"
      },
      "source": [
        "## 01-011 Python: 모듈에서 특정 함수만 불러오기"
      ]
    },
    {
      "cell_type": "code",
      "execution_count": null,
      "id": "26fde30c",
      "metadata": {
        "id": "26fde30c",
        "outputId": "a2c08447-4cb4-4246-d5dc-5e8867a7aadf",
        "colab": {
          "base_uri": "https://localhost:8080/"
        }
      },
      "outputs": [
        {
          "output_type": "stream",
          "name": "stdout",
          "text": [
            "Welcome to AI Essential!\n",
            "8\n"
          ]
        }
      ],
      "source": [
        "# mymodule 모듈에서 특정 함수만 불러오기\n",
        "from mymodule import welcome, add\n",
        "\n",
        "# welcome 함수 호출\n",
        "print(welcome('to AI Essential'))  # 'Welcome to AI Essential!' 출력\n",
        "\n",
        "# add 함수 호출\n",
        "print(add(3, 5))  # 3 + 5 = 8 출력"
      ]
    },
    {
      "cell_type": "markdown",
      "id": "fa454d1b",
      "metadata": {
        "id": "fa454d1b"
      },
      "source": [
        "---"
      ]
    },
    {
      "cell_type": "markdown",
      "id": "d542dc1c",
      "metadata": {
        "id": "d542dc1c"
      },
      "source": [
        "# 02. PyTorch Tensor"
      ]
    },
    {
      "cell_type": "markdown",
      "id": "949d1ba9",
      "metadata": {
        "id": "949d1ba9"
      },
      "source": [
        "## 02-001 PyTorch 라이브러리 임포트"
      ]
    },
    {
      "cell_type": "code",
      "execution_count": null,
      "id": "07b52b21",
      "metadata": {
        "id": "07b52b21"
      },
      "outputs": [],
      "source": [
        "import torch  # PyTorch 라이브러리 임포트"
      ]
    },
    {
      "cell_type": "markdown",
      "id": "b76a7af4",
      "metadata": {
        "id": "b76a7af4"
      },
      "source": [
        "## 02-002 1D 텐서 생성 및 출력"
      ]
    },
    {
      "cell_type": "code",
      "execution_count": null,
      "id": "8d79d288",
      "metadata": {
        "id": "8d79d288",
        "outputId": "30939b42-7934-4a80-9e84-58bb58a51d07",
        "colab": {
          "base_uri": "https://localhost:8080/"
        }
      },
      "outputs": [
        {
          "output_type": "execute_result",
          "data": {
            "text/plain": [
              "tensor([1., 2., 3.])"
            ]
          },
          "metadata": {},
          "execution_count": 15
        }
      ],
      "source": [
        "# 1차원 텐서를 생성 (값: 1.0, 2.0, 3.0)\n",
        "tensor_1d = torch.tensor([1.0, 2.0, 3.0])\n",
        "tensor_1d\n",
        "# 생성된 텐서를 출력 -> tensor([1., 2., 3.])"
      ]
    },
    {
      "cell_type": "markdown",
      "id": "36ced722",
      "metadata": {
        "id": "36ced722"
      },
      "source": [
        "## 02-003 2D 텐서 생성 및 출력"
      ]
    },
    {
      "cell_type": "code",
      "execution_count": null,
      "id": "10498645",
      "metadata": {
        "id": "10498645",
        "outputId": "7337cffd-fa99-461c-f6df-4ef0aa765d30",
        "colab": {
          "base_uri": "https://localhost:8080/"
        }
      },
      "outputs": [
        {
          "output_type": "execute_result",
          "data": {
            "text/plain": [
              "tensor([[1., 2.],\n",
              "        [3., 4.]])"
            ]
          },
          "metadata": {},
          "execution_count": 16
        }
      ],
      "source": [
        "# 2차원 텐서를 생성 (값: [[1.0, 2.0], [3.0, 4.0]])\n",
        "tensor_2d = torch.tensor([[1.0, 2.0],\n",
        "                          [3.0, 4.0]])\n",
        "tensor_2d\n",
        "# 생성된 텐서를 출력 ->tensor([[1., 2.],\n",
        "#                           [3., 4.]])"
      ]
    },
    {
      "cell_type": "markdown",
      "id": "ad9d68bf",
      "metadata": {
        "id": "ad9d68bf"
      },
      "source": [
        "## 02-004 텐서를 GPU로 이동"
      ]
    },
    {
      "cell_type": "code",
      "execution_count": null,
      "id": "8b9ef0ec",
      "metadata": {
        "id": "8b9ef0ec",
        "outputId": "50d66d2a-d2df-469e-9e77-dfff4cc0b79c",
        "colab": {
          "base_uri": "https://localhost:8080/"
        }
      },
      "outputs": [
        {
          "output_type": "execute_result",
          "data": {
            "text/plain": [
              "device(type='cuda', index=0)"
            ]
          },
          "metadata": {},
          "execution_count": 17
        }
      ],
      "source": [
        "device = 'cuda' if torch.cuda.is_available() else 'cpu' # GPU 사용 가능 여부 확인\n",
        "tensor_1d = tensor_1d.to(device)  # 1D 텐서 GPU로 이동\n",
        "tensor_1d.device"
      ]
    },
    {
      "cell_type": "markdown",
      "id": "c51de27b",
      "metadata": {
        "id": "c51de27b"
      },
      "source": [
        "## 02-005 텐서 생성 및 dtype 지정"
      ]
    },
    {
      "cell_type": "code",
      "execution_count": null,
      "id": "c6898393",
      "metadata": {
        "id": "c6898393",
        "outputId": "296e66ed-2369-4258-f100-6d832db0db30",
        "colab": {
          "base_uri": "https://localhost:8080/"
        }
      },
      "outputs": [
        {
          "output_type": "execute_result",
          "data": {
            "text/plain": [
              "tensor([1., 2., 3.], dtype=torch.float64)"
            ]
          },
          "metadata": {},
          "execution_count": 18
        }
      ],
      "source": [
        "tensor_1d = torch.tensor([1, 2, 3], dtype=torch.float64)  # dtype을 float64로 지정\n",
        "tensor_1d  # 텐서 출력 -> tensor([1., 2., 3.], dtype=torch.float64)"
      ]
    },
    {
      "cell_type": "code",
      "execution_count": null,
      "id": "0e3b7159",
      "metadata": {
        "id": "0e3b7159",
        "outputId": "95286dff-d852-4195-8419-225c2a3912f9",
        "colab": {
          "base_uri": "https://localhost:8080/"
        }
      },
      "outputs": [
        {
          "output_type": "execute_result",
          "data": {
            "text/plain": [
              "tensor([1, 2, 3])"
            ]
          },
          "metadata": {},
          "execution_count": 19
        }
      ],
      "source": [
        "tensor_1d = tensor_1d.to(torch.int64)  # dtype을 float64로 지정\n",
        "tensor_1d  # 텐서 출력 -> tensor([1, 2, 3])"
      ]
    },
    {
      "cell_type": "markdown",
      "id": "cc05520f",
      "metadata": {
        "id": "cc05520f"
      },
      "source": [
        "## 02-006 4차원 텐서의 2차원 변환"
      ]
    },
    {
      "cell_type": "code",
      "execution_count": null,
      "id": "36a8ebb0",
      "metadata": {
        "id": "36a8ebb0",
        "outputId": "32386958-f9b3-4b23-dc48-2ed38cc3f9f1",
        "colab": {
          "base_uri": "https://localhost:8080/"
        }
      },
      "outputs": [
        {
          "output_type": "execute_result",
          "data": {
            "text/plain": [
              "torch.Size([10, 64, 7, 7])"
            ]
          },
          "metadata": {},
          "execution_count": 20
        }
      ],
      "source": [
        "x = torch.randn(10, 64, 7, 7)  # 4차원 텐서 생성: (10, 64, 7, 7)\n",
        "x.shape"
      ]
    },
    {
      "cell_type": "code",
      "execution_count": null,
      "id": "aab8fdda",
      "metadata": {
        "id": "aab8fdda",
        "outputId": "1fe61edb-251d-4036-e76c-200e02ede790",
        "colab": {
          "base_uri": "https://localhost:8080/"
        }
      },
      "outputs": [
        {
          "output_type": "execute_result",
          "data": {
            "text/plain": [
              "torch.Size([10, 3136])"
            ]
          },
          "metadata": {},
          "execution_count": 21
        }
      ],
      "source": [
        "y = x.reshape(x.shape[0], -1)  # 텐서를 (10, 64 * 7 * 7)으로 변환, 즉 2차원 텐서로 변경\n",
        "# -1은 나머지 차원을 자동으로 계산하게 하여 (10, 3136)으로 변경\n",
        "y.shape  # y의 차원은 (10, 3136)"
      ]
    },
    {
      "cell_type": "markdown",
      "id": "a8bd9f08",
      "metadata": {
        "id": "a8bd9f08"
      },
      "source": [
        "## 02-007 4차원 텐서의 차원 재배열"
      ]
    },
    {
      "cell_type": "code",
      "execution_count": null,
      "id": "ab076014",
      "metadata": {
        "id": "ab076014",
        "outputId": "e36a31d0-da5f-436b-c5a4-57fc3c9808d7",
        "colab": {
          "base_uri": "https://localhost:8080/"
        }
      },
      "outputs": [
        {
          "output_type": "execute_result",
          "data": {
            "text/plain": [
              "torch.Size([10, 3, 28, 28])"
            ]
          },
          "metadata": {},
          "execution_count": 22
        }
      ],
      "source": [
        "x = torch.randn(10, 28, 28, 3)  # 4차원 텐서 생성: (10, 28, 28, 3)\n",
        "y = x.permute(0, 3, 1, 2)  # 차원의 순서를 (10, 3, 28, 28)로 재배열\n",
        "y.shape  # y의 차원은 (10, 3, 28, 28)"
      ]
    },
    {
      "cell_type": "markdown",
      "id": "cda3afe3",
      "metadata": {
        "id": "cda3afe3"
      },
      "source": [
        "## 02-008 1D 텐서에서 요소 선택"
      ]
    },
    {
      "cell_type": "code",
      "execution_count": null,
      "id": "9b8d3b0e",
      "metadata": {
        "id": "9b8d3b0e",
        "outputId": "10a91df1-6070-47cb-eb48-f19c296f1e9b",
        "colab": {
          "base_uri": "https://localhost:8080/"
        }
      },
      "outputs": [
        {
          "output_type": "stream",
          "name": "stdout",
          "text": [
            "tensor(10)\n",
            "tensor(40)\n"
          ]
        }
      ],
      "source": [
        "# 1D 텐서 생성\n",
        "tensor_1d = torch.tensor([10, 20, 30, 40])\n",
        "\n",
        "# 첫 번째 요소 선택 (Python 인덱스는 0부터 시작)\n",
        "print(tensor_1d[0]) # 출력: tensor(10)\n",
        "\n",
        "# 마지막 요소 선택\n",
        "print(tensor_1d[-1]) # 출력: tensor(40)"
      ]
    },
    {
      "cell_type": "markdown",
      "id": "633ce2af",
      "metadata": {
        "id": "633ce2af"
      },
      "source": [
        "## 02-009 2D 텐서에서 특정 요소 선택"
      ]
    },
    {
      "cell_type": "code",
      "execution_count": null,
      "id": "5133c8c0",
      "metadata": {
        "id": "5133c8c0",
        "outputId": "54423680-2139-4619-df1b-ec54d125aa05",
        "colab": {
          "base_uri": "https://localhost:8080/"
        }
      },
      "outputs": [
        {
          "output_type": "stream",
          "name": "stdout",
          "text": [
            "tensor(2)\n",
            "tensor(9)\n"
          ]
        }
      ],
      "source": [
        "# 2D 텐서 생성\n",
        "tensor_2d = torch.tensor([[1, 2, 3], [4, 5, 6], [7, 8, 9]])\n",
        "\n",
        "# 첫 번째 행, 두 번째 열 요소 선택\n",
        "print(tensor_2d[0, 1]) # 출력: tensor(2)\n",
        "\n",
        "\n",
        "# 마지막 행, 마지막 열 요소 선택\n",
        "print(tensor_2d[-1, -1])# 출력: tensor(9)"
      ]
    },
    {
      "cell_type": "markdown",
      "id": "ae8f685d",
      "metadata": {
        "id": "ae8f685d"
      },
      "source": [
        "## 02-010 1D 텐서에서 슬라이싱으로 요소 선택"
      ]
    },
    {
      "cell_type": "code",
      "execution_count": null,
      "id": "f92f4c7a",
      "metadata": {
        "id": "f92f4c7a",
        "outputId": "e7014db1-29aa-4bc8-bacd-79a0ed74256a",
        "colab": {
          "base_uri": "https://localhost:8080/"
        }
      },
      "outputs": [
        {
          "output_type": "execute_result",
          "data": {
            "text/plain": [
              "tensor([10, 20, 30, 40])"
            ]
          },
          "metadata": {},
          "execution_count": 25
        }
      ],
      "source": [
        "# 1D 텐서 생성\n",
        "tensor_1d = torch.tensor([10, 20, 30, 40, 50])\n",
        "\n",
        "# 처음부터 인덱스 3까지의 요소 선택\n",
        "tensor_1d[:4]  # 출력: tensor([10, 20, 30, 40])"
      ]
    },
    {
      "cell_type": "markdown",
      "id": "7b7d3fd9",
      "metadata": {
        "id": "7b7d3fd9"
      },
      "source": [
        "## 02-011 2D 텐서에서 슬라이싱으로 요소 선택"
      ]
    },
    {
      "cell_type": "code",
      "execution_count": null,
      "id": "2369451c",
      "metadata": {
        "id": "2369451c",
        "outputId": "7c9e1868-fe87-428e-a853-2550d3d490b3",
        "colab": {
          "base_uri": "https://localhost:8080/"
        }
      },
      "outputs": [
        {
          "output_type": "stream",
          "name": "stdout",
          "text": [
            "tensor([1, 2, 3])\n",
            "tensor([1, 4, 7])\n"
          ]
        }
      ],
      "source": [
        "# 2D 텐서 슬라이싱\n",
        "tensor_2d = torch.tensor([[1, 2, 3], [4, 5, 6], [7, 8, 9]])\n",
        "\n",
        "# 첫 번째 행 선택\n",
        "print(tensor_2d[0, :])  # 출력: tensor([1, 2, 3])\n",
        "\n",
        "# 첫 번째 열 선택\n",
        "print(tensor_2d[:, 0])  # 출력: tensor([1, 4, 7])"
      ]
    },
    {
      "cell_type": "markdown",
      "id": "33f6a157",
      "metadata": {
        "id": "33f6a157"
      },
      "source": [
        "## 02-012 1D 텐서에서 특정 요소 수정"
      ]
    },
    {
      "cell_type": "code",
      "execution_count": null,
      "id": "75430ea1",
      "metadata": {
        "id": "75430ea1",
        "outputId": "358b71a1-d3df-4013-b56b-06fde88376a0",
        "colab": {
          "base_uri": "https://localhost:8080/"
        }
      },
      "outputs": [
        {
          "output_type": "stream",
          "name": "stdout",
          "text": [
            "tensor([100,  20,  30,  40,  50])\n",
            "tensor([100, 200, 300, 400,  50])\n"
          ]
        }
      ],
      "source": [
        "# 1D 텐서 생성\n",
        "tensor = torch.tensor([10, 20, 30, 40, 50])\n",
        "\n",
        "# 인덱스 0 위치의 요소 수정\n",
        "tensor[0] = 100\n",
        "print(tensor)  # 출력: tensor([100,  20,  30,  40,  50])\n",
        "\n",
        "\n",
        "# 인덱스 1부터 3까지의 요소 수정\n",
        "tensor[1:4] = torch.tensor([200, 300, 400])\n",
        "print(tensor)  # 출력: tensor([100, 200, 300, 400,  50])"
      ]
    },
    {
      "cell_type": "markdown",
      "id": "15cfd829",
      "metadata": {
        "id": "15cfd829"
      },
      "source": [
        "## 02-013 2D 텐서에서 행의 값 수정"
      ]
    },
    {
      "cell_type": "code",
      "execution_count": null,
      "id": "019f0312",
      "metadata": {
        "id": "019f0312",
        "outputId": "13c7637f-1409-4483-984d-289778052eb6",
        "colab": {
          "base_uri": "https://localhost:8080/"
        }
      },
      "outputs": [
        {
          "output_type": "stream",
          "name": "stdout",
          "text": [
            "tensor([[0, 0, 0],\n",
            "        [4, 5, 6],\n",
            "        [7, 8, 9]])\n"
          ]
        }
      ],
      "source": [
        "# 2D 텐서 생성\n",
        "tensor_2d = torch.tensor([[1, 2, 3], [4, 5, 6], [7, 8, 9]])\n",
        "\n",
        "# 첫 번째 행을 모두 0으로 수정\n",
        "tensor_2d[0, :] = 0\n",
        "print(tensor_2d)\n",
        "# 출력: tensor([[0, 0, 0],\n",
        "#               [4, 5, 6],\n",
        "#               [7, 8, 9]])"
      ]
    },
    {
      "cell_type": "markdown",
      "id": "e7275851",
      "metadata": {
        "id": "e7275851"
      },
      "source": [
        "## 02-014 요소별 덧셈"
      ]
    },
    {
      "cell_type": "code",
      "execution_count": null,
      "id": "6caabde3",
      "metadata": {
        "id": "6caabde3",
        "outputId": "c35d6981-c629-44d3-b1cd-5c593ca7d127",
        "colab": {
          "base_uri": "https://localhost:8080/"
        }
      },
      "outputs": [
        {
          "output_type": "execute_result",
          "data": {
            "text/plain": [
              "tensor([5, 7, 9])"
            ]
          },
          "metadata": {},
          "execution_count": 29
        }
      ],
      "source": [
        "# Tensor 생성\n",
        "x = torch.tensor([1, 2, 3])\n",
        "y = torch.tensor([4, 5, 6])\n",
        "\n",
        "# 요소별 덧셈\n",
        "add_result = x + y  # 또는 torch.add(x, y)\n",
        "add_result  # 출력: tensor([5, 7, 9])"
      ]
    },
    {
      "cell_type": "markdown",
      "id": "af2ec1c4",
      "metadata": {
        "id": "af2ec1c4"
      },
      "source": [
        "## 02-015 브로드캐스팅을 통한 요소별 덧셈"
      ]
    },
    {
      "cell_type": "code",
      "execution_count": null,
      "id": "f76fceb8",
      "metadata": {
        "id": "f76fceb8",
        "outputId": "5e3d0f87-63f0-4eb5-f27d-439ad71e5bde",
        "colab": {
          "base_uri": "https://localhost:8080/"
        }
      },
      "outputs": [
        {
          "output_type": "execute_result",
          "data": {
            "text/plain": [
              "tensor([[2, 4, 6],\n",
              "        [5, 7, 9]])"
            ]
          },
          "metadata": {},
          "execution_count": 30
        }
      ],
      "source": [
        "# Tensor 생성\n",
        "x = torch.tensor([[1, 2, 3], [4, 5, 6]])\n",
        "y = torch.tensor([1, 2, 3])\n",
        "\n",
        "# 브로드캐스팅을 통한 요소별 덧셈\n",
        "result = x + y\n",
        "result\n",
        "# 출력: tensor([[2, 4, 6],\n",
        "#               [5, 7, 9]])"
      ]
    },
    {
      "cell_type": "markdown",
      "id": "9423ab79",
      "metadata": {
        "id": "9423ab79"
      },
      "source": [
        "## 02-016 텐서에서 최대값 구하기"
      ]
    },
    {
      "cell_type": "code",
      "execution_count": null,
      "id": "bfa81d77",
      "metadata": {
        "id": "bfa81d77",
        "outputId": "38bab6d7-290b-49a3-c108-2c731ac09ac9",
        "colab": {
          "base_uri": "https://localhost:8080/"
        }
      },
      "outputs": [
        {
          "output_type": "stream",
          "name": "stdout",
          "text": [
            "tensor(9)\n",
            "torch.return_types.max(\n",
            "values=tensor([7, 8, 9]),\n",
            "indices=tensor([0, 1, 2]))\n",
            "tensor([7, 8, 6])\n"
          ]
        }
      ],
      "source": [
        "# Tensor 생성\n",
        "x = torch.tensor([[7, 1, 3],[2, 8, 6],[4, 5, 9]])\n",
        "# tensor([[7, 1, 3],\n",
        "#         [2, 8, 6],\n",
        "#         [4, 5, 9]])\n",
        "\n",
        "# 모든 요소 중 최대값\n",
        "print(torch.max(x))  # 출력: tensor(9)\n",
        "\n",
        "# 특정 차원에서 최대값과 인덱스\n",
        "print(torch.max(x, dim=1))  # 출력 : torch.return_types.max(values=tensor([7, 8, 9]), indices=tensor([0, 1, 2]))\n",
        "\n",
        "# 두 Tensor간 원소별 최대 값 반환\n",
        "print(torch.max(x[0], x[1]))  # 출력 : tensor([7, 8, 6])"
      ]
    },
    {
      "cell_type": "markdown",
      "id": "07581065",
      "metadata": {
        "id": "07581065"
      },
      "source": [
        "## 02-017  텐서에서 합계값 구하기"
      ]
    },
    {
      "cell_type": "code",
      "execution_count": null,
      "id": "c1ce6c1f",
      "metadata": {
        "id": "c1ce6c1f",
        "outputId": "440b5852-b1a7-400c-e3eb-70cda5d3c4e9",
        "colab": {
          "base_uri": "https://localhost:8080/"
        }
      },
      "outputs": [
        {
          "output_type": "stream",
          "name": "stdout",
          "text": [
            "tensor(45)\n",
            "tensor([13, 14, 18])\n",
            "tensor([11, 16, 18])\n"
          ]
        }
      ],
      "source": [
        "import torch\n",
        "# Tensor 생성\n",
        "x = torch.tensor([[7, 1, 3],[2, 8, 6],[4, 5, 9]])\n",
        "# tensor([[7, 1, 3],\n",
        "#         [2, 8, 6],\n",
        "#         [4, 5, 9]])\n",
        "\n",
        "# 모든 요소 합계 계산\n",
        "print(torch.sum(x))  # tensor(45)\n",
        "\n",
        "# 첫 번째 차원(열 방향)을 기준으로 합계를 계산\n",
        "print(torch.sum(x, dim=0))  # 출력 : tensor([13, 14, 18])\n",
        "\n",
        "# 두 번째 차원(행 방향)을 기준으로 합계를 계산\n",
        "print(torch.sum(x, dim=1))  # 출력 : tensor([11, 16, 18])"
      ]
    },
    {
      "cell_type": "markdown",
      "id": "c06ec169",
      "metadata": {
        "id": "c06ec169"
      },
      "source": [
        "## 연습문제-02-001 1차원 텐서 생성"
      ]
    },
    {
      "cell_type": "code",
      "execution_count": null,
      "id": "b7929006",
      "metadata": {
        "scrolled": true,
        "id": "b7929006",
        "colab": {
          "base_uri": "https://localhost:8080/"
        },
        "outputId": "1c3db7f5-bf08-4aba-f156-c154b980f665"
      },
      "outputs": [
        {
          "output_type": "execute_result",
          "data": {
            "text/plain": [
              "tensor([0, 1, 2, 3, 4, 5, 6, 7, 8, 9])"
            ]
          },
          "metadata": {},
          "execution_count": 41
        }
      ],
      "source": [
        "# 1차원 텐서 tensor_1d을 0부터 9까지의 정수로 생성\n",
        "tensor_1d = torch.arange(10)\n",
        "tensor_1d = torch.tensor(range(10))\n",
        "tensor_1d = torch.tensor([0, 1, 2, 3, 4, 5, 6, 7, 8, 9]))\n",
        "tensor_1d  # 생성된 텐서를 출력"
      ]
    },
    {
      "cell_type": "code",
      "source": [],
      "metadata": {
        "id": "DeCszZIW6HRh"
      },
      "id": "DeCszZIW6HRh",
      "execution_count": null,
      "outputs": []
    },
    {
      "cell_type": "markdown",
      "id": "8d76e327",
      "metadata": {
        "id": "8d76e327"
      },
      "source": [
        "## 연습문제-02-002 텐서 속성 확인"
      ]
    },
    {
      "cell_type": "code",
      "execution_count": null,
      "id": "5ca77035",
      "metadata": {
        "id": "5ca77035",
        "colab": {
          "base_uri": "https://localhost:8080/"
        },
        "outputId": "a809d36c-7b93-45ff-a4a2-3d727072a895"
      },
      "outputs": [
        {
          "output_type": "execute_result",
          "data": {
            "text/plain": [
              "(torch.int64, device(type='cpu'), torch.Size([10]))"
            ]
          },
          "metadata": {},
          "execution_count": 44
        }
      ],
      "source": [
        "# 1차원 텐서 tensor_1d의 데이터 타입과 할당된 장치, 형태를 확인합니다.\n",
        "#  dtype, device, shape\n",
        "tensor_1d.dtype, tensor_1d.device, tensor_1d.shape"
      ]
    },
    {
      "cell_type": "markdown",
      "id": "58f8353e",
      "metadata": {
        "id": "58f8353e"
      },
      "source": [
        "## 연습문제-02-003 텐서의 크기 변경 및 덧셈"
      ]
    },
    {
      "cell_type": "code",
      "execution_count": null,
      "id": "d0a68e0a",
      "metadata": {
        "id": "d0a68e0a",
        "colab": {
          "base_uri": "https://localhost:8080/"
        },
        "outputId": "361c111a-4a62-4477-dddf-6df00106ffb8"
      },
      "outputs": [
        {
          "output_type": "execute_result",
          "data": {
            "text/plain": [
              "tensor([[0, 1, 2, 3, 4],\n",
              "        [5, 6, 7, 8, 9]])"
            ]
          },
          "metadata": {},
          "execution_count": 46
        }
      ],
      "source": [
        "# 1차원 텐서 tensor_1d의 크기를 2x5로 변경\n",
        "tensor_2x5 = tensor_1d.reshape(2, 5) # 1차원 텐서를 2x5 텐서로 변경\n",
        "tensor_2x5 = torch.reshape(tensor_1d, (2, 5))\n",
        "tensor_2x5"
      ]
    },
    {
      "cell_type": "markdown",
      "id": "7d6cbcf5",
      "metadata": {
        "id": "7d6cbcf5"
      },
      "source": [
        "## 연습문제-02-004 텐서에서 최대값과 위치 찾기"
      ]
    },
    {
      "cell_type": "code",
      "execution_count": null,
      "id": "ebcb6e6e",
      "metadata": {
        "id": "ebcb6e6e",
        "outputId": "38a6bedc-9fc8-42bd-c1fd-5bcf20d4128a",
        "colab": {
          "base_uri": "https://localhost:8080/"
        }
      },
      "outputs": [
        {
          "output_type": "stream",
          "name": "stdout",
          "text": [
            "tensor(9)\n",
            "torch.return_types.max(\n",
            "values=tensor([4, 9]),\n",
            "indices=tensor([4, 4]))\n",
            "torch.return_types.max(\n",
            "values=tensor([4, 9]),\n",
            "indices=tensor([4, 4]))\n",
            "torch.return_types.max(\n",
            "values=tensor([5, 6, 7, 8, 9]),\n",
            "indices=tensor([1, 1, 1, 1, 1]))\n",
            "tensor([5, 6, 7, 8, 9])\n"
          ]
        }
      ],
      "source": [
        "# 모든 요소 중 최대값\n",
        "print(torch.max(tensor_2x5))  # 출력: tensor(9)\n",
        "print(tensor_2x5.max(dim=1))\n",
        "# 특정 차원에서 최대값과 인덱스\n",
        "print(torch.max(tensor_2x5, dim=1))  # 출력 : torch.return_types.max(values=tensor([4, 9]), indices=tensor([4, 4]))\n",
        "\n",
        "# 두 Tensor간 원소별 최대 값 반환\n",
        "print(torch.max(tensor_2x5, dim=0))  # 출력 : tensor([5, 6, 7, 8, 9])\n",
        "print(torch.max(tensor_2x5[0], tensor_2x5[1]))  # 출력 : tensor([5,"
      ]
    },
    {
      "cell_type": "code",
      "source": [],
      "metadata": {
        "id": "-iu8FF467qFp"
      },
      "id": "-iu8FF467qFp",
      "execution_count": null,
      "outputs": []
    },
    {
      "cell_type": "code",
      "source": [],
      "metadata": {
        "id": "s9cjyXlT7fs4"
      },
      "id": "s9cjyXlT7fs4",
      "execution_count": null,
      "outputs": []
    },
    {
      "cell_type": "markdown",
      "id": "a6a7a06f",
      "metadata": {
        "id": "a6a7a06f"
      },
      "source": [
        "---"
      ]
    },
    {
      "cell_type": "markdown",
      "id": "77cd770e",
      "metadata": {
        "id": "77cd770e"
      },
      "source": [
        "# 03. 인공지능 (Perceptron)"
      ]
    },
    {
      "cell_type": "markdown",
      "id": "44497160",
      "metadata": {
        "id": "44497160"
      },
      "source": [
        "## 03-001 모듈 및 Perceptron 설정"
      ]
    },
    {
      "cell_type": "code",
      "execution_count": null,
      "id": "486cd89d",
      "metadata": {
        "id": "486cd89d"
      },
      "outputs": [],
      "source": [
        "%%capture\n",
        "!pip install JAEN -qU"
      ]
    },
    {
      "cell_type": "code",
      "execution_count": null,
      "id": "14274cac",
      "metadata": {
        "id": "14274cac"
      },
      "outputs": [],
      "source": [
        "# 모듈 설정\n",
        "import torch\n",
        "from JAEN.utils import plot_activation_function"
      ]
    },
    {
      "cell_type": "markdown",
      "id": "9167ac0b",
      "metadata": {
        "id": "9167ac0b"
      },
      "source": [
        "## 03-002 시그모이드 활성화 함수 구현 및 시각화"
      ]
    },
    {
      "cell_type": "code",
      "execution_count": null,
      "id": "5fddd9b6",
      "metadata": {
        "id": "5fddd9b6",
        "outputId": "ef5741f1-c550-400f-f6f1-4c40ccae43cf"
      },
      "outputs": [
        {
          "data": {
            "image/png": "[encoded data removed]",
            "text/plain": [
              "<Figure size 600x400 with 1 Axes>"
            ]
          },
          "metadata": {},
          "output_type": "display_data"
        },
        {
          "data": {
            "image/png": "[encoded data removed]",
            "text/plain": [
              "<Figure size 600x400 with 1 Axes>"
            ]
          },
          "metadata": {},
          "output_type": "display_data"
        }
      ],
      "source": [
        "def sigmoid(x):\n",
        "    return 1 / (1 + torch.exp(-x))\n",
        "\n",
        "plot_activation_function(sigmoid)\n",
        "plot_activation_function(torch.sigmoid)"
      ]
    },
    {
      "cell_type": "markdown",
      "id": "2792caa0",
      "metadata": {
        "id": "2792caa0"
      },
      "source": [
        "## 03-003 Tanh 활성화 함수 구현 및 시각화"
      ]
    },
    {
      "cell_type": "code",
      "execution_count": null,
      "id": "06be52dc",
      "metadata": {
        "id": "06be52dc",
        "outputId": "60bf8c53-d332-4ba6-aca3-dc5f96cfe274"
      },
      "outputs": [
        {
          "data": {
            "image/png": "[encoded data removed]",
            "text/plain": [
              "<Figure size 600x400 with 1 Axes>"
            ]
          },
          "metadata": {},
          "output_type": "display_data"
        },
        {
          "data": {
            "image/png": "[encoded data removed]",
            "text/plain": [
              "<Figure size 600x400 with 1 Axes>"
            ]
          },
          "metadata": {},
          "output_type": "display_data"
        }
      ],
      "source": [
        "def tanh(x):\n",
        "    return (torch.exp(x) - torch.exp(-x)) / (torch.exp(x) + torch.exp(-x))\n",
        "\n",
        "plot_activation_function(tanh)\n",
        "plot_activation_function(torch.tanh)"
      ]
    },
    {
      "cell_type": "markdown",
      "id": "d3dda23e",
      "metadata": {
        "id": "d3dda23e"
      },
      "source": [
        "## 03-004 ReLU 활성화 함수 구현 및 시각화"
      ]
    },
    {
      "cell_type": "code",
      "execution_count": null,
      "id": "6bf865f3",
      "metadata": {
        "id": "6bf865f3",
        "outputId": "8875583c-992d-44b9-88ce-a52f6d9e7dde"
      },
      "outputs": [
        {
          "data": {
            "image/png": "[encoded data removed]",
            "text/plain": [
              "<Figure size 600x400 with 1 Axes>"
            ]
          },
          "metadata": {},
          "output_type": "display_data"
        },
        {
          "data": {
            "image/png": "[encoded data removed]",
            "text/plain": [
              "<Figure size 600x400 with 1 Axes>"
            ]
          },
          "metadata": {},
          "output_type": "display_data"
        }
      ],
      "source": [
        "def relu(x):\n",
        "    return torch.max(torch.tensor(0.0), x)\n",
        "\n",
        "plot_activation_function(relu)\n",
        "plot_activation_function(torch.relu)"
      ]
    },
    {
      "cell_type": "markdown",
      "id": "30c0c12b",
      "metadata": {
        "id": "30c0c12b"
      },
      "source": [
        "## 03-005 Leaky ReLU 활성화 함수 구현 및 시각화"
      ]
    },
    {
      "cell_type": "code",
      "execution_count": null,
      "id": "00c37fad",
      "metadata": {
        "id": "00c37fad",
        "outputId": "3d435d5c-9259-4aea-a6ea-02a201d3415e"
      },
      "outputs": [
        {
          "data": {
            "image/png": "[encoded data removed]",
            "text/plain": [
              "<Figure size 600x400 with 1 Axes>"
            ]
          },
          "metadata": {},
          "output_type": "display_data"
        },
        {
          "data": {
            "image/png": "[encoded data removed]",
            "text/plain": [
              "<Figure size 600x400 with 1 Axes>"
            ]
          },
          "metadata": {},
          "output_type": "display_data"
        }
      ],
      "source": [
        "def leaky_relu(x, alpha=0.01):\n",
        "    return torch.max(x, alpha * x)\n",
        "\n",
        "plot_activation_function(leaky_relu)\n",
        "plot_activation_function(torch.nn.functional.leaky_relu)"
      ]
    },
    {
      "cell_type": "markdown",
      "id": "c096a575",
      "metadata": {
        "id": "c096a575"
      },
      "source": [
        "## 03-006 ELU 활성화 함수 구현 및 시각화"
      ]
    },
    {
      "cell_type": "code",
      "execution_count": null,
      "id": "1edf01db",
      "metadata": {
        "id": "1edf01db",
        "outputId": "c965d6e8-97f1-4a71-8be9-2e4b65a069c7"
      },
      "outputs": [
        {
          "data": {
            "image/png": "[encoded data removed]",
            "text/plain": [
              "<Figure size 600x400 with 1 Axes>"
            ]
          },
          "metadata": {},
          "output_type": "display_data"
        },
        {
          "data": {
            "image/png": "[encoded data removed]",
            "text/plain": [
              "<Figure size 600x400 with 1 Axes>"
            ]
          },
          "metadata": {},
          "output_type": "display_data"
        }
      ],
      "source": [
        "def elu(x, alpha=1.0):\n",
        "    return torch.where(x > 0, x, alpha * (torch.exp(x) - 1))\n",
        "\n",
        "plot_activation_function(elu)\n",
        "plot_activation_function(torch.nn.functional.elu)"
      ]
    },
    {
      "cell_type": "markdown",
      "id": "026fc906",
      "metadata": {
        "id": "026fc906"
      },
      "source": [
        "## 03-007 requires_grad=True로 설정된 텐서 생성"
      ]
    },
    {
      "cell_type": "code",
      "execution_count": null,
      "id": "b3cbd33e",
      "metadata": {
        "id": "b3cbd33e",
        "outputId": "fe35f9df-10b9-4a79-f69b-fe45f12558f3"
      },
      "outputs": [
        {
          "data": {
            "text/plain": [
              "tensor([2., 3.], requires_grad=True)"
            ]
          },
          "execution_count": 42,
          "metadata": {},
          "output_type": "execute_result"
        }
      ],
      "source": [
        "# requires_grad=True로 설정된 텐서 생성\n",
        "x = torch.tensor([2.0, 3.0], requires_grad=True)\n",
        "x"
      ]
    },
    {
      "cell_type": "markdown",
      "id": "6e44a858",
      "metadata": {
        "id": "6e44a858"
      },
      "source": [
        "## 03-008 텐서의 연산 및 역전파 수행"
      ]
    },
    {
      "cell_type": "code",
      "execution_count": null,
      "id": "9d153c6c",
      "metadata": {
        "id": "9d153c6c"
      },
      "outputs": [],
      "source": [
        "# 텐서의 연산\n",
        "y = x ** 2  # y = [4, 9]\n",
        "z = y.sum()  # z = 13\n",
        "\n",
        "# 역전파 수행\n",
        "z.backward()"
      ]
    },
    {
      "cell_type": "markdown",
      "id": "13743e17",
      "metadata": {
        "id": "13743e17"
      },
      "source": [
        "## 03-009 텐서의 기울기(gradient) 계산"
      ]
    },
    {
      "cell_type": "code",
      "execution_count": null,
      "id": "74a3843d",
      "metadata": {
        "id": "74a3843d",
        "outputId": "becf1fa0-12bc-477f-9149-02d5d37a23cc"
      },
      "outputs": [
        {
          "data": {
            "text/plain": [
              "tensor([4., 6.])"
            ]
          },
          "execution_count": 44,
          "metadata": {},
          "output_type": "execute_result"
        }
      ],
      "source": [
        "# x에 대한 z의 그래디언트 (z가 x에 대해 어떻게 변화하는지를 계산, 편미분 수행)\n",
        "x.grad  # 출력: tensor([4., 6.])\n",
        "\n",
        "# z = x1^2 + x2^2\n",
        "# dz/dx1 = 2 * x1 = 2 * 2 = 4\n",
        "# dz/dx2 = 2 * x2 = 2 * 3 = 6"
      ]
    },
    {
      "cell_type": "markdown",
      "id": "a0f33a2c",
      "metadata": {
        "id": "a0f33a2c"
      },
      "source": [
        "## 03-010 DataLoader와 Dataset 모듈 임포트"
      ]
    },
    {
      "cell_type": "code",
      "execution_count": null,
      "id": "ee2d3d24",
      "metadata": {
        "id": "ee2d3d24"
      },
      "outputs": [],
      "source": [
        "import torch\n",
        "from torch.utils.data import DataLoader, Dataset"
      ]
    },
    {
      "cell_type": "markdown",
      "id": "c6e58fb1",
      "metadata": {
        "id": "c6e58fb1"
      },
      "source": [
        "## 03-011 커스텀 데이터셋 클래스 구현"
      ]
    },
    {
      "cell_type": "code",
      "execution_count": null,
      "id": "03b6b22d",
      "metadata": {
        "id": "03b6b22d"
      },
      "outputs": [],
      "source": [
        "class CustomDataset(Dataset):\n",
        "    def __init__(self, data, labels):\n",
        "        self.data = data\n",
        "        self.labels = labels\n",
        "\n",
        "    def __len__(self):\n",
        "        return len(self.data)\n",
        "\n",
        "    def __getitem__(self, idx):\n",
        "        x = self.data[idx]\n",
        "        y = self.labels[idx]\n",
        "        return x, y\n",
        "\n"
      ]
    },
    {
      "cell_type": "markdown",
      "id": "3afef532",
      "metadata": {
        "id": "3afef532"
      },
      "source": [
        "## 03-012 커스텀 데이터셋과 DataLoader 생성"
      ]
    },
    {
      "cell_type": "code",
      "execution_count": null,
      "id": "cafe5b85",
      "metadata": {
        "id": "cafe5b85"
      },
      "outputs": [],
      "source": [
        "# 예시 데이터\n",
        "data = torch.randn(100, 3)  # 100개의 샘플, 각 샘플은 3차원 벡터\n",
        "labels = torch.randint(0, 2, (100,))  # 이진 분류를 위한 100개의 레이블\n",
        "\n",
        "# 데이터셋 및 DataLoader 생성\n",
        "dataset = CustomDataset(data, labels)\n",
        "dataloader = DataLoader(dataset, batch_size=3)"
      ]
    },
    {
      "cell_type": "markdown",
      "id": "2c8ded2a",
      "metadata": {
        "id": "2c8ded2a"
      },
      "source": [
        "## 03-013 DataLoader에서 배치 조회"
      ]
    },
    {
      "cell_type": "code",
      "execution_count": null,
      "id": "1ccce4e9",
      "metadata": {
        "id": "1ccce4e9",
        "outputId": "1bc45b2f-dc6d-41b9-ff25-360fd28973a9"
      },
      "outputs": [
        {
          "data": {
            "text/plain": [
              "(tensor([[-0.5961, -1.7506, -0.2879],\n",
              "         [-1.4318, -0.2549, -2.2915],\n",
              "         [ 2.3286,  1.0631,  0.5795]]),\n",
              " tensor([0, 1, 0]))"
            ]
          },
          "execution_count": 48,
          "metadata": {},
          "output_type": "execute_result"
        }
      ],
      "source": [
        "# DataLoader에서 모든 배치를 리스트로 변환\n",
        "all_batches = list(dataloader)\n",
        "batch_data, batch_labels = all_batches[0]  # 첫번째 배치 조회\n",
        "batch_data, batch_labels"
      ]
    },
    {
      "cell_type": "markdown",
      "id": "cc522b27",
      "metadata": {
        "id": "cc522b27"
      },
      "source": [
        "## 03-014 DataLoader에서 마지막 배치 조회"
      ]
    },
    {
      "cell_type": "code",
      "execution_count": null,
      "id": "32013660",
      "metadata": {
        "id": "32013660",
        "outputId": "264e3f9d-3d31-447e-9ddc-58b4b8532c3e"
      },
      "outputs": [
        {
          "data": {
            "text/plain": [
              "(tensor([[-0.4540, -1.1423, -0.7700]]), tensor([1]))"
            ]
          },
          "execution_count": 49,
          "metadata": {},
          "output_type": "execute_result"
        }
      ],
      "source": [
        "batch_data, batch_labels = all_batches[-1]  # 마지막 배치 조회\n",
        "batch_data, batch_labels"
      ]
    },
    {
      "cell_type": "markdown",
      "id": "5d3ffb12",
      "metadata": {
        "id": "5d3ffb12"
      },
      "source": [
        "## 03-015 DataLoader에서 변경된 배치 크기로 마지막 배치 조회"
      ]
    },
    {
      "cell_type": "code",
      "execution_count": null,
      "id": "060fe649",
      "metadata": {
        "id": "060fe649",
        "outputId": "237dab20-8aa4-4c8e-e844-afd5a22c4938"
      },
      "outputs": [
        {
          "data": {
            "text/plain": [
              "(tensor([[ 0.7642,  0.6478,  0.8546],\n",
              "         [-0.4540, -1.1423, -0.7700]]),\n",
              " tensor([1, 1]))"
            ]
          },
          "execution_count": 50,
          "metadata": {},
          "output_type": "execute_result"
        }
      ],
      "source": [
        "dataloader = DataLoader(dataset, batch_size=7)\n",
        "all_batches = list(dataloader)\n",
        "batch_data, batch_labels = all_batches[-1]  # 마지막 배치 조회\n",
        "batch_data, batch_labels"
      ]
    },
    {
      "cell_type": "markdown",
      "id": "191fb1ce",
      "metadata": {
        "id": "191fb1ce"
      },
      "source": [
        "## 03-016 셔플된 DataLoader에서 마지막 배치 조회"
      ]
    },
    {
      "cell_type": "code",
      "execution_count": null,
      "id": "9eb974fe",
      "metadata": {
        "id": "9eb974fe",
        "outputId": "84936199-188e-4e65-d054-427c8c625da2"
      },
      "outputs": [
        {
          "data": {
            "text/plain": [
              "(tensor([[ 0.5174, -1.9282, -0.7753],\n",
              "         [ 1.0453, -0.1661, -0.4213]]),\n",
              " tensor([1, 0]))"
            ]
          },
          "execution_count": 51,
          "metadata": {},
          "output_type": "execute_result"
        }
      ],
      "source": [
        "dataloader = DataLoader(dataset, batch_size=7, shuffle=True)\n",
        "all_batches = list(dataloader)\n",
        "batch_data, batch_labels = all_batches[-1]  # 마지막 배치 조회\n",
        "batch_data, batch_labels"
      ]
    },
    {
      "cell_type": "markdown",
      "id": "18b82ae0",
      "metadata": {
        "id": "18b82ae0"
      },
      "source": [
        "## 03-017 마지막 배치를 버리는 DataLoader에서 마지막 배치 조회"
      ]
    },
    {
      "cell_type": "code",
      "execution_count": null,
      "id": "513c2187",
      "metadata": {
        "id": "513c2187",
        "outputId": "0c56f4aa-a9ec-455c-8d11-16f1a1f1e110"
      },
      "outputs": [
        {
          "data": {
            "text/plain": [
              "(tensor([[-1.3189, -1.7160, -0.2349],\n",
              "         [ 1.0241,  0.3887, -0.8581],\n",
              "         [ 1.8242, -0.4748,  0.3510],\n",
              "         [ 0.3481, -1.0753,  0.4443],\n",
              "         [ 1.6255,  1.1952,  0.2087],\n",
              "         [-0.5435, -0.9902, -3.3215],\n",
              "         [-0.1380, -0.1520, -0.5197]]),\n",
              " tensor([1, 1, 0, 1, 1, 1, 0]))"
            ]
          },
          "execution_count": 52,
          "metadata": {},
          "output_type": "execute_result"
        }
      ],
      "source": [
        "dataloader = DataLoader(dataset, batch_size=7, shuffle=True, drop_last=True)\n",
        "all_batches = list(dataloader)\n",
        "batch_data, batch_labels = all_batches[-1]  # 마지막 배치 조회\n",
        "batch_data, batch_labels"
      ]
    },
    {
      "cell_type": "markdown",
      "id": "6430f480",
      "metadata": {
        "id": "6430f480"
      },
      "source": [
        "## 연습문제-03-001 커스텀 데이터셋과 DataLoader 생성"
      ]
    },
    {
      "cell_type": "code",
      "execution_count": null,
      "id": "e3cce9b0",
      "metadata": {
        "id": "e3cce9b0"
      },
      "outputs": [],
      "source": [
        "# 새로운 랜덤 데이터 생성\n",
        "data = torch.randn(150, 4)  # 150개의 샘플, 각 샘플은 4차원 벡터\n",
        "labels = torch.randint(0, 3, (150,))  # 3개의 클래스로 분류되는 150개의 레이블\n",
        "\n",
        "# 커스텀 데이터셋과 DataLoader 생성\n",
        "# 커스텀 데이터셋 클래스는 03-019 재활용\n",
        "dataset =\n",
        "\n",
        "# 미니 배치 크기는 5\n",
        "dataloader ="
      ]
    },
    {
      "cell_type": "markdown",
      "id": "80083330",
      "metadata": {
        "id": "80083330"
      },
      "source": [
        "## 연습문제-03-002 DataLoader에서 배치 조회"
      ]
    },
    {
      "cell_type": "code",
      "execution_count": null,
      "id": "1a84f9a3",
      "metadata": {
        "id": "1a84f9a3"
      },
      "outputs": [],
      "source": [
        "# DataLoader에서 모든 배치를 리스트로 변환\n",
        "\n",
        "\n",
        "# 첫 번째 배치 조회\n"
      ]
    },
    {
      "cell_type": "markdown",
      "id": "0a286c54",
      "metadata": {
        "id": "0a286c54"
      },
      "source": [
        "## 연습문제-03-003 DataLoader에서 마지막 배치 조회 (새로운 배치 크기)"
      ]
    },
    {
      "cell_type": "code",
      "execution_count": null,
      "id": "57d86325",
      "metadata": {
        "id": "57d86325"
      },
      "outputs": [],
      "source": [
        "# DataLoader에서 배치 크기를 7로 설정\n",
        "\n",
        "\n",
        "# DataLoader에서 마지막 배치 조회\n"
      ]
    },
    {
      "cell_type": "markdown",
      "id": "2a64291e",
      "metadata": {
        "id": "2a64291e"
      },
      "source": [
        "## 연습문제-03-004 셔플된 DataLoader에서 마지막 배치 조회"
      ]
    },
    {
      "cell_type": "code",
      "execution_count": null,
      "id": "cf094a3a",
      "metadata": {
        "id": "cf094a3a"
      },
      "outputs": [],
      "source": [
        "# DataLoader에서 shuffle=True로 설정하여 셔플된 데이터 로드\n",
        "\n",
        "\n",
        "# 셔플된 DataLoader에서 마지막 배치 조회\n"
      ]
    },
    {
      "cell_type": "markdown",
      "id": "5f36334e",
      "metadata": {
        "id": "5f36334e"
      },
      "source": [
        "## 연습문제-03-005 drop_last가 설정된 DataLoader에서 마지막 배치 조회"
      ]
    },
    {
      "cell_type": "code",
      "execution_count": null,
      "id": "19943cf6",
      "metadata": {
        "id": "19943cf6"
      },
      "outputs": [],
      "source": [
        "# DataLoader에서 batch_size=7, shuffle=True, drop_last=True로 설정하여 셔플된 데이터 로드\n",
        "\n",
        "\n",
        "# 셔플된 DataLoader에서 마지막 배치 조회\n"
      ]
    },
    {
      "cell_type": "code",
      "execution_count": null,
      "id": "c4d81486-ff69-458b-aa1f-ce8e206faff1",
      "metadata": {
        "id": "c4d81486-ff69-458b-aa1f-ce8e206faff1"
      },
      "outputs": [],
      "source": []
    }
  ],
  "metadata": {
    "kernelspec": {
      "display_name": "Python 3",
      "name": "python3"
    },
    "language_info": {
      "codemirror_mode": {
        "name": "ipython",
        "version": 3
      },
      "file_extension": ".py",
      "mimetype": "text/x-python",
      "name": "python",
      "nbconvert_exporter": "python",
      "pygments_lexer": "ipython3",
      "version": "3.10.16"
    },
    "colab": {
      "provenance": [],
      "gpuType": "T4",
      "include_colab_link": true
    },
    "accelerator": "GPU"
  },
  "nbformat": 4,
  "nbformat_minor": 5
}