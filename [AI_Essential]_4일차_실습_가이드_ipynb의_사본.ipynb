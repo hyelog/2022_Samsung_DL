{
  "cells": [
    {
      "cell_type": "markdown",
      "metadata": {
        "id": "view-in-github",
        "colab_type": "text"
      },
      "source": [
        "<a href=\"https://colab.research.google.com/github/hyelog/2022_Samsung_DL/blob/main/%5BAI_Essential%5D_4%EC%9D%BC%EC%B0%A8_%EC%8B%A4%EC%8A%B5_%EA%B0%80%EC%9D%B4%EB%93%9C_ipynb%EC%9D%98_%EC%82%AC%EB%B3%B8.ipynb\" target=\"_parent\"><img src=\"https://colab.research.google.com/assets/colab-badge.svg\" alt=\"Open In Colab\"/></a>"
      ]
    },
    {
      "cell_type": "markdown",
      "id": "58e5b2a6",
      "metadata": {
        "id": "58e5b2a6"
      },
      "source": [
        "## 06-025 텍스트 분류 파이프라인 사용\n",
        "- 이 실습에서는 Hugging Face의 Transformers 라이브러리를 사용하여 텍스트 분류 파이프라인을 생성합니다. pipeline() 함수를 통해 'text-classification' 작업을 설정하고, 주어진 문장에 대해 모델의 예측 결과를 확인합니다.\n"
      ]
    },
    {
      "cell_type": "code",
      "execution_count": null,
      "id": "2e562ecf",
      "metadata": {
        "id": "2e562ecf"
      },
      "outputs": [],
      "source": [
        "from transformers import pipeline\n",
        "\n",
        "classifier = pipeline('text-classification')\n",
        "classifier(\"I've been waiting for a HuggingFace course my whole life.\")"
      ]
    },
    {
      "cell_type": "markdown",
      "id": "b4d9f343",
      "metadata": {
        "id": "b4d9f343"
      },
      "source": [
        "- 텍스트 분류 파이프라인을 사용하여 입력 문장에 대한 분류 결과를 얻는 과정을 실습합니다. 이는 NLP 작업에서 텍스트의 감정이나 주제를 분류하는 데 유용합니다.\n"
      ]
    },
    {
      "cell_type": "markdown",
      "id": "399eba96",
      "metadata": {
        "id": "399eba96"
      },
      "source": [
        "## 06-026 DistilBERT로 텍스트 분류\n",
        "- 이 실습에서는 Hugging Face의 DistilBERT 모델을 사용하여 텍스트를 분류하는 방법을 보여줍니다. 사전 학습된 DistilBERT 모델을 로드하고, 주어진 문장을 토크나이즈하여 입력 텐서를 생성합니다. 모델에 입력을 전달하여 예측 결과를 얻고, 확률을 계산하여 최종 레이블과 점수를 출력합니다.\n"
      ]
    },
    {
      "cell_type": "code",
      "execution_count": null,
      "id": "74ddb061",
      "metadata": {
        "id": "74ddb061"
      },
      "outputs": [],
      "source": [
        "import torch\n",
        "from transformers import DistilBertTokenizer, DistilBertForSequenceClassification\n",
        "\n",
        "model_name = \"distilbert-base-uncased-finetuned-sst-2-english\"\n",
        "tokenizer = DistilBertTokenizer.from_pretrained(model_name)\n",
        "model = DistilBertForSequenceClassification.from_pretrained(model_name)\n",
        "\n",
        "text = \"I've been waiting for a HuggingFace course my whole life.\"\n",
        "inputs = tokenizer(text, return_tensors=\"pt\")\n",
        "with torch.no_grad():\n",
        "    logits = model(**inputs).logits\n",
        "\n",
        "predicted_class_id = logits.argmax().item()\n",
        "label = model.config.id2label[predicted_class_id]\n",
        "score = torch.softmax(logits, dim=1).squeeze()[predicted_class_id].item()\n",
        "print(f'label:{label}, score:{score}')"
      ]
    },
    {
      "cell_type": "markdown",
      "id": "db962c9f",
      "metadata": {
        "id": "db962c9f"
      },
      "source": [
        "- DistilBERT 모델을 사용하여 입력 텍스트의 감정을 분류하고, 예측 결과와 확률을 출력하는 과정을 실습합니다. 이는 NLP에서 텍스트 분류 작업의 기본적인 방법론입니다.\n"
      ]
    },
    {
      "cell_type": "markdown",
      "id": "d208a1a0",
      "metadata": {
        "id": "d208a1a0"
      },
      "source": [
        "## 06-027 파이프라인 모델 지정 및 예측\n",
        "- 이 실습에서는 Hugging Face의 pipeline을 사용하여 이전에 로드한 DistilBERT 모델과 토크나이저를 지정합니다. 지정된 파이프라인을 통해 주어진 문장에 대한 텍스트 분류를 수행하고 결과를 출력합니다.\n"
      ]
    },
    {
      "cell_type": "code",
      "execution_count": null,
      "id": "45c00fa4",
      "metadata": {
        "id": "45c00fa4"
      },
      "outputs": [],
      "source": [
        "# 파이프라인 모델 지정\n",
        "classifier = pipeline('text-classification', model=model, tokenizer=tokenizer)\n",
        "classifier(\"I've been waiting for a HuggingFace course my whole life.\")"
      ]
    },
    {
      "cell_type": "markdown",
      "id": "e7c11e5b",
      "metadata": {
        "id": "e7c11e5b"
      },
      "source": [
        "- 파이프라인을 사용하여 DistilBERT 모델로 텍스트 분류를 수행하고 결과를 출력하는 과정을 실습합니다. 이는 모델을 간편하게 사용하여 예측을 수행하는 방법을 보여줍니다.\n"
      ]
    },
    {
      "cell_type": "markdown",
      "id": "7923df3f",
      "metadata": {
        "id": "7923df3f"
      },
      "source": [
        "## 06-028 여러 문장 분류\n",
        "- 이 실습에서는 Hugging Face의 파이프라인을 사용하여 여러 개의 문장에 대해 텍스트 분류를 수행합니다. classifier() 함수를 호출하여 입력된 문장 목록을 전달하면, 각 문장에 대한 분류 결과를 얻을 수 있습니다.\n"
      ]
    },
    {
      "cell_type": "code",
      "execution_count": null,
      "id": "dc2d3383",
      "metadata": {
        "id": "dc2d3383"
      },
      "outputs": [],
      "source": [
        "# 여러 문장 분류\n",
        "classifier(\n",
        "    [\"I've been waiting for a HuggingFace course my whole life.\",\n",
        "     \"I hate this so much!\"])"
      ]
    },
    {
      "cell_type": "markdown",
      "id": "11360d60",
      "metadata": {
        "id": "11360d60"
      },
      "source": [
        "- 여러 문장에 대해 텍스트 분류를 수행하고 결과를 출력하는 과정을 실습합니다. 이는 NLP 모델이 동시에 여러 입력을 처리할 수 있는 방법을 보여줍니다.\n"
      ]
    },
    {
      "cell_type": "markdown",
      "id": "54b2fc94",
      "metadata": {
        "id": "54b2fc94"
      },
      "source": [
        "## 06-029 한국어 감정 분류\n",
        "- 이 실습에서는 Hugging Face의 파이프라인을 사용하여 한국어 감정 분류 모델을 로드하고, 여러 문장에 대한 감정을 분류합니다. 입력된 문장에 대해 긍정적 또는 부정적인 감정을 예측하여 결과를 출력합니다.\n"
      ]
    },
    {
      "cell_type": "code",
      "execution_count": null,
      "id": "1967d523",
      "metadata": {
        "id": "1967d523"
      },
      "outputs": [],
      "source": [
        "# 한국어 감정 분류\n",
        "classifier_ko = pipeline('text-classification', model='matthewburke/korean_sentiment')\n",
        "classifier_ko(\n",
        "    [\"그녀가 먼저 말을 걸어와서 나는 무척 기뻤다.\",\n",
        "     \"듣기 싫어 죽겠네, 짜증나니까 그만 좀 닥쳐줄래\"])"
      ]
    },
    {
      "cell_type": "markdown",
      "id": "435329d2",
      "metadata": {
        "id": "435329d2"
      },
      "source": [
        "- 한국어 감정 분류를 수행하고 결과를 출력하는 과정을 실습합니다. 이는 NLP 모델이 한국어 텍스트의 감정을 분석하는 데 유용한 방법입니다.\n"
      ]
    },
    {
      "cell_type": "markdown",
      "id": "e3cafc51",
      "metadata": {
        "id": "e3cafc51"
      },
      "source": [
        "## 06-030 제로 샷 분류\n",
        "- 이 실습에서는 Hugging Face의 제로 샷 분류 파이프라인을 사용하여 주어진 문장이 어떤 클래스에 속하는지를 예측합니다. candidate_labels로 제공된 여러 후보 레이블 중에서 가장 적합한 레이블을 선택하여 결과를 출력합니다.\n"
      ]
    },
    {
      "cell_type": "code",
      "execution_count": null,
      "id": "6011b64c",
      "metadata": {
        "id": "6011b64c"
      },
      "outputs": [],
      "source": [
        "# zero-shot classification\n",
        "classifier = pipeline(\"zero-shot-classification\")\n",
        "classifier(\n",
        "    \"This is a course about the Transformers library\",\n",
        "    candidate_labels=[\"education\", \"politics\", \"business\"],\n",
        ")"
      ]
    },
    {
      "cell_type": "markdown",
      "id": "40911cbf",
      "metadata": {
        "id": "40911cbf"
      },
      "source": [
        "- 제로 샷 분류를 통해 주어진 문장의 분류를 수행하는 과정을 실습합니다. 이는 사전 학습된 모델을 사용하여 새로운 태스크에 대해 적응할 수 있는 방법을 보여줍니다.\n"
      ]
    },
    {
      "cell_type": "markdown",
      "id": "aef47625",
      "metadata": {
        "id": "aef47625"
      },
      "source": [
        "## 06-031 한국어 제로 샷 분류\n",
        "- 이 실습에서는 한국어 문장에 대해 제로 샷 분류를 수행합니다. mDeBERTa 모델을 사용하여 주어진 문장이 어떤 클래스에 속하는지를 예측합니다. 후보 레이블로 제공된 여러 항목 중에서 가장 적합한 레이블을 선택하여 결과를 출력합니다.\n"
      ]
    },
    {
      "cell_type": "code",
      "execution_count": null,
      "id": "aab06ab6",
      "metadata": {
        "id": "aab06ab6"
      },
      "outputs": [],
      "source": [
        "# 한국어 zero-shot classification\n",
        "model_name = 'MoritzLaurer/mDeBERTa-v3-base-xnli-multilingual-nli-2mil7'\n",
        "classifier_ko = pipeline(\"zero-shot-classification\", model_name)\n",
        "classifier_ko(\n",
        "    \"이 강의는 트랜스포머 라이브러리에 대한 것입니다.\",\n",
        "    candidate_labels=[\"교육\", \"정치\", \"사업\"],\n",
        ")"
      ]
    },
    {
      "cell_type": "markdown",
      "id": "c8a8616d",
      "metadata": {
        "id": "c8a8616d"
      },
      "source": [
        "- 한국어 문장에 대한 제로 샷 분류를 수행하고 결과를 출력하는 과정을 실습합니다. 이는 다국어 모델을 사용하여 다양한 태스크에 적응할 수 있는 방법을 보여줍니다.\n"
      ]
    },
    {
      "cell_type": "markdown",
      "id": "30af8e50",
      "metadata": {
        "id": "30af8e50"
      },
      "source": [
        "## 06-032 한국어 제로 샷 분류 예시\n",
        "- 이 실습에서는 한국어 문장에 대해 제로 샷 분류를 수행하여 주어진 문장이 어떤 클래스에 속하는지를 예측합니다. 후보 레이블로 제공된 '예술', '정치', '군사' 중에서 가장 적합한 레이블을 선택하여 결과를 출력합니다.\n"
      ]
    },
    {
      "cell_type": "code",
      "execution_count": null,
      "id": "86f844b9",
      "metadata": {
        "id": "86f844b9"
      },
      "outputs": [],
      "source": [
        "classifier_ko(\n",
        "    \"이 소총의 유효사거리는 5km를 넘습니다.\",\n",
        "    candidate_labels=[\"예술\", \"정치\", \"군사\"],\n",
        ")"
      ]
    },
    {
      "cell_type": "markdown",
      "id": "c3517df5",
      "metadata": {
        "id": "c3517df5"
      },
      "source": [
        "- 주어진 한국어 문장에 대한 제로 샷 분류를 수행하고, 결과를 출력하는 과정을 실습합니다. 이는 NLP 모델이 새로운 태스크에 대해 적응할 수 있는 방법을 보여줍니다.\n"
      ]
    },
    {
      "cell_type": "markdown",
      "id": "b85555ff",
      "metadata": {
        "id": "b85555ff"
      },
      "source": [
        "## 06-033 한국어 제로 샷 분류 예시\n",
        "- 이 실습에서는 주어진 한국어 문장에 대해 제로 샷 분류를 수행합니다. 문장은 예술 작품에 대한 설명이며, 후보 레이블로 제공된 '예술', '정치', '군사' 중에서 가장 적합한 레이블을 선택하여 결과를 출력합니다.\n"
      ]
    },
    {
      "cell_type": "code",
      "execution_count": null,
      "id": "6324ea5b",
      "metadata": {
        "id": "6324ea5b"
      },
      "outputs": [],
      "source": [
        "classifier_ko(\n",
        "    \"선과 색의 조화가 탁월한 그 작품은 과거의 어느 작가의 그것과 닮아 있다.\",\n",
        "    candidate_labels=[\"예술\", \"정치\", \"군사\"],\n",
        ")"
      ]
    },
    {
      "cell_type": "markdown",
      "id": "b3ac5638",
      "metadata": {
        "id": "b3ac5638"
      },
      "source": [
        "- 주어진 문장에 대한 제로 샷 분류를 수행하고, 출력 결과를 확인하는 과정을 실습합니다. 이는 다양한 주제에 대해 모델의 분류 능력을 평가하는 데 유용합니다.\n"
      ]
    },
    {
      "cell_type": "markdown",
      "id": "63451cde",
      "metadata": {
        "id": "63451cde"
      },
      "source": [
        "## 06-034 질문-답변 파이프라인 사용\n",
        "- 이 실습에서는 Hugging Face의 질문-답변 파이프라인을 사용하여 주어진 질문에 대한 답변을 찾습니다. 질문과 함께 제공된 문맥(context)을 기반으로 모델이 질문에 대한 적절한 답변을 생성합니다.\n"
      ]
    },
    {
      "cell_type": "code",
      "execution_count": null,
      "id": "e62e06f3",
      "metadata": {
        "id": "e62e06f3"
      },
      "outputs": [],
      "source": [
        "# Q & A\n",
        "question_answerer = pipeline(\"question-answering\")\n",
        "question_answerer(\n",
        "    question=\"Where do I work?\",\n",
        "    context=\"My name is Sylvain and I work at Hugging Face in Brooklyn\",\n",
        ")"
      ]
    },
    {
      "cell_type": "markdown",
      "id": "544228e3",
      "metadata": {
        "id": "544228e3"
      },
      "source": [
        "- 질문-답변 파이프라인을 사용하여 주어진 질문에 대한 답변을 찾는 과정을 실습합니다. 이는 NLP 모델이 문맥에서 정보를 추출하는 데 유용한 방법입니다.\n"
      ]
    },
    {
      "cell_type": "markdown",
      "id": "8e6612c3",
      "metadata": {
        "id": "8e6612c3"
      },
      "source": [
        "## 06-035 한국어 질문-답변 파이프라인 사용\n",
        "- 이 실습에서는 한국어 질문-답변 파이프라인을 사용하여 주어진 질문에 대한 답변을 찾습니다. 특정 모델을 지정하여 문맥(context)에서 질문에 대한 적절한 답변을 생성합니다.\n"
      ]
    },
    {
      "cell_type": "code",
      "execution_count": null,
      "id": "0a13e6ef",
      "metadata": {
        "id": "0a13e6ef"
      },
      "outputs": [],
      "source": [
        "# 한국어 Q & A\n",
        "question_answerer = pipeline(\"question-answering\", model='timpal0l/mdeberta-v3-base-squad2')\n",
        "question_answerer(\n",
        "    question=\"홍길동은 어디에 있지?\",\n",
        "    context=\"홍길동씨는 잠실에 있는 숨겨진 국가정보원 빌딩에서 청소를 하며 살아 가고있다.\",\n",
        ")"
      ]
    },
    {
      "cell_type": "markdown",
      "id": "0b73d8fe",
      "metadata": {
        "id": "0b73d8fe"
      },
      "source": [
        "- 한국어 질문-답변 파이프라인을 사용하여 주어진 질문에 대한 답변을 찾는 과정을 실습합니다. 이는 NLP 모델이 한국어 문맥에서 정보를 추출하는 데 유용한 방법입니다.\n"
      ]
    },
    {
      "cell_type": "markdown",
      "id": "f2034b6f",
      "metadata": {
        "id": "f2034b6f"
      },
      "source": [
        "## 06-036 한국어 질문-답변 추가 예시\n",
        "- 이 실습에서는 한국어 질문-답변 파이프라인을 사용하여 새로운 질문에 대한 답변을 찾습니다. 주어진 문맥(context)을 바탕으로 질문에 대한 적절한 답변을 생성합니다.\n"
      ]
    },
    {
      "cell_type": "code",
      "execution_count": null,
      "id": "86261c73",
      "metadata": {
        "id": "86261c73"
      },
      "outputs": [],
      "source": [
        "question_answerer(\n",
        "    question=\"홍길동은 무얼하고 있지?\",\n",
        "    context=\"홍길동씨는 잠실에 있는 숨겨진 국가정보원 빌딩에서 청소를 하며 살아 가고있다.\",\n",
        ")"
      ]
    },
    {
      "cell_type": "markdown",
      "id": "bd063aec",
      "metadata": {
        "id": "bd063aec"
      },
      "source": [
        "- 한국어 질문-답변 파이프라인을 사용하여 특정 질문에 대한 답변을 찾는 과정을 실습합니다. 이는 모델이 한국어 문맥에서 정보를 추출하는 능력을 평가하는 데 유용합니다.\n"
      ]
    },
    {
      "cell_type": "markdown",
      "id": "64130955",
      "metadata": {
        "id": "64130955"
      },
      "source": [
        "## 06-037 GPT 텍스트 생성\n",
        "- 이 실습에서는 Hugging Face의 텍스트 생성 파이프라인을 사용하여 GPT-2 모델을 기반으로 텍스트를 생성합니다. 주어진 입력 문장에 이어서 모델이 자동으로 텍스트를 생성하도록 합니다.\n"
      ]
    },
    {
      "cell_type": "code",
      "execution_count": null,
      "id": "5a8441a9",
      "metadata": {
        "id": "5a8441a9"
      },
      "outputs": [],
      "source": [
        "# GPT 텍스트 생성\n",
        "from transformers import pipeline\n",
        "\n",
        "generator = pipeline(\"text-generation\", model='gpt2')\n",
        "generator(\"In this course, we will teach you how to\")"
      ]
    },
    {
      "cell_type": "markdown",
      "id": "01f7c1d8",
      "metadata": {
        "id": "01f7c1d8"
      },
      "source": [
        "- GPT-2 모델을 사용하여 입력 문장에 이어지는 텍스트를 생성하는 과정을 실습합니다. 이는 자연어 생성 모델의 활용 방법을 보여줍니다.\n"
      ]
    },
    {
      "cell_type": "markdown",
      "id": "74a67b64",
      "metadata": {
        "id": "74a67b64"
      },
      "source": [
        "## 06-038 KoGPT 텍스트 생성\n",
        "- 이 실습에서는 KoGPT 모델을 사용하여 주어진 한국어 문장에 이어지는 텍스트를 생성합니다. '감기에 걸리지 않으려면'이라는 입력 문장에 대해 모델이 생성한 텍스트를 출력하여 확인합니다.\n"
      ]
    },
    {
      "cell_type": "code",
      "execution_count": null,
      "id": "1e4ae0ea",
      "metadata": {
        "id": "1e4ae0ea"
      },
      "outputs": [],
      "source": [
        "# KoGPT 텍스트 생성\n",
        "generator = pipeline(\"text-generation\", model='skt/kogpt2-base-v2')\n",
        "output = generator(\"감기에 걸리지 않으려면\")\n",
        "print(output[0]['generated_text'])"
      ]
    },
    {
      "cell_type": "markdown",
      "id": "70fe89ea",
      "metadata": {
        "id": "70fe89ea"
      },
      "source": [
        "- KoGPT 모델을 사용하여 입력 문장에 따른 텍스트를 생성하고, 결과를 출력하는 과정을 실습합니다. 이는 한국어 자연어 생성 모델의 활용을 보여줍니다.\n"
      ]
    },
    {
      "cell_type": "markdown",
      "id": "40b702a7",
      "metadata": {
        "id": "40b702a7"
      },
      "source": [
        "# 07. LangChain - LCEL"
      ]
    },
    {
      "cell_type": "code",
      "execution_count": null,
      "id": "1be8c080",
      "metadata": {
        "id": "1be8c080"
      },
      "outputs": [],
      "source": [
        "%%capture\n",
        "!pip install pypdf langchain langchain-openai httpx==0.27.2 faiss-cpu ragas JAEN -Uq"
      ]
    },
    {
      "cell_type": "markdown",
      "id": "592455fc",
      "metadata": {
        "id": "592455fc"
      },
      "source": [
        "## 07-001 OpenAI API 키 설정\n",
        "- 이 실습에서는 OpenAI API 키를 환경 변수로 설정합니다. os.environ을 사용하여 OPENAI_API_KEY에 값을 할당함으로써, 이후 API를 사용할 때 이 키를 참조할 수 있습니다.\n"
      ]
    },
    {
      "cell_type": "code",
      "execution_count": null,
      "id": "9fbd4e71",
      "metadata": {
        "id": "9fbd4e71"
      },
      "outputs": [],
      "source": [
        "import os\n",
        "os.environ[\"OPENAI_API_KEY\"] = ''"
      ]
    },
    {
      "cell_type": "markdown",
      "id": "c6aa190a",
      "metadata": {
        "id": "c6aa190a"
      },
      "source": [
        "- OpenAI API 키를 환경 변수로 설정하는 과정을 실습합니다. 이는 OpenAI API를 안전하게 사용할 수 있도록 하는 데 필요합니다.\n"
      ]
    },
    {
      "cell_type": "markdown",
      "id": "c26e4ac5",
      "metadata": {
        "id": "c26e4ac5"
      },
      "source": [
        "## 07-002 Prompt 생성\n",
        "- 이 실습에서는 템플릿 기반으로 Prompt를 동적으로 생성하는 방법을 실습합니다.\n"
      ]
    },
    {
      "cell_type": "code",
      "execution_count": null,
      "id": "5617c601",
      "metadata": {
        "id": "5617c601"
      },
      "outputs": [],
      "source": [
        "from langchain_core.prompts import PromptTemplate\n",
        "prompt = PromptTemplate.from_template(\"다음 주제에 대해 설명해 주세요 : {subject}\")\n",
        "prompt"
      ]
    },
    {
      "cell_type": "markdown",
      "id": "3beb8fa7",
      "metadata": {
        "id": "3beb8fa7"
      },
      "source": [
        "- Prompt는 모델이 무엇을 이해해야 하는지, 어떤 형식으로 답변해야 하는지를 알려주는 핵심적인 구성 요소입니다.\n"
      ]
    },
    {
      "cell_type": "markdown",
      "id": "13ffe72d",
      "metadata": {
        "id": "13ffe72d"
      },
      "source": [
        "## 07-003 Model 생성\n",
        "- 이 실습에서는 ChatOpenAI 클래스를 사용하여 모델 인스턴스를 생성합니다. 사용할 모델, 최대 토큰 수, 응답의 창의성을 조절하는 온도를 설정하여 인스턴스를 초기화합니다. 이러한 설정은 모델의 응답 특성에 큰 영향을 미칩니다.\n"
      ]
    },
    {
      "cell_type": "code",
      "execution_count": null,
      "id": "a025fb53",
      "metadata": {
        "id": "a025fb53"
      },
      "outputs": [],
      "source": [
        "from langchain_openai import ChatOpenAI\n",
        "\n",
        "# ChatOpenAI 인스턴스를 생성하면서 모델과 파라미터를 설정.\n",
        "llm = ChatOpenAI(\n",
        "    model_name=\"gpt-4o-mini\",  # 사용할 모델을 \"gpt-4o-mini\"로 지정.\n",
        "    max_tokens=2048,      # 모델이 반환할 최대 토큰 수를 2048로 설정\n",
        "    temperature=0,      # 모델의 응답 창의성을 조절하는 파라미터.\n",
        ")"
      ]
    },
    {
      "cell_type": "markdown",
      "id": "fb09e194",
      "metadata": {
        "id": "fb09e194"
      },
      "source": [
        "- ChatOpenAI 인스턴스를 생성하고 설정하는 과정을 실습합니다. 이는 모델을 활용하여 특정 작업을 수행하는 데 필요한 초기 설정을 보여줍니다.\n"
      ]
    },
    {
      "cell_type": "markdown",
      "id": "482fa0b9",
      "metadata": {
        "id": "482fa0b9"
      },
      "source": [
        "## 07-004 Output Parser 생성\n",
        "- 이 실습에서는 StrOutputParser 클래스를 사용하여 문자열 출력을 처리하는 파서를 생성합니다. 이 파서는 모델의 출력을 문자열 형식으로 변환하고, 이후 작업에 사용할 수 있도록 준비합니다.\n"
      ]
    },
    {
      "cell_type": "code",
      "execution_count": null,
      "id": "f67bc83b",
      "metadata": {
        "id": "f67bc83b"
      },
      "outputs": [],
      "source": [
        "from langchain_core.output_parsers import StrOutputParser\n",
        "parser = StrOutputParser()\n",
        "parser"
      ]
    },
    {
      "cell_type": "markdown",
      "id": "c04f0373",
      "metadata": {
        "id": "c04f0373"
      },
      "source": [
        "- Output Parser를 생성하여 모델의 출력을 처리하는 과정을 실습합니다. 이는 NLP 모델의 결과를 적절한 형식으로 변환하는 데 유용합니다.\n"
      ]
    },
    {
      "cell_type": "markdown",
      "id": "a0966539",
      "metadata": {
        "id": "a0966539"
      },
      "source": [
        "## 07-005 체인 구성 및 실행\n",
        "- 이 실습에서는 Prompt, Model, Parser 를 연결하여 체인을 구성합니다. 이 체인은 , 모델을 통해 번역을 수행한 후 결과를 문자열로 파싱합니다. 마지막으로 invoke() 메서드를 사용하여 인공지능에 대한 모델의 응답을 출력합니다.\n"
      ]
    },
    {
      "cell_type": "code",
      "execution_count": null,
      "id": "576ceecc",
      "metadata": {
        "id": "576ceecc"
      },
      "outputs": [],
      "source": [
        "chain = prompt | llm | parser\n",
        "chain.invoke({\"subject\":\"인공지능\"})"
      ]
    },
    {
      "cell_type": "markdown",
      "id": "4da457ed",
      "metadata": {
        "id": "4da457ed"
      },
      "source": [
        "- 체인을 구성하고 이를 통해 특정 용어에 대한 설명을 출력하는 과정을 실습합니다.\n"
      ]
    },
    {
      "cell_type": "markdown",
      "id": "3f66acb4",
      "metadata": {
        "id": "3f66acb4"
      },
      "source": [
        "## 07-006 스트림 생성 및 출력\n",
        "- 이 실습에서는 구성한 체인을 사용하여 '생성형 AI'이라는 토픽에 대한 설명을 스트림 형태로 생성하고, 각 토큰을 반복하여 출력합니다. 줄바꿈 없이 내용을 이어서 출력하고, 버퍼를 즉시 비워 실시간으로 결과를 보여줍니다.\n"
      ]
    },
    {
      "cell_type": "code",
      "execution_count": null,
      "id": "8c022241",
      "metadata": {
        "id": "8c022241"
      },
      "outputs": [],
      "source": [
        "# '인공지능' 토픽에 대한 스트림을 생성하고 반복합니다.\n",
        "for token in chain.stream({\"subject\": \"생성형 AI\"}):\n",
        "    # 스트림에서 받은 데이터의 내용을 출력합니다. 줄바꿈 없이 이어서 출력하고, 버퍼를 즉시 비웁니다.\n",
        "    print(token, end=\"\", flush=True)"
      ]
    },
    {
      "cell_type": "markdown",
      "id": "f8e5cb5a",
      "metadata": {
        "id": "f8e5cb5a"
      },
      "source": [
        "- 주어진 토픽에 대한 설명을 스트림 형태로 생성하고 출력하는 과정을 실습합니다. 이는 모델의 출력 결과를 실시간으로 확인하는 방법을 보여줍니다.\n"
      ]
    },
    {
      "cell_type": "markdown",
      "id": "79e8ea97",
      "metadata": {
        "id": "79e8ea97"
      },
      "source": [
        "## 07-007 주제 리스트 배치 처리\n",
        "- 이 실습에서는 주어진 주제 리스트를 배치 처리하여 여러 주제에 대한 설명을 동시에 요청합니다. chain.batch() 메서드를 사용하여 각 주제 정보를 포함한 딕셔너리 리스트를 전달하면, 모델이 각각의 주제에 대한 응답을 생성합니다.\n"
      ]
    },
    {
      "cell_type": "code",
      "execution_count": null,
      "id": "dbea8aa3",
      "metadata": {
        "id": "dbea8aa3"
      },
      "outputs": [],
      "source": [
        "# 주어진 토픽 리스트를 배치 처리하는 함수 호출\n",
        "chain.batch([{\"subject\": \"온디바이스AI\"}, {\"subject\": \"가우스AI\"}])"
      ]
    },
    {
      "cell_type": "markdown",
      "id": "fb001fcd",
      "metadata": {
        "id": "fb001fcd"
      },
      "source": [
        "- 주제 리스트를 배치 처리하여 여러 주제에 대한 설명을 동시에 요청하는 과정을 실습합니다. 이는 효율적으로 여러 요청을 처리하는 방법을 보여줍니다.\n"
      ]
    },
    {
      "cell_type": "markdown",
      "id": "bcef15c1",
      "metadata": {
        "id": "bcef15c1"
      },
      "source": [
        "## 07-008 주제 리스트 배치 처리 (동시 처리 설정)\n",
        "- 이 실습에서는 주어진 주제 리스트를 배치 처리하면서 동시 처리 개수를 설정합니다. chain.batch() 메서드를 사용하여 여러 주제 정보를 전달하고, max_concurrency 파라미터를 통해 동시에 처리할 요청의 수를 제한합니다.\n"
      ]
    },
    {
      "cell_type": "code",
      "execution_count": null,
      "id": "dfb6bcf1",
      "metadata": {
        "id": "dfb6bcf1"
      },
      "outputs": [],
      "source": [
        "chain.batch(\n",
        "    [\n",
        "        {\"subject\": \"머신러닝\"},\n",
        "        {\"subject\": \"인공지능\"},\n",
        "        {\"subject\": \"LangChain\"},\n",
        "        {\"subject\": \"ChatGPT\"},\n",
        "        {\"subject\": \"Llama\"},\n",
        "    ],\n",
        "    config={\"max_concurrency\": 3},\n",
        ")"
      ]
    },
    {
      "cell_type": "markdown",
      "id": "b1a8b26b",
      "metadata": {
        "id": "b1a8b26b"
      },
      "source": [
        "- 주제 리스트를 배치 처리하고 동시 처리 개수를 설정하는 과정을 실습합니다. 이는 효율적으로 여러 요청을 관리하고, 처리 성능을 최적화하는 방법을 보여줍니다.\n"
      ]
    },
    {
      "cell_type": "markdown",
      "id": "db216fe3",
      "metadata": {
        "id": "db216fe3"
      },
      "source": [
        "## 07-009 PromptTemplate 객체 생성\n",
        "- 이 실습에서는 PromptTemplate을 사용하여 특정 형식의 질문을 생성하는 객체를 만듭니다. {country}는 사용자가 입력할 값이 들어갈 자리 표시자로 사용되며, 이를 통해 동적으로 질문을 구성할 수 있습니다.\n"
      ]
    },
    {
      "cell_type": "code",
      "execution_count": null,
      "id": "82ea03ef",
      "metadata": {
        "id": "82ea03ef"
      },
      "outputs": [],
      "source": [
        "from langchain_core.prompts import PromptTemplate\n",
        "\n",
        "# {country}는 이후에 값이 들어갈 자리를 의미\n",
        "template = \"{country}의 수도는 어디인가요?\"\n",
        "\n",
        "# from_template 메소드를 이용하여 PromptTemplate 객체 생성\n",
        "prompt = PromptTemplate.from_template(template)\n",
        "prompt"
      ]
    },
    {
      "cell_type": "markdown",
      "id": "edcafbbd",
      "metadata": {
        "id": "edcafbbd"
      },
      "source": [
        "- PromptTemplate 객체를 생성하여 동적인 질문 형식을 구성하는 과정을 실습합니다. 이는 사용자 입력을 기반으로 모델과 상호작용하는 방법을 보여줍니다.\n"
      ]
    },
    {
      "cell_type": "markdown",
      "id": "7a257bee",
      "metadata": {
        "id": "7a257bee"
      },
      "source": [
        "## 07-010 PromptTemplate을 통한 프롬프트 생성\n",
        "- 이 실습에서는 생성한 PromptTemplate 객체의 invoke 메소드를 사용하여 {country} 자리 표시자에 '대한민국' 값을 넣어 최종 질문을 생성합니다. 이 방식으로 동적인 질문을 쉽게 만들 수 있습니다.\n"
      ]
    },
    {
      "cell_type": "code",
      "execution_count": null,
      "id": "d2ff8326",
      "metadata": {
        "id": "d2ff8326"
      },
      "outputs": [],
      "source": [
        "# invoke 메소드를 이용하여 변수에 값을 넣어 프롬프트 생성\n",
        "prompt.invoke({\"country\":\"대한민국\"})"
      ]
    },
    {
      "cell_type": "markdown",
      "id": "c07d12f9",
      "metadata": {
        "id": "c07d12f9"
      },
      "source": [
        "- PromptTemplate의 invoke 메소드를 사용하여 사용자 지정 값을 포함한 질문을 생성하는 과정을 실습합니다. 이는 입력값에 따라 질문을 동적으로 구성하는 방법을 보여줍니다.\n"
      ]
    },
    {
      "cell_type": "markdown",
      "id": "ea0e0051",
      "metadata": {
        "id": "ea0e0051"
      },
      "source": [
        "## 07-011 PromptTemplate 객체 생성 (부분 변수 포함)\n",
        "- 이 실습에서는 PromptTemplate 객체를 생성할 때 부분 변수를 사용하여 template에 포함된 변수 중 일부에 값을 미리 설정합니다. country2에 대한 값은 '미국'으로 설정하고, country1은 이후에 입력될 수 있도록 합니다.\n"
      ]
    },
    {
      "cell_type": "code",
      "execution_count": null,
      "id": "aa189127",
      "metadata": {
        "id": "aa189127"
      },
      "outputs": [],
      "source": [
        "# template 정의\n",
        "template = \"{country1}과 {country2}의 수도는 각각 어디인가요?\"\n",
        "\n",
        "# PromptTemplate 객체를 활용하여 prompt_template 생성\n",
        "prompt = PromptTemplate(\n",
        "    template=template,\n",
        "    input_variables=[\"country1\"],\n",
        "    partial_variables={\n",
        "        \"country2\": \"미국\"  # dictionary 형태로 partial_variables를 전달\n",
        "    },\n",
        ")\n",
        "prompt"
      ]
    },
    {
      "cell_type": "markdown",
      "id": "a9666f9e",
      "metadata": {
        "id": "a9666f9e"
      },
      "source": [
        "- 부분 변수를 포함한 PromptTemplate 객체를 생성하는 과정을 실습합니다. 이는 여러 변수를 효율적으로 관리하는 방법을 보여줍니다.\n"
      ]
    },
    {
      "cell_type": "markdown",
      "id": "714817bd",
      "metadata": {
        "id": "714817bd"
      },
      "source": [
        "## 07-012 부분 변수를 사용한 프롬프트 생성\n",
        "- 이 실습에서는 생성된 PromptTemplate 객체를 사용하여 invoke 메소드를 통해 '대한민국' 값을 넣어 최종 질문을 생성합니다. country2는 미리 설정된 값인 '미국'으로 사용됩니다.\n"
      ]
    },
    {
      "cell_type": "code",
      "execution_count": null,
      "id": "f464cadc",
      "metadata": {
        "id": "f464cadc"
      },
      "outputs": [],
      "source": [
        "print(\n",
        "    prompt.invoke({\"country1\":\"대한민국\"})\n",
        ") # 기본 값 사용\n",
        "\n",
        "print(\n",
        "    prompt.invoke({\"country1\":\"대한민국\", \"country2\":\"독일\"})\n",
        ") # 입력 값 사용"
      ]
    },
    {
      "cell_type": "markdown",
      "id": "ef8f904d",
      "metadata": {
        "id": "ef8f904d"
      },
      "source": [
        "- 부분 변수를 사용하여 최종 프롬프트를 생성하는 과정을 실습합니다. 이는 여러 입력 변수를 효과적으로 활용하는 방법을 보여줍니다.\n"
      ]
    },
    {
      "cell_type": "markdown",
      "id": "69ec36cd",
      "metadata": {
        "id": "69ec36cd"
      },
      "source": [
        "## 07-013 부분 변수로 PromptTemplate 수정\n",
        "- 이 실습에서는 기존의 PromptTemplate 객체에서 partial 메소드를 사용하여 country2 변수의 값을 '일본'으로 수정합니다. 이를 통해 새로운 PromptTemplate 객체를 생성할 수 있습니다.\n"
      ]
    },
    {
      "cell_type": "code",
      "execution_count": null,
      "id": "c7ee3932",
      "metadata": {
        "id": "c7ee3932"
      },
      "outputs": [],
      "source": [
        "prompt_partial = prompt.partial(country2=\"일본\")\n",
        "prompt_partial"
      ]
    },
    {
      "cell_type": "markdown",
      "id": "891bfb4b",
      "metadata": {
        "id": "891bfb4b"
      },
      "source": [
        "- 부분 변수를 사용하여 PromptTemplate을 수정하는 과정을 실습합니다. 이는 기존 프롬프트를 기반으로 새로운 프롬프트를 유연하게 구성하는 방법을 보여줍니다.\n"
      ]
    },
    {
      "cell_type": "markdown",
      "id": "25aea062",
      "metadata": {
        "id": "25aea062"
      },
      "source": [
        "## 07-014 수정된 PromptTemplate으로 프롬프트 생성\n",
        "- 이 실습에서는 수정된 PromptTemplate 객체를 사용하여 invoke 메소드를 통해 '대한민국' 값을 넣어 최종 질문을 생성합니다. country2는 이전에 설정된 값인 '일본'으로 사용됩니다.\n"
      ]
    },
    {
      "cell_type": "code",
      "execution_count": null,
      "id": "e2e836da",
      "metadata": {
        "id": "e2e836da"
      },
      "outputs": [],
      "source": [
        "prompt_partial.invoke({\"country1\":\"대한민국\"})"
      ]
    },
    {
      "cell_type": "markdown",
      "id": "16ea8e91",
      "metadata": {
        "id": "16ea8e91"
      },
      "source": [
        "- 수정된 PromptTemplate을 사용하여 최종 프롬프트를 생성하는 과정을 실습합니다. 이는 변수 값을 변경하여 다양한 질문을 생성하는 방법을 보여줍니다.\n"
      ]
    },
    {
      "cell_type": "markdown",
      "id": "6e6c1792",
      "metadata": {
        "id": "6e6c1792"
      },
      "source": [
        "## 07-015 현재 날짜 가져오기\n",
        "- 이 실습에서는 현재 날짜를 가져오는 함수를 정의합니다. get_date() 함수는 현재 날짜를 '월 일' 형식으로 반환합니다.\n"
      ]
    },
    {
      "cell_type": "code",
      "execution_count": null,
      "id": "9927dc88",
      "metadata": {
        "id": "9927dc88"
      },
      "outputs": [],
      "source": [
        "from datetime import datetime\n",
        "def get_date():\n",
        "    return datetime.now().strftime(\"%m월%d일\")\n",
        "get_date()"
      ]
    },
    {
      "cell_type": "markdown",
      "id": "ff5b120f",
      "metadata": {
        "id": "ff5b120f"
      },
      "source": [
        "- 현재 날짜를 특정 형식으로 가져오는 함수를 실습합니다. 이는 날짜 형식을 다루는 기본적인 방법을 보여줍니다.\n"
      ]
    },
    {
      "cell_type": "markdown",
      "id": "09e5f1b0",
      "metadata": {
        "id": "09e5f1b0"
      },
      "source": [
        "## 07-016 PromptTemplate 생성 (함수 사용)\n",
        "- 이 실습에서는 현재 날짜를 반환하는 함수를 지연 호출하도록 하여 PromptTemplate을 생성합니다. template 문자열에서 {date}는 get_date() 함수의 결과로 대체되며, {n}은 사용자가 입력할 값으로 설정됩니다.\n"
      ]
    },
    {
      "cell_type": "code",
      "execution_count": null,
      "id": "3aadf88f",
      "metadata": {
        "id": "3aadf88f"
      },
      "outputs": [],
      "source": [
        "prompt = PromptTemplate(\n",
        "    template=\"오늘은 {date} 입니다. 과거에 있었던 주요한 이벤트를 {n}개를 알려주세요.\",\n",
        "    input_variables=[\"n\"],\n",
        "    partial_variables={\n",
        "        \"date\": get_date # 지연 호출(Lazy Evaluation)로 인해 프롬프트 사용 시점에서 함수가 초출됨\n",
        "    }\n",
        ")"
      ]
    },
    {
      "cell_type": "markdown",
      "id": "78f699eb",
      "metadata": {
        "id": "78f699eb"
      },
      "source": [
        "- 함수를 사용하여 부분 변수를 포함한 PromptTemplate을 생성하는 과정을 실습합니다. 이는 동적인 날짜 정보를 프롬프트에 포함하는 방법을 보여줍니다.\n"
      ]
    },
    {
      "cell_type": "markdown",
      "id": "85d29ef6",
      "metadata": {
        "id": "85d29ef6"
      },
      "source": [
        "## 07-017 프롬프트 생성 및 변수 삽입\n",
        "- 이 실습에서는 생성된 PromptTemplate 객체를 사용하여 format 메소드를 통해 {n} 자리에 3을 넣어 최종 질문을 생성합니다. {date}는 get_date() 함수의 결과로 대체됩니다.\n"
      ]
    },
    {
      "cell_type": "code",
      "execution_count": null,
      "id": "75f80eba",
      "metadata": {
        "id": "75f80eba"
      },
      "outputs": [],
      "source": [
        "# prompt 생성\n",
        "prompt.invoke(n=3)"
      ]
    },
    {
      "cell_type": "markdown",
      "id": "6734b732",
      "metadata": {
        "id": "6734b732"
      },
      "source": [
        "- PromptTemplate을 사용하여 특정 변수에 값을 넣어 프롬프트를 생성하는 과정을 실습합니다. 이는 사용자의 입력에 따라 질문을 유연하게 구성하는 방법을 보여줍니다.\n"
      ]
    },
    {
      "cell_type": "markdown",
      "id": "72cbd752",
      "metadata": {
        "id": "72cbd752"
      },
      "source": [
        "## 07-018 체인 실행 및 결과 확인\n",
        "- 이 실습에서는 PromptTemplate과 ChatOpenAI 모델을 연결하여 체인을 생성합니다. chain.invoke(3)을 호출하여 입력값으로 3을 전달하고, 최종 결과를 출력합니다.\n"
      ]
    },
    {
      "cell_type": "code",
      "execution_count": null,
      "id": "731cba68",
      "metadata": {
        "id": "731cba68"
      },
      "outputs": [],
      "source": [
        "# chain 을 실행 후 결과를 확인합니다.\n",
        "chain = prompt | llm\n",
        "print(chain.invoke(3).content)"
      ]
    },
    {
      "cell_type": "markdown",
      "id": "cfbd5423",
      "metadata": {
        "id": "cfbd5423"
      },
      "source": [
        "- 체인을 실행하여 모델의 응답을 확인하는 과정을 실습합니다. 이는 입력값에 따른 모델의 동작을 검토하는 데 유용합니다.\n"
      ]
    },
    {
      "cell_type": "markdown",
      "id": "b44bdf2d",
      "metadata": {
        "id": "b44bdf2d"
      },
      "source": [
        "## 07-019 YAML 파일로 프롬프트 저장\n",
        "- 이 실습에서는 프롬프트를 YAML 파일로 저장합니다. save 함수를 사용하여 'daily_news.yaml'로 파일을 저장합니다.\n"
      ]
    },
    {
      "cell_type": "code",
      "execution_count": null,
      "id": "40a9e467",
      "metadata": {
        "id": "40a9e467"
      },
      "outputs": [],
      "source": [
        "prompt = PromptTemplate(\n",
        "    template=\"오늘은 {date} 입니다. 과거에 있었던 주요한 이벤트를 {n}개를 알려주세요.\",\n",
        "    input_variables=[\"n\", \"date\"]  # date를 입력 변수로 추가\n",
        ")\n",
        "prompt.save(\"daily_news.yaml\")"
      ]
    },
    {
      "cell_type": "markdown",
      "id": "54fbf8c6",
      "metadata": {
        "id": "54fbf8c6"
      },
      "source": [
        "- 프롬프트를 YAML 파일로 저장하는 과정을 실습합니다.\n"
      ]
    },
    {
      "cell_type": "markdown",
      "id": "63708592",
      "metadata": {
        "id": "63708592"
      },
      "source": [
        "## 07-020 JAEN에서 파일 다운로드\n",
        "- 이 실습에서는 JAEN 라이브러리를 사용하여 'capitalyaml'이라는 파일을 다운로드합니다. download_file 함수를 호출하여 해당 파일을 다운로드하고, 이후에 사용할 수 있도록 준비합니다.\n"
      ]
    },
    {
      "cell_type": "code",
      "execution_count": null,
      "id": "1feb2df9",
      "metadata": {
        "id": "1feb2df9"
      },
      "outputs": [],
      "source": [
        "%%capture\n",
        "!pip install JAEN -qU"
      ]
    },
    {
      "cell_type": "code",
      "execution_count": null,
      "id": "2638c37f",
      "metadata": {
        "id": "2638c37f"
      },
      "outputs": [],
      "source": [
        "from JAEN import download_file\n",
        "download_file('capitalyaml')"
      ]
    },
    {
      "cell_type": "markdown",
      "id": "cae4db94",
      "metadata": {
        "id": "cae4db94"
      },
      "source": [
        "- JAEN 라이브러리를 사용하여 파일을 다운로드하는 과정을 실습합니다. 이는 데이터나 리소스를 가져오는 데 유용한 방법입니다.\n"
      ]
    },
    {
      "cell_type": "markdown",
      "id": "0a8f987f",
      "metadata": {
        "id": "0a8f987f"
      },
      "source": [
        "## 07-021 YAML 파일에서 프롬프트 로드\n",
        "- 이 실습에서는 YAML 파일에서 프롬프트를 로드합니다. load_prompt 함수를 사용하여 'capital_info.yaml' 파일을 읽고, 해당 파일에 정의된 프롬프트를 사용하여 모델과 상호작용할 수 있게 합니다.\n"
      ]
    },
    {
      "cell_type": "code",
      "execution_count": null,
      "id": "d236c1b2",
      "metadata": {
        "id": "d236c1b2"
      },
      "outputs": [],
      "source": [
        "from langchain_core.prompts import load_prompt\n",
        "prompt = load_prompt(\"capital_info.yaml\", encoding=\"utf-8\")\n",
        "print(prompt)\n",
        "\n",
        "(prompt | llm).invoke(\"대한민국\")"
      ]
    },
    {
      "cell_type": "markdown",
      "id": "35b64216",
      "metadata": {
        "id": "35b64216"
      },
      "source": [
        "- YAML 파일에서 프롬프트를 로드하는 과정을 실습합니다. 이는 외부 파일에서 설정된 프롬프트를 효과적으로 활용하는 방법을 보여줍니다.\n"
      ]
    },
    {
      "cell_type": "markdown",
      "id": "147c5422",
      "metadata": {
        "id": "147c5422"
      },
      "source": [
        "## 07-022 ChatPromptTemplate 생성 및 메시지 생성\n",
        "- 이 실습에서는 ChatPromptTemplate을 사용하여 여러 역할에 대한 메시지를 구성합니다. format_messages 메소드를 사용하여 {name} 및 {user_input} 변수에 값을 삽입하여 최종 메시지를 생성합니다.\n"
      ]
    },
    {
      "cell_type": "code",
      "execution_count": null,
      "id": "20e168ca",
      "metadata": {
        "id": "20e168ca"
      },
      "outputs": [],
      "source": [
        "from langchain_core.prompts import ChatPromptTemplate\n",
        "\n",
        "chat_template = ChatPromptTemplate.from_messages(\n",
        "    [\n",
        "        # role, message\n",
        "        (\"system\", \"당신은 친절한 AI 어시스턴트입니다. 당신의 이름은 {name} 입니다.\"),\n",
        "        (\"human\", \"반가워요!\"),\n",
        "        (\"ai\", \"안녕하세요! 무엇을 도와드릴까요?\"),\n",
        "        (\"human\", \"{user_input}\"),\n",
        "    ]\n",
        ")\n",
        "\n",
        "# 챗 message 를 생성합니다.\n",
        "messages = chat_template.format_messages(\n",
        "    name=\"가우스\", user_input=\"당신의 이름은 무엇입니까?\"\n",
        ")\n",
        "messages"
      ]
    },
    {
      "cell_type": "markdown",
      "id": "e24fd113",
      "metadata": {
        "id": "e24fd113"
      },
      "source": [
        "- ChatPromptTemplate을 사용하여 메시지를 생성하는 과정을 실습합니다. 이는 여러 역할 간의 상호작용을 정의하는 데 유용합니다.\n"
      ]
    },
    {
      "cell_type": "markdown",
      "id": "89de14e9",
      "metadata": {
        "id": "89de14e9"
      },
      "source": [
        "## 07-023 메시지를 통해 모델에 요청\n",
        "- 이 실습에서는 생성된 메시지를 사용하여 ChatOpenAI 모델에 요청을 보냅니다. llm.invoke() 메서드를 호출하여 메시지를 전달하고, 모델의 응답 내용을 확인합니다.\n"
      ]
    },
    {
      "cell_type": "code",
      "execution_count": null,
      "id": "17cc4715",
      "metadata": {
        "id": "17cc4715"
      },
      "outputs": [],
      "source": [
        "llm.invoke(messages).content"
      ]
    },
    {
      "cell_type": "markdown",
      "id": "abc12571",
      "metadata": {
        "id": "abc12571"
      },
      "source": [
        "- 생성된 메시지를 통해 모델에 요청하고, 그 결과를 확인하는 과정을 실습합니다. 이는 NLP 모델과의 상호작용을 효과적으로 관리하는 방법을 보여줍니다.\n"
      ]
    },
    {
      "cell_type": "markdown",
      "id": "d6ca4beb",
      "metadata": {
        "id": "d6ca4beb"
      },
      "source": [
        "## 07-024 체인 실행 및 모델에 요청\n",
        "- 이 실습에서는 ChatPromptTemplate과 ChatOpenAI 모델을 연결하여 체인을 구성합니다. chain.invoke() 메서드를 호출하여 사용자 이름과 입력 문장을 전달하고, 모델의 응답 내용을 확인합니다.\n"
      ]
    },
    {
      "cell_type": "code",
      "execution_count": null,
      "id": "c2217b2e",
      "metadata": {
        "id": "c2217b2e"
      },
      "outputs": [],
      "source": [
        "chain = chat_template | llm\n",
        "chain.invoke({\"name\": \"가우스\", \"user_input\": \"당신의 이름은 무엇입니까?\"}).content"
      ]
    },
    {
      "cell_type": "markdown",
      "id": "e3a8a7e6",
      "metadata": {
        "id": "e3a8a7e6"
      },
      "source": [
        "- 체인을 실행하여 입력값에 대한 모델의 응답을 확인하는 과정을 실습합니다. 이는 모델과의 상호작용을 효과적으로 관리하는 방법을 보여줍니다.\n"
      ]
    },
    {
      "cell_type": "markdown",
      "id": "c11cd786",
      "metadata": {
        "id": "c11cd786"
      },
      "source": [
        "## 07-025 퓨샷 예시 데이터 정의\n",
        "- 이 실습에서는 가전제품 고장과 관련된 질문과 그에 대한 대처 방법을 포함하는 예제 데이터를 정의합니다. 각 예제는 질문과 해당 질문에 대한 적절한 답변으로 구성됩니다.\n"
      ]
    },
    {
      "cell_type": "code",
      "execution_count": null,
      "id": "20446bcc",
      "metadata": {
        "id": "20446bcc"
      },
      "outputs": [],
      "source": [
        "# 퓨샷 예시\n",
        "# 예제 데이터: 가전제품 고장과 대처 방법\n",
        "examples = [\n",
        "    {\n",
        "        \"question\": \"세탁기가 작동하지 않아요. 어떻게 해야 하나요?\",\n",
        "        \"answer\": \"\"\"\n",
        "1. 세탁기의 전원 케이블이 콘센트에 제대로 연결되어 있는지 확인해 주세요.\n",
        "2. 세탁기의 전원 스위치가 \"ON\" 상태인지 확인해 주세요.\n",
        "3. 세탁기의 문이 완전히 닫혀 있는지 확인해 주세요. 세탁기는 문이 열려 있을 때 작동하지 않을 수 있습니다.\n",
        "4. 위의 방법으로 문제가 해결되지 않으면, 삼성 서비스 웹사이트를 방문하거나 가까운 서비스 센터에 문의하여 전문적인 점검을 받으세요.\n",
        "\"\"\",\n",
        "    },\n",
        "    {\n",
        "    \"question\": \"냉장고가 시원하지 않아요. 어떻게 해야 하나요?\",\n",
        "    \"answer\": \"\"\"\n",
        "1. 냉장고의 온도 조절기가 적절히 설정되어 있는지 확인해 주세요. 너무 높은 온도 설정은 냉장고의 성능을 저하시킬 수 있습니다.\n",
        "2. 냉장고의 문이 제대로 닫혀 있는지 확인해 주세요. 문이 제대로 닫히지 않으면 냉기가 새어나갈 수 있습니다.\n",
        "3. 냉장고의 팬과 통풍구가 막히지 않았는지 확인해 주세요. 공기 흐름이 원활해야 냉각이 제대로 이루어집니다.\n",
        "4. 냉장고의 뒷면과 측면에 먼지나 이물질이 쌓여 있는지 확인하고 청소해 주세요. 먼지가 쌓이면 냉각 성능이 저하될 수 있습니다.\n",
        "5. 위의 방법으로 문제가 해결되지 않으면, 삼성 서비스 웹사이트를 방문하거나 가까운 서비스 센터에 문의하여 전문적인 점검을 받으세요.\n",
        "\"\"\"\n",
        "    },\n",
        "    {\n",
        "    \"question\": \"에어컨이 작동하지 않아요. 어떻게 해야 하나요?\",\n",
        "    \"answer\": \"\"\"\n",
        "1. 에어컨의 전원 코드가 제대로 연결되어 있는지 확인해 주세요.\n",
        "2. 에어컨의 전원 스위치가 \"ON\" 상태인지 확인해 주세요.\n",
        "3. 리모컨의 배터리가 충분한지 확인하고, 배터리를 교체해 보세요.\n",
        "4. 에어컨의 필터가 막히거나 더러워졌는지 확인하고 청소해 주세요.\n",
        "5. 위의 방법으로 문제가 해결되지 않으면, 삼성 서비스 웹사이트를 방문하거나 가까운 서비스 센터에 문의하여 전문적인 점검을 받으세요.\n",
        "\"\"\"    }\n",
        "]"
      ]
    },
    {
      "cell_type": "markdown",
      "id": "774f5eb6",
      "metadata": {
        "id": "774f5eb6"
      },
      "source": [
        "- 퓨샷 예시 데이터를 정의하는 과정을 실습합니다. 이는 특정 주제에 대한 질문과 답변을 구조화하여 모델 훈련에 활용하는 방법을 보여줍니다.\n"
      ]
    },
    {
      "cell_type": "markdown",
      "id": "e79afe4b",
      "metadata": {
        "id": "e79afe4b"
      },
      "source": [
        "## 07-026 예제 프롬프트 생성 및 출력\n",
        "- 이 실습에서는 예제 데이터에서 첫 번째 항목을 사용하여 질문과 답변 형식의 프롬프트를 생성합니다. format 메소드를 통해 'question'과 'answer' 변수를 채워 최종 프롬프트를 출력합니다.\n"
      ]
    },
    {
      "cell_type": "code",
      "execution_count": null,
      "id": "8ebeb8b8",
      "metadata": {
        "id": "8ebeb8b8"
      },
      "outputs": [],
      "source": [
        "example_prompt = PromptTemplate.from_template(\n",
        "    \"Question:\\n{question}\\nAnswer:\\n{answer}\"\n",
        ")\n",
        "\n",
        "print(example_prompt.format(**examples[0]))"
      ]
    },
    {
      "cell_type": "markdown",
      "id": "72b88cd6",
      "metadata": {
        "id": "72b88cd6"
      },
      "source": [
        "- 예제 데이터를 기반으로 질문과 답변 형식의 프롬프트를 생성하고 출력하는 과정을 실습합니다. 이는 모델에게 제공할 질문과 그에 대한 답변 형식을 구성하는 방법을 보여줍니다.\n"
      ]
    },
    {
      "cell_type": "markdown",
      "id": "a794f5ba",
      "metadata": {
        "id": "a794f5ba"
      },
      "source": [
        "## 07-027 FewShotPromptTemplate 생성 및 출력\n",
        "- 이 실습에서는 FewShotPromptTemplate을 사용하여 주어진 예제 데이터를 기반으로 질문에 대한 답변 형식의 프롬프트를 생성합니다. 입력 변수로 질문을 받고, 기존 예제와 함께 최종 프롬프트를 출력합니다.\n"
      ]
    },
    {
      "cell_type": "code",
      "execution_count": null,
      "id": "bc890ae5",
      "metadata": {
        "id": "bc890ae5"
      },
      "outputs": [],
      "source": [
        "from langchain_core.prompts.few_shot import FewShotPromptTemplate\n",
        "\n",
        "prompt = FewShotPromptTemplate(\n",
        "    examples=examples,\n",
        "    example_prompt=example_prompt,\n",
        "    suffix=\"Question:\\n{question}\\nAnswer:\",\n",
        "    input_variables=[\"question\"],\n",
        ")\n",
        "\n",
        "question = \"공기청정기를 작동해도 미세먼지 농도가 줄어들지 않아요.\"\n",
        "final_prompt = prompt.format(question=question)\n",
        "print(final_prompt)"
      ]
    },
    {
      "cell_type": "code",
      "execution_count": null,
      "id": "370d8867",
      "metadata": {
        "id": "370d8867"
      },
      "outputs": [],
      "source": [
        "# 모델 호출\n",
        "llm.invoke(final_prompt).content"
      ]
    },
    {
      "cell_type": "markdown",
      "id": "1d946b6f",
      "metadata": {
        "id": "1d946b6f"
      },
      "source": [
        "- FewShotPromptTemplate을 생성하고, 주어진 질문을 바탕으로 최종 프롬프트를 출력하는 과정을 실습합니다. 이는 모델이 특정 질문에 대해 학습된 예제에 기반하여 응답할 수 있도록 돕습니다.\n"
      ]
    },
    {
      "cell_type": "markdown",
      "id": "87760b27",
      "metadata": {
        "id": "87760b27"
      },
      "source": [
        "## 07-028 Model 생성 (max_tokens 변경)\n",
        "- 이 실습에서는 ChatOpenAI 클래스를 사용하여 모델 인스턴스를 생성합니다. 모델이 반환할 최대 토큰 수를 20으로 설정하여 모델을 호출합니다.\n"
      ]
    },
    {
      "cell_type": "code",
      "execution_count": null,
      "id": "5bf8b5a8",
      "metadata": {
        "id": "5bf8b5a8"
      },
      "outputs": [],
      "source": [
        "from langchain_openai import ChatOpenAI\n",
        "# ChatOpenAI 인스턴스를 생성하면서 모델과 파라미터를 설정.\n",
        "llm2 = ChatOpenAI(\n",
        "    model_name=\"gpt-4o-mini\",  # 사용할 모델을 \"gpt-4o-mini\"로 지정.\n",
        "    max_tokens=20,      # 모델이 반환할 최대 토큰 수를 20으로 설정\n",
        "    temperature=0,      # 모델의 응답 창의성을 조절하는 파라미터.\n",
        ")\n",
        "\n",
        "llm2.invoke(\"인공지능에 대해서 설명해주세요\")"
      ]
    },
    {
      "cell_type": "markdown",
      "id": "90c67a89",
      "metadata": {
        "id": "90c67a89"
      },
      "source": [
        "- LLM 모델의 출력 토큰을 제한하는 과정을 실습합니다. 이를 통해 모델의 응답 길이를 제어하는 방법을 익힙니다.\n"
      ]
    },
    {
      "cell_type": "markdown",
      "id": "621a35d6",
      "metadata": {
        "id": "621a35d6"
      },
      "source": [
        "## 07-029 Model 생성 (temperature 변경)\n",
        "- 이 실습에서는 ChatOpenAI 클래스를 사용하여 모델 인스턴스를 생성합니다. 모델의 응답 창의성을 조절하는 파라미터를 2로 설정하여 모델을 호출합니다.\n"
      ]
    },
    {
      "cell_type": "code",
      "execution_count": null,
      "id": "38a95169",
      "metadata": {
        "id": "38a95169"
      },
      "outputs": [],
      "source": [
        "from langchain_openai import ChatOpenAI\n",
        "# ChatOpenAI 인스턴스를 생성하면서 모델과 파라미터를 설정.\n",
        "\n",
        "llm2 = ChatOpenAI(\n",
        "    model_name=\"gpt-4o-mini\",  # 사용할 모델을 \"gpt-4o-mini\"로 지정.\n",
        "    max_tokens=512,      # 모델이 반환할 최대 토큰 수를 512로 설정\n",
        "    temperature=2,      # 모델의 응답 창의성을 조절하는 파라미터.\n",
        ")\n",
        "\n",
        "llm2.invoke(\"인공지능에 대해서 설명해주세요\")"
      ]
    },
    {
      "cell_type": "markdown",
      "id": "8203c64f",
      "metadata": {
        "id": "8203c64f"
      },
      "source": [
        "- LLM 모델의 응답 창의성을 조절하는 과정을 실습합니다. 이를 통해 temperature 값을 변경하여 모델의 창의적이고 다양한 응답을 확인하고, 응용 목적에 적합한 설정을 학습합니다.\n"
      ]
    },
    {
      "cell_type": "markdown",
      "id": "ef7c8bcb",
      "metadata": {
        "id": "ef7c8bcb"
      },
      "source": [
        "## 07-030 이메일 대화 예시 정의\n",
        "- 이 실습에서는 이메일 대화를 문자열로 정의합니다. 이메일의 발신자, 수신자, 제목, 내용 등이 포함되어 있으며, 이는 후속 작업에서 텍스트 분석이나 모델 학습 등에 활용할 수 있습니다.\n"
      ]
    },
    {
      "cell_type": "code",
      "execution_count": null,
      "id": "259a91ea",
      "metadata": {
        "id": "259a91ea"
      },
      "outputs": [],
      "source": [
        "email_conversation = \"\"\"From:  김민수 (minsoo.kim@samsung.com)\n",
        "To: 이서윤 (seoyoon.lee@samsung.com)\n",
        "Subject:  \"GALAXY\" 노트북 유통 협력 및 미팅 일정 제안\n",
        "\n",
        "안녕하세요, 이서윤 프로님,\n",
        "\n",
        "GALAXY 모델에 대한 상세한 브로슈어를 요청드립니다. 특히 기술 사양, 배터리 성능, 그리고 디자인 측면에 대한 정보가 필요합니다. 이를 통해 저희가 제안할 유통 전략과 마케팅 계획을 보다 구체화할 수 있을 것입니다.\n",
        "\n",
        "또한, 관련 내용을 더 깊이 논의하기 위해 다음 주 화요일(1월 15일) 오전 10시에 이야기를 나눌 수 있을까요?\n",
        "\n",
        "감사합니다.\n",
        "\n",
        "김민수 프로\n",
        "삼성전자\n",
        "\"\"\""
      ]
    },
    {
      "cell_type": "markdown",
      "id": "aaeda5c7",
      "metadata": {
        "id": "aaeda5c7"
      },
      "source": [
        "- 이메일 대화 예시를 정의하는 과정을 실습합니다. 이는 텍스트 데이터 세트를 생성하여 모델의 입력으로 사용할 수 있는 방법을 보여줍니다.\n"
      ]
    },
    {
      "cell_type": "markdown",
      "id": "600c51cf",
      "metadata": {
        "id": "600c51cf"
      },
      "source": [
        "## 07-031 이메일 내용 추출 체인 실행\n",
        "- 이 실습에서는 PromptTemplate을 사용하여 이메일 내용에서 중요한 정보를 추출하는 요청을 생성합니다. 문자열 출력 파서를 통해 모델의 결과를 처리하고, 최종 결과를 출력합니다.\n"
      ]
    },
    {
      "cell_type": "code",
      "execution_count": null,
      "id": "2b2c0443",
      "metadata": {
        "id": "2b2c0443"
      },
      "outputs": [],
      "source": [
        "from langchain_core.prompts import PromptTemplate\n",
        "\n",
        "prompt = PromptTemplate.from_template(\n",
        "    \"다음의 이메일 내용중 중요한 내용을 추출해 주세요.\\n\\n{email_conversation}\"\n",
        ")\n",
        "\n",
        "llm = ChatOpenAI(\n",
        "    model_name=\"gpt-4o-mini\", max_tokens=2048, temperature=0,\n",
        ")\n",
        "\n",
        "chain = prompt | llm | parser # 문자열 출력 파서를 llm 출력 뒤에 체인 연결\n",
        "\n",
        "result = chain.invoke({\"email_conversation\": email_conversation})\n",
        "result"
      ]
    },
    {
      "cell_type": "markdown",
      "id": "579a0063",
      "metadata": {
        "id": "579a0063"
      },
      "source": [
        "- 이메일 내용에서 중요한 정보를 추출하는 체인을 실행하는 과정을 실습합니다. 이는 모델을 활용하여 특정 정보를 효과적으로 추출하는 방법을 보여줍니다.\n"
      ]
    },
    {
      "cell_type": "markdown",
      "id": "87b1d005",
      "metadata": {
        "id": "87b1d005"
      },
      "source": [
        "## 07-032 PydanticOutputParser 생성\n",
        "- 이 실습에서는 Pydantic을 사용하여 이메일 요약 모델을 정의하고, 이를 기반으로 PydanticOutputParser를 생성합니다. 이 파서는 모델의 출력을 Pydantic 모델 형식으로 변환하여 구조화된 데이터를 제공합니다.\n"
      ]
    },
    {
      "cell_type": "code",
      "execution_count": null,
      "id": "9fdb78fc",
      "metadata": {
        "id": "9fdb78fc"
      },
      "outputs": [],
      "source": [
        "from langchain_core.output_parsers import PydanticOutputParser\n",
        "from pydantic import BaseModel, Field\n",
        "\n",
        "class EmailSummary(BaseModel):\n",
        "    person: str = Field(description=\"메일을 보낸 사람\")\n",
        "    email: str = Field(description=\"메일을 보낸 사람의 이메일 주소\")\n",
        "    subject: str = Field(description=\"메일 제목\")\n",
        "    summary: str = Field(description=\"메일 본문을 요약한 텍스트\")\n",
        "    date: str = Field(description=\"메일 본문에 언급된 미팅 날짜와 시간\")\n",
        "\n",
        "# PydanticOutputParser 생성\n",
        "parser = PydanticOutputParser(pydantic_object=EmailSummary)"
      ]
    },
    {
      "cell_type": "markdown",
      "id": "7c9f038a",
      "metadata": {
        "id": "7c9f038a"
      },
      "source": [
        "- PydanticOutputParser를 생성하고 이를 통해 구조화된 데이터를 정의하는 과정을 실습합니다. 이는 모델의 출력을 더 쉽게 다룰 수 있도록 돕습니다.\n"
      ]
    },
    {
      "cell_type": "markdown",
      "id": "fe9ee86a",
      "metadata": {
        "id": "fe9ee86a"
      },
      "source": [
        "## 07-033 PydanticOutputParser의 형식 지침 출력\n",
        "- 이 실습에서는 PydanticOutputParser에서 제공하는 형식 지침을 출력합니다. 이 지침은 모델의 출력을 Pydantic 객체에 맞게 형식화하는 방법을 설명합니다.\n"
      ]
    },
    {
      "cell_type": "code",
      "execution_count": null,
      "id": "cc7c63b4",
      "metadata": {
        "id": "cc7c63b4"
      },
      "outputs": [],
      "source": [
        "# instruction 을 출력합니다.\n",
        "print(parser.get_format_instructions())"
      ]
    },
    {
      "cell_type": "markdown",
      "id": "228cc5bf",
      "metadata": {
        "id": "228cc5bf"
      },
      "source": [
        "- PydanticOutputParser의 형식 지침을 확인하는 과정을 실습합니다. 이는 데이터 형식화 및 처리 방법을 이해하는 데 도움이 됩니다.\n"
      ]
    },
    {
      "cell_type": "markdown",
      "id": "7cf0cb04",
      "metadata": {
        "id": "7cf0cb04"
      },
      "source": [
        "## 07-034 프롬프트 템플릿 및 체인 생성\n",
        "- 이 실습에서는 PydanticOutputParser에서 제공하는 형식 지침을 부분 포맷팅하여 최종 프롬프트에 추가합니다. 이후, 프롬프트 템플릿과 모델, 파서를 연결하여 체인을 생성합니다.\n"
      ]
    },
    {
      "cell_type": "code",
      "execution_count": null,
      "id": "fe63d352",
      "metadata": {
        "id": "fe63d352"
      },
      "outputs": [],
      "source": [
        "# 프롬프트 템플릿 작성\n",
        "prompt = PromptTemplate.from_template(\n",
        "    \"\"\"\n",
        "You are a helpful assistant. Please answer the following questions in KOREAN.\n",
        "\n",
        "QUESTION:\n",
        "{question}\n",
        "\n",
        "EMAIL CONVERSATION:\n",
        "{email_conversation}\n",
        "\n",
        "FORMAT:\n",
        "{format}\n",
        "\"\"\"\n",
        ")\n",
        "\n",
        "# format 에 PydanticOutputParser의 부분 포맷팅(partial) 추가\n",
        "prompt = prompt.partial(format=parser.get_format_instructions())\n",
        "\n",
        "# chain 을 생성합니다.\n",
        "chain = prompt | llm | parser"
      ]
    },
    {
      "cell_type": "markdown",
      "id": "e729b4a7",
      "metadata": {
        "id": "e729b4a7"
      },
      "source": [
        "- 프롬프트 템플릿을 작성하고, 이를 기반으로 체인을 생성하는 과정을 실습합니다. 이는 특정 형식으로 정보를 요청하고 처리하는 방법을 보여줍니다.\n"
      ]
    },
    {
      "cell_type": "markdown",
      "id": "f08f175f",
      "metadata": {
        "id": "f08f175f"
      },
      "source": [
        "## 07-035 체인 실행 및 결과 출력\n",
        "- 이 실습에서는 앞서 생성한 체인을 사용하여 이메일 대화와 질문을 입력으로 제공하고, 모델의 응답을 받아 출력합니다. chain.invoke() 메서드를 통해 이메일 내용 중 주요 정보를 추출하는 요청을 수행합니다.\n"
      ]
    },
    {
      "cell_type": "code",
      "execution_count": null,
      "id": "52f1ead4",
      "metadata": {
        "id": "52f1ead4"
      },
      "outputs": [],
      "source": [
        "# chain 을 실행하고 결과를 출력합니다.\n",
        "result = chain.invoke(\n",
        "    {\n",
        "        \"email_conversation\": email_conversation,\n",
        "        \"question\": \"이메일 내용중 주요 내용을 추출해 주세요.\",\n",
        "    }\n",
        ")\n",
        "result"
      ]
    },
    {
      "cell_type": "markdown",
      "id": "65b45c73",
      "metadata": {
        "id": "65b45c73"
      },
      "source": [
        "- 체인을 실행하여 이메일 내용에서 주요 정보를 추출하는 요청을 수행하는 과정을 실습합니다. 이는 모델의 분석 능력을 활용하는 방법을 보여줍니다.\n"
      ]
    },
    {
      "cell_type": "markdown",
      "id": "b16412e7",
      "metadata": {
        "id": "b16412e7"
      },
      "source": [
        "---"
      ]
    },
    {
      "cell_type": "markdown",
      "id": "732db5e8",
      "metadata": {
        "id": "732db5e8"
      },
      "source": [
        "# Streamlit"
      ]
    },
    {
      "cell_type": "code",
      "execution_count": null,
      "id": "e6826cab",
      "metadata": {
        "id": "e6826cab"
      },
      "outputs": [],
      "source": [
        "%%capture\n",
        "!pip install pyngrok streamlit -qU"
      ]
    },
    {
      "cell_type": "markdown",
      "id": "a3f84d6e",
      "metadata": {
        "id": "a3f84d6e"
      },
      "source": [
        "## PYNGROK API 키 설정\n",
        "- 이 실습에서는 PYNGROK_API_KEY 변수를 설정하여 ngrok API 키를 저장합니다. ngrok은 로컬 서버를 인터넷에서 접근할 수 있도록 터널링을 제공하는 서비스입니다. API 키는 ngrok 서비스를 사용하기 위해 필요합니다.\n"
      ]
    },
    {
      "cell_type": "code",
      "execution_count": null,
      "id": "09929af9",
      "metadata": {
        "id": "09929af9"
      },
      "outputs": [],
      "source": [
        "PYNGROK_API_KEY = ''"
      ]
    },
    {
      "cell_type": "markdown",
      "id": "45815555",
      "metadata": {
        "id": "45815555"
      },
      "source": [
        "- PYNGROK_API_KEY를 설정하는 과정을 실습합니다. 이는 ngrok 서비스를 사용하여 로컬 환경을 외부에서 접근할 수 있도록 하는 데 필요합니다.\n"
      ]
    },
    {
      "cell_type": "markdown",
      "id": "bf5a8ceb",
      "metadata": {
        "id": "bf5a8ceb"
      },
      "source": [
        "## Streamlit 앱 생성\n",
        "- 이 실습에서는 Streamlit을 사용하여 간단한 웹 애플리케이션을 생성하는 코드를 작성합니다. 파일 이름은 app1.py로 설정하며, 앱의 제목과 환영 메시지를 화면에 표시합니다.\n"
      ]
    },
    {
      "cell_type": "code",
      "execution_count": null,
      "id": "7f76dacd",
      "metadata": {
        "id": "7f76dacd"
      },
      "outputs": [],
      "source": [
        "%%writefile app.py\n",
        "\n",
        " # Streamlit 라이브러리를 st라는 이름으로 불러옵니다.\n",
        "import streamlit as st\n",
        "\n",
        "# 앱의 제목을 설정\n",
        "st.title('Hello, Streamlit!') # 웹 페이지 상단에 'Hello, Streamlit!'이라는 제목이 표시됩니다.\n",
        "\n",
        "# 텍스트를 화면에 출력\n",
        "st.write('Welcome to your first Streamlit app.') #  'Welcome to your first Streamlit app.'라는 문구가 화면에 표시됩니다."
      ]
    },
    {
      "cell_type": "markdown",
      "id": "99daefa1",
      "metadata": {
        "id": "99daefa1"
      },
      "source": [
        "- Streamlit을 사용하여 간단한 웹 애플리케이션을 생성하는 과정을 실습합니다. 이는 데이터 시각화 및 웹 앱 개발의 기초를 다지는 데 유용합니다.\n"
      ]
    },
    {
      "cell_type": "markdown",
      "id": "6c3f54dd",
      "metadata": {
        "id": "6c3f54dd"
      },
      "source": [
        "## ngrok을 통한 Streamlit 앱 실행\n",
        "- 이 실습에서는 ngrok을 사용하여 Streamlit 앱을 외부에서 접근할 수 있도록 설정합니다. ngrok.set_auth_token()을 통해 인증 토큰을 설정한 후, app1.py를 백그라운드에서 실행하고, ngrok을 통해 터널링을 설정합니다. 최종적으로 터널 URL을 출력하여 외부에서 접근할 수 있는 링크를 제공합니다.\n"
      ]
    },
    {
      "cell_type": "code",
      "execution_count": null,
      "id": "ead6a8b6",
      "metadata": {
        "id": "ead6a8b6"
      },
      "outputs": [],
      "source": [
        "from pyngrok import ngrok\n",
        "\n",
        "# ngrok 서비스 인증\n",
        "ngrok.set_auth_token(PYNGROK_API_KEY)\n",
        "\n",
        "# app1.py 백그라운드 프로세스 실행\n",
        "!nohup streamlit run app.py --server.port 5011 &\n",
        "\n",
        "# ngrok 터널링 실행\n",
        "ngrok_tunnel = ngrok.connect(addr='5011', proto='http', bind_tls=True)\n",
        "\n",
        "# ngrok 터널링 결과\n",
        "print(' * Tunnel URL:', ngrok_tunnel.public_url)"
      ]
    },
    {
      "cell_type": "markdown",
      "id": "9a3920f2",
      "metadata": {
        "id": "9a3920f2"
      },
      "source": [
        "- ngrok을 통해 Streamlit 앱을 실행하고, 외부에서 접근할 수 있는 URL을 생성하는 과정을 실습합니다. 이는 로컬 서버를 외부에서 테스트할 수 있는 유용한 방법입니다.\n"
      ]
    },
    {
      "cell_type": "markdown",
      "id": "776b3127",
      "metadata": {
        "id": "776b3127"
      },
      "source": [
        "## Streamlit 챗봇 앱 UI 생성\n",
        "- 이 실습에서는 Streamlit 앱에 사이드바를 추가하고 API 키를 입력할 수 있는 텍스트 인풋을 생성합니다. 사용자가 API 키를 입력하면, 응답봇이 사용자 질문을 받아 처리하는 기본적인 인터페이스를 구현합니다.\n"
      ]
    },
    {
      "cell_type": "code",
      "execution_count": null,
      "id": "dc59d4e3",
      "metadata": {
        "id": "dc59d4e3"
      },
      "outputs": [],
      "source": [
        "%%writefile app.py\n",
        "import streamlit as st\n",
        "\n",
        "# 사이드 바 생성\n",
        "st.sidebar.title('API Key 설정')\n",
        "# 사이드 바에 API Key 입력을 위한 텍스트 인풋 생성\n",
        "api_key_input = st.sidebar.text_input('OpenAI API Key', type='password')\n",
        "\n",
        "if api_key_input:\n",
        "    st.title('가전제품 고객지원 응답봇')\n",
        "\n",
        "    user_question = st.chat_input('고장 사항을 입력하세요:')\n",
        "\n",
        "    if user_question:\n",
        "        with st.chat_message('user'):\n",
        "            st.write(user_question)\n",
        "\n",
        "        with st.chat_message('assistant'):\n",
        "            st.write(f'안녕하세요. 저는 Gauss입니다. \\n {user_question}을 입력하셨습니다.')\n",
        "else:\n",
        "    st.sidebar.warning('API Key를 입력하세요.')"
      ]
    },
    {
      "cell_type": "markdown",
      "id": "6ea65cd0",
      "metadata": {
        "id": "6ea65cd0"
      },
      "source": [
        "- Streamlit 앱에 사이드바를 추가하여 API 키를 입력받고, 사용자 질문에 대한 응답을 표시하는 과정을 실습합니다. 이는 사용자와의 상호작용을 통해 앱 기능을 확장하는 데 유용합니다.\n"
      ]
    },
    {
      "cell_type": "markdown",
      "id": "72ed49e4",
      "metadata": {
        "id": "72ed49e4"
      },
      "source": [
        "## Streamlit 및 ngrok 서비스 종료\n",
        "- 이 실습에서는 실행 중인 Streamlit 서비스와 ngrok 터널을 종료합니다. !pkill -f streamlit 명령을 통해 모든 Streamlit 프로세스를 종료하고, ngrok.disconnect()를 사용하여 활성화된 ngrok 터널을 끊습니다.\n"
      ]
    },
    {
      "cell_type": "code",
      "execution_count": null,
      "id": "9c5d6971",
      "metadata": {
        "id": "9c5d6971"
      },
      "outputs": [],
      "source": [
        "# Streamlit 서비스 종료\n",
        "!pkill -f streamlit\n",
        "# ngrok 터널링 종료\n",
        "ngrok.disconnect(ngrok_tunnel.public_url)"
      ]
    },
    {
      "cell_type": "markdown",
      "id": "8d456254",
      "metadata": {
        "id": "8d456254"
      },
      "source": [
        "- 실행 중인 Streamlit 서비스와 ngrok 터널을 종료하는 과정을 실습합니다. 이는 자원을 정리하고 서비스를 안전하게 종료하는 데 필요한 과정입니다.\n"
      ]
    },
    {
      "cell_type": "markdown",
      "id": "9b97f74c",
      "metadata": {
        "id": "9b97f74c"
      },
      "source": [
        "---"
      ]
    },
    {
      "cell_type": "markdown",
      "id": "e79bd7ad",
      "metadata": {
        "id": "e79bd7ad"
      },
      "source": [
        "# 07. LangChain - RAG"
      ]
    },
    {
      "cell_type": "code",
      "execution_count": null,
      "id": "a83826c1",
      "metadata": {
        "id": "a83826c1"
      },
      "outputs": [],
      "source": [
        "%%capture\n",
        "!pip install pypdf langchain langchain-openai httpx==0.27.2 faiss-cpu ragas JAEN -Uq"
      ]
    },
    {
      "cell_type": "markdown",
      "id": "edd6a0a0",
      "metadata": {
        "id": "edd6a0a0"
      },
      "source": [
        "## 07-036 JAEN에서 PDF 파일 다운로드\n",
        "- 이 실습에서는 JAEN 라이브러리를 사용하여 '온디바이스 AI 기술동향 및 발전방향.pdf' 파일을 다운로드합니다. download_file 함수를 호출하여 해당 PDF 파일을 다운로드하고, 이후에 사용할 수 있도록 준비합니다.\n"
      ]
    },
    {
      "cell_type": "code",
      "execution_count": null,
      "id": "e2718b01",
      "metadata": {
        "id": "e2718b01"
      },
      "outputs": [],
      "source": [
        "from JAEN import download_file\n",
        "download_file('PDF') # 온디바이스 AI 기술동향 및 발전방향.pdf\n",
        "download_file('PDF2') # 온디바이스 AI(On-Device AI) 산업현황 보고서.pdf"
      ]
    },
    {
      "cell_type": "markdown",
      "id": "ba859694",
      "metadata": {
        "id": "ba859694"
      },
      "source": [
        "- JAEN 라이브러리를 사용하여 PDF 파일을 다운로드하는 과정을 실습합니다. 이는 데이터나 리소스를 가져오는 데 유용한 방법입니다.\n"
      ]
    },
    {
      "cell_type": "markdown",
      "id": "5c687d2c",
      "metadata": {
        "id": "5c687d2c"
      },
      "source": [
        "## 07-037 PDF 파일 로딩 설정\n",
        "- 이 실습에서는 PyPDFLoader를 사용하여 특정 PDF 파일을 로드하는 설정을 합니다. FILE_PATH 변수를 통해 로드할 PDF 파일의 경로를 지정하고, 해당 파일을 로드할 수 있는 로더 객체를 생성합니다.\n"
      ]
    },
    {
      "cell_type": "code",
      "execution_count": null,
      "id": "be0325e5",
      "metadata": {
        "id": "be0325e5"
      },
      "outputs": [],
      "source": [
        "from langchain_community.document_loaders import PyPDFLoader\n",
        "\n",
        "# 예제 파일 경로\n",
        "FILE_PATH = \"온디바이스 AI 기술동향 및 발전방향.pdf\"\n",
        "\n",
        "# 로더 설정\n",
        "loader = PyPDFLoader(FILE_PATH)"
      ]
    },
    {
      "cell_type": "markdown",
      "id": "fa6c7cbd",
      "metadata": {
        "id": "fa6c7cbd"
      },
      "source": [
        "- PDF 파일을 로드하는 설정 과정을 실습합니다. 이는 문서 데이터 처리의 첫 번째 단계로, 파일을 프로그램에서 사용할 수 있도록 준비하는 방법을 보여줍니다.\n"
      ]
    },
    {
      "cell_type": "markdown",
      "id": "2e53680d",
      "metadata": {
        "id": "2e53680d"
      },
      "source": [
        "## 07-038 PDF 파일 로딩 및 문서 수 확인\n",
        "- 이 실습에서는 설정한 PDF 로더를 사용하여 PDF 파일을 로드하고, 로드된 문서의 수를 확인합니다. loader.load() 메서드를 호출하여 PDF 파일의 내용을 읽어오고, len() 함수를 사용하여 읽어온 문서의 수를 출력합니다.\n"
      ]
    },
    {
      "cell_type": "code",
      "execution_count": null,
      "id": "f7b7aae4",
      "metadata": {
        "id": "f7b7aae4"
      },
      "outputs": [],
      "source": [
        "# PDF 로더\n",
        "docs = loader.load()\n",
        "\n",
        "# 로드된 문서의 수 확인\n",
        "len(docs)"
      ]
    },
    {
      "cell_type": "markdown",
      "id": "6cbe682c",
      "metadata": {
        "id": "6cbe682c"
      },
      "source": [
        "- PDF 파일을 로드하고, 로드된 문서의 수를 확인하는 과정을 실습합니다. 이는 문서 데이터 처리의 두 번째 단계로, 읽어온 내용을 효과적으로 관리하는 방법을 보여줍니다.\n"
      ]
    },
    {
      "cell_type": "markdown",
      "id": "5e529823",
      "metadata": {
        "id": "5e529823"
      },
      "source": [
        "## 07-039 다섯번째 문서 확인\n",
        "- 이 실습에서는 로드한 PDF 문서 중 다섯번째 문서의 내용을 확인합니다. docs 리스트의 다섯번째 요소를 출력하여 해당 문서의 정보를 확인합니다.\n"
      ]
    },
    {
      "cell_type": "code",
      "execution_count": null,
      "id": "492d1db7",
      "metadata": {
        "id": "492d1db7"
      },
      "outputs": [],
      "source": [
        "# 다섯번째 문서 확인\n",
        "docs[4]"
      ]
    },
    {
      "cell_type": "markdown",
      "id": "e55eb036",
      "metadata": {
        "id": "e55eb036"
      },
      "source": [
        "- 로드된 PDF 파일의 다섯번째 문서를 확인하는 과정을 실습합니다. 이는 문서의 내용을 검토하고 필요한 정보를 추출하는 데 유용합니다.\n"
      ]
    },
    {
      "cell_type": "markdown",
      "id": "0624f1a4",
      "metadata": {
        "id": "0624f1a4"
      },
      "source": [
        "## 07-040 PDF 파일을 generator 방식으로 로드\n",
        "- 이 실습에서는 PDF 파일을 generator 방식으로 로드하여 각 문서의 메타데이터를 출력합니다. lazy_load() 메서드를 사용하여 메모리 효율적으로 문서를 로드하고, 각 문서의 메타데이터를 확인합니다.\n"
      ]
    },
    {
      "cell_type": "code",
      "execution_count": null,
      "id": "ba53c3e1",
      "metadata": {
        "id": "ba53c3e1"
      },
      "outputs": [],
      "source": [
        "# generator 방식으로 문서 로드\n",
        "for doc in loader.lazy_load(): # lazy_load를 사용하면 데이터를 한 번에 하나씩 로드하여 메모리를 절약하면서 처리\n",
        "    print(doc.metadata)"
      ]
    },
    {
      "cell_type": "markdown",
      "id": "d107f919",
      "metadata": {
        "id": "d107f919"
      },
      "source": [
        "- PDF 파일을 generator 방식으로 로드하고 각 문서의 메타데이터를 확인하는 과정을 실습합니다. 이는 대량의 문서 데이터를 효율적으로 처리하는 방법을 보여줍니다.\n"
      ]
    },
    {
      "cell_type": "markdown",
      "id": "ec31a03c",
      "metadata": {
        "id": "ec31a03c"
      },
      "source": [
        "## 07-041  PDF 파일을 Async 방식으로 로드\n",
        "- 이 실습에서는 PDF 파일을 비동기(async) 방식으로 로드합니다. aload() 메서드를 사용하여 문서를 로드하고, 이를 통해 비동기적으로 파일을 처리할 수 있습니다.\n"
      ]
    },
    {
      "cell_type": "code",
      "execution_count": null,
      "id": "8e44c299",
      "metadata": {
        "id": "8e44c299"
      },
      "outputs": [],
      "source": [
        "# 문서를 async 방식으로 로드\n",
        "adocs = loader.aload()"
      ]
    },
    {
      "cell_type": "markdown",
      "id": "c0ef2d14",
      "metadata": {
        "id": "c0ef2d14"
      },
      "source": [
        "- PDF 파일을 비동기 방식으로 로드하는 과정을 실습합니다. 이는 문서 로딩 시 효율성을 높이고, 다른 작업과 병행하여 진행할 수 있는 방법을 보여줍니다.\n"
      ]
    },
    {
      "cell_type": "markdown",
      "id": "3fd8d19c",
      "metadata": {
        "id": "3fd8d19c"
      },
      "source": [
        "## 07-042 비동기 문서 로드\n",
        "- 이 실습에서는 비동기(async) 방식으로 로드한 문서를 실제로 가져오기 위해 await 키워드를 사용합니다. 이는 비동기적으로 로드된 문서를 기다리고, 해당 문서를 사용할 수 있게 합니다.\n"
      ]
    },
    {
      "cell_type": "code",
      "execution_count": null,
      "id": "209a809d",
      "metadata": {
        "id": "209a809d"
      },
      "outputs": [],
      "source": [
        "# 문서 로드\n",
        "await adocs"
      ]
    },
    {
      "cell_type": "markdown",
      "id": "5f89e8a7",
      "metadata": {
        "id": "5f89e8a7"
      },
      "source": [
        "- 비동기 방식으로 로드한 문서를 가져오는 과정을 실습합니다. 이는 효율적인 문서 처리를 위한 비동기 작업의 활용 방법을 보여줍니다.\n"
      ]
    },
    {
      "cell_type": "markdown",
      "id": "98e22561",
      "metadata": {
        "id": "98e22561"
      },
      "source": [
        "## 07-043 데이터 전처리\n",
        "- 이 실습은 PyPDFLoader로 로드한 문서의 텍스트에서 특정 문자(\\x07, \\t)를 제거하여 전처리하는 과정을 학습합니다. 각 문서의 page_content 속성을 수정하여 페이지 텍스트를 깔끔하게 정리합니다.\n"
      ]
    },
    {
      "cell_type": "code",
      "execution_count": null,
      "id": "558b1eda",
      "metadata": {
        "id": "558b1eda"
      },
      "outputs": [],
      "source": [
        "for doc in docs:\n",
        "    doc.page_content = doc.page_content.replace('\\x07', ' ').replace('\\t', ' ').replace('  ', ' ')"
      ]
    },
    {
      "cell_type": "markdown",
      "id": "05a72b48",
      "metadata": {
        "id": "05a72b48"
      },
      "source": [
        "- 문서 텍스트의 불필요한 문자를 제거하여 전처리하는 방법을 실습합니다.\n"
      ]
    },
    {
      "cell_type": "markdown",
      "id": "47253bc6",
      "metadata": {
        "id": "47253bc6"
      },
      "source": [
        "## 07-044 문서 분할 및 문서 확인\n",
        "- 이 실습에서는 RecursiveCharacterTextSplitter를 사용하여 로드한 문서를 지정된 크기(600자)로 분할합니다. chunk_overlap을 0으로 설정하여 겹치지 않는 문서 조각을 생성합니다. 문서 분할 후, 로드된 문서의 수를 확인하고 문서의 내용을 출력합니다.\n"
      ]
    },
    {
      "cell_type": "code",
      "execution_count": null,
      "id": "655f9912",
      "metadata": {
        "id": "655f9912"
      },
      "outputs": [],
      "source": [
        "from langchain.text_splitter import RecursiveCharacterTextSplitter\n",
        "\n",
        "# 문자열 분할기 설정\n",
        "text_splitter = RecursiveCharacterTextSplitter(chunk_size=600, chunk_overlap=0)\n",
        "\n",
        "# 문서 분할 (1) : 문서 로드 과정에서 텍스트 분할기를 함께 적용\n",
        "split_docs = loader.load_and_split(text_splitter=text_splitter)\n",
        "\n",
        "# 문서 분할 (2) : 이미 로드된 문서(docs)를 대상으로 텍스트 분할기를 적용\n",
        "split_docs = text_splitter.split_documents(docs)\n",
        "\n",
        "# 로드된 문서의 수 확인\n",
        "print(len(split_docs))\n",
        "\n",
        "# 다섯번째 문서 확인\n",
        "split_docs[4]"
      ]
    },
    {
      "cell_type": "markdown",
      "id": "521b5fe6",
      "metadata": {
        "id": "521b5fe6"
      },
      "source": [
        "- 문서를 특정 크기로 분할하는 과정을 실습합니다. 이는 대량의 텍스트 데이터를 효율적으로 처리하는 방법을 보여줍니다.\n"
      ]
    },
    {
      "cell_type": "markdown",
      "id": "5b01d49f",
      "metadata": {
        "id": "5b01d49f"
      },
      "source": [
        "## 07-045 OpenAI 임베딩 생성 및 쿼리 결과 확인\n",
        "- 이 실습에서는 OpenAIEmbeddings를 사용하여 주어진 텍스트에 대한 임베딩을 생성합니다. 'text-embedding-3-small' 모델을 사용하며, 생성된 임베딩의 일부를 출력하여 결과를 확인합니다.\n"
      ]
    },
    {
      "cell_type": "code",
      "execution_count": null,
      "id": "068a60c4",
      "metadata": {
        "id": "068a60c4"
      },
      "outputs": [],
      "source": [
        "from langchain_openai import OpenAIEmbeddings\n",
        "\n",
        "# OpenAI의 \"text-embedding-3-small\" 모델을 사용하여 임베딩을 생성합니다.\n",
        "embeddings = OpenAIEmbeddings(model=\"text-embedding-3-small\")\n",
        "\n",
        "# 텍스트를 임베딩하여 쿼리 결과를 생성합니다.\n",
        "query_result = embeddings.embed_query(\"임베딩 테스트를 하기 위한 샘플 문장입니다.\")\n",
        "query_result[:5]"
      ]
    },
    {
      "cell_type": "markdown",
      "id": "0cfaf58d",
      "metadata": {
        "id": "0cfaf58d"
      },
      "source": [
        "- OpenAI 모델을 사용하여 텍스트 임베딩을 생성하고, 그 결과를 확인하는 과정을 실습합니다. 이는 텍스트 데이터를 벡터 형식으로 변환하는 방법을 보여줍니다.\n"
      ]
    },
    {
      "cell_type": "markdown",
      "id": "7207b391",
      "metadata": {
        "id": "7207b391"
      },
      "source": [
        "## 07-046 여러 텍스트 일괄 임베딩 생성\n",
        "- 이 실습에서는 OpenAIEmbeddings를 사용하여 여러 텍스트에 대한 임베딩을 일괄 생성합니다. embed_documents() 메서드를 사용하여 주어진 문서 리스트에 대한 임베딩을 생성하고, 첫 번째 문서의 임베딩 벡터 길이를 확인합니다.\n"
      ]
    },
    {
      "cell_type": "code",
      "execution_count": null,
      "id": "4b59405f",
      "metadata": {
        "id": "4b59405f"
      },
      "outputs": [],
      "source": [
        "# 여러 텍스트를 일괄 임베딩하여 벡터를 생성합니다.\n",
        "doc_result = embeddings.embed_documents(\n",
        "    ['임베딩 테스트를 하기 위한 샘플 문장입니다.',\n",
        "     'AI Essential']\n",
        ")\n",
        "# 문서 결과의 첫 번째 요소의 길이를 반환합니다.\n",
        "len(doc_result[0])"
      ]
    },
    {
      "cell_type": "markdown",
      "id": "d6018227",
      "metadata": {
        "id": "d6018227"
      },
      "source": [
        "- 여러 텍스트를 일괄 임베딩하여 벡터를 생성하는 과정을 실습합니다. 이는 대량의 텍스트 데이터를 효율적으로 처리하는 방법을 보여줍니다.\n"
      ]
    },
    {
      "cell_type": "markdown",
      "id": "cc750b93",
      "metadata": {
        "id": "cc750b93"
      },
      "source": [
        "## 07-047 캐시 지원 임베딩 생성\n",
        "- 이 실습에서는 OpenAI의 임베딩 모델을 사용하여 임베딩을 생성하고, 인메모리 스토어를 사용하여 캐시 지원 임베딩을 생성합니다. CacheBackedEmbeddings를 사용하여 메모리 내에 임베딩 데이터를 캐시하여 성능을 개선합니다.\n"
      ]
    },
    {
      "cell_type": "code",
      "execution_count": null,
      "id": "635eac5b",
      "metadata": {
        "id": "635eac5b"
      },
      "outputs": [],
      "source": [
        "from langchain.storage import InMemoryByteStore\n",
        "from langchain_openai import OpenAIEmbeddings\n",
        "from langchain.embeddings import CacheBackedEmbeddings\n",
        "\n",
        "# OpenAI의 \"text-embedding-3-small\" 모델을 사용하여 임베딩을 생성합니다.\n",
        "embeddings = OpenAIEmbeddings(model=\"text-embedding-3-small\")\n",
        "\n",
        "# 인메모리 스토어를 생성합니다.\n",
        "store = InMemoryByteStore()\n",
        "\n",
        "# 캐시를 지원하는 임베딩 생성\n",
        "cached_embeding = CacheBackedEmbeddings.from_bytes_store(\n",
        "    underlying_embeddings=embeddings,\n",
        "    document_embedding_cache=store,\n",
        "    namespace=embeddings.model,  # 기본 임베딩과 저장소를 사용하여 캐시 지원 임베딩을 생성\n",
        ")"
      ]
    },
    {
      "cell_type": "markdown",
      "id": "a247339b",
      "metadata": {
        "id": "a247339b"
      },
      "source": [
        "- 캐시 지원 임베딩을 생성하는 과정을 실습합니다. 이는 임베딩 결과를 효율적으로 저장하고 재사용하는 방법을 보여줍니다.\n"
      ]
    },
    {
      "cell_type": "markdown",
      "id": "25cb6538",
      "metadata": {
        "id": "25cb6538"
      },
      "source": [
        "## 07-048 캐시 지원 임베딩으로 쿼리 결과 생성\n",
        "- 이 실습에서는 캐시 지원 임베딩을 사용하여 특정 텍스트에 대한 임베딩을 생성합니다. embed_query 메서드를 통해 텍스트를 임베딩하고 결과를 출력하여 확인합니다.\n"
      ]
    },
    {
      "cell_type": "code",
      "execution_count": null,
      "id": "33bd0264",
      "metadata": {
        "id": "33bd0264"
      },
      "outputs": [],
      "source": [
        "# 텍스트를 임베딩하여 쿼리 결과를 생성합니다.\n",
        "query_result = cached_embeding.embed_query(\"임베딩 테스트를 하기 위한 샘플 문장입니다.\")\n",
        "query_result[:5]"
      ]
    },
    {
      "cell_type": "markdown",
      "id": "9bc21612",
      "metadata": {
        "id": "9bc21612"
      },
      "source": [
        "- 캐시 지원 임베딩을 사용하여 텍스트 임베딩을 생성하는 과정을 실습합니다. 이는 임베딩 결과를 효율적으로 생성하는 방법을 보여줍니다.\n"
      ]
    },
    {
      "cell_type": "markdown",
      "id": "398d1c29",
      "metadata": {
        "id": "398d1c29"
      },
      "source": [
        "## 07-049 1024차원 임베딩 생성 및 길이 확인\n",
        "- 이 실습에서는 OpenAI의 임베딩 모델을 사용하여 1024차원의 임베딩을 생성하는 객체를 초기화합니다. 이후 주어진 텍스트에 대한 임베딩을 생성하고, 첫 번째 임베딩 벡터의 길이를 확인합니다.\n"
      ]
    },
    {
      "cell_type": "code",
      "execution_count": null,
      "id": "142ac0e7",
      "metadata": {
        "id": "142ac0e7"
      },
      "outputs": [],
      "source": [
        "# OpenAI의 \"text-embedding-3-small\" 모델을 사용하여 1024차원의 임베딩을 생성하는 객체를 초기화합니다.\n",
        "embeddings_1024 = OpenAIEmbeddings(model=\"text-embedding-3-small\", dimensions=1024)\n",
        "# 주어진 텍스트를 임베딩하고 첫 번째 임베딩 벡터의 길이를 반환합니다.\n",
        "len(embeddings_1024.embed_documents(['AI Essential'])[0])"
      ]
    },
    {
      "cell_type": "markdown",
      "id": "8f023725",
      "metadata": {
        "id": "8f023725"
      },
      "source": [
        "- 1024차원 임베딩을 생성하고, 임베딩 벡터의 길이를 확인하는 과정을 실습합니다. 이는 임베딩의 차원 수를 설정하고 결과를 다루는 방법을 보여줍니다.\n"
      ]
    },
    {
      "cell_type": "markdown",
      "id": "1f2e9d12",
      "metadata": {
        "id": "1f2e9d12"
      },
      "source": [
        "## 07-050 임베딩 대상 텍스트 정의\n",
        "- 이 실습에서는 임베딩을 생성할 텍스트 문장을 정의합니다. 다양한 인사말 및 문장을 포함하여 나중에 임베딩을 생성할 준비를 합니다.\n"
      ]
    },
    {
      "cell_type": "code",
      "execution_count": null,
      "id": "05f63ef1",
      "metadata": {
        "id": "05f63ef1"
      },
      "outputs": [],
      "source": [
        "# 임베딩 대상 텍스트\n",
        "sentence1 = \"안녕하세요? 반갑습니다.\"\n",
        "sentence2 = \"안녕하세요? 반갑습니다!\"\n",
        "sentence3 = \"안녕하세요? 만나서 반가워요.\"\n",
        "sentence4 = \"Hi, nice to meet you.\"\n",
        "sentence5 = \"I like to eat apples.\""
      ]
    },
    {
      "cell_type": "markdown",
      "id": "b4fbe106",
      "metadata": {
        "id": "b4fbe106"
      },
      "source": [
        "- 임베딩할 텍스트 문장을 정의하는 과정을 실습합니다. 이는 다양한 문장을 사용하여 임베딩의 성능을 테스트하는 방법을 보여줍니다.\n"
      ]
    },
    {
      "cell_type": "markdown",
      "id": "e61daa7c",
      "metadata": {
        "id": "e61daa7c"
      },
      "source": [
        "## 07-051 임베딩 수행\n",
        "- 이 실습에서는 정의한 여러 문장을 임베딩하여 벡터로 변환합니다. embed_documents 메서드를 사용하여 문장 리스트에 대한 임베딩을 수행하고 결과를 저장합니다.\n"
      ]
    },
    {
      "cell_type": "code",
      "execution_count": null,
      "id": "e9c9c674",
      "metadata": {
        "id": "e9c9c674"
      },
      "outputs": [],
      "source": [
        "# 임베딩 수행\n",
        "sentences = [sentence1, sentence2, sentence3, sentence4, sentence5]\n",
        "embedded_sentences = embeddings_1024.embed_documents(sentences)"
      ]
    },
    {
      "cell_type": "markdown",
      "id": "23c2a9d5",
      "metadata": {
        "id": "23c2a9d5"
      },
      "source": [
        "- 여러 텍스트 문장을 임베딩하는 과정을 실습합니다. 이는 텍스트 데이터를 벡터 형태로 변환하는 방법을 보여줍니다.\n"
      ]
    },
    {
      "cell_type": "markdown",
      "id": "3b13d95a",
      "metadata": {
        "id": "3b13d95a"
      },
      "source": [
        "## 07-052  코사인 유사도 계산 함수 정의\n",
        "- 이 실습에서는 두 임베딩 벡터 간의 코사인 유사도를 계산하는 함수를 정의합니다. sklearn의 cosine_similarity 함수를 사용하여 두 벡터의 유사도를 반환합니다.\n"
      ]
    },
    {
      "cell_type": "code",
      "execution_count": null,
      "id": "39ac3f54",
      "metadata": {
        "id": "39ac3f54"
      },
      "outputs": [],
      "source": [
        "from sklearn.metrics.pairwise import cosine_similarity\n",
        "\n",
        "def similarity(a, b):\n",
        "    return cosine_similarity([a], [b])[0][0]"
      ]
    },
    {
      "cell_type": "markdown",
      "id": "9a89010d",
      "metadata": {
        "id": "9a89010d"
      },
      "source": [
        "- 코사인 유사도를 계산하는 함수를 정의하는 과정을 실습합니다. 이는 벡터 간의 유사도를 평가하는 방법을 보여줍니다.\n"
      ]
    },
    {
      "cell_type": "markdown",
      "id": "5bedd2f2",
      "metadata": {
        "id": "5bedd2f2"
      },
      "source": [
        "## 07-053 유사도 계산 및 결과 출력\n",
        "- 이 실습에서는 정의된 문장 리스트에서 각 문장 쌍 간의 코사인 유사도를 계산하고 결과를 출력합니다. 두 문장 간의 유사도를 확인하기 위해 이중 루프를 사용합니다.\n"
      ]
    },
    {
      "cell_type": "code",
      "execution_count": null,
      "id": "b810bf15",
      "metadata": {
        "id": "b810bf15"
      },
      "outputs": [],
      "source": [
        "# 유사도 계산\n",
        "for i, sentence in enumerate(embedded_sentences):\n",
        "    for j, other_sentence in enumerate(embedded_sentences):\n",
        "        if i < j:\n",
        "            print(\n",
        "                f\"[유사도 {similarity(sentence, other_sentence):.4f}] {sentences[i]} \\t <=====> \\t {sentences[j]}\"\n",
        "            )"
      ]
    },
    {
      "cell_type": "markdown",
      "id": "d5dcb5e8",
      "metadata": {
        "id": "d5dcb5e8"
      },
      "source": [
        "- 여러 문장 간의 유사도를 계산하고 출력하는 과정을 실습합니다. 이는 문장 간의 의미적 유사성을 평가하는 방법을 보여줍니다.\n"
      ]
    },
    {
      "cell_type": "markdown",
      "id": "abea63c2",
      "metadata": {
        "id": "abea63c2"
      },
      "source": [
        "## 07-054 FAISS 벡터 스토어 생성\n",
        "- 이 실습에서는 분할된 문서 리스트를 사용하여 FAISS 벡터 스토어를 생성합니다. from_documents 메서드를 호출하여 문서와 임베딩을 사용하여 벡터 스토어를 초기화합니다.\n"
      ]
    },
    {
      "cell_type": "code",
      "execution_count": null,
      "id": "45f4419c",
      "metadata": {
        "id": "45f4419c"
      },
      "outputs": [],
      "source": [
        "from langchain_community.vectorstores import FAISS\n",
        "\n",
        "# DB 생성\n",
        "db = FAISS.from_documents(documents=split_docs,\n",
        "                          embedding=OpenAIEmbeddings(model=\"text-embedding-3-small\"))"
      ]
    },
    {
      "cell_type": "markdown",
      "id": "ee713305",
      "metadata": {
        "id": "ee713305"
      },
      "source": [
        "- FAISS 벡터 스토어를 생성하는 과정을 실습합니다. 이는 문서 데이터의 벡터화를 통해 검색 및 유사도 계산을 효율적으로 처리하는 방법을 보여줍니다.\n"
      ]
    },
    {
      "cell_type": "markdown",
      "id": "2482be9c",
      "metadata": {
        "id": "2482be9c"
      },
      "source": [
        "## 07-055 FAISS DB 문서 저장소 ID 확인\n",
        "- 이 실습에서는 생성된 FAISS 벡터 스토어에서 문서 저장소 ID를 확인합니다. index_to_docstore_id 속성을 호출하여 각 문서의 ID와 관련된 정보를 출력합니다.\n"
      ]
    },
    {
      "cell_type": "code",
      "execution_count": null,
      "id": "f49a56d5",
      "metadata": {
        "id": "f49a56d5"
      },
      "outputs": [],
      "source": [
        "# 문서 저장소 ID 확인\n",
        "db.index_to_docstore_id"
      ]
    },
    {
      "cell_type": "markdown",
      "id": "846eeabb",
      "metadata": {
        "id": "846eeabb"
      },
      "source": [
        "- FAISS DB에서 문서 저장소 ID를 확인하는 과정을 실습합니다. 이는 벡터 스토어 내의 문서 식별을 확인하는 데 유용합니다.\n"
      ]
    },
    {
      "cell_type": "markdown",
      "id": "07c81512",
      "metadata": {
        "id": "07c81512"
      },
      "source": [
        "## 07-056 FAISS DB에서 저장된 문서 확인\n",
        "- 이 실습에서는 FAISS 벡터 스토어의 내부 문서 저장소에서 저장된 문서들을 확인합니다. _dict 속성을 호출하여 각 문서의 ID와 내용을 확인할 수 있습니다.\n"
      ]
    },
    {
      "cell_type": "code",
      "execution_count": null,
      "id": "6aae7470",
      "metadata": {
        "id": "6aae7470"
      },
      "outputs": [],
      "source": [
        "# 저장된 문서의 ID: Document 확인\n",
        "db.docstore._dict"
      ]
    },
    {
      "cell_type": "markdown",
      "id": "edf74d2e",
      "metadata": {
        "id": "edf74d2e"
      },
      "source": [
        "- FAISS DB에서 저장된 문서를 확인하는 과정을 실습합니다. 이는 벡터 스토어 내의 문서 내용을 검토하는 데 유용합니다.\n"
      ]
    },
    {
      "cell_type": "markdown",
      "id": "8dd5ddeb",
      "metadata": {
        "id": "8dd5ddeb"
      },
      "source": [
        "## 07-057 FAISS DB에서 유사도 검색\n",
        "- 이 실습에서는 FAISS 벡터 스토어를 사용하여 주어진 질문에 대한 유사한 문서를 검색합니다. similarity_search 메서드를 호출하여 입력된 질문과 가장 유사한 문서들을 찾습니다.\n"
      ]
    },
    {
      "cell_type": "code",
      "execution_count": null,
      "id": "1ee44f09",
      "metadata": {
        "id": "1ee44f09"
      },
      "outputs": [],
      "source": [
        "# 유사도 검색\n",
        "db.similarity_search(\"시장 규모\")"
      ]
    },
    {
      "cell_type": "markdown",
      "id": "591ff312",
      "metadata": {
        "id": "591ff312"
      },
      "source": [
        "- FAISS DB에서 유사도 검색을 수행하는 과정을 실습합니다. 이는 벡터 스토어를 활용하여 문서 간의 유사성을 평가하는 방법을 보여줍니다.\n"
      ]
    },
    {
      "cell_type": "markdown",
      "id": "5cf9ce40",
      "metadata": {
        "id": "5cf9ce40"
      },
      "source": [
        "## 07-058 FAISS DB에서 k 값 지정하여 유사도 검색\n",
        "- 이 실습에서는 FAISS 벡터 스토어를 사용하여 주어진 질문에 대해 유사한 문서를 검색할 때 k 값을 지정합니다. similarity_search 메서드의 k 매개변수를 사용하여 반환할 유사한 문서의 수를 설정합니다.\n"
      ]
    },
    {
      "cell_type": "code",
      "execution_count": null,
      "id": "256efb02",
      "metadata": {
        "id": "256efb02"
      },
      "outputs": [],
      "source": [
        "# k 값 지정\n",
        "db.similarity_search(\"시장 규모\", k=2)"
      ]
    },
    {
      "cell_type": "markdown",
      "id": "d9ba8974",
      "metadata": {
        "id": "d9ba8974"
      },
      "source": [
        "- k 값을 지정하여 FAISS DB에서 유사도 검색을 수행하는 과정을 실습합니다. 이는 원하는 수의 결과를 제어하는 방법을 보여줍니다.\n"
      ]
    },
    {
      "cell_type": "markdown",
      "id": "81f048d8",
      "metadata": {
        "id": "81f048d8"
      },
      "source": [
        "## 07-059 FAISS DB에 문서 추가\n",
        "- 이 실습에서는 FAISS 벡터 스토어에 새로운 문서를 추가합니다.  add_documents 메서드를 사용하여 문서를 추가합니다.\n"
      ]
    },
    {
      "cell_type": "code",
      "execution_count": null,
      "id": "a9e4b4db",
      "metadata": {
        "id": "a9e4b4db"
      },
      "outputs": [],
      "source": [
        "# 새로운 PDF 문서 로드 및 분할\n",
        "loader = PyPDFLoader(\"온디바이스 AI(On-Device AI) 산업현황 보고서.pdf\")\n",
        "split_docs = loader.load_and_split(text_splitter=text_splitter)\n",
        "\n",
        "db.add_documents(\n",
        "    split_docs\n",
        ")"
      ]
    },
    {
      "cell_type": "markdown",
      "id": "35753f20",
      "metadata": {
        "id": "35753f20"
      },
      "source": [
        "- FAISS DB에 문서를 추가하는 과정을 실습합니다. 이는 벡터 스토어에 데이터를 확장하는 방법을 보여줍니다.\n"
      ]
    },
    {
      "cell_type": "markdown",
      "id": "412ccf7e",
      "metadata": {
        "id": "412ccf7e"
      },
      "source": [
        "## 07-060 FAISS DB에서 추가된 데이터 확인\n",
        "- 이 실습에서는 FAISS 벡터 스토어에 추가된 데이터를 확인하기 위해 similarity_search 메서드를 사용합니다. '활성화 전략'이라는 쿼리를 입력하여 가장 유사한 문서를 검색하고 결과를 출력합니다.\n"
      ]
    },
    {
      "cell_type": "code",
      "execution_count": null,
      "id": "59b00983",
      "metadata": {
        "id": "59b00983"
      },
      "outputs": [],
      "source": [
        "# 추가된 데이터를 확인\n",
        "db.similarity_search(\"활성화 전략\")"
      ]
    },
    {
      "cell_type": "markdown",
      "id": "58c2ecea",
      "metadata": {
        "id": "58c2ecea"
      },
      "source": [
        "- FAISS DB에서 추가된 데이터를 확인하는 과정을 실습합니다. 이는 추가한 문서의 유사성을 평가하는 방법을 보여줍니다.\n"
      ]
    },
    {
      "cell_type": "markdown",
      "id": "98110e19",
      "metadata": {
        "id": "98110e19"
      },
      "source": [
        "## 07-061 FAISS DB에 삭제용 데이터 추가\n",
        "- 이 실습에서는 FAISS 벡터 스토어에 삭제할 데이터를 추가합니다. add_documents 메서드를 사용하여 텍스트 리스트와 메타데이터, ID를 함께 추가합니다.\n"
      ]
    },
    {
      "cell_type": "code",
      "execution_count": null,
      "id": "125a5044",
      "metadata": {
        "id": "125a5044"
      },
      "outputs": [],
      "source": [
        "# 삭제용 데이터를 추가\n",
        "from langchain.schema import Document\n",
        "\n",
        "# Document 객체 리스트 준비\n",
        "documents = [\n",
        "    Document(page_content=\"삭제용 데이터를 추가합니다.\", metadata={\"source\": \"mydata.txt\"}),\n",
        "    Document(page_content=\"2번째 삭제용 데이터입니다.\", metadata={\"source\": \"mydata.txt\"}),\n",
        "]\n",
        "\n",
        "# 삭제용 데이터 추가\n",
        "ids = db.add_documents(documents, ids=[\"delete_doc1\", \"delete_doc2\"])\n",
        "\n",
        "# 데이터 추가 확인\n",
        "db.index_to_docstore_id"
      ]
    },
    {
      "cell_type": "markdown",
      "id": "6011eed7",
      "metadata": {
        "id": "6011eed7"
      },
      "source": [
        "- FAISS DB에 삭제용 데이터를 추가하는 과정을 실습합니다. 이는 나중에 데이터를 삭제하기 위해 식별할 수 있도록 데이터를 준비하는 방법을 보여줍니다.\n"
      ]
    },
    {
      "cell_type": "markdown",
      "id": "6c8b89c8",
      "metadata": {
        "id": "6c8b89c8"
      },
      "source": [
        "## 07-062 FAISS DB에서 삭제할 ID 확인\n",
        "- 이 실습에서는 FAISS 벡터 스토어에 추가한 삭제용 데이터의 ID를 확인합니다. print() 함수를 사용하여 최근에 추가한 데이터의 ID 리스트를 출력합니다.\n"
      ]
    },
    {
      "cell_type": "code",
      "execution_count": null,
      "id": "21d5649b",
      "metadata": {
        "id": "21d5649b"
      },
      "outputs": [],
      "source": [
        "# 삭제할 id 를 확인\n",
        "print(ids)"
      ]
    },
    {
      "cell_type": "markdown",
      "id": "36ac5d26",
      "metadata": {
        "id": "36ac5d26"
      },
      "source": [
        "- FAISS DB에서 삭제할 ID를 확인하는 과정을 실습합니다. 이는 삭제할 데이터의 식별을 확인하는 데 유용합니다.\n"
      ]
    },
    {
      "cell_type": "markdown",
      "id": "9938287e",
      "metadata": {
        "id": "9938287e"
      },
      "source": [
        "## 07-063 FAISS DB에서 ID로 데이터 삭제\n",
        "- 이 실습에서는 FAISS 벡터 스토어에서 지정한 ID를 사용하여 데이터를 삭제합니다. delete 메서드를 호출하여 삭제할 ID 리스트를 전달합니다.\n"
      ]
    },
    {
      "cell_type": "code",
      "execution_count": null,
      "id": "2ec29551",
      "metadata": {
        "id": "2ec29551"
      },
      "outputs": [],
      "source": [
        "# id 로 삭제\n",
        "db.delete(ids)"
      ]
    },
    {
      "cell_type": "markdown",
      "id": "a6226915",
      "metadata": {
        "id": "a6226915"
      },
      "source": [
        "- FAISS DB에서 특정 ID를 사용하여 데이터를 삭제하는 과정을 실습합니다. 이는 벡터 스토어에서 불필요한 데이터를 관리하는 방법을 보여줍니다.\n"
      ]
    },
    {
      "cell_type": "markdown",
      "id": "3974ca0f",
      "metadata": {
        "id": "3974ca0f"
      },
      "source": [
        "## 07-064 FAISS DB에서 삭제된 결과 확인\n",
        "- 이 실습에서는 FAISS 벡터 스토어에서 삭제된 결과를 확인합니다. index_to_docstore_id 속성을 호출하여 현재 문서의 ID 리스트를 출력하고, 삭제된 데이터가 반영된 결과를 확인합니다.\n"
      ]
    },
    {
      "cell_type": "code",
      "execution_count": null,
      "id": "eaa9ad03",
      "metadata": {
        "id": "eaa9ad03"
      },
      "outputs": [],
      "source": [
        "# 삭제된 결과를 출력\n",
        "db.index_to_docstore_id"
      ]
    },
    {
      "cell_type": "markdown",
      "id": "0616bec5",
      "metadata": {
        "id": "0616bec5"
      },
      "source": [
        "- FAISS DB에서 삭제된 결과를 확인하는 과정을 실습합니다. 이는 데이터 삭제가 제대로 이루어졌는지 검토하는 방법을 보여줍니다.\n"
      ]
    },
    {
      "cell_type": "markdown",
      "id": "be7242ba",
      "metadata": {
        "id": "be7242ba"
      },
      "source": [
        "## 07-065 FAISS DB를 로컬 Disk에 저장\n",
        "- 이 실습에서는 FAISS 벡터 스토어를 로컬 디스크에 저장합니다. save_local 메서드를 사용하여 지정한 폴더와 인덱스 이름으로 데이터를 저장합니다.\n"
      ]
    },
    {
      "cell_type": "code",
      "execution_count": null,
      "id": "e61202ea",
      "metadata": {
        "id": "e61202ea"
      },
      "outputs": [],
      "source": [
        "# 로컬 Disk 에 저장\n",
        "db.save_local(folder_path=\"faiss_db\", index_name=\"faiss_index\")"
      ]
    },
    {
      "cell_type": "markdown",
      "id": "c1cb8731",
      "metadata": {
        "id": "c1cb8731"
      },
      "source": [
        "- FAISS DB를 로컬 디스크에 저장하는 과정을 실습합니다. 이는 데이터 지속성을 확보하고 나중에 사용할 수 있도록 저장하는 방법을 보여줍니다.\n"
      ]
    },
    {
      "cell_type": "markdown",
      "id": "31d4b8ed",
      "metadata": {
        "id": "31d4b8ed"
      },
      "source": [
        "## 07-066 로컬 Disk에서 FAISS DB 로드\n",
        "- 이 실습에서는 로컬 디스크에 저장된 FAISS 벡터 스토어를 로드합니다. load_local 메서드를 사용하여 저장된 폴더와 인덱스 이름을 지정하고, 임베딩과 함께 로드합니다.\n"
      ]
    },
    {
      "cell_type": "code",
      "execution_count": null,
      "id": "86bccc06",
      "metadata": {
        "id": "86bccc06"
      },
      "outputs": [],
      "source": [
        "# 저장된 데이터를 로드\n",
        "loaded_db = FAISS.load_local(\n",
        "    folder_path=\"faiss_db\",\n",
        "    index_name=\"faiss_index\",\n",
        "    embeddings=embeddings,\n",
        "    allow_dangerous_deserialization=True,\n",
        ")"
      ]
    },
    {
      "cell_type": "markdown",
      "id": "c722959e",
      "metadata": {
        "id": "c722959e"
      },
      "source": [
        "- 로컬 디스크에서 FAISS DB를 로드하는 과정을 실습합니다. 이는 저장된 데이터를 불러와 사용할 수 있도록 하는 방법을 보여줍니다.\n"
      ]
    },
    {
      "cell_type": "markdown",
      "id": "b1fb9d6c",
      "metadata": {
        "id": "b1fb9d6c"
      },
      "source": [
        "## 07-067 로드된 FAISS DB에서 데이터 확인\n",
        "- 이 실습에서는 로드된 FAISS 벡터 스토어에서 문서 저장소 ID를 확인합니다. index_to_docstore_id 속성을 호출하여 로드된 데이터의 ID 리스트를 출력합니다.\n"
      ]
    },
    {
      "cell_type": "code",
      "execution_count": null,
      "id": "de82ea29",
      "metadata": {
        "id": "de82ea29"
      },
      "outputs": [],
      "source": [
        "# 로드된 데이터를 확인\n",
        "loaded_db.index_to_docstore_id"
      ]
    },
    {
      "cell_type": "markdown",
      "id": "38eb98aa",
      "metadata": {
        "id": "38eb98aa"
      },
      "source": [
        "- 로드된 FAISS DB에서 데이터를 확인하는 과정을 실습합니다. 이는 데이터가 정상적으로 로드되었는지 검토하는 방법을 보여줍니다.\n"
      ]
    },
    {
      "cell_type": "markdown",
      "id": "53d1ba58",
      "metadata": {
        "id": "53d1ba58"
      },
      "source": [
        "## 07-068 FAISS DB를 검색기로 변환 및 검색 수행\n",
        "- 이 실습에서는 FAISS 벡터 저장소를 검색기로 변환하고, 주어진 쿼리를 사용하여 검색을 수행합니다. as_retriever 메서드를 호출하여 검색 기능을 활성화하고, invoke 메서드를 사용하여 검색 쿼리를 입력합니다.\n"
      ]
    },
    {
      "cell_type": "code",
      "execution_count": null,
      "id": "b54745f6",
      "metadata": {
        "id": "b54745f6"
      },
      "outputs": [],
      "source": [
        "# 검색기로 변환\n",
        "retriever = db.as_retriever()\n",
        "\n",
        "# 검색 수행\n",
        "retriever.invoke(\"시장 규모에 대해 알려줘\")"
      ]
    },
    {
      "cell_type": "markdown",
      "id": "5b0e39d3",
      "metadata": {
        "id": "5b0e39d3"
      },
      "source": [
        "- FAISS DB를 검색기로 변환하고 검색을 수행하는 과정을 실습합니다. 이는 벡터 스토어를 활용하여 정보 검색을 가능하게 하는 방법을 보여줍니다.\n"
      ]
    },
    {
      "cell_type": "markdown",
      "id": "3c6db448",
      "metadata": {
        "id": "3c6db448"
      },
      "source": [
        "## 07-069 FAISS DB에서 가장 유사한 문서 검색\n",
        "- 이 실습에서는 FAISS 벡터 저장소에서 가장 유사한 문서 하나만 검색합니다. search_kwargs를 설정하여 k 값을 1로 지정하여 최상위 결과만 반환합니다.\n"
      ]
    },
    {
      "cell_type": "code",
      "execution_count": null,
      "id": "c1f34cf4",
      "metadata": {
        "id": "c1f34cf4"
      },
      "outputs": [],
      "source": [
        "# k=1 로 설정하여 가장 유사한 문서만 검색\n",
        "retriever = db.as_retriever(search_kwargs={\"k\": 1})\n",
        "retriever.invoke(\"시장 규모에 대해 알려줘\")"
      ]
    },
    {
      "cell_type": "markdown",
      "id": "c775d58c",
      "metadata": {
        "id": "c775d58c"
      },
      "source": [
        "- FAISS DB에서 가장 유사한 문서 하나를 검색하는 과정을 실습합니다. 이는 특정 쿼리에 대해 가장 관련성 높은 문서를 찾는 방법을 보여줍니다.\n"
      ]
    },
    {
      "cell_type": "markdown",
      "id": "45db34a9",
      "metadata": {
        "id": "45db34a9"
      },
      "source": [
        "## 07-070 FAISS DB에서 임계 값 기반 검색 수행\n",
        "- 이 실습에서는 FAISS 벡터 저장소에서 임계 값 기반 검색을 수행합니다. similarity_score_threshold 검색 유형을 사용하여 특정 유사도 점수 이상인 문서만 반환합니다. score_threshold 매개변수를 설정하여 필터링 기준을 지정합니다.\n"
      ]
    },
    {
      "cell_type": "code",
      "execution_count": null,
      "id": "32fbde6b",
      "metadata": {
        "id": "32fbde6b"
      },
      "outputs": [],
      "source": [
        "# 임계 값 기반 검색 수행\n",
        "retriever = db.as_retriever(\n",
        "    search_type=\"similarity_score_threshold\", search_kwargs={\"score_threshold\": 0.1}\n",
        ")\n",
        "retriever.invoke(\"시장 규모에 대해 알려줘\")"
      ]
    },
    {
      "cell_type": "markdown",
      "id": "440b0e06",
      "metadata": {
        "id": "440b0e06"
      },
      "source": [
        "- FAISS DB에서 임계 값 기반 검색을 수행하는 과정을 실습합니다. 이는 유사도 점수를 기반으로 문서를 필터링하여 검색 결과를 최적화하는 방법을 보여줍니다.\n"
      ]
    },
    {
      "cell_type": "markdown",
      "id": "6c73ce54",
      "metadata": {
        "id": "6c73ce54"
      },
      "source": [
        "## 07-071  FAISS DB에서 MMR 검색 수행\n",
        "- 이 실습에서는 FAISS 벡터 저장소에서 MMR(Maximum Marginal Relevance) 검색을 수행합니다. 검색기를 생성할 때 search_type에 'mmr'을 지정하고, k, lambda_mult, fetch_k와 같은 검색 매개변수를 설정하여 유사성과 다양성을 조절합니다.\n"
      ]
    },
    {
      "cell_type": "code",
      "execution_count": null,
      "id": "b3c6c68a",
      "metadata": {
        "id": "b3c6c68a"
      },
      "outputs": [],
      "source": [
        "# MMR 검색 수행\n",
        "# k: 최종 문서 수\n",
        "# lambda_mult: query와의 유사성과 문서 간의 다양성 조절, 1이면 유사성 only, 0이면 다양성 only\n",
        "# fetch_k: 후보 문서 수\n",
        "retriever = db.as_retriever(\n",
        "    search_type=\"mmr\", search_kwargs={\"k\": 3, \"lambda_mult\": 0.5, \"fetch_k\": 10}\n",
        ")\n",
        "retriever.invoke(\"시장 규모에 대해 알려줘\")"
      ]
    },
    {
      "cell_type": "markdown",
      "id": "42de3709",
      "metadata": {
        "id": "42de3709"
      },
      "source": [
        "- FAISS DB에서 MMR 검색을 수행하는 과정을 실습합니다. 이는 검색 결과의 다양성과 관련성을 동시에 고려하는 방법을 보여줍니다.\n"
      ]
    },
    {
      "cell_type": "markdown",
      "id": "7acd3e65",
      "metadata": {
        "id": "7acd3e65"
      },
      "source": [
        "## 07-072 질문-답변 프롬프트 템플릿 생성\n",
        "- 이 실습에서는 질문-답변을 위한 프롬프트 템플릿을 생성합니다. 주어진 질문과 문맥에 따라 적절한 답변을 유도하는 형식을 설정합니다.\n"
      ]
    },
    {
      "cell_type": "code",
      "execution_count": null,
      "id": "f85030d9",
      "metadata": {
        "id": "f85030d9"
      },
      "outputs": [],
      "source": [
        "from langchain_core.prompts import PromptTemplate\n",
        "\n",
        "prompt = PromptTemplate.from_template(\n",
        "    \"\"\"당신은 질문-답변(Question-Answering)을 수행하는 친절한 AI 어시스턴트입니다. 당신의 임무는 주어진 문맥(context) 에서 주어진 질문(question) 에 답하는 것입니다.\n",
        "검색된 다음 문맥(context) 을 사용하여 질문(question) 에 답하세요. 또한 어떤 문맥을 참고했느지 출처를 같이 표현해주세요.\n",
        "만약, 주어진 문맥(context) 에서 답을 찾을 수 없다면, 답을 모른다면 주어진 정보에서 질문에 대한 정보를 찾을 수 없습니다 라고 답하세요.\n",
        "한글로 답변해 주세요. 단, 기술적인 용어나 이름은 번역하지 않고 그대로 사용해 주세요.\n",
        "\n",
        "#Question:\n",
        "{question}\n",
        "\n",
        "#Context:\n",
        "{context}\n",
        "\n",
        "#Answer:\"\"\"\n",
        ")"
      ]
    },
    {
      "cell_type": "markdown",
      "id": "70555e23",
      "metadata": {
        "id": "70555e23"
      },
      "source": [
        "- 질문-답변 프롬프트 템플릿을 생성하여 AI 어시스턴트가 사용자 질문에 대한 응답을 제공하는 방법을 실습합니다.\n"
      ]
    },
    {
      "cell_type": "markdown",
      "id": "b2fe7910",
      "metadata": {
        "id": "b2fe7910"
      },
      "source": [
        "## 07-073 RAG 체인 생성\n",
        "- 이 실습에서는 질문-답변 체인을 생성하기 위해 RAG(Retrieval-Augmented Generation) 체인을 설정합니다. retriever와 prompt를 결합하여 질문과 관련된 문맥을 바탕으로 답변을 생성합니다.\n"
      ]
    },
    {
      "cell_type": "code",
      "execution_count": null,
      "id": "e97250f4",
      "metadata": {
        "id": "e97250f4"
      },
      "outputs": [],
      "source": [
        "from langchain_core.runnables import RunnablePassthrough\n",
        "from langchain_core.output_parsers import StrOutputParser\n",
        "from langchain_openai import ChatOpenAI\n",
        "\n",
        "llm = ChatOpenAI(model_name=\"gpt-4o-mini\", temperature=0)\n",
        "\n",
        "# 체인을 생성합니다.\n",
        "rag_chain = (\n",
        "    {\"context\": retriever, \"question\": RunnablePassthrough()}\n",
        "    | prompt\n",
        "    | llm\n",
        "    | StrOutputParser()\n",
        ")"
      ]
    },
    {
      "cell_type": "markdown",
      "id": "5c9fab69",
      "metadata": {
        "id": "5c9fab69"
      },
      "source": [
        "- RAG 체인을 생성하여 검색된 문맥을 활용하여 질문에 대한 응답을 생성하는 과정을 실습합니다. 이는 정보 검색과 생성적 응답을 통합하는 방법을 보여줍니다.\n"
      ]
    },
    {
      "cell_type": "markdown",
      "id": "c179dd96",
      "metadata": {
        "id": "c179dd96"
      },
      "source": [
        "## 07-074 RunnablePassthrough 사용 예제\n",
        "- 이 실습에서는 RunnablePassthrough를 사용하여 다양한 형식의 입력 데이터를 그대로 통과시키는 예제를 보여줍니다. invoke 메서드를 호출하여 데이터의 원본 형태를 유지하며 출력합니다.\n"
      ]
    },
    {
      "cell_type": "code",
      "execution_count": null,
      "id": "1b03475f",
      "metadata": {
        "id": "1b03475f"
      },
      "outputs": [],
      "source": [
        "from langchain_core.runnables import RunnablePassthrough\n",
        "result = RunnablePassthrough().invoke(\"안녕하세요\")\n",
        "print(result)"
      ]
    },
    {
      "cell_type": "markdown",
      "id": "f1792c70",
      "metadata": {
        "id": "f1792c70"
      },
      "source": [
        "- RunnablePassthrough를 사용하여 입력 데이터를 그대로 반환하는 과정을 실습합니다. 이는 데이터 흐름을 유지하면서 추가 처리를 하지 않고 원본 데이터를 사용할 수 있도록 하는 방법을 보여줍니다.\n"
      ]
    },
    {
      "cell_type": "markdown",
      "id": "8da951f5",
      "metadata": {
        "id": "8da951f5"
      },
      "source": [
        "## 07-075 LLM과 StrOutputParser 결합 사용\n",
        "- 이 실습에서는 LLM(대형 언어 모델)과 StrOutputParser를 결합하여 주어진 질문에 대한 답변을 생성합니다. invoke 메서드를 호출하여 '임베딩에 대해 알려줘'라는 질문에 대한 응답을 출력합니다.\n"
      ]
    },
    {
      "cell_type": "code",
      "execution_count": null,
      "id": "822bfc10",
      "metadata": {
        "id": "822bfc10"
      },
      "outputs": [],
      "source": [
        "(llm | StrOutputParser()).invoke(\"온디바이스 AI 시장 규모에 대해 알려줘\")"
      ]
    },
    {
      "cell_type": "markdown",
      "id": "74324c03",
      "metadata": {
        "id": "74324c03"
      },
      "source": [
        "- LLM과 StrOutputParser를 결합하여 질문에 대한 응답을 생성하는 과정을 실습합니다. 이는 언어 모델의 출력을 간단하게 파싱하는 방법을 보여줍니다.\n"
      ]
    },
    {
      "cell_type": "markdown",
      "id": "a3ede2c0",
      "metadata": {
        "id": "a3ede2c0"
      },
      "source": [
        "## 07-076  RAG 체인 사용하여 질문에 대한 응답 생성\n",
        "- 이 실습에서는 RAG 체인을 사용하여 '임베딩에 대해 알려줘'라는 질문에 대한 응답을 생성합니다. invoke 메서드를 호출하여 검색된 문맥을 기반으로 언어 모델이 답변을 생성합니다.\n"
      ]
    },
    {
      "cell_type": "code",
      "execution_count": null,
      "id": "eeab6ae5",
      "metadata": {
        "id": "eeab6ae5"
      },
      "outputs": [],
      "source": [
        "rag_chain.invoke('온디바이스 AI 시장 규모에 대해 알려줘')"
      ]
    },
    {
      "cell_type": "markdown",
      "id": "b942c2f6",
      "metadata": {
        "id": "b942c2f6"
      },
      "source": [
        "- RAG 체인을 통해 주어진 질문에 대한 응답을 생성하는 과정을 실습합니다. 이는 검색된 정보를 바탕으로 생성적 응답을 제공하는 방법을 보여줍니다.\n"
      ]
    }
  ],
  "metadata": {
    "kernelspec": {
      "display_name": "Python 3 (ipykernel)",
      "language": "python",
      "name": "python3"
    },
    "language_info": {
      "codemirror_mode": {
        "name": "ipython",
        "version": 3
      },
      "file_extension": ".py",
      "mimetype": "text/x-python",
      "name": "python",
      "nbconvert_exporter": "python",
      "pygments_lexer": "ipython3",
      "version": "3.10.16"
    },
    "colab": {
      "provenance": [],
      "include_colab_link": true
    }
  },
  "nbformat": 4,
  "nbformat_minor": 5
}