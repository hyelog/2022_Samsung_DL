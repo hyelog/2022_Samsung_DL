{
 "cells": [
  {
   "cell_type": "code",
   "execution_count": 1,
   "metadata": {
    "executionInfo": {
     "elapsed": 421,
     "status": "ok",
     "timestamp": 1627372281946,
     "user": {
      "displayName": "IDLY",
      "photoUrl": "https://lh3.googleusercontent.com/a-/AOh14Gi_uASS8xEhdc3V54PmrlTtzc2dMylBAtC2MBQk0w=s64",
      "userId": "01051119595489469234"
     },
     "user_tz": -540
    },
    "id": "d7U3b8FffmfV"
   },
   "outputs": [],
   "source": [
    "import torch\n",
    "import numpy\n",
    "from sklearn.datasets import make_blobs\n",
    "import matplotlib.pyplot as plt"
   ]
  },
  {
   "cell_type": "markdown",
   "metadata": {},
   "source": [
    "numpy는 유명한 수치해석용 라이브러리.\n",
    "\n",
    "sklearn은 파이썬의 대표적인 머신러닝 라이브러리로 사실 딥러닝을 제외한 머신러닝은 대부분 sklearn을 이용합니다. \n",
    "\n",
    "matplotlib은 시각화를 위해 가져옵니다."
   ]
  },
  {
   "cell_type": "code",
   "execution_count": 2,
   "metadata": {
    "executionInfo": {
     "elapsed": 5,
     "status": "ok",
     "timestamp": 1627372281947,
     "user": {
      "displayName": "IDLY",
      "photoUrl": "https://lh3.googleusercontent.com/a-/AOh14Gi_uASS8xEhdc3V54PmrlTtzc2dMylBAtC2MBQk0w=s64",
      "userId": "01051119595489469234"
     },
     "user_tz": -540
    },
    "id": "AcogT3YVfmfb"
   },
   "outputs": [],
   "source": [
    "n_dim = 2\n",
    "x_train, y_train = make_blobs(n_samples=80, n_features=n_dim,\n",
    "                              centers=[[0,0],[1,1],[1,0],[0,1]],\n",
    "                              shuffle=True, cluster_std=0.15)\n",
    "x_test, y_test = make_blobs(n_samples=20, n_features=n_dim,\n",
    "                            centers=[[0,0],[1,1],[1,0],[0,1]],\n",
    "                            shuffle=True, cluster_std=0.15)"
   ]
  },
  {
   "cell_type": "markdown",
   "metadata": {},
   "source": [
    "make_blobs()를 이용해서 데이터를 2차원 벡터로 만들었습니다. \n",
    "\n",
    "80대 20으로만들었습니다. \n",
    "\n",
    "make_blobs()함수가 만들어내는 레이블 데이터는 각 데이터 한점 한점이 몇번째 클러스터에 속해있는지 알려주는 인덱스입니다. \n",
    "\n",
    "본 예제에서는 4개의 클러스터를 생성하였으므로 이미 0, 1, 2, 3으로 파싱되어 있습니다."
   ]
  },
  {
   "cell_type": "code",
   "execution_count": 3,
   "metadata": {
    "colab": {
     "base_uri": "https://localhost:8080/"
    },
    "executionInfo": {
     "elapsed": 4,
     "status": "ok",
     "timestamp": 1627372281947,
     "user": {
      "displayName": "IDLY",
      "photoUrl": "https://lh3.googleusercontent.com/a-/AOh14Gi_uASS8xEhdc3V54PmrlTtzc2dMylBAtC2MBQk0w=s64",
      "userId": "01051119595489469234"
     },
     "user_tz": -540
    },
    "id": "dDBxQXrAip0_",
    "outputId": "df502abd-8829-4a7e-c40d-74260e60bf48"
   },
   "outputs": [
    {
     "name": "stdout",
     "output_type": "stream",
     "text": [
      "[0.76963342 0.04336016] 2\n",
      "[1.0568018  1.11905071] 1\n",
      "[ 0.75487898 -0.00701441] 2\n",
      "[1.04896476 1.08085528] 1\n",
      "[0.11414816 0.90651401] 3\n",
      "[ 0.79700531 -0.17857101] 2\n",
      "[1.16508174 1.06614625] 1\n",
      "[1.09883896 0.21134147] 2\n",
      "[ 0.97978926 -0.11469192] 2\n",
      "[ 0.42821888 -0.08159947] 0\n",
      "[0.02833379 0.18538   ] 0\n",
      "[ 0.94595967 -0.04697924] 2\n",
      "[0.95694561 0.89472249] 1\n",
      "[-0.06806462  0.0769948 ] 0\n",
      "[0.23360395 1.10975201] 3\n",
      "[-0.13869731  0.17385993] 0\n"
     ]
    }
   ],
   "source": [
    "for i, x in enumerate(x_train):\n",
    "    print(x, y_train[i])\n",
    "    if i == 15 : break"
   ]
  },
  {
   "cell_type": "markdown",
   "metadata": {
    "id": "3FWj2L_Nr2-1"
   },
   "source": [
    "label을 재설정해주겠습니다. 저희는 Binary Classify를 하기위한 NN을 만들려고 하거든요"
   ]
  },
  {
   "cell_type": "code",
   "execution_count": 4,
   "metadata": {
    "executionInfo": {
     "elapsed": 2,
     "status": "ok",
     "timestamp": 1627372282313,
     "user": {
      "displayName": "IDLY",
      "photoUrl": "https://lh3.googleusercontent.com/a-/AOh14Gi_uASS8xEhdc3V54PmrlTtzc2dMylBAtC2MBQk0w=s64",
      "userId": "01051119595489469234"
     },
     "user_tz": -540
    },
    "id": "6MzHbm-Hfmfc"
   },
   "outputs": [],
   "source": [
    "def label_map(y_, from_, to_):\n",
    "    y = numpy.copy(y_)\n",
    "    for f in from_:\n",
    "        y[y_ == f] = to_\n",
    "    return y\n",
    "\n",
    "y_train = label_map(y_train, [0, 1], 0)\n",
    "y_train = label_map(y_train, [2, 3], 1)\n",
    "y_test = label_map(y_test, [0, 1], 0)\n",
    "y_test = label_map(y_test, [2, 3], 1)"
   ]
  },
  {
   "cell_type": "markdown",
   "metadata": {},
   "source": [
    "따라서 label_map이라는 함수를 하나 구현해서 0번이나 1번을 레이블로 가진 데이터는 전부 0번 레이블을 갖도록 바꿔줍니다. \n",
    "\n",
    "그리고 2번이나 3번을 레이블로 가진 데이터는 전부 1번 레이블을 갖도록 바꿔줍니다. \n",
    "\n",
    "데이터가 제대로 만들어지고 레이블링 되어있는지 확인하기 위해 시각화를 진행합니다. 0인 데이터는 o, 1인데이터는 +로 표기했습니다."
   ]
  },
  {
   "cell_type": "code",
   "execution_count": 5,
   "metadata": {
    "colab": {
     "base_uri": "https://localhost:8080/",
     "height": 269
    },
    "executionInfo": {
     "elapsed": 445,
     "status": "ok",
     "timestamp": 1627372282756,
     "user": {
      "displayName": "IDLY",
      "photoUrl": "https://lh3.googleusercontent.com/a-/AOh14Gi_uASS8xEhdc3V54PmrlTtzc2dMylBAtC2MBQk0w=s64",
      "userId": "01051119595489469234"
     },
     "user_tz": -540
    },
    "id": "mP8zxnsbfmfc",
    "outputId": "2ffec0b9-4423-4deb-f67a-97ed234100bf"
   },
   "outputs": [
    {
     "data": {
      "image/png": "[encoded data removed]",
      "text/plain": [
       "<Figure size 432x288 with 1 Axes>"
      ]
     },
     "metadata": {
      "needs_background": "light"
     },
     "output_type": "display_data"
    }
   ],
   "source": [
    "def vis_data(x,y = None, c = 'r'):\n",
    "    if y is None:\n",
    "        y = [None] * len(x)\n",
    "    for x_, y_ in zip(x,y):\n",
    "        if y_ is None:\n",
    "            plt.plot(x_[0], x_[1], '*',markerfacecolor='none', markeredgecolor=c)\n",
    "        else:\n",
    "            plt.plot(x_[0], x_[1], c+'o' if y_ == 0 else c+'+')\n",
    "\n",
    "plt.figure()\n",
    "vis_data(x_train, y_train, c='r')\n",
    "plt.plot([-1, 2], [0,0], linestyle = \":\", color = 'k')\n",
    "plt.plot([-1, 2], [1,1], linestyle = \":\", color = 'k')\n",
    "plt.plot([0, 0], [-1, 2], linestyle = \":\", color = 'k')\n",
    "plt.plot([1, 1], [-1,2], linestyle = \":\", color = 'k')\n",
    "#vis_data(x_test, y_test, c='b')\n",
    "plt.xlim([-0.5, 1.5])\n",
    "plt.ylim([-0.5, 1.5])\n",
    "plt.show()"
   ]
  },
  {
   "cell_type": "code",
   "execution_count": 6,
   "metadata": {
    "colab": {
     "base_uri": "https://localhost:8080/"
    },
    "executionInfo": {
     "elapsed": 4,
     "status": "ok",
     "timestamp": 1627372282756,
     "user": {
      "displayName": "IDLY",
      "photoUrl": "https://lh3.googleusercontent.com/a-/AOh14Gi_uASS8xEhdc3V54PmrlTtzc2dMylBAtC2MBQk0w=s64",
      "userId": "01051119595489469234"
     },
     "user_tz": -540
    },
    "id": "YYtvQfymfmfe",
    "outputId": "5bd540d3-ad41-423f-fe78-19f41393a0b4"
   },
   "outputs": [
    {
     "name": "stdout",
     "output_type": "stream",
     "text": [
      "torch.Size([80, 2])\n"
     ]
    }
   ],
   "source": [
    "x_train = torch.FloatTensor(x_train)\n",
    "print(x_train.shape)\n",
    "x_test = torch.FloatTensor(x_test)\n",
    "y_train = torch.FloatTensor(y_train)\n",
    "y_test = torch.FloatTensor(y_test)"
   ]
  },
  {
   "cell_type": "markdown",
   "metadata": {
    "id": "qS0xW_C8sIi9"
   },
   "source": [
    "layer 는 여러 노드들이 층으로 모여있는 것을 의미하는데요\n",
    "여기에는 "
   ]
  },
  {
   "cell_type": "code",
   "execution_count": 7,
   "metadata": {
    "executionInfo": {
     "elapsed": 4,
     "status": "ok",
     "timestamp": 1627372283148,
     "user": {
      "displayName": "IDLY",
      "photoUrl": "https://lh3.googleusercontent.com/a-/AOh14Gi_uASS8xEhdc3V54PmrlTtzc2dMylBAtC2MBQk0w=s64",
      "userId": "01051119595489469234"
     },
     "user_tz": -540
    },
    "id": "CIUKBGnbfmff"
   },
   "outputs": [],
   "source": [
    "class NeuralNet(torch.nn.Module):\n",
    "        def __init__(self, input_size, hidden_size):\n",
    "            super(NeuralNet, self).__init__()\n",
    "            self.input_size = input_size\n",
    "            self.hidden_size  = hidden_size\n",
    "            \n",
    "            self.linear_1 = torch.nn.Linear(self.input_size, self.hidden_size)\n",
    "            self.relu = torch.nn.ReLU()\n",
    "            self.linear_2 = torch.nn.Linear(self.hidden_size, 1)\n",
    "            self.sigmoid = torch.nn.Sigmoid()\n",
    "            \n",
    "        def forward(self, input_tensor):\n",
    "            linear1 = self.linear_1(input_tensor)\n",
    "            relu = self.relu(linear1)\n",
    "            \n",
    "            linear2 = self.linear_2(relu)\n",
    "            output = self.sigmoid(linear2)\n",
    "            return output"
   ]
  },
  {
   "cell_type": "markdown",
   "metadata": {
    "id": "7qg0CkxHpRE7"
   },
   "source": [
    "criterion 은 에러함수를 의미합니다.\n",
    "교수님께서 아까도 설명하셨지만 지금과같은 B Classify할때는 MSE를 사용하는 것이 적당하지 않습니다. 그래서 저희는 Binary Cross Entropy 를 사용할것인데 이것도 torch에서 제공하고 있습니다.\n",
    "\n",
    "왜 (2,5)로 했을까?"
   ]
  },
  {
   "cell_type": "code",
   "execution_count": 8,
   "metadata": {
    "executionInfo": {
     "elapsed": 296,
     "status": "ok",
     "timestamp": 1627372293897,
     "user": {
      "displayName": "IDLY",
      "photoUrl": "https://lh3.googleusercontent.com/a-/AOh14Gi_uASS8xEhdc3V54PmrlTtzc2dMylBAtC2MBQk0w=s64",
      "userId": "01051119595489469234"
     },
     "user_tz": -540
    },
    "id": "U4iWUny1fmff"
   },
   "outputs": [],
   "source": [
    "learning_rate = 0.15\n",
    "epochs = 2000\n",
    "model = NeuralNet(2, 5)\n",
    "criterion = torch.nn.BCELoss()\n",
    "optimizer = torch.optim.SGD(model.parameters(), lr = learning_rate)"
   ]
  },
  {
   "cell_type": "markdown",
   "metadata": {},
   "source": [
    "input_size를 2로, hidden_size를 5로 설정한 신경망 객체 model을 만듭니다."
   ]
  },
  {
   "cell_type": "code",
   "execution_count": 9,
   "metadata": {
    "colab": {
     "base_uri": "https://localhost:8080/"
    },
    "executionInfo": {
     "elapsed": 292,
     "status": "ok",
     "timestamp": 1627372470698,
     "user": {
      "displayName": "IDLY",
      "photoUrl": "https://lh3.googleusercontent.com/a-/AOh14Gi_uASS8xEhdc3V54PmrlTtzc2dMylBAtC2MBQk0w=s64",
      "userId": "01051119595489469234"
     },
     "user_tz": -540
    },
    "id": "rouVuv379L3B",
    "outputId": "2c7d274c-e447-4445-bfc6-cae8a662ba5f"
   },
   "outputs": [
    {
     "data": {
      "text/plain": [
       "tensor([0.3733], grad_fn=<SigmoidBackward>)"
      ]
     },
     "execution_count": 9,
     "metadata": {},
     "output_type": "execute_result"
    }
   ],
   "source": [
    "model(torch.tensor([0.1,0.1]))"
   ]
  },
  {
   "cell_type": "markdown",
   "metadata": {
    "id": "59owQXV3qnPB"
   },
   "source": [
    "model의 weight가 어떻게 존재할까요"
   ]
  },
  {
   "cell_type": "code",
   "execution_count": 10,
   "metadata": {
    "colab": {
     "base_uri": "https://localhost:8080/"
    },
    "executionInfo": {
     "elapsed": 326,
     "status": "ok",
     "timestamp": 1627372295664,
     "user": {
      "displayName": "IDLY",
      "photoUrl": "https://lh3.googleusercontent.com/a-/AOh14Gi_uASS8xEhdc3V54PmrlTtzc2dMylBAtC2MBQk0w=s64",
      "userId": "01051119595489469234"
     },
     "user_tz": -540
    },
    "id": "AaZ2c2k1ip1D",
    "outputId": "8b51bb13-7855-489e-d306-0e9f9fcc2035"
   },
   "outputs": [
    {
     "name": "stdout",
     "output_type": "stream",
     "text": [
      "Parameter containing:\n",
      "tensor([[-0.6771,  0.6020],\n",
      "        [ 0.4320, -0.1697],\n",
      "        [-0.4429, -0.4841],\n",
      "        [ 0.4985,  0.6024],\n",
      "        [ 0.6849,  0.6090]], requires_grad=True)\n",
      "Parameter containing:\n",
      "tensor([ 0.5517, -0.0075, -0.5011, -0.6412, -0.5674], requires_grad=True)\n",
      "Parameter containing:\n",
      "tensor([[-0.3247, -0.2063, -0.4021,  0.1120,  0.1913]], requires_grad=True)\n",
      "Parameter containing:\n",
      "tensor([-0.3376], requires_grad=True)\n"
     ]
    }
   ],
   "source": [
    "for a in model.parameters():\n",
    "    print(a)"
   ]
  },
  {
   "cell_type": "code",
   "execution_count": 11,
   "metadata": {
    "colab": {
     "base_uri": "https://localhost:8080/"
    },
    "executionInfo": {
     "elapsed": 3,
     "status": "ok",
     "timestamp": 1627372295994,
     "user": {
      "displayName": "IDLY",
      "photoUrl": "https://lh3.googleusercontent.com/a-/AOh14Gi_uASS8xEhdc3V54PmrlTtzc2dMylBAtC2MBQk0w=s64",
      "userId": "01051119595489469234"
     },
     "user_tz": -540
    },
    "id": "VNhtB-OnkiVZ",
    "outputId": "3a981bd4-c148-4b9c-c16a-cafe4f84e7b3"
   },
   "outputs": [
    {
     "name": "stdout",
     "output_type": "stream",
     "text": [
      "None\n",
      "None\n",
      "None\n",
      "None\n"
     ]
    }
   ],
   "source": [
    "for a in model.parameters():\n",
    "    print(a.grad)"
   ]
  },
  {
   "cell_type": "code",
   "execution_count": 12,
   "metadata": {
    "colab": {
     "base_uri": "https://localhost:8080/"
    },
    "executionInfo": {
     "elapsed": 3,
     "status": "ok",
     "timestamp": 1627372295995,
     "user": {
      "displayName": "IDLY",
      "photoUrl": "https://lh3.googleusercontent.com/a-/AOh14Gi_uASS8xEhdc3V54PmrlTtzc2dMylBAtC2MBQk0w=s64",
      "userId": "01051119595489469234"
     },
     "user_tz": -540
    },
    "id": "FcjfUFD8fmff",
    "outputId": "09a9cbd6-8e70-4ee6-8eab-01de89192bbd"
   },
   "outputs": [
    {
     "name": "stdout",
     "output_type": "stream",
     "text": [
      "Before Training, test loss is 0.7588545680046082\n"
     ]
    }
   ],
   "source": [
    "model.eval()\n",
    "test_loss_before = criterion(model(x_test).squeeze(), y_test)\n",
    "print('Before Training, test loss is {}'.format(test_loss_before.item()))"
   ]
  },
  {
   "cell_type": "markdown",
   "metadata": {},
   "source": [
    "아무 학습도 하지 않은 모델의 성능을 시험해 보겠습니다. \n",
    "\n",
    "모델의 결과값과 레이블값의 차원을 맞춰야 하므로 squeeze() 함수를 호출한 후 오차를 구했습니다. \n",
    "\n",
    "item()함수는 텐서 속의 숫자를 스칼라 값으로 반환합니다. \n",
    "\n",
    "test_loss_before 역시 텐서 형태이므로 실제 오차를 스칼라 값으로 출력하기 위해 .item() 함수를 호출하여 텐서 속 오차를 나타내었습니다.\n",
    "\n",
    "오차가 0.70이 나왔다는 것은, 100번 중 70번은 틀린거나 마찬가지입니다. 성능이 정말 안좋네요."
   ]
  },
  {
   "cell_type": "markdown",
   "metadata": {},
   "source": [
    "이제 학습을 해봅시다. epochs만큼 반복하는 for문이고,\n",
    "\n",
    "모델에 train() 함수를 호출해 학습 모드로 바꿔줍니다. \n",
    "\n",
    "epochs마다 새로운 경사값을 계산할 것이므로 zero_grad() 함수를 호출해 경사값을 0으로 설정합니다. \n",
    "\n",
    "100epochs마다 오차를 출력해 학습이 잘 되는지 확인할 예정입니다."
   ]
  },
  {
   "cell_type": "code",
   "execution_count": 13,
   "metadata": {
    "executionInfo": {
     "elapsed": 278,
     "status": "ok",
     "timestamp": 1627372296569,
     "user": {
      "displayName": "IDLY",
      "photoUrl": "https://lh3.googleusercontent.com/a-/AOh14Gi_uASS8xEhdc3V54PmrlTtzc2dMylBAtC2MBQk0w=s64",
      "userId": "01051119595489469234"
     },
     "user_tz": -540
    },
    "id": "sk7Y9iEltVeS"
   },
   "outputs": [],
   "source": [
    "model.train()\n",
    "optimizer.zero_grad()\n",
    "train_output = model(x_train)\n",
    "train_loss = criterion(train_output.squeeze(), y_train)\n",
    "train_loss.backward()\n",
    "optimizer.step()"
   ]
  },
  {
   "cell_type": "code",
   "execution_count": 14,
   "metadata": {
    "colab": {
     "base_uri": "https://localhost:8080/"
    },
    "executionInfo": {
     "elapsed": 900,
     "status": "ok",
     "timestamp": 1627372297468,
     "user": {
      "displayName": "IDLY",
      "photoUrl": "https://lh3.googleusercontent.com/a-/AOh14Gi_uASS8xEhdc3V54PmrlTtzc2dMylBAtC2MBQk0w=s64",
      "userId": "01051119595489469234"
     },
     "user_tz": -540
    },
    "id": "YfPevo3Sfmfg",
    "outputId": "cf421799-8853-466e-ced9-2594561b7dd5"
   },
   "outputs": [
    {
     "name": "stdout",
     "output_type": "stream",
     "text": [
      "Train loss at 0 is 0.7516783475875854\n",
      "Train loss at 100 is 0.623949408531189\n",
      "Train loss at 200 is 0.49508070945739746\n",
      "Train loss at 300 is 0.3575344979763031\n",
      "Train loss at 400 is 0.2191556990146637\n",
      "Train loss at 500 is 0.13483020663261414\n",
      "Train loss at 600 is 0.09196040779352188\n",
      "Train loss at 700 is 0.06846713274717331\n",
      "Train loss at 800 is 0.053983502089977264\n",
      "Train loss at 900 is 0.04429399222135544\n",
      "Train loss at 1000 is 0.03740605339407921\n",
      "Train loss at 1100 is 0.032329440116882324\n",
      "Train loss at 1200 is 0.02845803275704384\n",
      "Train loss at 1300 is 0.02541850134730339\n",
      "Train loss at 1400 is 0.022951247170567513\n",
      "Train loss at 1500 is 0.020908575505018234\n",
      "Train loss at 1600 is 0.01919066347181797\n",
      "Train loss at 1700 is 0.017726127058267593\n",
      "Train loss at 1800 is 0.016462648287415504\n",
      "Train loss at 1900 is 0.01536152046173811\n"
     ]
    }
   ],
   "source": [
    "for epoch in range(epochs):\n",
    "    model.train()\n",
    "    optimizer.zero_grad()\n",
    "    train_output = model(x_train)\n",
    "    train_loss = criterion(train_output.squeeze(), y_train)\n",
    "    if epoch % 100 == 0:\n",
    "        print('Train loss at {} is {}'.format(epoch, train_loss.item()))\n",
    "        torch.save(model.state_dict(), './model_epoch{}.pt'.format(epoch))\n",
    "    train_loss.backward()\n",
    "    optimizer.step()"
   ]
  },
  {
   "cell_type": "code",
   "execution_count": 15,
   "metadata": {
    "colab": {
     "base_uri": "https://localhost:8080/"
    },
    "executionInfo": {
     "elapsed": 5,
     "status": "ok",
     "timestamp": 1627372297469,
     "user": {
      "displayName": "IDLY",
      "photoUrl": "https://lh3.googleusercontent.com/a-/AOh14Gi_uASS8xEhdc3V54PmrlTtzc2dMylBAtC2MBQk0w=s64",
      "userId": "01051119595489469234"
     },
     "user_tz": -540
    },
    "id": "bqQLXlsefmfg",
    "outputId": "150dd133-f0bb-4ac8-c335-4f5b7a3c35a2"
   },
   "outputs": [
    {
     "name": "stdout",
     "output_type": "stream",
     "text": [
      "After Training, test loss is 0.01375609077513218\n"
     ]
    }
   ],
   "source": [
    "model.eval()\n",
    "test_loss = criterion(model(x_test).squeeze(), y_test)\n",
    "print('After Training, test loss is {}'.format(test_loss.item()))"
   ]
  },
  {
   "cell_type": "markdown",
   "metadata": {},
   "source": [
    "학습 전과 비교해 loss가 현저하게 줄어든 것을 확인할 수 있습니다."
   ]
  },
  {
   "cell_type": "markdown",
   "metadata": {
    "id": "aLZqFmf6uYTm"
   },
   "source": [
    "학습된 모델을 state_dict() 함수 형태로 바꾸어 준 후 .pt 파일로 저장해보겠습니다. \n",
    "\n",
    "state_dict()함수 형태로 바꾸어 준 후 .pt 파일로 저장 합니다. \n",
    "\n",
    "state_dict() 함수는 모델 내 가중치들이 딕셔너리 형태로 표현된 데이터입니다."
   ]
  },
  {
   "cell_type": "code",
   "execution_count": 16,
   "metadata": {
    "colab": {
     "base_uri": "https://localhost:8080/"
    },
    "id": "GIMYuQW5fmfg",
    "outputId": "d314cd16-9ad2-457f-bb30-b3de51b4f6fc"
   },
   "outputs": [
    {
     "name": "stdout",
     "output_type": "stream",
     "text": [
      "state_dict format of the model: OrderedDict([('linear_1.weight', tensor([[-1.8989,  3.4253],\n",
      "        [ 3.4943, -1.8699],\n",
      "        [-0.4429, -0.4841],\n",
      "        [ 1.5004,  1.5400],\n",
      "        [ 1.4708,  1.5030]])), ('linear_1.bias', tensor([-0.9358, -1.0768, -0.5011, -1.6626, -1.6237])), ('linear_2.weight', tensor([[ 3.8986,  4.0860, -0.4021, -2.5265, -2.4373]])), ('linear_2.bias', tensor([-3.8026]))])\n"
     ]
    }
   ],
   "source": [
    "torch.save(model.state_dict(), './model.pt')\n",
    "print('state_dict format of the model: {}'.format(model.state_dict()))"
   ]
  },
  {
   "cell_type": "markdown",
   "metadata": {},
   "source": [
    "언제든지 이 파일을 읽어서 준비된 가중치를 바로 적용할 수 있습니다."
   ]
  },
  {
   "cell_type": "code",
   "execution_count": 17,
   "metadata": {
    "colab": {
     "base_uri": "https://localhost:8080/"
    },
    "id": "QN9bBKYDfmfh",
    "outputId": "b4591c90-a2a4-49a3-9942-3bad404d43aa"
   },
   "outputs": [
    {
     "name": "stdout",
     "output_type": "stream",
     "text": [
      "벡터 [0, 1]의 레이블은? 0.9972755312919617\n"
     ]
    }
   ],
   "source": [
    "new_model = NeuralNet(2, 5)\n",
    "new_model.load_state_dict(torch.load('./model.pt'))\n",
    "new_model.eval()\n",
    "print('벡터 [0, 1]의 레이블은? {}'.format\\\n",
    "      (new_model(torch.FloatTensor([0,1])).item()))"
   ]
  },
  {
   "cell_type": "code",
   "execution_count": 18,
   "metadata": {
    "id": "vxXvcsD_sMR5"
   },
   "outputs": [],
   "source": [
    "def binary_acc(y_pred, y_test):\n",
    "    y_pred_tag = torch.round((y_pred)).squeeze()\n",
    "\n",
    "    correct_results_sum = (y_pred_tag == y_test).sum().float()\n",
    "    acc = correct_results_sum/y_test.shape[0]\n",
    "    acc = torch.round(acc * 100)\n",
    "    \n",
    "    return acc"
   ]
  },
  {
   "cell_type": "code",
   "execution_count": 19,
   "metadata": {
    "colab": {
     "base_uri": "https://localhost:8080/"
    },
    "id": "FF5561NFlknQ",
    "outputId": "0a612c91-8bd2-4182-8c2c-3a50796fde77"
   },
   "outputs": [
    {
     "name": "stdout",
     "output_type": "stream",
     "text": [
      "tensor([1., 1., 1., 0., 1., 1., 1., 0., 1., 1., 0., 0., 0., 1., 1., 0., 0., 0.,\n",
      "        0., 0.], grad_fn=<SqueezeBackward0>)\n",
      "tensor([1., 1., 1., 0., 1., 1., 1., 0., 1., 1., 0., 0., 0., 1., 1., 0., 0., 0.,\n",
      "        0., 0.])\n",
      "tensor(100.)\n"
     ]
    }
   ],
   "source": [
    "new_model.eval()\n",
    "print(torch.round(new_model(x_test)).squeeze())\n",
    "print(y_test)\n",
    "print(binary_acc(new_model(x_test), y_test))"
   ]
  },
  {
   "cell_type": "code",
   "execution_count": 20,
   "metadata": {
    "colab": {
     "base_uri": "https://localhost:8080/"
    },
    "id": "bycGoSM6sqmc",
    "outputId": "32759cc9-6872-4dd5-b4f5-282e63d557d5"
   },
   "outputs": [
    {
     "name": "stdout",
     "output_type": "stream",
     "text": [
      "======epoch : 0 =======\n",
      "tensor(50.)\n",
      "======epoch : 100 =======\n",
      "tensor(65.)\n",
      "======epoch : 200 =======\n",
      "tensor(75.)\n",
      "======epoch : 300 =======\n",
      "tensor(95.)\n",
      "======epoch : 400 =======\n",
      "tensor(100.)\n",
      "======epoch : 500 =======\n",
      "tensor(100.)\n",
      "======epoch : 600 =======\n",
      "tensor(100.)\n",
      "======epoch : 700 =======\n",
      "tensor(100.)\n",
      "======epoch : 800 =======\n",
      "tensor(100.)\n",
      "======epoch : 900 =======\n",
      "tensor(100.)\n",
      "======epoch : 1000 =======\n",
      "tensor(100.)\n",
      "======epoch : 1100 =======\n",
      "tensor(100.)\n",
      "======epoch : 1200 =======\n",
      "tensor(100.)\n",
      "======epoch : 1300 =======\n",
      "tensor(100.)\n",
      "======epoch : 1400 =======\n",
      "tensor(100.)\n",
      "======epoch : 1500 =======\n",
      "tensor(100.)\n",
      "======epoch : 1600 =======\n",
      "tensor(100.)\n",
      "======epoch : 1700 =======\n",
      "tensor(100.)\n",
      "======epoch : 1800 =======\n",
      "tensor(100.)\n",
      "======epoch : 1900 =======\n",
      "tensor(100.)\n"
     ]
    }
   ],
   "source": [
    "for i in range(0,2000,100):\n",
    "    new_model = NeuralNet(2, 5)\n",
    "    new_model.load_state_dict(torch.load('./model_epoch{}.pt'.format(i)))\n",
    "    new_model.eval()\n",
    "    print(\"======epoch : {} =======\".format(i))\n",
    "    print(binary_acc(new_model(x_test), y_test))"
   ]
  },
  {
   "cell_type": "code",
   "execution_count": null,
   "metadata": {
    "id": "N6SQ7YaPip1H"
   },
   "outputs": [],
   "source": []
  },
  {
   "cell_type": "code",
   "execution_count": null,
   "metadata": {
    "id": "31FZ_wESip1I"
   },
   "outputs": [],
   "source": []
  }
 ],
 "metadata": {
  "colab": {
   "collapsed_sections": [],
   "name": "[day2_2]Dot_classification[sol].ipynb",
   "provenance": [],
   "toc_visible": true
  },
  "kernelspec": {
   "display_name": "Python 3",
   "language": "python",
   "name": "python3"
  },
  "language_info": {
   "codemirror_mode": {
    "name": "ipython",
    "version": 3
   },
   "file_extension": ".py",
   "mimetype": "text/x-python",
   "name": "python",
   "nbconvert_exporter": "python",
   "pygments_lexer": "ipython3",
   "version": "3.8.5"
  }
 },
 "nbformat": 4,
 "nbformat_minor": 1
}
