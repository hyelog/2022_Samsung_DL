{
  "cells": [
    {
      "cell_type": "markdown",
      "metadata": {
        "id": "view-in-github",
        "colab_type": "text"
      },
      "source": [
        "<a href=\"https://colab.research.google.com/github/hyelog/2022_Samsung_DL/blob/main/%5BAI_Essential%5D_3%EC%9D%BC%EC%B0%A8_%EC%8B%A4%EC%8A%B5_%EC%BD%94%EB%93%9C_ipynb%EC%9D%98_%EC%82%AC%EB%B3%B8.ipynb\" target=\"_parent\"><img src=\"https://colab.research.google.com/assets/colab-badge.svg\" alt=\"Open In Colab\"/></a>"
      ]
    },
    {
      "cell_type": "markdown",
      "id": "a84c166b",
      "metadata": {
        "id": "a84c166b"
      },
      "source": [
        "# 05. 합성곱신경망 (CNN)"
      ]
    },
    {
      "cell_type": "code",
      "execution_count": null,
      "id": "b426f4dd",
      "metadata": {
        "id": "b426f4dd"
      },
      "outputs": [],
      "source": [
        "%%capture\n",
        "!pip install JAEN -qU"
      ]
    },
    {
      "cell_type": "markdown",
      "id": "d2b12e71",
      "metadata": {
        "id": "d2b12e71"
      },
      "source": [
        "## 05-001 2D 컨볼루션 출력 크기 계산 함수 구현"
      ]
    },
    {
      "cell_type": "code",
      "execution_count": null,
      "id": "2372afca",
      "metadata": {
        "id": "2372afca"
      },
      "outputs": [],
      "source": [
        "def conv2d_output_size(input_size, kernel_size, stride=1, padding=0):\n",
        "    height, width = input_size\n",
        "\n",
        "    # Convolution 공식 적용\n",
        "    out_height = (height + 2 * padding - kernel_size) // stride + 1\n",
        "    out_width = (width + 2 * padding - kernel_size) // stride + 1\n",
        "\n",
        "    return out_height, out_width"
      ]
    },
    {
      "cell_type": "markdown",
      "id": "55425542",
      "metadata": {
        "id": "55425542"
      },
      "source": [
        "## 05-002 컨볼루션 출력 크기 계산"
      ]
    },
    {
      "cell_type": "code",
      "execution_count": null,
      "id": "37ef14b1",
      "metadata": {
        "colab": {
          "base_uri": "https://localhost:8080/"
        },
        "id": "37ef14b1",
        "outputId": "fe95b399-766e-4ace-899e-f1bab5308aa5"
      },
      "outputs": [
        {
          "output_type": "stream",
          "name": "stdout",
          "text": [
            "Output feature map size: (26, 26)\n"
          ]
        }
      ],
      "source": [
        "# 입력 크기 (Height, Width), 커널 크기, 스트라이드, 패딩\n",
        "output_size = conv2d_output_size((28, 28), 3, 1, 0)\n",
        "print(f\"Output feature map size: {output_size}\")"
      ]
    },
    {
      "cell_type": "markdown",
      "id": "ef808455",
      "metadata": {
        "id": "ef808455"
      },
      "source": [
        "## 05-003 패딩을 포함한 컨볼루션 출력 크기 계산"
      ]
    },
    {
      "cell_type": "code",
      "execution_count": null,
      "id": "5eac0860",
      "metadata": {
        "colab": {
          "base_uri": "https://localhost:8080/"
        },
        "id": "5eac0860",
        "outputId": "bd384f36-e8d8-4306-a089-4789189c82bb"
      },
      "outputs": [
        {
          "output_type": "stream",
          "name": "stdout",
          "text": [
            "Output feature map size: (28, 28)\n"
          ]
        }
      ],
      "source": [
        "# 입력 크기 (Height, Width), 커널 크기, 스트라이드, 패딩\n",
        "output_size = conv2d_output_size((28, 28), 3, 1, 1)\n",
        "print(f\"Output feature map size: {output_size}\")"
      ]
    },
    {
      "cell_type": "markdown",
      "id": "0c478ff6",
      "metadata": {
        "id": "0c478ff6"
      },
      "source": [
        "## 05-004 스트라이드를 포함한 컨볼루션 출력 크기 계산"
      ]
    },
    {
      "cell_type": "code",
      "execution_count": null,
      "id": "9e9a05a3",
      "metadata": {
        "colab": {
          "base_uri": "https://localhost:8080/"
        },
        "id": "9e9a05a3",
        "outputId": "433ca8d5-90d4-4e5a-bc89-a7acf09d681e"
      },
      "outputs": [
        {
          "output_type": "stream",
          "name": "stdout",
          "text": [
            "Output feature map size: (13, 13)\n"
          ]
        }
      ],
      "source": [
        "# 입력 크기 (Height, Width), 커널 크기, 스트라이드, 패딩\n",
        "output_size = conv2d_output_size((28, 28), 3, 2, 0)\n",
        "print(f\"Output feature map size: {output_size}\")"
      ]
    },
    {
      "cell_type": "markdown",
      "id": "a3cfbd0f",
      "metadata": {
        "id": "a3cfbd0f"
      },
      "source": [
        "## 05-005 스트라이드 및 패딩을 포함한 컨볼루션 출력 크기 계산"
      ]
    },
    {
      "cell_type": "code",
      "execution_count": null,
      "id": "8964917d",
      "metadata": {
        "colab": {
          "base_uri": "https://localhost:8080/"
        },
        "id": "8964917d",
        "outputId": "cfbaa6f7-5296-4927-814c-caaf9ffc8082"
      },
      "outputs": [
        {
          "output_type": "stream",
          "name": "stdout",
          "text": [
            "Output feature map size: (14, 14)\n"
          ]
        }
      ],
      "source": [
        "# 입력 크기 (Height, Width), 커널 크기, 스트라이드, 패딩\n",
        "output_size = conv2d_output_size((28, 28), 3, 2, 1)\n",
        "print(f\"Output feature map size: {output_size}\")"
      ]
    },
    {
      "cell_type": "markdown",
      "id": "9a9d478c",
      "metadata": {
        "id": "9a9d478c"
      },
      "source": [
        "## 05-006 PyTorch 및 관련 모듈 임포트와 device 설정"
      ]
    },
    {
      "cell_type": "code",
      "execution_count": null,
      "id": "af66e33f",
      "metadata": {
        "colab": {
          "base_uri": "https://localhost:8080/"
        },
        "id": "af66e33f",
        "outputId": "bd157e35-2fb6-42d9-b6bf-79755a78a477"
      },
      "outputs": [
        {
          "output_type": "execute_result",
          "data": {
            "text/plain": [
              "device(type='cuda')"
            ]
          },
          "metadata": {},
          "execution_count": 17
        }
      ],
      "source": [
        "import torch\n",
        "import torch.nn as nn\n",
        "import torch.optim as optim\n",
        "from torchvision import datasets, transforms\n",
        "from torch.utils.data import DataLoader\n",
        "from torchinfo import summary\n",
        "from JAEN.utils import plot_training_results\n",
        "\n",
        "# device 설정 (GPU가 사용 가능하면 GPU로, 그렇지 않으면 CPU 사용)\n",
        "device = torch.device('cuda' if torch.cuda.is_available() else 'cpu')\n",
        "device"
      ]
    },
    {
      "cell_type": "markdown",
      "id": "81603960",
      "metadata": {
        "id": "81603960"
      },
      "source": [
        "## 05-007 FashionMNIST 데이터 변환 및 정규화"
      ]
    },
    {
      "cell_type": "code",
      "execution_count": null,
      "id": "8b6ebb03",
      "metadata": {
        "id": "8b6ebb03"
      },
      "outputs": [],
      "source": [
        "# FashionMNIST 데이터 변환 (이미지를 텐서로 변환하고 [0, 1] 범위로 정규화)\n",
        "transform = transforms.Compose([\n",
        "    transforms.ToTensor(),\n",
        "])"
      ]
    },
    {
      "cell_type": "markdown",
      "id": "1efcb5eb",
      "metadata": {
        "id": "1efcb5eb"
      },
      "source": [
        "## 05-008 FashionMNIST 학습 및 테스트 데이터셋 로드"
      ]
    },
    {
      "cell_type": "code",
      "execution_count": null,
      "id": "96d7e7fb",
      "metadata": {
        "colab": {
          "base_uri": "https://localhost:8080/"
        },
        "id": "96d7e7fb",
        "outputId": "6e479f38-b170-46d8-d54b-821e8dc0c7fc"
      },
      "outputs": [
        {
          "output_type": "stream",
          "name": "stdout",
          "text": [
            "Downloading http://fashion-mnist.s3-website.eu-central-1.amazonaws.com/train-images-idx3-ubyte.gz\n",
            "Downloading http://fashion-mnist.s3-website.eu-central-1.amazonaws.com/train-images-idx3-ubyte.gz to ./data/FashionMNIST/raw/train-images-idx3-ubyte.gz\n"
          ]
        },
        {
          "output_type": "stream",
          "name": "stderr",
          "text": [
            "100%|██████████| 26.4M/26.4M [00:02<00:00, 10.0MB/s]\n"
          ]
        },
        {
          "output_type": "stream",
          "name": "stdout",
          "text": [
            "Extracting ./data/FashionMNIST/raw/train-images-idx3-ubyte.gz to ./data/FashionMNIST/raw\n",
            "\n",
            "Downloading http://fashion-mnist.s3-website.eu-central-1.amazonaws.com/train-labels-idx1-ubyte.gz\n",
            "Downloading http://fashion-mnist.s3-website.eu-central-1.amazonaws.com/train-labels-idx1-ubyte.gz to ./data/FashionMNIST/raw/train-labels-idx1-ubyte.gz\n"
          ]
        },
        {
          "output_type": "stream",
          "name": "stderr",
          "text": [
            "100%|██████████| 29.5k/29.5k [00:00<00:00, 173kB/s]\n"
          ]
        },
        {
          "output_type": "stream",
          "name": "stdout",
          "text": [
            "Extracting ./data/FashionMNIST/raw/train-labels-idx1-ubyte.gz to ./data/FashionMNIST/raw\n",
            "\n",
            "Downloading http://fashion-mnist.s3-website.eu-central-1.amazonaws.com/t10k-images-idx3-ubyte.gz\n",
            "Downloading http://fashion-mnist.s3-website.eu-central-1.amazonaws.com/t10k-images-idx3-ubyte.gz to ./data/FashionMNIST/raw/t10k-images-idx3-ubyte.gz\n"
          ]
        },
        {
          "output_type": "stream",
          "name": "stderr",
          "text": [
            "100%|██████████| 4.42M/4.42M [00:01<00:00, 3.20MB/s]\n"
          ]
        },
        {
          "output_type": "stream",
          "name": "stdout",
          "text": [
            "Extracting ./data/FashionMNIST/raw/t10k-images-idx3-ubyte.gz to ./data/FashionMNIST/raw\n",
            "\n",
            "Downloading http://fashion-mnist.s3-website.eu-central-1.amazonaws.com/t10k-labels-idx1-ubyte.gz\n",
            "Downloading http://fashion-mnist.s3-website.eu-central-1.amazonaws.com/t10k-labels-idx1-ubyte.gz to ./data/FashionMNIST/raw/t10k-labels-idx1-ubyte.gz\n"
          ]
        },
        {
          "output_type": "stream",
          "name": "stderr",
          "text": [
            "100%|██████████| 5.15k/5.15k [00:00<00:00, 20.1MB/s]"
          ]
        },
        {
          "output_type": "stream",
          "name": "stdout",
          "text": [
            "Extracting ./data/FashionMNIST/raw/t10k-labels-idx1-ubyte.gz to ./data/FashionMNIST/raw\n",
            "\n"
          ]
        },
        {
          "output_type": "stream",
          "name": "stderr",
          "text": [
            "\n"
          ]
        }
      ],
      "source": [
        "# 학습 및 테스트 데이터셋 로드\n",
        "train_dataset = datasets.FashionMNIST(root='./data', train=True, transform=transform, download=True)\n",
        "test_dataset = datasets.FashionMNIST(root='./data', train=False, transform=transform, download=True)"
      ]
    },
    {
      "cell_type": "markdown",
      "id": "fe19dada",
      "metadata": {
        "id": "fe19dada"
      },
      "source": [
        "## 05-009 데이터 로더 생성"
      ]
    },
    {
      "cell_type": "code",
      "execution_count": null,
      "id": "2795af64",
      "metadata": {
        "id": "2795af64"
      },
      "outputs": [],
      "source": [
        "# 데이터 로더 생성\n",
        "train_loader = DataLoader(train_dataset, batch_size=64, shuffle=True)\n",
        "test_loader = DataLoader(test_dataset, batch_size=64, shuffle=False)"
      ]
    },
    {
      "cell_type": "markdown",
      "id": "c7d32263",
      "metadata": {
        "id": "c7d32263"
      },
      "source": [
        "## 05-010 CNN 모델 클래스 정의"
      ]
    },
    {
      "cell_type": "code",
      "execution_count": null,
      "id": "b19fe010",
      "metadata": {
        "colab": {
          "base_uri": "https://localhost:8080/"
        },
        "id": "b19fe010",
        "outputId": "caf37677-6b59-4947-e646-21de74504574"
      },
      "outputs": [
        {
          "output_type": "execute_result",
          "data": {
            "text/plain": [
              "==========================================================================================\n",
              "Layer (type:depth-idx)                   Output Shape              Param #\n",
              "==========================================================================================\n",
              "Sequential                               [64, 10]                  --\n",
              "├─Conv2d: 1-1                            [64, 16, 28, 28]          160\n",
              "├─ReLU: 1-2                              [64, 16, 28, 28]          --\n",
              "├─MaxPool2d: 1-3                         [64, 16, 14, 14]          --\n",
              "├─Conv2d: 1-4                            [64, 32, 14, 14]          4,640\n",
              "├─ReLU: 1-5                              [64, 32, 14, 14]          --\n",
              "├─MaxPool2d: 1-6                         [64, 32, 7, 7]            --\n",
              "├─Flatten: 1-7                           [64, 1568]                --\n",
              "├─Linear: 1-8                            [64, 128]                 200,832\n",
              "├─ReLU: 1-9                              [64, 128]                 --\n",
              "├─Linear: 1-10                           [64, 10]                  1,290\n",
              "==========================================================================================\n",
              "Total params: 206,922\n",
              "Trainable params: 206,922\n",
              "Non-trainable params: 0\n",
              "Total mult-adds (M): 79.17\n",
              "==========================================================================================\n",
              "Input size (MB): 0.20\n",
              "Forward/backward pass size (MB): 9.70\n",
              "Params size (MB): 0.83\n",
              "Estimated Total Size (MB): 10.73\n",
              "=========================================================================================="
            ]
          },
          "metadata": {},
          "execution_count": 21
        }
      ],
      "source": [
        "# Sequential로 모델 정의\n",
        "model = nn.Sequential(\n",
        "    # 첫 번째 Conv + ReLU + MaxPool\n",
        "    nn.Conv2d(in_channels=1, out_channels=16, kernel_size=3, padding=1),\n",
        "    nn.ReLU(),\n",
        "    nn.MaxPool2d(kernel_size=2, stride=2),\n",
        "\n",
        "    # 두 번째 Conv + ReLU + MaxPool\n",
        "    nn.Conv2d(in_channels=16, out_channels=32, kernel_size=3, padding=1),\n",
        "    nn.ReLU(),\n",
        "    nn.MaxPool2d(kernel_size=2, stride=2),\n",
        "\n",
        "    # Flatten\n",
        "    nn.Flatten(),\n",
        "\n",
        "    # 첫 번째 Fully Connected + ReLU\n",
        "    nn.Linear(32 * 7 * 7, 128),\n",
        "    nn.ReLU(),\n",
        "\n",
        "    # 두 번째 Fully Connected (출력층)\n",
        "    nn.Linear(128, 10)\n",
        ")\n",
        "model = model.to(device)\n",
        "summary(model, input_size=(64, 1, 28, 28))"
      ]
    },
    {
      "cell_type": "code",
      "execution_count": null,
      "id": "64c0c06b",
      "metadata": {
        "colab": {
          "base_uri": "https://localhost:8080/"
        },
        "id": "64c0c06b",
        "outputId": "b21f21df-79d0-40c5-c9b2-ae555adf2e33"
      },
      "outputs": [
        {
          "output_type": "execute_result",
          "data": {
            "text/plain": [
              "==========================================================================================\n",
              "Layer (type:depth-idx)                   Output Shape              Param #\n",
              "==========================================================================================\n",
              "CNN                                      [64, 10]                  --\n",
              "├─Conv2d: 1-1                            [64, 16, 28, 28]          160\n",
              "├─ReLU: 1-2                              [64, 16, 28, 28]          --\n",
              "├─MaxPool2d: 1-3                         [64, 16, 14, 14]          --\n",
              "├─Conv2d: 1-4                            [64, 32, 14, 14]          4,640\n",
              "├─ReLU: 1-5                              [64, 32, 14, 14]          --\n",
              "├─MaxPool2d: 1-6                         [64, 32, 7, 7]            --\n",
              "├─Linear: 1-7                            [64, 128]                 200,832\n",
              "├─ReLU: 1-8                              [64, 128]                 --\n",
              "├─Linear: 1-9                            [64, 10]                  1,290\n",
              "==========================================================================================\n",
              "Total params: 206,922\n",
              "Trainable params: 206,922\n",
              "Non-trainable params: 0\n",
              "Total mult-adds (M): 79.17\n",
              "==========================================================================================\n",
              "Input size (MB): 0.20\n",
              "Forward/backward pass size (MB): 9.70\n",
              "Params size (MB): 0.83\n",
              "Estimated Total Size (MB): 10.73\n",
              "=========================================================================================="
            ]
          },
          "metadata": {},
          "execution_count": 22
        }
      ],
      "source": [
        "# CNN 모델 정의\n",
        "class CNN(nn.Module):\n",
        "    def __init__(self):\n",
        "        super().__init__()\n",
        "\n",
        "        # 첫 번째 컨볼루션 레이어\n",
        "        # 입력 채널: 1 (흑백 이미지), 출력 채널: 16, 커널 크기: 3x3, 패딩: 1\n",
        "        self.conv1 = nn.Conv2d(in_channels=1, out_channels=16, kernel_size=3, padding=1)\n",
        "\n",
        "        # 두 번째 컨볼루션 레이어\n",
        "        # 입력 채널: 16, 출력 채널: 32, 커널 크기: 3x3, 패딩: 1\n",
        "        self.conv2 = nn.Conv2d(in_channels=16, out_channels=32, kernel_size=3, padding=1)\n",
        "\n",
        "        # MaxPool 레이어 (다운샘플링)\n",
        "        # 커널 크기: 2x2, 스트라이드: 2\n",
        "        self.pool = nn.MaxPool2d(kernel_size=2, stride=2, padding=0)\n",
        "\n",
        "        # 첫 번째 완전 연결 (Fully Connected) 레이어\n",
        "        # 입력 크기: 32 * 7 * 7 (Conv2d 출력을 펼친 크기), 출력 크기: 128\n",
        "        self.fc1 = nn.Linear(32 * 7 * 7, 128)\n",
        "\n",
        "        # 두 번째 완전 연결 레이어\n",
        "        # 입력 크기: 128, 출력 크기: 10 (클래스 개수)\n",
        "        self.fc2 = nn.Linear(128, 10)\n",
        "\n",
        "        # 활성화 함수\n",
        "        self.relu = nn.ReLU()\n",
        "\n",
        "    def forward(self, x):\n",
        "        # 입력 데이터 크기: (batch_size, 1, 28, 28)\n",
        "\n",
        "        # 첫 번째 Conv + ReLU + MaxPool\n",
        "        # Conv 후 크기: (batch_size, 16, 28, 28)\n",
        "        # MaxPool 후 크기: (batch_size, 16, 14, 14)\n",
        "        x = self.pool(self.relu(self.conv1(x)))\n",
        "\n",
        "        # 두 번째 Conv + ReLU + MaxPool\n",
        "        # Conv 후 크기: (batch_size, 32, 14, 14)\n",
        "        # MaxPool 후 크기: (batch_size, 32, 7, 7)\n",
        "        x = self.pool(self.relu(self.conv2(x)))\n",
        "\n",
        "        # Flatten: Conv 출력을 1차원 벡터로 펼침\n",
        "        # Flatten 후 크기: (batch_size, 32 * 7 * 7)\n",
        "        x = x.reshape(-1, 32 * 7 * 7)\n",
        "\n",
        "        # 첫 번째 Fully Connected + ReLU\n",
        "        # 출력 크기: (batch_size, 128)\n",
        "        x = self.relu(self.fc1(x))\n",
        "\n",
        "        # 두 번째 Fully Connected (출력층)\n",
        "        # 출력 크기: (batch_size, 10)\n",
        "        x = self.fc2(x)\n",
        "\n",
        "        return x\n",
        "\n",
        "# 모델 요약 출력\n",
        "model = CNN().to(device)\n",
        "summary(model, input_size=(64, 1, 28, 28))"
      ]
    },
    {
      "cell_type": "markdown",
      "id": "76aecad7",
      "metadata": {
        "id": "76aecad7"
      },
      "source": [
        "## 05-011 손실 함수 및 옵티마이저 설정과 학습 수행"
      ]
    },
    {
      "cell_type": "code",
      "source": [
        "def train(model, train_loader, criterion, optimizer, device):\n",
        "    model.train()  # 모델을 학습 모드로 설정\n",
        "\n",
        "    running_loss = 0.0 # 미니 배치별 loss값을 누적할 변수\n",
        "\n",
        "    for datas, labels in train_loader: # 미니 배치 별 파라미터 업데이트 수행\n",
        "        datas, labels = datas.to(device), labels.to(device) # 미니 배치별 데이터와 레이블 장치 할당\n",
        "\n",
        "        # 순전파\n",
        "        outputs = model(datas)\n",
        "\n",
        "        # 손실 계산\n",
        "        loss = criterion(outputs, labels)\n",
        "\n",
        "        # 기울기 초기화\n",
        "        optimizer.zero_grad()\n",
        "\n",
        "        # 역전파\n",
        "        loss.backward()\n",
        "\n",
        "        # 파라미터 업데이트\n",
        "        optimizer.step()\n",
        "\n",
        "        # 손실 누적\n",
        "        running_loss += loss.item()\n",
        "\n",
        "    # 현재 Epoch의 평균 손실 값 계산 및 반환\n",
        "    return running_loss / len(train_loader)"
      ],
      "metadata": {
        "id": "MRr6bmEKCld5"
      },
      "id": "MRr6bmEKCld5",
      "execution_count": null,
      "outputs": []
    },
    {
      "cell_type": "code",
      "source": [
        "# 평가 함수 정의\n",
        "def evaluate(model, test_loader, criterion, device):\n",
        "    model.eval()  # 모델을 평가 모드로 설정\n",
        "\n",
        "    running_loss = 0.0 # 미니 배치별 loss값을 누적할 변수\n",
        "\n",
        "\n",
        "    with torch.no_grad():  # 평가 중에는 기울기 계산을 하지 않음\n",
        "        for datas, labels in test_loader: # 미니 배치 별 손실 계산\n",
        "            datas, labels = datas.to(device), labels.to(device) # 미니 배치별 데이터와 레이블 장치 할당\n",
        "\n",
        "            # 순전파\n",
        "            outputs = model(datas)\n",
        "\n",
        "            # 손실 계산\n",
        "            loss = criterion(outputs, labels)\n",
        "\n",
        "            # 손실 누적\n",
        "            running_loss += loss.item()\n",
        "\n",
        "\n",
        "    # 현재 Epoch의 평균 손실 값 계산 및 반환\n",
        "    return running_loss / len(test_loader)"
      ],
      "metadata": {
        "id": "s60AxoF2FgEj"
      },
      "id": "s60AxoF2FgEj",
      "execution_count": null,
      "outputs": []
    },
    {
      "cell_type": "code",
      "execution_count": null,
      "id": "52b8967d",
      "metadata": {
        "colab": {
          "base_uri": "https://localhost:8080/",
          "height": 400
        },
        "id": "52b8967d",
        "outputId": "37a0486b-67a1-4edf-8051-1cc6a4c27510"
      },
      "outputs": [
        {
          "output_type": "error",
          "ename": "RuntimeError",
          "evalue": "Given groups=1, weight of size [16, 3, 3, 3], expected input[64, 1, 28, 28] to have 3 channels, but got 1 channels instead",
          "traceback": [
            "\u001b[0;31m---------------------------------------------------------------------------\u001b[0m",
            "\u001b[0;31mRuntimeError\u001b[0m                              Traceback (most recent call last)",
            "\u001b[0;32m<ipython-input-62-9c1fe793694e>\u001b[0m in \u001b[0;36m<cell line: 8>\u001b[0;34m()\u001b[0m\n\u001b[1;32m      9\u001b[0m \u001b[0;34m\u001b[0m\u001b[0m\n\u001b[1;32m     10\u001b[0m     \u001b[0;31m# 모델 학습(학습데이터)\u001b[0m\u001b[0;34m\u001b[0m\u001b[0;34m\u001b[0m\u001b[0m\n\u001b[0;32m---> 11\u001b[0;31m     \u001b[0mtrain_loss\u001b[0m \u001b[0;34m=\u001b[0m \u001b[0mtrain\u001b[0m\u001b[0;34m(\u001b[0m\u001b[0mmodel\u001b[0m\u001b[0;34m,\u001b[0m \u001b[0mtrain_loader\u001b[0m\u001b[0;34m,\u001b[0m \u001b[0mcriterion\u001b[0m\u001b[0;34m,\u001b[0m \u001b[0moptimizer\u001b[0m\u001b[0;34m,\u001b[0m \u001b[0mdevice\u001b[0m\u001b[0;34m)\u001b[0m\u001b[0;34m\u001b[0m\u001b[0;34m\u001b[0m\u001b[0m\n\u001b[0m\u001b[1;32m     12\u001b[0m     \u001b[0mtrain_losses\u001b[0m\u001b[0;34m.\u001b[0m\u001b[0mappend\u001b[0m\u001b[0;34m(\u001b[0m\u001b[0mtrain_loss\u001b[0m\u001b[0;34m)\u001b[0m\u001b[0;34m\u001b[0m\u001b[0;34m\u001b[0m\u001b[0m\n\u001b[1;32m     13\u001b[0m \u001b[0;34m\u001b[0m\u001b[0m\n",
            "\u001b[0;32m<ipython-input-60-ed8b9794ab2a>\u001b[0m in \u001b[0;36mtrain\u001b[0;34m(model, train_loader, criterion, optimizer, device)\u001b[0m\n\u001b[1;32m      8\u001b[0m \u001b[0;34m\u001b[0m\u001b[0m\n\u001b[1;32m      9\u001b[0m         \u001b[0;31m# 순전파\u001b[0m\u001b[0;34m\u001b[0m\u001b[0;34m\u001b[0m\u001b[0m\n\u001b[0;32m---> 10\u001b[0;31m         \u001b[0moutputs\u001b[0m \u001b[0;34m=\u001b[0m \u001b[0mmodel\u001b[0m\u001b[0;34m(\u001b[0m\u001b[0mdatas\u001b[0m\u001b[0;34m)\u001b[0m\u001b[0;34m\u001b[0m\u001b[0;34m\u001b[0m\u001b[0m\n\u001b[0m\u001b[1;32m     11\u001b[0m \u001b[0;34m\u001b[0m\u001b[0m\n\u001b[1;32m     12\u001b[0m         \u001b[0;31m# 손실 계산\u001b[0m\u001b[0;34m\u001b[0m\u001b[0;34m\u001b[0m\u001b[0m\n",
            "\u001b[0;32m/usr/local/lib/python3.10/dist-packages/torch/nn/modules/module.py\u001b[0m in \u001b[0;36m_wrapped_call_impl\u001b[0;34m(self, *args, **kwargs)\u001b[0m\n\u001b[1;32m   1734\u001b[0m             \u001b[0;32mreturn\u001b[0m \u001b[0mself\u001b[0m\u001b[0;34m.\u001b[0m\u001b[0m_compiled_call_impl\u001b[0m\u001b[0;34m(\u001b[0m\u001b[0;34m*\u001b[0m\u001b[0margs\u001b[0m\u001b[0;34m,\u001b[0m \u001b[0;34m**\u001b[0m\u001b[0mkwargs\u001b[0m\u001b[0;34m)\u001b[0m  \u001b[0;31m# type: ignore[misc]\u001b[0m\u001b[0;34m\u001b[0m\u001b[0;34m\u001b[0m\u001b[0m\n\u001b[1;32m   1735\u001b[0m         \u001b[0;32melse\u001b[0m\u001b[0;34m:\u001b[0m\u001b[0;34m\u001b[0m\u001b[0;34m\u001b[0m\u001b[0m\n\u001b[0;32m-> 1736\u001b[0;31m             \u001b[0;32mreturn\u001b[0m \u001b[0mself\u001b[0m\u001b[0;34m.\u001b[0m\u001b[0m_call_impl\u001b[0m\u001b[0;34m(\u001b[0m\u001b[0;34m*\u001b[0m\u001b[0margs\u001b[0m\u001b[0;34m,\u001b[0m \u001b[0;34m**\u001b[0m\u001b[0mkwargs\u001b[0m\u001b[0;34m)\u001b[0m\u001b[0;34m\u001b[0m\u001b[0;34m\u001b[0m\u001b[0m\n\u001b[0m\u001b[1;32m   1737\u001b[0m \u001b[0;34m\u001b[0m\u001b[0m\n\u001b[1;32m   1738\u001b[0m     \u001b[0;31m# torchrec tests the code consistency with the following code\u001b[0m\u001b[0;34m\u001b[0m\u001b[0;34m\u001b[0m\u001b[0m\n",
            "\u001b[0;32m/usr/local/lib/python3.10/dist-packages/torch/nn/modules/module.py\u001b[0m in \u001b[0;36m_call_impl\u001b[0;34m(self, *args, **kwargs)\u001b[0m\n\u001b[1;32m   1745\u001b[0m                 \u001b[0;32mor\u001b[0m \u001b[0m_global_backward_pre_hooks\u001b[0m \u001b[0;32mor\u001b[0m \u001b[0m_global_backward_hooks\u001b[0m\u001b[0;34m\u001b[0m\u001b[0;34m\u001b[0m\u001b[0m\n\u001b[1;32m   1746\u001b[0m                 or _global_forward_hooks or _global_forward_pre_hooks):\n\u001b[0;32m-> 1747\u001b[0;31m             \u001b[0;32mreturn\u001b[0m \u001b[0mforward_call\u001b[0m\u001b[0;34m(\u001b[0m\u001b[0;34m*\u001b[0m\u001b[0margs\u001b[0m\u001b[0;34m,\u001b[0m \u001b[0;34m**\u001b[0m\u001b[0mkwargs\u001b[0m\u001b[0;34m)\u001b[0m\u001b[0;34m\u001b[0m\u001b[0;34m\u001b[0m\u001b[0m\n\u001b[0m\u001b[1;32m   1748\u001b[0m \u001b[0;34m\u001b[0m\u001b[0m\n\u001b[1;32m   1749\u001b[0m         \u001b[0mresult\u001b[0m \u001b[0;34m=\u001b[0m \u001b[0;32mNone\u001b[0m\u001b[0;34m\u001b[0m\u001b[0;34m\u001b[0m\u001b[0m\n",
            "\u001b[0;32m<ipython-input-58-31136430ed2d>\u001b[0m in \u001b[0;36mforward\u001b[0;34m(self, x)\u001b[0m\n\u001b[1;32m     45\u001b[0m \u001b[0;34m\u001b[0m\u001b[0m\n\u001b[1;32m     46\u001b[0m     \u001b[0;32mdef\u001b[0m \u001b[0mforward\u001b[0m\u001b[0;34m(\u001b[0m\u001b[0mself\u001b[0m\u001b[0;34m,\u001b[0m \u001b[0mx\u001b[0m\u001b[0;34m)\u001b[0m\u001b[0;34m:\u001b[0m\u001b[0;34m\u001b[0m\u001b[0;34m\u001b[0m\u001b[0m\n\u001b[0;32m---> 47\u001b[0;31m         \u001b[0mx\u001b[0m \u001b[0;34m=\u001b[0m \u001b[0mself\u001b[0m\u001b[0;34m.\u001b[0m\u001b[0mpool\u001b[0m\u001b[0;34m(\u001b[0m\u001b[0mself\u001b[0m\u001b[0;34m.\u001b[0m\u001b[0mrelu\u001b[0m\u001b[0;34m(\u001b[0m\u001b[0mself\u001b[0m\u001b[0;34m.\u001b[0m\u001b[0mconv_layers1\u001b[0m\u001b[0;34m(\u001b[0m\u001b[0mx\u001b[0m\u001b[0;34m)\u001b[0m\u001b[0;34m)\u001b[0m\u001b[0;34m)\u001b[0m\u001b[0;34m\u001b[0m\u001b[0;34m\u001b[0m\u001b[0m\n\u001b[0m\u001b[1;32m     48\u001b[0m         \u001b[0mx\u001b[0m \u001b[0;34m=\u001b[0m \u001b[0mself\u001b[0m\u001b[0;34m.\u001b[0m\u001b[0mpool\u001b[0m\u001b[0;34m(\u001b[0m\u001b[0mself\u001b[0m\u001b[0;34m.\u001b[0m\u001b[0mrelu\u001b[0m\u001b[0;34m(\u001b[0m\u001b[0mself\u001b[0m\u001b[0;34m.\u001b[0m\u001b[0mconv_layers2\u001b[0m\u001b[0;34m(\u001b[0m\u001b[0mx\u001b[0m\u001b[0;34m)\u001b[0m\u001b[0;34m)\u001b[0m\u001b[0;34m)\u001b[0m\u001b[0;34m\u001b[0m\u001b[0;34m\u001b[0m\u001b[0m\n\u001b[1;32m     49\u001b[0m         \u001b[0mx\u001b[0m \u001b[0;34m=\u001b[0m \u001b[0mself\u001b[0m\u001b[0;34m.\u001b[0m\u001b[0mpool\u001b[0m\u001b[0;34m(\u001b[0m\u001b[0mself\u001b[0m\u001b[0;34m.\u001b[0m\u001b[0mrelu\u001b[0m\u001b[0;34m(\u001b[0m\u001b[0mself\u001b[0m\u001b[0;34m.\u001b[0m\u001b[0mconv_layers3\u001b[0m\u001b[0;34m(\u001b[0m\u001b[0mx\u001b[0m\u001b[0;34m)\u001b[0m\u001b[0;34m)\u001b[0m\u001b[0;34m)\u001b[0m\u001b[0;34m\u001b[0m\u001b[0;34m\u001b[0m\u001b[0m\n",
            "\u001b[0;32m/usr/local/lib/python3.10/dist-packages/torch/nn/modules/module.py\u001b[0m in \u001b[0;36m_wrapped_call_impl\u001b[0;34m(self, *args, **kwargs)\u001b[0m\n\u001b[1;32m   1734\u001b[0m             \u001b[0;32mreturn\u001b[0m \u001b[0mself\u001b[0m\u001b[0;34m.\u001b[0m\u001b[0m_compiled_call_impl\u001b[0m\u001b[0;34m(\u001b[0m\u001b[0;34m*\u001b[0m\u001b[0margs\u001b[0m\u001b[0;34m,\u001b[0m \u001b[0;34m**\u001b[0m\u001b[0mkwargs\u001b[0m\u001b[0;34m)\u001b[0m  \u001b[0;31m# type: ignore[misc]\u001b[0m\u001b[0;34m\u001b[0m\u001b[0;34m\u001b[0m\u001b[0m\n\u001b[1;32m   1735\u001b[0m         \u001b[0;32melse\u001b[0m\u001b[0;34m:\u001b[0m\u001b[0;34m\u001b[0m\u001b[0;34m\u001b[0m\u001b[0m\n\u001b[0;32m-> 1736\u001b[0;31m             \u001b[0;32mreturn\u001b[0m \u001b[0mself\u001b[0m\u001b[0;34m.\u001b[0m\u001b[0m_call_impl\u001b[0m\u001b[0;34m(\u001b[0m\u001b[0;34m*\u001b[0m\u001b[0margs\u001b[0m\u001b[0;34m,\u001b[0m \u001b[0;34m**\u001b[0m\u001b[0mkwargs\u001b[0m\u001b[0;34m)\u001b[0m\u001b[0;34m\u001b[0m\u001b[0;34m\u001b[0m\u001b[0m\n\u001b[0m\u001b[1;32m   1737\u001b[0m \u001b[0;34m\u001b[0m\u001b[0m\n\u001b[1;32m   1738\u001b[0m     \u001b[0;31m# torchrec tests the code consistency with the following code\u001b[0m\u001b[0;34m\u001b[0m\u001b[0;34m\u001b[0m\u001b[0m\n",
            "\u001b[0;32m/usr/local/lib/python3.10/dist-packages/torch/nn/modules/module.py\u001b[0m in \u001b[0;36m_call_impl\u001b[0;34m(self, *args, **kwargs)\u001b[0m\n\u001b[1;32m   1745\u001b[0m                 \u001b[0;32mor\u001b[0m \u001b[0m_global_backward_pre_hooks\u001b[0m \u001b[0;32mor\u001b[0m \u001b[0m_global_backward_hooks\u001b[0m\u001b[0;34m\u001b[0m\u001b[0;34m\u001b[0m\u001b[0m\n\u001b[1;32m   1746\u001b[0m                 or _global_forward_hooks or _global_forward_pre_hooks):\n\u001b[0;32m-> 1747\u001b[0;31m             \u001b[0;32mreturn\u001b[0m \u001b[0mforward_call\u001b[0m\u001b[0;34m(\u001b[0m\u001b[0;34m*\u001b[0m\u001b[0margs\u001b[0m\u001b[0;34m,\u001b[0m \u001b[0;34m**\u001b[0m\u001b[0mkwargs\u001b[0m\u001b[0;34m)\u001b[0m\u001b[0;34m\u001b[0m\u001b[0;34m\u001b[0m\u001b[0m\n\u001b[0m\u001b[1;32m   1748\u001b[0m \u001b[0;34m\u001b[0m\u001b[0m\n\u001b[1;32m   1749\u001b[0m         \u001b[0mresult\u001b[0m \u001b[0;34m=\u001b[0m \u001b[0;32mNone\u001b[0m\u001b[0;34m\u001b[0m\u001b[0;34m\u001b[0m\u001b[0m\n",
            "\u001b[0;32m/usr/local/lib/python3.10/dist-packages/torch/nn/modules/conv.py\u001b[0m in \u001b[0;36mforward\u001b[0;34m(self, input)\u001b[0m\n\u001b[1;32m    552\u001b[0m \u001b[0;34m\u001b[0m\u001b[0m\n\u001b[1;32m    553\u001b[0m     \u001b[0;32mdef\u001b[0m \u001b[0mforward\u001b[0m\u001b[0;34m(\u001b[0m\u001b[0mself\u001b[0m\u001b[0;34m,\u001b[0m \u001b[0minput\u001b[0m\u001b[0;34m:\u001b[0m \u001b[0mTensor\u001b[0m\u001b[0;34m)\u001b[0m \u001b[0;34m->\u001b[0m \u001b[0mTensor\u001b[0m\u001b[0;34m:\u001b[0m\u001b[0;34m\u001b[0m\u001b[0;34m\u001b[0m\u001b[0m\n\u001b[0;32m--> 554\u001b[0;31m         \u001b[0;32mreturn\u001b[0m \u001b[0mself\u001b[0m\u001b[0;34m.\u001b[0m\u001b[0m_conv_forward\u001b[0m\u001b[0;34m(\u001b[0m\u001b[0minput\u001b[0m\u001b[0;34m,\u001b[0m \u001b[0mself\u001b[0m\u001b[0;34m.\u001b[0m\u001b[0mweight\u001b[0m\u001b[0;34m,\u001b[0m \u001b[0mself\u001b[0m\u001b[0;34m.\u001b[0m\u001b[0mbias\u001b[0m\u001b[0;34m)\u001b[0m\u001b[0;34m\u001b[0m\u001b[0;34m\u001b[0m\u001b[0m\n\u001b[0m\u001b[1;32m    555\u001b[0m \u001b[0;34m\u001b[0m\u001b[0m\n\u001b[1;32m    556\u001b[0m \u001b[0;34m\u001b[0m\u001b[0m\n",
            "\u001b[0;32m/usr/local/lib/python3.10/dist-packages/torch/nn/modules/conv.py\u001b[0m in \u001b[0;36m_conv_forward\u001b[0;34m(self, input, weight, bias)\u001b[0m\n\u001b[1;32m    547\u001b[0m                 \u001b[0mself\u001b[0m\u001b[0;34m.\u001b[0m\u001b[0mgroups\u001b[0m\u001b[0;34m,\u001b[0m\u001b[0;34m\u001b[0m\u001b[0;34m\u001b[0m\u001b[0m\n\u001b[1;32m    548\u001b[0m             )\n\u001b[0;32m--> 549\u001b[0;31m         return F.conv2d(\n\u001b[0m\u001b[1;32m    550\u001b[0m             \u001b[0minput\u001b[0m\u001b[0;34m,\u001b[0m \u001b[0mweight\u001b[0m\u001b[0;34m,\u001b[0m \u001b[0mbias\u001b[0m\u001b[0;34m,\u001b[0m \u001b[0mself\u001b[0m\u001b[0;34m.\u001b[0m\u001b[0mstride\u001b[0m\u001b[0;34m,\u001b[0m \u001b[0mself\u001b[0m\u001b[0;34m.\u001b[0m\u001b[0mpadding\u001b[0m\u001b[0;34m,\u001b[0m \u001b[0mself\u001b[0m\u001b[0;34m.\u001b[0m\u001b[0mdilation\u001b[0m\u001b[0;34m,\u001b[0m \u001b[0mself\u001b[0m\u001b[0;34m.\u001b[0m\u001b[0mgroups\u001b[0m\u001b[0;34m\u001b[0m\u001b[0;34m\u001b[0m\u001b[0m\n\u001b[1;32m    551\u001b[0m         )\n",
            "\u001b[0;31mRuntimeError\u001b[0m: Given groups=1, weight of size [16, 3, 3, 3], expected input[64, 1, 28, 28] to have 3 channels, but got 1 channels instead"
          ]
        }
      ],
      "source": [
        "criterion = nn.CrossEntropyLoss()  # 다중 클래스 분류를 위한 손실 함수\n",
        "optimizer = optim.Adam(model.parameters(), lr=0.0001)  # Adam 옵티마이저\n",
        "\n",
        "train_losses = []\n",
        "test_losses = []\n",
        "\n",
        "# 학습 횟수 만큼 반복\n",
        "for epoch in range(10):\n",
        "\n",
        "    # 모델 학습(학습데이터)\n",
        "    train_loss = train(model, train_loader, criterion, optimizer, device)\n",
        "    train_losses.append(train_loss)\n",
        "\n",
        "    # 모델 평가 (평가데이터)\n",
        "    test_loss = evaluate(model, test_loader, criterion, device)\n",
        "    test_losses.append(test_loss)\n",
        "\n",
        "    print(f'Epoch {epoch+1} Train Loss : {train_loss} Test Loss : {test_loss}')"
      ]
    },
    {
      "cell_type": "code",
      "source": [
        "plot_training_results(train_losses, test_losses)"
      ],
      "metadata": {
        "colab": {
          "base_uri": "https://localhost:8080/",
          "height": 348
        },
        "id": "8e7h-fIfvsIS",
        "outputId": "abfe4b8a-2c3f-4927-b648-d5d21c682a53"
      },
      "id": "8e7h-fIfvsIS",
      "execution_count": null,
      "outputs": [
        {
          "output_type": "display_data",
          "data": {
            "text/plain": [
              "<Figure size 1200x500 with 1 Axes>"
            ],
            "image/png": "[encoded data removed]"
          },
          "metadata": {}
        }
      ]
    },
    {
      "cell_type": "markdown",
      "id": "315777d2",
      "metadata": {
        "id": "315777d2"
      },
      "source": [
        "## 연습문제-05-001 (배치, 3, 32, 32)\n",
        "\n",
        "1.   항목 추가\n",
        "2.   항목 추가\n",
        "\n",
        "입력을 받는 CNN 모델 설계 (Sequential 방식)"
      ]
    },
    {
      "cell_type": "code",
      "execution_count": null,
      "id": "d89d1965",
      "metadata": {
        "id": "d89d1965",
        "colab": {
          "base_uri": "https://localhost:8080/"
        },
        "outputId": "95013c1b-abf6-4403-f4da-46961c818292"
      },
      "outputs": [
        {
          "output_type": "execute_result",
          "data": {
            "text/plain": [
              "==========================================================================================\n",
              "Layer (type:depth-idx)                   Output Shape              Param #\n",
              "==========================================================================================\n",
              "Sequential                               [64, 10]                  --\n",
              "├─Conv2d: 1-1                            [64, 16, 32, 32]          448\n",
              "├─ReLU: 1-2                              [64, 16, 32, 32]          --\n",
              "├─MaxPool2d: 1-3                         [64, 16, 16, 16]          --\n",
              "├─Conv2d: 1-4                            [64, 32, 16, 16]          4,640\n",
              "├─ReLU: 1-5                              [64, 32, 16, 16]          --\n",
              "├─MaxPool2d: 1-6                         [64, 32, 8, 8]            --\n",
              "├─Conv2d: 1-7                            [64, 64, 8, 8]            18,496\n",
              "├─ReLU: 1-8                              [64, 64, 8, 8]            --\n",
              "├─MaxPool2d: 1-9                         [64, 64, 4, 4]            --\n",
              "├─Flatten: 1-10                          [64, 1024]                --\n",
              "├─Linear: 1-11                           [64, 128]                 131,200\n",
              "├─ReLU: 1-12                             [64, 128]                 --\n",
              "├─Linear: 1-13                           [64, 10]                  1,290\n",
              "==========================================================================================\n",
              "Total params: 156,074\n",
              "Trainable params: 156,074\n",
              "Non-trainable params: 0\n",
              "Total mult-adds (M): 189.62\n",
              "==========================================================================================\n",
              "Input size (MB): 0.79\n",
              "Forward/backward pass size (MB): 14.75\n",
              "Params size (MB): 0.62\n",
              "Estimated Total Size (MB): 16.16\n",
              "=========================================================================================="
            ]
          },
          "metadata": {},
          "execution_count": 67
        }
      ],
      "source": [
        "# 이 모델은 이미지 분류를 위한 CNN 모델로, 세 개의 합성곱층(Convolutional Layer)과 완전 연결층(Fully Connected Layer)으로 구성됩니다.\n",
        "# 입력 데이터는 (배치 크기, 3, 32, 32) 형태를 가지며, 다음과 같은 단계로 설계됩니다.\n",
        "# 1. 첫 번째 합성곱층:\n",
        "#    - 입력 채널: 3 (RGB 이미지)\n",
        "#    - 출력 채널: 16\n",
        "#    - 커널 크기: 3x3\n",
        "#    - 패딩: 1 (출력 크기가 입력 크기와 동일하게 유지되도록 설정)\n",
        "#    - 비선형성을 부여하기 위해 ReLU 활성화 함수 추가\n",
        "#    - 공간 해상도를 축소하기 위해 Max Pooling 레이어 추가 (커널 크기 2x2, 스트라이드 2)\n",
        "# 2. 두 번째 합성곱층:\n",
        "#    - 입력 채널: 16\n",
        "#    - 출력 채널: 32\n",
        "#    - 커널 크기: 3x3\n",
        "#    - 패딩: 1\n",
        "#    - 활성화 함수로 ReLU 적용\n",
        "#    - Max Pooling 레이어 추가 (커널 크기 2x2, 스트라이드 2)\n",
        "# 3. 세 번째 합성곱층:\n",
        "#    - 입력 채널: 32\n",
        "#    - 출력 채널: 64\n",
        "#    - 커널 크기: 3x3\n",
        "#    - 패딩: 1\n",
        "#    - ReLU 활성화 함수 적용\n",
        "#    -  Max Pooling 레이어 추가 (커널 크기 2x2, 스트라이드 2)\n",
        "# 4. Flatten 레이어:\n",
        "#    - 다차원 텐서를 이차원 텐서로 변환\n",
        "#    - Conv 레이어와 Max Pooling을 거친 후 (배치 크기, 64, 4, 4) 형태의 텐서를 이차원 텐서로 변환 변환하여 fully connected layer에 입력\n",
        "# 5. 첫 번째 완전 연결층:\n",
        "#    - Conv 레이어 출력을 128차원 출력으로 변환\n",
        "#    - ReLU 활성화 함수 추가\n",
        "# 6. 최종 출력층:\n",
        "#    - 10개의 클래스로 분류 (활성화 함수는 분류 목적에 따라 추가 설정 가능)\n",
        "\n",
        "# 이 모델은 이미지 분류를 위한 CNN 모델로, 세 개의 합성곱층(Convolutional Layer)과 완전 연결층(Fully Connected Layer)으로 구성됩니다.\n",
        "# 입력 데이터는 (배치 크기, 3, 32, 32) 형태를 가지며, 다음과 같은 단계로 설계됩니다.\n",
        "# 1. 첫 번째 합성곱층:\n",
        "#    - 입력 채널: 3 (RGB 이미지)\n",
        "#    - 출력 채널: 16\n",
        "#    - 커널 크기: 3x3\n",
        "#    - 패딩: 1 (출력 크기가 입력 크기와 동일하게 유지되도록 설정)\n",
        "#    - 비선형성을 부여하기 위해 ReLU 활성화 함수 추가\n",
        "#    - 공간 해상도를 축소하기 위해 Max Pooling 레이어 추가 (커널 크기 2x2, 스트라이드 2)\n",
        "# 2. 두 번째 합성곱층:\n",
        "#    - 입력 채널: 16\n",
        "#    - 출력 채널: 32\n",
        "#    - 커널 크기: 3x3\n",
        "#    - 패딩: 1\n",
        "#    - 활성화 함수로 ReLU 적용\n",
        "#    - Max Pooling 레이어 추가 (커널 크기 2x2, 스트라이드 2)\n",
        "# 3. 세 번째 합성곱층:\n",
        "#    - 입력 채널: 32\n",
        "#    - 출력 채널: 64\n",
        "#    - 커널 크기: 3x3\n",
        "#    - 패딩: 1\n",
        "#    - ReLU 활성화 함수 적용\n",
        "#    -  Max Pooling 레이어 추가 (커널 크기 2x2, 스트라이드 2)\n",
        "# 4. Flatten 레이어:\n",
        "#    - 다차원 텐서를 이차원 텐서로 변환\n",
        "#    - Conv 레이어와 Max Pooling을 거친 후 (배치 크기, 64, 4, 4) 형태의 텐서를 이차원 텐서로 변환 변환하여 fully connected layer에 입력\n",
        "# 5. 첫 번째 완전 연결층:\n",
        "#    - Conv 레이어 출력을 128차원 출력으로 변환\n",
        "#    - ReLU 활성화 함수 추가\n",
        "# 6. 최종 출력층:\n",
        "#    - 10개의 클래스로 분류 (활성화 함수는 분류 목적에 따라 추가 설정 가능)\n",
        "\n",
        "model = nn.Sequential(\n",
        "    nn.Conv2d(in_channels=3, out_channels=16, kernel_size=3, padding=1),\n",
        "    nn.ReLU(),\n",
        "    nn.MaxPool2d(kernel_size=2, stride=2, padding=0),\n",
        "\n",
        "    nn.Conv2d(in_channels=16, out_channels=32, kernel_size=3, padding=1),\n",
        "    nn.ReLU(),\n",
        "    nn.MaxPool2d(kernel_size=2, stride=2, padding=0),\n",
        "\n",
        "    nn.Conv2d(in_channels=32, out_channels=64, kernel_size=3, padding=1),\n",
        "    nn.ReLU(),\n",
        "    nn.MaxPool2d(kernel_size=2, stride=2, padding=0),\n",
        "\n",
        "    nn.Flatten(),\n",
        "    nn.Linear(64 * 4 * 4, 128),\n",
        "    nn.ReLU(),\n",
        "    nn.Linear(128, 10)\n",
        ")\n",
        "\n",
        "\n",
        "# class CNN2(nn.Module):\n",
        "#     def __init__(self):\n",
        "#         super().__init__()\n",
        "#         self.conv_layers1 = nn.Conv2d(in_channels=3, out_channels=16, kernel_size=3, padding=1)  # 수정: out_channes -> out_channels        self.pool = nn.MaxPool2d(kernel_size=2, stride=2, padding=0)\n",
        "#         self.conv_layers2 = nn.Conv2d(in_channels=16, out_channels=32, kernel_size=3, padding=1)\n",
        "#         self.conv_layers3 = nn.Conv2d(in_channels=32, out_channels=64, kernel_size=3, padding=1)\n",
        "#         self.flatten = nn.Flatten()\n",
        "#         self.fc_layers1 = nn.Linear(64 * 4 * 4, 128)\n",
        "#         self.fc_layers2 = nn.Linear(128, 10)\n",
        "#         self.relu = nn.ReLU()\n",
        "#         self.pool = nn.MaxPool2d(kernel_size=2, stride=2, padding=0)  # self.pool로 수정\n",
        "\n",
        "\n",
        "#     def forward(self, x):\n",
        "#         x = self.pool(self.relu(self.conv_layers1(x)))\n",
        "#         x = self.pool(self.relu(self.conv_layers2(x)))\n",
        "#         x = self.pool(self.relu(self.conv_layers3(x)))\n",
        "#         x = self.flatten(x)\n",
        "#         x = self.relu(self.fc_layers1(x))\n",
        "#         x = self.fc_layers2(x)\n",
        "#         return x\n",
        "\n",
        "# # 모델 요약 출력\n",
        "# model = CNN2().to(device)\n",
        "summary(model, input_size=(64, 3, 32, 32))\n",
        "\n",
        "\n",
        "\n",
        "# model2 = nn.Sequential(\n",
        "#     nn.Conv2d(3, 16, 3, 1, 1), # (B, 3, 32, 32) > (B, 16, 32, 32)\n",
        "#     nn.ReLU(),\n",
        "#     nn.MaxPool2d(2, 2),        # (B, 16, 32, 32) > (B, 16, 16, 16)\n",
        "#     nn.Conv2d(16, 32, 3, 1, 1), # (B, 16, 16, 16) > (B, 32, 16, 16)\n",
        "#     nn.ReLU(),\n",
        "#     nn.MaxPool2d(2, 2),         # (B, 32, 16, 16) > (B, 32, 8, 8)\n",
        "#     nn.Conv2d(32, 64, 3, 1, 1), # (B, 64, 8, 8) > (B, 64, 8, 8)\n",
        "#     nn.ReLU(),\n",
        "#     nn.MaxPool2d(2, 2),         # (B, 64, 8, 8) > (B, 64, 4, 4)\n",
        "#     nn.Flatten(),               # (B, 64, 4, 4) > (B, 1024)\n",
        "#     nn.Linear(1024, 128),      # (B, 1024) > (B, 128)\n",
        "#     nn.ReLU(),\n",
        "#     nn.Linear(128, 10),       # 다중 분류 > 손실함수에 softmax 포함 > 출력층의 활성화함수 지정 X\n",
        "# )\n",
        "# summary(model2, input_size=(10, 3, 32, 32))"
      ]
    },
    {
      "cell_type": "code",
      "source": [],
      "metadata": {
        "id": "ZpPDseqf0nfI"
      },
      "id": "ZpPDseqf0nfI",
      "execution_count": null,
      "outputs": []
    },
    {
      "cell_type": "markdown",
      "id": "749135a9",
      "metadata": {
        "id": "749135a9"
      },
      "source": [
        "## 연습문제-05-002 (배치, 3, 224, 224) 입력을 받는 CNN 모델 설계 (Module 방식)"
      ]
    },
    {
      "cell_type": "code",
      "execution_count": null,
      "id": "6856c580",
      "metadata": {
        "id": "6856c580",
        "colab": {
          "base_uri": "https://localhost:8080/"
        },
        "outputId": "0ebd4230-2fd8-40c8-9d11-1c5829ce16c9"
      },
      "outputs": [
        {
          "output_type": "execute_result",
          "data": {
            "text/plain": [
              "==========================================================================================\n",
              "Layer (type:depth-idx)                   Output Shape              Param #\n",
              "==========================================================================================\n",
              "CNN3                                     [64, 2]                   --\n",
              "├─Conv2d: 1-1                            [64, 256, 224, 224]       7,168\n",
              "├─ReLU: 1-2                              [64, 256, 224, 224]       --\n",
              "├─MaxPool2d: 1-3                         [64, 256, 112, 112]       --\n",
              "├─Conv2d: 1-4                            [64, 128, 112, 112]       295,040\n",
              "├─ReLU: 1-5                              [64, 128, 112, 112]       --\n",
              "├─MaxPool2d: 1-6                         [64, 128, 56, 56]         --\n",
              "├─Conv2d: 1-7                            [64, 64, 56, 56]          73,792\n",
              "├─ReLU: 1-8                              [64, 64, 56, 56]          --\n",
              "├─MaxPool2d: 1-9                         [64, 64, 28, 28]          --\n",
              "├─Conv2d: 1-10                           [64, 32, 28, 28]          18,464\n",
              "├─ReLU: 1-11                             [64, 32, 28, 28]          --\n",
              "├─MaxPool2d: 1-12                        [64, 32, 14, 14]          --\n",
              "├─Flatten: 1-13                          [64, 6272]                --\n",
              "├─Linear: 1-14                           [64, 256]                 1,605,888\n",
              "├─ReLU: 1-15                             [64, 256]                 --\n",
              "├─Linear: 1-16                           [64, 2]                   514\n",
              "==========================================================================================\n",
              "Total params: 2,000,866\n",
              "Trainable params: 2,000,866\n",
              "Non-trainable params: 0\n",
              "Total mult-adds (G): 275.72\n",
              "==========================================================================================\n",
              "Input size (MB): 38.54\n",
              "Forward/backward pass size (MB): 7514.49\n",
              "Params size (MB): 8.00\n",
              "Estimated Total Size (MB): 7561.03\n",
              "=========================================================================================="
            ]
          },
          "metadata": {},
          "execution_count": 64
        }
      ],
      "source": [
        "# CNN 모델 설계 가이드\n",
        "\n",
        "# 이 모델은 이미지 분류를 위한 CNN 모델로, 네 개의 합성곱층(Convolutional Layer)과 풀링층(Max Pooling Layer),\n",
        "# 그리고 두 개의 완전 연결층(Fully Connected Layer)으로 구성됩니다.\n",
        "# 입력 데이터는 (배치 크기, 3, 224, 224) 형태를 가지며, 다음과 같은 단계로 설계됩니다.\n",
        "\n",
        "# 1. 첫 번째 합성곱층:\n",
        "#    - 입력 채널: 3 (RGB 이미지)\n",
        "#    - 출력 채널: 256\n",
        "#    - 커널 크기: 3x3\n",
        "#    - 패딩: 1 (출력 크기를 입력 크기와 동일하게 유지)\n",
        "#    - 활성화 함수: ReLU를 사용하여 비선형성 부여\n",
        "#    - 첫 번째 풀링층: 커널 크기 2x2, 스트라이드 2를 사용하여 공간 해상도를 절반으로 줄임 (출력 크기: (112, 112))\n",
        "# 2. 두 번째 합성곱층:\n",
        "#    - 입력 채널: 256\n",
        "#    - 출력 채널: 128\n",
        "#    - 커널 크기: 3x3\n",
        "#    - 패딩: 1\n",
        "#    - 활성화 함수: ReLU 사용\n",
        "#    - 두 번째 풀링층: 커널 크기 2x2, 스트라이드 2를 사용하여 공간 해상도를 절반으로 줄임 (출력 크기: (56, 56))\n",
        "# 3. 세 번째 합성곱층:\n",
        "#    - 입력 채널: 128\n",
        "#    - 출력 채널: 64\n",
        "#    - 커널 크기: 3x3\n",
        "#    - 패딩: 1\n",
        "#    - 활성화 함수: ReLU 사용\n",
        "#    - 세 번째 풀링층: 커널 크기 2x2, 스트라이드 2를 사용하여 공간 해상도를 절반으로 줄임 (출력 크기: (28, 28))\n",
        "# 4. 네 번째 합성곱층:\n",
        "#    - 입력 채널: 64\n",
        "#    - 출력 채널: 32\n",
        "#    - 커널 크기: 3x3\n",
        "#    - 패딩: 1\n",
        "#    - 활성화 함수: ReLU 사용\n",
        "#    - 네 번째 풀링층: 커널 크기 2x2, 스트라이드 2를 사용하여 공간 해상도를 절반으로 줄임 (출력 크기: (14, 14))\n",
        "# 5. Flatten 레이어:\n",
        "#    - 네 번째 풀링 이후의 다차원 텐서를 이차원 텐서로 변환하여 fully connected layer에 입력\n",
        "#    - Conv 레이어와 풀링층을 거친 후 (32, 14, 14) 형태의 텐서를 이차원 텐서로 변환\n",
        "# 6. 첫 번째 완전 연결층:\n",
        "#    - Conv 레이어 출력을 낮은 차원(256)으로 줄임\n",
        "#    - 활성화 함수: ReLU 사용\n",
        "# 7. 두 번째 완전 연결층:\n",
        "#    - 최종적으로 두 개의 클래스로 분류\n",
        "\n",
        "class CNN3(nn.Module):\n",
        "    def __init__(self):\n",
        "        super().__init__()\n",
        "        self.conv_layer1 = nn.Conv2d(in_channels=3, out_channels=256, kernel_size=3, padding=1)\n",
        "        self.relu = nn.ReLU()\n",
        "        self.pool = nn.MaxPool2d(kernel_size=2, padding=0, stride=2)\n",
        "        self.conv_layer2 = nn.Conv2d(in_channels=256, out_channels=128, kernel_size=3, padding=1)\n",
        "\n",
        "        self.conv_layer3 = nn.Conv2d(in_channels=128, out_channels=64, kernel_size=3, padding=1)\n",
        "        self.conv_layer4 = nn.Conv2d(in_channels=64, out_channels=32, padding=1, kernel_size=3)\n",
        "        self.flatten = nn.Flatten()\n",
        "        self.fc1 = nn.Linear(32 * 14 * 14, 256)\n",
        "        self.fc2 = nn.Linear(256, 2)\n",
        "\n",
        "    def forward(self, x):\n",
        "        x = self.pool(self.relu(self.conv_layer1(x)))\n",
        "        x = self.pool(self.relu(self.conv_layer2(x)))\n",
        "        x = self.pool(self.relu(self.conv_layer3(x)))\n",
        "        x = self.pool(self.relu(self.conv_layer4(x)))\n",
        "\n",
        "        x = self.flatten(x)\n",
        "        x = self.relu(self.fc1(x))\n",
        "        x = self.fc2(x)\n",
        "        return x\n",
        "\n",
        "model = CNN3().to(device)\n",
        "summary(model, input_size=(64, 3, 224, 224))"
      ]
    },
    {
      "cell_type": "markdown",
      "id": "705e3165",
      "metadata": {
        "id": "705e3165"
      },
      "source": [
        "## 05-012 JAEN 패키지에서 CNN 모델 불러오기"
      ]
    },
    {
      "cell_type": "code",
      "execution_count": null,
      "id": "2c6a198e",
      "metadata": {
        "id": "2c6a198e",
        "outputId": "224c96d3-c59b-412e-d404-5f2ea4a329f3"
      },
      "outputs": [
        {
          "name": "stdout",
          "output_type": "stream",
          "text": [
            "Pretrained weights loaded successfully on cuda.\n"
          ]
        },
        {
          "data": {
            "text/plain": [
              "==========================================================================================\n",
              "Layer (type:depth-idx)                   Output Shape              Param #\n",
              "==========================================================================================\n",
              "CNNModel                                 [64, 10]                  --\n",
              "├─Sequential: 1-1                        [64, 32, 7, 7]            --\n",
              "│    └─Conv2d: 2-1                       [64, 16, 28, 28]          160\n",
              "│    └─ReLU: 2-2                         [64, 16, 28, 28]          --\n",
              "│    └─Conv2d: 2-3                       [64, 16, 28, 28]          2,320\n",
              "│    └─ReLU: 2-4                         [64, 16, 28, 28]          --\n",
              "│    └─MaxPool2d: 2-5                    [64, 16, 14, 14]          --\n",
              "│    └─Conv2d: 2-6                       [64, 32, 14, 14]          4,640\n",
              "│    └─ReLU: 2-7                         [64, 32, 14, 14]          --\n",
              "│    └─Conv2d: 2-8                       [64, 32, 14, 14]          9,248\n",
              "│    └─ReLU: 2-9                         [64, 32, 14, 14]          --\n",
              "│    └─MaxPool2d: 2-10                   [64, 32, 7, 7]            --\n",
              "├─Sequential: 1-2                        [64, 10]                  --\n",
              "│    └─Linear: 2-11                      [64, 128]                 200,832\n",
              "│    └─ReLU: 2-12                        [64, 128]                 --\n",
              "│    └─Linear: 2-13                      [64, 10]                  1,290\n",
              "==========================================================================================\n",
              "Total params: 218,490\n",
              "Trainable params: 218,490\n",
              "Non-trainable params: 0\n",
              "Total mult-adds (M): 311.58\n",
              "==========================================================================================\n",
              "Input size (MB): 0.20\n",
              "Forward/backward pass size (MB): 19.34\n",
              "Params size (MB): 0.87\n",
              "Estimated Total Size (MB): 20.41\n",
              "=========================================================================================="
            ]
          },
          "metadata": {},
          "output_type": "display_data"
        }
      ],
      "source": [
        "# JAEN 패키지에서 CNN 모델 가져오기\n",
        "from JAEN.models import CNNModel\n",
        "\n",
        "# CNN 모델 불러오기 (pretrained=True)\n",
        "model = CNNModel(pretrained=True)\n",
        "\n",
        "# 모델 정보 확인\n",
        "summary(model, (64, 1, 28, 28))"
      ]
    },
    {
      "cell_type": "markdown",
      "id": "2b630cd8",
      "metadata": {
        "id": "2b630cd8"
      },
      "source": [
        "## 05-013 기존 Conv Block 동결"
      ]
    },
    {
      "cell_type": "code",
      "execution_count": null,
      "id": "8bc3ebd0",
      "metadata": {
        "id": "8bc3ebd0"
      },
      "outputs": [],
      "source": [
        "# 기존 Conv Block 동결\n",
        "for param in model.conv_layers.parameters():\n",
        "    param.requires_grad = False"
      ]
    },
    {
      "cell_type": "markdown",
      "id": "aa1c0224",
      "metadata": {
        "id": "aa1c0224"
      },
      "source": [
        "## 05-014 새로운 Fully Connected Block 설정"
      ]
    },
    {
      "cell_type": "code",
      "execution_count": null,
      "id": "c738a214",
      "metadata": {
        "id": "c738a214",
        "outputId": "103b6dca-7a89-4384-c229-91e1138996fb"
      },
      "outputs": [
        {
          "data": {
            "text/plain": [
              "==========================================================================================\n",
              "Layer (type:depth-idx)                   Output Shape              Param #\n",
              "==========================================================================================\n",
              "CNNModel                                 [64, 10]                  --\n",
              "├─Sequential: 1-1                        [64, 32, 7, 7]            --\n",
              "│    └─Conv2d: 2-1                       [64, 16, 28, 28]          (160)\n",
              "│    └─ReLU: 2-2                         [64, 16, 28, 28]          --\n",
              "│    └─Conv2d: 2-3                       [64, 16, 28, 28]          (2,320)\n",
              "│    └─ReLU: 2-4                         [64, 16, 28, 28]          --\n",
              "│    └─MaxPool2d: 2-5                    [64, 16, 14, 14]          --\n",
              "│    └─Conv2d: 2-6                       [64, 32, 14, 14]          (4,640)\n",
              "│    └─ReLU: 2-7                         [64, 32, 14, 14]          --\n",
              "│    └─Conv2d: 2-8                       [64, 32, 14, 14]          (9,248)\n",
              "│    └─ReLU: 2-9                         [64, 32, 14, 14]          --\n",
              "│    └─MaxPool2d: 2-10                   [64, 32, 7, 7]            --\n",
              "├─Sequential: 1-2                        [64, 10]                  --\n",
              "│    └─Linear: 2-11                      [64, 64]                  100,416\n",
              "│    └─ReLU: 2-12                        [64, 64]                  --\n",
              "│    └─Dropout: 2-13                     [64, 64]                  --\n",
              "│    └─Linear: 2-14                      [64, 10]                  650\n",
              "==========================================================================================\n",
              "Total params: 117,434\n",
              "Trainable params: 101,066\n",
              "Non-trainable params: 16,368\n",
              "Total mult-adds (M): 305.12\n",
              "==========================================================================================\n",
              "Input size (MB): 0.20\n",
              "Forward/backward pass size (MB): 19.31\n",
              "Params size (MB): 0.47\n",
              "Estimated Total Size (MB): 19.98\n",
              "=========================================================================================="
            ]
          },
          "metadata": {},
          "output_type": "display_data"
        }
      ],
      "source": [
        "# 새로운 Fully Connected Block 설정\n",
        "model.fc_layers = nn.Sequential(\n",
        "    nn.Linear(32 * 7 * 7, 64),  # 첫 번째 은닉층\n",
        "    nn.ReLU(),\n",
        "    nn.Dropout(p=0.5),           # 드롭아웃 추가\n",
        "    nn.Linear(64, 10)           # 출력층 (활성화 함수 없음)\n",
        ")\n",
        "\n",
        "# 디바이스 설정 (GPU 또는 CPU)\n",
        "model = model.to(device)\n",
        "summary(model, input_size=(64, 1, 28, 28))"
      ]
    },
    {
      "cell_type": "markdown",
      "id": "15f7c672",
      "metadata": {
        "id": "15f7c672"
      },
      "source": [
        "## 05-015 손실 함수 및 최적화 도구 정의와 학습 수행"
      ]
    },
    {
      "cell_type": "code",
      "execution_count": null,
      "id": "55afdf35",
      "metadata": {
        "id": "55afdf35",
        "outputId": "3811dc02-e34c-47d9-e8ba-fea0aea662fa"
      },
      "outputs": [
        {
          "name": "stdout",
          "output_type": "stream",
          "text": [
            "Epoch 1 Train Loss : 0.9184559824497207 Test Loss : 0.535254947508976\n",
            "Epoch 2 Train Loss : 0.5580318742024619 Test Loss : 0.4549265488697465\n",
            "Epoch 3 Train Loss : 0.48623669368308237 Test Loss : 0.4188112210316263\n",
            "Epoch 4 Train Loss : 0.44850601759483055 Test Loss : 0.39796151087921894\n",
            "Epoch 5 Train Loss : 0.42214306129384904 Test Loss : 0.38026131575654265\n",
            "Epoch 6 Train Loss : 0.4029718187254375 Test Loss : 0.37059153132377914\n",
            "Epoch 7 Train Loss : 0.38900315288160403 Test Loss : 0.3603085174112563\n",
            "Epoch 8 Train Loss : 0.3751396883938358 Test Loss : 0.3533905357312245\n",
            "Epoch 9 Train Loss : 0.36324829924335356 Test Loss : 0.34696398732388856\n",
            "Epoch 10 Train Loss : 0.35765811502298056 Test Loss : 0.34361342763065533\n"
          ]
        }
      ],
      "source": [
        "criterion = nn.CrossEntropyLoss()  # 다중 클래스 분류를 위한 손실 함수\n",
        "optimizer = optim.Adam(model.parameters(), lr=0.0001)  # Adam 옵티마이저\n",
        "\n",
        "train_losses = []\n",
        "test_losses = []\n",
        "\n",
        "# 학습 횟수 만큼 반복\n",
        "for epoch in range(10):\n",
        "\n",
        "    # 모델 학습(학습데이터)\n",
        "    train_loss = train(model, train_loader, criterion, optimizer, device)\n",
        "    train_losses.append(train_loss)\n",
        "\n",
        "    # 모델 평가 (평가데이터)\n",
        "    test_loss = evaluate(model, test_loader, criterion, device)\n",
        "    test_losses.append(test_loss)\n",
        "\n",
        "    print(f'Epoch {epoch+1} Train Loss : {train_loss} Test Loss : {test_loss}')"
      ]
    },
    {
      "cell_type": "markdown",
      "id": "42c969ef",
      "metadata": {
        "id": "42c969ef"
      },
      "source": [
        "## 05-016 마지막 두 Conv 레이어만 학습하도록 설정"
      ]
    },
    {
      "cell_type": "code",
      "execution_count": null,
      "id": "147603e9",
      "metadata": {
        "id": "147603e9"
      },
      "outputs": [],
      "source": [
        "# 마지막 두 Conv 레이어만 학습하도록 설정\n",
        "for name, p in model.conv_layers.named_parameters():\n",
        "    if name in ['5.weight', '5.bias', '7.weight', '7.bias']:\n",
        "        p.requires_grad = True"
      ]
    },
    {
      "cell_type": "markdown",
      "id": "84fec9b2",
      "metadata": {
        "id": "84fec9b2"
      },
      "source": [
        "## 05-017 손실 함수 및 최적화 도구 정의와 학습 수행"
      ]
    },
    {
      "cell_type": "code",
      "execution_count": null,
      "id": "13f7c734",
      "metadata": {
        "id": "13f7c734",
        "outputId": "2950eb43-dda9-4771-e0bb-603da5f169e4"
      },
      "outputs": [
        {
          "name": "stdout",
          "output_type": "stream",
          "text": [
            "Epoch 1 Train Loss : 0.2562257457993178 Test Loss : 0.2900268730535439\n",
            "Epoch 2 Train Loss : 0.2526044048654881 Test Loss : 0.28791431754020747\n",
            "Epoch 3 Train Loss : 0.24866115048464174 Test Loss : 0.2857395520160912\n",
            "Epoch 4 Train Loss : 0.24415511572793094 Test Loss : 0.2849016143305666\n",
            "Epoch 5 Train Loss : 0.24020394629665784 Test Loss : 0.28296955155244297\n",
            "Epoch 6 Train Loss : 0.23411783284501736 Test Loss : 0.2842044304154671\n",
            "Epoch 7 Train Loss : 0.23164488758439067 Test Loss : 0.2844553275425343\n",
            "Epoch 8 Train Loss : 0.23067897598721834 Test Loss : 0.28208893815138536\n",
            "Epoch 9 Train Loss : 0.22569878179349626 Test Loss : 0.2782272859387527\n",
            "Epoch 10 Train Loss : 0.22397975082685953 Test Loss : 0.27871274133064566\n"
          ]
        }
      ],
      "source": [
        "criterion = nn.CrossEntropyLoss()  # 다중 클래스 분류를 위한 손실 함수\n",
        "optimizer = optim.Adam(model.parameters(), lr=0.0001)  # Adam 옵티마이저\n",
        "\n",
        "train_losses = []\n",
        "test_losses = []\n",
        "\n",
        "# 학습 횟수 만큼 반복\n",
        "for epoch in range(10):\n",
        "\n",
        "    # 모델 학습(학습데이터)\n",
        "    train_loss = train(model, train_loader, criterion, optimizer, device)\n",
        "    train_losses.append(train_loss)\n",
        "\n",
        "    # 모델 평가 (평가데이터)\n",
        "    test_loss = evaluate(model, test_loader, criterion, device)\n",
        "    test_losses.append(test_loss)\n",
        "\n",
        "    print(f'Epoch {epoch+1} Train Loss : {train_loss} Test Loss : {test_loss}')"
      ]
    },
    {
      "cell_type": "markdown",
      "id": "f92fe164",
      "metadata": {
        "id": "f92fe164"
      },
      "source": [
        "# 06. 순환신경망 (RNN)"
      ]
    },
    {
      "cell_type": "code",
      "execution_count": null,
      "id": "e1494010",
      "metadata": {
        "id": "e1494010"
      },
      "outputs": [],
      "source": [
        "%%capture\n",
        "!pip install JAEN transformers -qU"
      ]
    },
    {
      "cell_type": "code",
      "execution_count": null,
      "id": "bd555cab",
      "metadata": {
        "id": "bd555cab",
        "colab": {
          "base_uri": "https://localhost:8080/"
        },
        "outputId": "f3f9b848-ed5c-4b75-a12e-c28ade769e65"
      },
      "outputs": [
        {
          "output_type": "execute_result",
          "data": {
            "text/plain": [
              "device(type='cpu')"
            ]
          },
          "metadata": {},
          "execution_count": 2
        }
      ],
      "source": [
        "import torch\n",
        "import torch.nn as nn\n",
        "import torch.optim as optim\n",
        "from torchinfo import summary\n",
        "from JAEN.utils import plot_training_results\n",
        "\n",
        "# device 설정 (GPU가 사용 가능하면 GPU로, 그렇지 않으면 CPU 사용)\n",
        "device = torch.device('cuda' if torch.cuda.is_available() else 'cpu')\n",
        "device"
      ]
    },
    {
      "cell_type": "markdown",
      "id": "ab1e79bc",
      "metadata": {
        "id": "ab1e79bc"
      },
      "source": [
        "## 06-001 Tokenizer 불러오기\n"
      ]
    },
    {
      "cell_type": "code",
      "execution_count": null,
      "id": "68ac1068",
      "metadata": {
        "id": "68ac1068",
        "colab": {
          "base_uri": "https://localhost:8080/",
          "height": 272,
          "referenced_widgets": [
            "5cb34837e4e746dc9733944d28d50a16",
            "8354292a46fa4ee48e71ab7efd89f34f",
            "c2a35f33dfaa4f6bb8fc232c0bde1b71",
            "fc6ae17c152d473ab871164fbadb5113",
            "13a71845780742918fb20b9982cff276",
            "dcc36c259e744306ab290eb258545acc",
            "e451bd8efcd3421a85dce2fe377e33d3",
            "f7f605441c6b4857977604733390985f",
            "5af26f4336964b4fb5066b33bc78cbe7",
            "9155979633d4478f97b2bd478eecfb56",
            "235b686f169d4b299655210a9a138b5b",
            "20c5713d8ca34cf48868c37822e6fea6",
            "2f6164cf38104269af911ddcd860caba",
            "9fb936444a2943fe86f8051bade24f7f",
            "67cb0b5b8fa745b0b72772b846b37747",
            "797446b785384dd7a88a16524c031fce",
            "ce6b74ff5fe54a1bad399547895adebf",
            "194b5c9226444deca82074110eac0f44",
            "a54974138aa845b6a2623ec17d9ebb1d",
            "a1968181c69c43c8a5be0adc865e2f79",
            "262f216531194160a1d91ee4fc3fd7b9",
            "9ef6d5fd55fe4d46ba0d6d29df806cc6",
            "1808a75010bd4672b352b25940feaa10",
            "ed7af61f0b3a4fd893488131b6e9fcd6",
            "4f18ca2ccef14af7809613a1bced8070",
            "d79d70549a9c4b9a89286fccce6b7947",
            "7e3b9a5c88d44f75aa301fb9c6d203e2",
            "39f682f120b34594914e80c9595b2de0",
            "68fb899853d24d1d882be6889f554763",
            "ededc4f885bf467a88f4140deca0db38",
            "ae13e61874094c63b1ae294d76c2e710",
            "c0f268330f774153b998b16e04996983",
            "72b4d8b0cb0c4d4bae1f1635db61e231",
            "241062e542b54c76a24e32b2e39010f8",
            "fc018d1e3441413d8294956d375eb22f",
            "2e94542a8215497f8665b51fa6b3b6f9",
            "10e2aabb8d864c3e8b9a7e0d436181ab",
            "03dc60b3fe41478f9367070f40ee9610",
            "8721bd5aed3d4adead5fa11220b37763",
            "2ea224091d9b4ba0a78a3f576bd296e3",
            "2444c654a0014e01840f13f826f66b60",
            "f31723a2abae451abc77367f5ca251a4",
            "0b74a3543c184eebaaf8fd8947254b92",
            "4b80c33e1b004312bffeb759d46b53c9"
          ]
        },
        "outputId": "eeacdf3d-63e0-47cb-ddc6-d8f784eb935d"
      },
      "outputs": [
        {
          "output_type": "stream",
          "name": "stderr",
          "text": [
            "/usr/local/lib/python3.10/dist-packages/huggingface_hub/utils/_auth.py:94: UserWarning: \n",
            "The secret `HF_TOKEN` does not exist in your Colab secrets.\n",
            "To authenticate with the Hugging Face Hub, create a token in your settings tab (https://huggingface.co/settings/tokens), set it as secret in your Google Colab and restart your session.\n",
            "You will be able to reuse this secret in all of your notebooks.\n",
            "Please note that authentication is recommended but still optional to access public models or datasets.\n",
            "  warnings.warn(\n"
          ]
        },
        {
          "output_type": "display_data",
          "data": {
            "text/plain": [
              "tokenizer_config.json:   0%|          | 0.00/49.0 [00:00<?, ?B/s]"
            ],
            "application/vnd.jupyter.widget-view+json": {
              "version_major": 2,
              "version_minor": 0,
              "model_id": "5cb34837e4e746dc9733944d28d50a16"
            }
          },
          "metadata": {}
        },
        {
          "output_type": "display_data",
          "data": {
            "text/plain": [
              "config.json:   0%|          | 0.00/570 [00:00<?, ?B/s]"
            ],
            "application/vnd.jupyter.widget-view+json": {
              "version_major": 2,
              "version_minor": 0,
              "model_id": "20c5713d8ca34cf48868c37822e6fea6"
            }
          },
          "metadata": {}
        },
        {
          "output_type": "display_data",
          "data": {
            "text/plain": [
              "vocab.txt:   0%|          | 0.00/213k [00:00<?, ?B/s]"
            ],
            "application/vnd.jupyter.widget-view+json": {
              "version_major": 2,
              "version_minor": 0,
              "model_id": "1808a75010bd4672b352b25940feaa10"
            }
          },
          "metadata": {}
        },
        {
          "output_type": "display_data",
          "data": {
            "text/plain": [
              "tokenizer.json:   0%|          | 0.00/436k [00:00<?, ?B/s]"
            ],
            "application/vnd.jupyter.widget-view+json": {
              "version_major": 2,
              "version_minor": 0,
              "model_id": "241062e542b54c76a24e32b2e39010f8"
            }
          },
          "metadata": {}
        }
      ],
      "source": [
        "from transformers import AutoTokenizer\n",
        "tokenizer = AutoTokenizer.from_pretrained(\"bert-base-cased\")"
      ]
    },
    {
      "cell_type": "markdown",
      "id": "71f8f063",
      "metadata": {
        "id": "71f8f063"
      },
      "source": [
        "## 06-002 토큰화 실습\n"
      ]
    },
    {
      "cell_type": "code",
      "execution_count": null,
      "id": "e6947fb6",
      "metadata": {
        "id": "e6947fb6",
        "outputId": "78de4feb-107e-4cad-b5d6-003cffeda37f",
        "colab": {
          "base_uri": "https://localhost:8080/"
        }
      },
      "outputs": [
        {
          "output_type": "execute_result",
          "data": {
            "text/plain": [
              "{'input_ids': [101, 19016, 26768, 102], 'token_type_ids': [0, 0, 0, 0], 'attention_mask': [1, 1, 1, 1]}"
            ]
          },
          "metadata": {},
          "execution_count": 4
        }
      ],
      "source": [
        "tokenizer(\"AI Essential\")"
      ]
    },
    {
      "cell_type": "markdown",
      "id": "e35ddbd5",
      "metadata": {
        "id": "e35ddbd5"
      },
      "source": [
        "## 06-003 토큰화된 텍스트 확인\n"
      ]
    },
    {
      "cell_type": "code",
      "execution_count": null,
      "id": "d875ce29",
      "metadata": {
        "id": "d875ce29",
        "outputId": "4f989151-84d7-40ee-d6e8-248a2dc44e97",
        "colab": {
          "base_uri": "https://localhost:8080/"
        }
      },
      "outputs": [
        {
          "output_type": "execute_result",
          "data": {
            "text/plain": [
              "['AI', 'Essential']"
            ]
          },
          "metadata": {},
          "execution_count": 5
        }
      ],
      "source": [
        "tokens = tokenizer.tokenize(\"AI Essential\")\n",
        "tokens"
      ]
    },
    {
      "cell_type": "markdown",
      "id": "c4a64aae",
      "metadata": {
        "id": "c4a64aae"
      },
      "source": [
        "## 06-004 토큰을 ID로 변환\n"
      ]
    },
    {
      "cell_type": "code",
      "execution_count": null,
      "id": "72e4440a",
      "metadata": {
        "id": "72e4440a",
        "outputId": "c25dab65-4a0c-40ba-d44f-3a88d8b3a96f",
        "colab": {
          "base_uri": "https://localhost:8080/"
        }
      },
      "outputs": [
        {
          "output_type": "execute_result",
          "data": {
            "text/plain": [
              "[19016, 26768]"
            ]
          },
          "metadata": {},
          "execution_count": 6
        }
      ],
      "source": [
        "ids = tokenizer.convert_tokens_to_ids(tokens)\n",
        "ids"
      ]
    },
    {
      "cell_type": "markdown",
      "id": "65fa9bb9",
      "metadata": {
        "id": "65fa9bb9"
      },
      "source": [
        "## 06-005 토큰 ID를 텍스트로 디코딩\n"
      ]
    },
    {
      "cell_type": "code",
      "execution_count": null,
      "id": "d5270b98",
      "metadata": {
        "id": "d5270b98",
        "outputId": "55e96d09-1917-471c-e453-58ab90766c7b",
        "colab": {
          "base_uri": "https://localhost:8080/",
          "height": 36
        }
      },
      "outputs": [
        {
          "output_type": "execute_result",
          "data": {
            "text/plain": [
              "'AI Essential'"
            ],
            "application/vnd.google.colaboratory.intrinsic+json": {
              "type": "string"
            }
          },
          "metadata": {},
          "execution_count": 7
        }
      ],
      "source": [
        "tokenizer.decode(ids)"
      ]
    },
    {
      "cell_type": "markdown",
      "id": "c30d7aac",
      "metadata": {
        "id": "c30d7aac"
      },
      "source": [
        "## 06-006 임베딩 모듈 생성 및 사용\n"
      ]
    },
    {
      "cell_type": "code",
      "execution_count": null,
      "id": "b069d512",
      "metadata": {
        "id": "b069d512",
        "outputId": "4976a2ee-47e6-42a0-b4d1-cc480aa1a9df",
        "colab": {
          "base_uri": "https://localhost:8080/"
        }
      },
      "outputs": [
        {
          "output_type": "stream",
          "name": "stdout",
          "text": [
            "입력 데이터 (정수 인덱스): tensor([2, 5, 7])\n",
            "임베딩 결과 (벡터):\n",
            " tensor([[ 0.7045,  0.0364, -0.5252,  0.9017, -0.3110],\n",
            "        [ 0.8818, -0.0704, -0.1269,  0.9743,  0.7110],\n",
            "        [ 1.3470,  1.6416, -1.3988,  0.1820, -0.5812]],\n",
            "       grad_fn=<EmbeddingBackward0>)\n"
          ]
        }
      ],
      "source": [
        "import torch\n",
        "import torch.nn as nn\n",
        "\n",
        "# 임베딩 모듈 생성 (정수 인덱스 10개, 각 인덱스는 5차원의 벡터로 매핑)\n",
        "embedding_layer = nn.Embedding(num_embeddings=10, embedding_dim=5)\n",
        "\n",
        "# 임베딩에 사용할 예시 입력 데이터 (정수 인덱스)\n",
        "# 여기서 [2, 5, 7]은 단어나 토큰에 해당한다고 가정\n",
        "input_data = torch.tensor([2, 5, 7])\n",
        "\n",
        "# 임베딩 레이어에 입력 데이터를 전달하여 벡터 변환\n",
        "embedded_output = embedding_layer(input_data)\n",
        "\n",
        "print(\"입력 데이터 (정수 인덱스):\", input_data)\n",
        "print(\"임베딩 결과 (벡터):\\n\", embedded_output)"
      ]
    },
    {
      "cell_type": "markdown",
      "id": "66fe567c",
      "metadata": {
        "id": "66fe567c"
      },
      "source": [
        "## 06-007 코퍼스 및 레이블 정의\n"
      ]
    },
    {
      "cell_type": "code",
      "execution_count": null,
      "id": "162435a8",
      "metadata": {
        "id": "162435a8"
      },
      "outputs": [],
      "source": [
        "corpus = [\n",
        "    'very good nice quality',\n",
        "    'stop lying',\n",
        "    'ugly terrible',\n",
        "    'excellent work',\n",
        "    'adorable lovely',\n",
        "    'bad',\n",
        "    'great nice'\n",
        "]\n",
        "y = torch.FloatTensor([1, 0, 0, 1, 1, 0, 1]).reshape(-1, 1)  # 0: 부정, 1: 긍정"
      ]
    },
    {
      "cell_type": "markdown",
      "id": "c7eeb8b2",
      "metadata": {
        "id": "c7eeb8b2"
      },
      "source": [
        "## 06-008 GPT2 토크나이저로 문장 변환\n"
      ]
    },
    {
      "cell_type": "code",
      "execution_count": null,
      "id": "43a6beb2",
      "metadata": {
        "id": "43a6beb2",
        "outputId": "af10ae69-3c9e-44c9-ff06-5949d0615ed6",
        "colab": {
          "base_uri": "https://localhost:8080/",
          "height": 131,
          "referenced_widgets": [
            "c9b20c336c604f0387b9fca1185905c1",
            "e200742184fd4a2e9b45adc67b1982ff",
            "43ceaa7b4087465ebfed0a95aafceab2",
            "bbb1bd9ec08e406b9243ec6514002d1e",
            "e7d03e16c12e49e3b58f54cd653b7216",
            "4dbd0357ee284914a54b8fc2b74a88dd",
            "4b5105feedce4e1a9a5c0f0bd81d2646",
            "40e04e4c06924114bf17c1864ad93a95",
            "b04f83e6488342d9b480b76d481ed8c2",
            "f0e49c9e3e284c778ba3d86cfc2c8830",
            "1032760f84bd4a0d9d27d71c436e400c",
            "fc92681d54a44658afa4a35ef1f2b52b",
            "4d0106e5876d44f19326143b97c0b3b1",
            "eb674533c0b74d17bc3690388b52b33d",
            "a12f35eedb1f4ecfadde3b009a08f44b",
            "ed32da0e7b5a42588a530130e82906c0",
            "c120cf77683e4344aca610430364c8a2",
            "3f9bc6f189d145ad8403e9579ac5e2ba",
            "c2a681af70ec4fab8bdbe1e6d662f846",
            "593fac93eeaa4fd79e7b1f180a7a93e3",
            "289234087d764b169f15763a1cfe0333",
            "1b8d6d31e228414ea2c6a7e292c920ae",
            "82988d183a0e48bc94a09bf4ef4e2b9c",
            "cc5f01eae07f4945bfcb9e27912999e1",
            "c566492be61748699509b4a143df4c71",
            "845eb5dbb7624033a38c902d0e34d5e4",
            "c9cfbfab1cf24c1dbfdfbaf99d501b2c",
            "824a552dd380401cb7fba56849253354",
            "13a00590ce31422c8009525afebe5a53",
            "35ca9836eafc4192893b45a38b9ac076",
            "9c641b08a72f40e4b28912ce1c260586",
            "2b96b947864b4bf1b58af98f553b6bba",
            "5f0cba6ae55548f98a22aa4380df3d44"
          ]
        }
      },
      "outputs": [
        {
          "output_type": "display_data",
          "data": {
            "text/plain": [
              "tokenizer_config.json:   0%|          | 0.00/560 [00:00<?, ?B/s]"
            ],
            "application/vnd.jupyter.widget-view+json": {
              "version_major": 2,
              "version_minor": 0,
              "model_id": "c9b20c336c604f0387b9fca1185905c1"
            }
          },
          "metadata": {}
        },
        {
          "output_type": "display_data",
          "data": {
            "text/plain": [
              "tokenizer.json:   0%|          | 0.00/977 [00:00<?, ?B/s]"
            ],
            "application/vnd.jupyter.widget-view+json": {
              "version_major": 2,
              "version_minor": 0,
              "model_id": "fc92681d54a44658afa4a35ef1f2b52b"
            }
          },
          "metadata": {}
        },
        {
          "output_type": "display_data",
          "data": {
            "text/plain": [
              "special_tokens_map.json:   0%|          | 0.00/51.0 [00:00<?, ?B/s]"
            ],
            "application/vnd.jupyter.widget-view+json": {
              "version_major": 2,
              "version_minor": 0,
              "model_id": "82988d183a0e48bc94a09bf4ef4e2b9c"
            }
          },
          "metadata": {}
        },
        {
          "output_type": "execute_result",
          "data": {
            "text/plain": [
              "[[14, 6, 2, 10], [11, 9], [13, 12], [5, 15], [3, 8], [4], [7, 2]]"
            ]
          },
          "metadata": {},
          "execution_count": 11
        }
      ],
      "source": [
        "from transformers import AutoTokenizer\n",
        "\n",
        "# GPT2 토크나이저 불러오기\n",
        "tokenizer = AutoTokenizer.from_pretrained(\n",
        "    'gmteacher/simple-word-tokenizer',\n",
        "    clean_up_tokenization_spaces=True)\n",
        "seqs = tokenizer(corpus)['input_ids']\n",
        "seqs  # 변환된 시퀀스"
      ]
    },
    {
      "cell_type": "markdown",
      "id": "c840c9aa",
      "metadata": {
        "id": "c840c9aa"
      },
      "source": [
        "## 06-009 토큰 ID를 단어로 복원\n"
      ]
    },
    {
      "cell_type": "code",
      "execution_count": null,
      "id": "e0fae070",
      "metadata": {
        "id": "e0fae070",
        "outputId": "ad001671-a977-4535-dd74-1dc8dcf599ea",
        "colab": {
          "base_uri": "https://localhost:8080/"
        }
      },
      "outputs": [
        {
          "output_type": "execute_result",
          "data": {
            "text/plain": [
              "['very good nice quality',\n",
              " 'stop lying',\n",
              " 'ugly terrible',\n",
              " 'excellent work',\n",
              " 'adorable lovely',\n",
              " 'bad',\n",
              " 'great nice']"
            ]
          },
          "metadata": {},
          "execution_count": 12
        }
      ],
      "source": [
        "# 시퀀스를 단어로 복원\n",
        "[tokenizer.decode(seq) for seq in seqs]"
      ]
    },
    {
      "cell_type": "markdown",
      "id": "72be44d1",
      "metadata": {
        "id": "72be44d1"
      },
      "source": [
        "## 06-010 시퀀스를 텐서로 변환하고 패딩\n"
      ]
    },
    {
      "cell_type": "code",
      "execution_count": null,
      "id": "24feb999",
      "metadata": {
        "id": "24feb999",
        "outputId": "e191a36c-fbb8-4d7e-8e8b-a3adfd667188",
        "colab": {
          "base_uri": "https://localhost:8080/"
        }
      },
      "outputs": [
        {
          "output_type": "execute_result",
          "data": {
            "text/plain": [
              "tensor([[14,  6,  2, 10],\n",
              "        [11,  9,  0,  0],\n",
              "        [13, 12,  0,  0],\n",
              "        [ 5, 15,  0,  0],\n",
              "        [ 3,  8,  0,  0],\n",
              "        [ 4,  0,  0,  0],\n",
              "        [ 7,  2,  0,  0]])"
            ]
          },
          "metadata": {},
          "execution_count": 13
        }
      ],
      "source": [
        "from torch.nn.utils.rnn import pad_sequence\n",
        "\n",
        "# 각 시퀀스를 텐서로 변환\n",
        "seqs = [torch.tensor(seq) for seq in seqs]\n",
        "\n",
        "# 패딩\n",
        "x = pad_sequence(seqs, batch_first=True)\n",
        "x"
      ]
    },
    {
      "cell_type": "markdown",
      "id": "e0273502",
      "metadata": {
        "id": "e0273502"
      },
      "source": [
        "## 06-011 텍스트 분류기 모델 정의\n"
      ]
    },
    {
      "cell_type": "code",
      "execution_count": null,
      "id": "b81c7db5",
      "metadata": {
        "id": "b81c7db5"
      },
      "outputs": [],
      "source": [
        "class TextClassifier(nn.Module):\n",
        "    def __init__(self, vocab_size, embed_dim, seq_len, num_class):\n",
        "        super().__init__()\n",
        "        # 임베딩 계층 추가\n",
        "        self.embedding = nn.Embedding(vocab_size, embed_dim)\n",
        "        self.flat = nn.Flatten()\n",
        "        self.fc = nn.Linear(embed_dim*seq_len, num_class)\n",
        "        self.sigmoid = nn.Sigmoid()\n",
        "\n",
        "    def forward(self, x):\n",
        "        out = self.embedding(x)\n",
        "        out = self.flat(out)\n",
        "        out = self.fc(out)\n",
        "        out = self.sigmoid(out)\n",
        "        return out"
      ]
    },
    {
      "cell_type": "markdown",
      "id": "0c63c065",
      "metadata": {
        "id": "0c63c065"
      },
      "source": [
        "## 06-012 텍스트 분류기 모델 인스턴스 생성 및 출력 테스트\n"
      ]
    },
    {
      "cell_type": "code",
      "execution_count": null,
      "id": "a38f9bfb",
      "metadata": {
        "id": "a38f9bfb",
        "outputId": "e564bee7-f797-423a-9cca-059b96a0b15e",
        "colab": {
          "base_uri": "https://localhost:8080/"
        }
      },
      "outputs": [
        {
          "output_type": "execute_result",
          "data": {
            "text/plain": [
              "torch.Size([1, 1])"
            ]
          },
          "metadata": {},
          "execution_count": 15
        }
      ],
      "source": [
        "torch.manual_seed(0)\n",
        "# 모델 인스턴스 생성\n",
        "model = TextClassifier(tokenizer.vocab_size, 2, x.shape[1], 1).to(device)\n",
        "\n",
        "# 출력 테스트\n",
        "output = model(x[:1].to(device))\n",
        "output.shape"
      ]
    },
    {
      "cell_type": "markdown",
      "id": "9c97c78e",
      "metadata": {
        "id": "9c97c78e"
      },
      "source": [
        "## 06-013 장치 적용\n"
      ]
    },
    {
      "cell_type": "code",
      "execution_count": null,
      "id": "1ffeea90",
      "metadata": {
        "id": "1ffeea90"
      },
      "outputs": [],
      "source": [
        "# 장치 적용\n",
        "x = x.to(device)\n",
        "y = y.to(device)"
      ]
    },
    {
      "cell_type": "code",
      "source": [
        "summary(model, input_data=x[:1])"
      ],
      "metadata": {
        "colab": {
          "base_uri": "https://localhost:8080/"
        },
        "id": "DKPl1cvc3BTG",
        "outputId": "28ef7f17-b7bb-4922-914d-a06c6f502ef1"
      },
      "id": "DKPl1cvc3BTG",
      "execution_count": null,
      "outputs": [
        {
          "output_type": "execute_result",
          "data": {
            "text/plain": [
              "==========================================================================================\n",
              "Layer (type:depth-idx)                   Output Shape              Param #\n",
              "==========================================================================================\n",
              "TextClassifier                           [1, 1]                    --\n",
              "├─Embedding: 1-1                         [1, 4, 2]                 32\n",
              "├─LSTM: 1-2                              [1, 4, 128]               67,584\n",
              "├─Linear: 1-3                            [1, 1]                    129\n",
              "├─Sigmoid: 1-4                           [1, 1]                    --\n",
              "==========================================================================================\n",
              "Total params: 67,745\n",
              "Trainable params: 67,745\n",
              "Non-trainable params: 0\n",
              "Total mult-adds (M): 0.27\n",
              "==========================================================================================\n",
              "Input size (MB): 0.00\n",
              "Forward/backward pass size (MB): 0.00\n",
              "Params size (MB): 0.27\n",
              "Estimated Total Size (MB): 0.28\n",
              "=========================================================================================="
            ]
          },
          "metadata": {},
          "execution_count": 34
        }
      ]
    },
    {
      "cell_type": "markdown",
      "id": "06a81207",
      "metadata": {
        "id": "06a81207"
      },
      "source": [
        "## 06-014 모델 학습 및 손실 계산\n"
      ]
    },
    {
      "cell_type": "code",
      "execution_count": null,
      "id": "486fd8be",
      "metadata": {
        "id": "486fd8be",
        "outputId": "6c055fc1-c812-4a62-bd78-1bc05582dc07",
        "colab": {
          "base_uri": "https://localhost:8080/"
        }
      },
      "outputs": [
        {
          "output_type": "stream",
          "name": "stdout",
          "text": [
            "epoch:    0, cost: 0.0000000002\n",
            "epoch: 1000, cost: 0.0000000001\n",
            "epoch: 2000, cost: 0.0000000001\n",
            "epoch: 3000, cost: 0.0000000001\n",
            "epoch: 4000, cost: 0.0000000000\n",
            "epoch: 5000, cost: 0.0000000000\n",
            "epoch: 6000, cost: 0.0000000000\n",
            "epoch: 7000, cost: 0.0000000000\n",
            "epoch: 8000, cost: 0.0000000000\n",
            "epoch: 9000, cost: 0.0000000000\n",
            "epoch: 10000, cost: 0.0000000000\n",
            "epoch: 11000, cost: 0.0000000000\n",
            "epoch: 12000, cost: 0.0000000000\n",
            "epoch: 13000, cost: 0.0000000000\n",
            "epoch: 14000, cost: 0.0000000000\n",
            "epoch: 15000, cost: 0.0000000000\n",
            "epoch: 16000, cost: 0.0000000000\n",
            "epoch: 17000, cost: 0.0000000000\n",
            "epoch: 18000, cost: 0.0000000000\n",
            "epoch: 19000, cost: 0.0000000000\n",
            "epoch: 20000, cost: 0.0000000000\n",
            "epoch: 21000, cost: 0.0000000000\n",
            "epoch: 22000, cost: 0.0000000000\n",
            "epoch: 23000, cost: 0.0000000000\n",
            "epoch: 24000, cost: 0.0000000000\n",
            "epoch: 25000, cost: 0.0000000000\n",
            "epoch: 26000, cost: 0.0000000000\n",
            "epoch: 27000, cost: 0.0000000000\n",
            "epoch: 28000, cost: 0.0000000000\n",
            "epoch: 29000, cost: 0.0000000000\n"
          ]
        }
      ],
      "source": [
        "loss_fn = nn.BCELoss()  # 손실 함수\n",
        "optimizer = optim.Adam(model.parameters())  # 최적화 도구(optimizer)\n",
        "\n",
        "epochs = 30000  # 최대 에폭 지정\n",
        "results = {'cost':[]}\n",
        "\n",
        "model.train()  # 학습 모드 설정\n",
        "\n",
        "for epoch in range(epochs):\n",
        "    h = model(x)  # 예측 값 생성(추론)\n",
        "    loss = loss_fn(h, y)  # 손실 계산\n",
        "\n",
        "    optimizer.zero_grad()  # 미분 값 초기화\n",
        "    loss.backward()  # 역전파(미분 계산)\n",
        "    optimizer.step()  # 업데이트 진행\n",
        "\n",
        "    results['cost'].append(loss.item())\n",
        "\n",
        "    if epoch % 1000 == 0:\n",
        "        print(f'epoch: {epoch:4d}, cost: {results[\"cost\"][-1]:.10f}')"
      ]
    },
    {
      "cell_type": "markdown",
      "id": "f6afee14",
      "metadata": {
        "id": "f6afee14"
      },
      "source": [
        "## 06-015 예측 값을 클래스로 변환\n"
      ]
    },
    {
      "cell_type": "code",
      "execution_count": null,
      "id": "3b97906f",
      "metadata": {
        "id": "3b97906f",
        "outputId": "47159fca-c802-484e-97a9-97f8cb309f68",
        "colab": {
          "base_uri": "https://localhost:8080/"
        }
      },
      "outputs": [
        {
          "output_type": "stream",
          "name": "stdout",
          "text": [
            "실제 값: tensor([1., 0., 0., 1., 1., 0., 1.])\n",
            "예측 값: tensor([1., 0., 0., 1., 1., 0., 1.])\n"
          ]
        }
      ],
      "source": [
        "# 예측 값 생성\n",
        "h = model(x)\n",
        "\n",
        "# 예측 값(시그모이드 값)을 클래스로 변환\n",
        "pred = (h.reshape(-1).detach().cpu() > 0.5).to(torch.float32)\n",
        "\n",
        "print(f'실제 값: {y.reshape(-1)}')\n",
        "print(f'예측 값: {pred}')"
      ]
    },
    {
      "cell_type": "code",
      "execution_count": null,
      "id": "0870bb2d",
      "metadata": {
        "id": "0870bb2d",
        "colab": {
          "base_uri": "https://localhost:8080/",
          "height": 430
        },
        "outputId": "de39c9a1-83e2-428a-df02-5912c07f0012"
      },
      "outputs": [
        {
          "output_type": "display_data",
          "data": {
            "text/plain": [
              "<Figure size 640x480 with 1 Axes>"
            ],
            "image/png": "[encoded data removed]"
          },
          "metadata": {}
        }
      ],
      "source": [
        "import matplotlib.pyplot as plt\n",
        "weights = model.embedding.weight.detach().cpu().numpy()\n",
        "unique_ids = x.unique().cpu().numpy()\n",
        "\n",
        "for idx, (d1, d2) in enumerate(weights[unique_ids]):\n",
        "    if idx == 0:\n",
        "        continue\n",
        "    plt.plot(d1, d2, 'b.')\n",
        "    plt.annotate(tokenizer.decode(unique_ids[idx]), (d1, d2))"
      ]
    },
    {
      "cell_type": "markdown",
      "id": "207476bc",
      "metadata": {
        "id": "207476bc"
      },
      "source": [
        "## 06-016 코퍼스 및 레이블 정의\n"
      ]
    },
    {
      "cell_type": "code",
      "execution_count": null,
      "id": "772617fe",
      "metadata": {
        "id": "772617fe"
      },
      "outputs": [],
      "source": [
        "corpus = [\n",
        "    'very good nice quality',\n",
        "    'stop lying',\n",
        "    'ugly terrible',\n",
        "    'excellent work',\n",
        "    'adorable lovely',\n",
        "    'bad',\n",
        "    'great nice'\n",
        "]\n",
        "y = torch.FloatTensor([1, 0, 0, 1, 1, 0, 1]).reshape(-1, 1)  # 0: 부정, 1: 긍정"
      ]
    },
    {
      "cell_type": "markdown",
      "id": "0f4ab6f6",
      "metadata": {
        "id": "0f4ab6f6"
      },
      "source": [
        "## 06-017 GPT2 토크나이저로 문장 변환\n"
      ]
    },
    {
      "cell_type": "code",
      "execution_count": null,
      "id": "988b2163",
      "metadata": {
        "id": "988b2163",
        "outputId": "1d65e519-65c2-4d20-ad5e-98f0ac39c8c4",
        "colab": {
          "base_uri": "https://localhost:8080/"
        }
      },
      "outputs": [
        {
          "output_type": "execute_result",
          "data": {
            "text/plain": [
              "[[14, 6, 2, 10], [11, 9], [13, 12], [5, 15], [3, 8], [4], [7, 2]]"
            ]
          },
          "metadata": {},
          "execution_count": 24
        }
      ],
      "source": [
        "from transformers import AutoTokenizer\n",
        "\n",
        "# GPT2 토크나이저 불러오기\n",
        "tokenizer = AutoTokenizer.from_pretrained(\n",
        "    'gmteacher/simple-word-tokenizer',\n",
        "    clean_up_tokenization_spaces=True)\n",
        "seqs = tokenizer(corpus)['input_ids']\n",
        "seqs  # 변환된 시퀀스"
      ]
    },
    {
      "cell_type": "markdown",
      "id": "ad3e36df",
      "metadata": {
        "id": "ad3e36df"
      },
      "source": [
        "## 06-018 토큰 ID를 단어로 복원\n"
      ]
    },
    {
      "cell_type": "code",
      "execution_count": null,
      "id": "e1da4c93",
      "metadata": {
        "id": "e1da4c93",
        "outputId": "cb720984-a583-4300-9cef-907c1dab6ee8",
        "colab": {
          "base_uri": "https://localhost:8080/"
        }
      },
      "outputs": [
        {
          "output_type": "execute_result",
          "data": {
            "text/plain": [
              "['very good nice quality',\n",
              " 'stop lying',\n",
              " 'ugly terrible',\n",
              " 'excellent work',\n",
              " 'adorable lovely',\n",
              " 'bad',\n",
              " 'great nice']"
            ]
          },
          "metadata": {},
          "execution_count": 25
        }
      ],
      "source": [
        "# 시퀀스를 단어로 복원\n",
        "[tokenizer.decode(seq) for seq in seqs]"
      ]
    },
    {
      "cell_type": "markdown",
      "id": "c61c571f",
      "metadata": {
        "id": "c61c571f"
      },
      "source": [
        "## 06-019 시퀀스를 텐서로 변환하고 패딩\n"
      ]
    },
    {
      "cell_type": "code",
      "execution_count": null,
      "id": "c7d9a4e7",
      "metadata": {
        "id": "c7d9a4e7",
        "outputId": "e160d5e3-4fe7-49df-e77e-3c7694ae2b74",
        "colab": {
          "base_uri": "https://localhost:8080/"
        }
      },
      "outputs": [
        {
          "output_type": "execute_result",
          "data": {
            "text/plain": [
              "tensor([[14,  6,  2, 10],\n",
              "        [11,  9,  0,  0],\n",
              "        [13, 12,  0,  0],\n",
              "        [ 5, 15,  0,  0],\n",
              "        [ 3,  8,  0,  0],\n",
              "        [ 4,  0,  0,  0],\n",
              "        [ 7,  2,  0,  0]])"
            ]
          },
          "metadata": {},
          "execution_count": 26
        }
      ],
      "source": [
        "from torch.nn.utils.rnn import pad_sequence\n",
        "\n",
        "# 각 시퀀스를 텐서로 변환\n",
        "seqs = [torch.tensor(seq) for seq in seqs]\n",
        "\n",
        "# 패딩\n",
        "x = pad_sequence(seqs, batch_first=True)\n",
        "x"
      ]
    },
    {
      "cell_type": "markdown",
      "id": "21009060",
      "metadata": {
        "id": "21009060"
      },
      "source": [
        "## 06-020 텍스트 분류기 모델 정의\n"
      ]
    },
    {
      "cell_type": "code",
      "execution_count": null,
      "id": "fc00cc06",
      "metadata": {
        "id": "fc00cc06"
      },
      "outputs": [],
      "source": [
        "from torch import nn\n",
        "\n",
        "class TextClassifier(nn.Module):\n",
        "    def __init__(self, vocab_size, embed_dim, hidden_size, num_class):\n",
        "        super().__init__()\n",
        "        # 임베딩 계층 추가\n",
        "        self.embedding = nn.Embedding(vocab_size, embed_dim)\n",
        "        self.lstm = nn.LSTM(embed_dim, hidden_size, batch_first=True)\n",
        "        self.fc = nn.Linear(hidden_size, num_class)\n",
        "        self.sigmoid = nn.Sigmoid()\n",
        "\n",
        "    def forward(self, x):\n",
        "        out = self.embedding(x)\n",
        "        out, _ = self.lstm(out)\n",
        "        out = self.fc(out[:, -1, :])\n",
        "        out = self.sigmoid(out)\n",
        "        return out"
      ]
    },
    {
      "cell_type": "markdown",
      "id": "32e0896d",
      "metadata": {
        "id": "32e0896d"
      },
      "source": [
        "## 06-021 텍스트 분류기 모델 인스턴스 생성 및 출력 테스트\n"
      ]
    },
    {
      "cell_type": "code",
      "execution_count": null,
      "id": "0c222ee4",
      "metadata": {
        "id": "0c222ee4",
        "outputId": "f725c547-17fd-40ff-a239-684238a47c48",
        "colab": {
          "base_uri": "https://localhost:8080/"
        }
      },
      "outputs": [
        {
          "output_type": "execute_result",
          "data": {
            "text/plain": [
              "torch.Size([1, 1])"
            ]
          },
          "metadata": {},
          "execution_count": 31
        }
      ],
      "source": [
        "torch.manual_seed(0)\n",
        "\n",
        "hidden_size = 128\n",
        "# 모델 인스턴스 생성\n",
        "model = TextClassifier(tokenizer.vocab_size, 2, hidden_size, 1).to(device)\n",
        "\n",
        "# 출력 테스트\n",
        "output = model(x[:1].to(device))\n",
        "output.shape"
      ]
    },
    {
      "cell_type": "markdown",
      "id": "b28b1f20",
      "metadata": {
        "id": "b28b1f20"
      },
      "source": [
        "## 06-022 장치 적용\n"
      ]
    },
    {
      "cell_type": "code",
      "execution_count": null,
      "id": "6a5756e5",
      "metadata": {
        "id": "6a5756e5"
      },
      "outputs": [],
      "source": [
        "# 장치 적용\n",
        "x = x.to(device)\n",
        "y = y.to(device)"
      ]
    },
    {
      "cell_type": "markdown",
      "id": "6b2bc91f",
      "metadata": {
        "id": "6b2bc91f"
      },
      "source": [
        "## 06-023 모델 학습 및 손실 계산\n"
      ]
    },
    {
      "cell_type": "code",
      "execution_count": null,
      "id": "d0507183",
      "metadata": {
        "id": "d0507183",
        "outputId": "7691e1f2-4d5d-4048-ea82-45b81668669e",
        "colab": {
          "base_uri": "https://localhost:8080/"
        }
      },
      "outputs": [
        {
          "output_type": "stream",
          "name": "stdout",
          "text": [
            "epoch:    0, cost: 0.6917895079\n",
            "epoch: 1000, cost: 0.0000208432\n",
            "epoch: 2000, cost: 0.0000062807\n",
            "epoch: 3000, cost: 0.0000028365\n",
            "epoch: 4000, cost: 0.0000014922\n",
            "epoch: 5000, cost: 0.0000008461\n",
            "epoch: 6000, cost: 0.0000005104\n",
            "epoch: 7000, cost: 0.0000002860\n",
            "epoch: 8000, cost: 0.0000001666\n",
            "epoch: 9000, cost: 0.0000000925\n",
            "epoch: 10000, cost: 0.0000000727\n",
            "epoch: 11000, cost: 0.0000000388\n",
            "epoch: 12000, cost: 0.0000000298\n",
            "epoch: 13000, cost: 0.0000000080\n",
            "epoch: 14000, cost: 0.0000000052\n",
            "epoch: 15000, cost: 0.0000000034\n",
            "epoch: 16000, cost: 0.0000000022\n",
            "epoch: 17000, cost: 0.0000000014\n",
            "epoch: 18000, cost: 0.0000000010\n",
            "epoch: 19000, cost: 0.0000000007\n",
            "epoch: 20000, cost: 0.0000000004\n",
            "epoch: 21000, cost: 0.0000000003\n",
            "epoch: 22000, cost: 0.0000000002\n",
            "epoch: 23000, cost: 0.0000000001\n",
            "epoch: 24000, cost: 0.0000000001\n",
            "epoch: 25000, cost: 0.0000000001\n",
            "epoch: 26000, cost: 0.0000000000\n",
            "epoch: 27000, cost: 0.0000000000\n",
            "epoch: 28000, cost: 0.0000000000\n",
            "epoch: 29000, cost: 0.0000000000\n"
          ]
        }
      ],
      "source": [
        "loss_fn = nn.BCELoss()  # 손실 함수\n",
        "optimizer = optim.Adam(model.parameters())  # 최적화 도구(optimizer)\n",
        "\n",
        "epochs = 30000  # 최대 에폭 지정\n",
        "results = {'cost':[]}\n",
        "\n",
        "model.train()  # 학습 모드 설정\n",
        "\n",
        "for epoch in range(epochs):\n",
        "    h = model(x)  # 예측 값 생성(추론)\n",
        "    loss = loss_fn(h, y)  # 손실 계산\n",
        "\n",
        "    optimizer.zero_grad()  # 미분 값 초기화\n",
        "    loss.backward()  # 역전파(미분 계산)\n",
        "    optimizer.step()  # 업데이트 진행\n",
        "\n",
        "    results['cost'].append(loss.item())\n",
        "\n",
        "    if epoch % 1000 == 0:\n",
        "        print(f'epoch: {epoch:4d}, cost: {results[\"cost\"][-1]:.10f}')"
      ]
    },
    {
      "cell_type": "markdown",
      "id": "2fbe4789",
      "metadata": {
        "id": "2fbe4789"
      },
      "source": [
        "## 06-024 예측 값을 클래스로 변환\n"
      ]
    },
    {
      "cell_type": "code",
      "execution_count": null,
      "id": "0d59aeca",
      "metadata": {
        "id": "0d59aeca",
        "outputId": "90d13699-ae75-4c30-ff4d-34edcc8e2fdc"
      },
      "outputs": [
        {
          "name": "stdout",
          "output_type": "stream",
          "text": [
            "실제 값: tensor([1., 0., 0., 1., 1., 0., 1.], device='cuda:0')\n",
            "예측 값: tensor([1., 0., 0., 1., 1., 0., 1.])\n"
          ]
        }
      ],
      "source": [
        "# 예측 값(시그모이드 값)을 클래스로 변환\n",
        "pred = (h.reshape(-1).detach().cpu() > 0.5).to(torch.float32)\n",
        "\n",
        "print(f'실제 값: {y.reshape(-1)}')\n",
        "print(f'예측 값: {pred}')"
      ]
    },
    {
      "cell_type": "markdown",
      "id": "8bc32eab",
      "metadata": {
        "id": "8bc32eab"
      },
      "source": [
        "## 연습문제-06-001 10개 문서 유형 분류를 위한 모델 정의 (Module 방식)\n"
      ]
    },
    {
      "cell_type": "code",
      "execution_count": null,
      "id": "74aaaa5f",
      "metadata": {
        "id": "74aaaa5f"
      },
      "outputs": [],
      "source": [
        "import torch\n",
        "from torch import nn\n",
        "\n",
        "# DocumentClassifier 모델 정의\n",
        "class DocumentClassifier(nn.Module):\n",
        "    def __init__(self, vocab_size, embed_dim, hidden_size, num_class=10):\n",
        "        super().__init__()\n",
        "\n",
        "        # 1. Embedding 계층: 입력된 단어를 고차원 벡터로 변환합니다. vocab_size, embed_dim 사용 (vocab_size: 단어 사전 크기, embed_dim: 임베딩 차원 수)\n",
        "\n",
        "        # 2. LSTM 계층: 순차적 데이터를 처리하는 LSTM 계층입니다. embed_dim, hidden_size, batch_first=True 사용 (embed_dim 크기의 입력을 받아 hidden_size 크기의 출력을 반환)\n",
        "\n",
        "        # 3. Fully Connected Layer (FC): LSTM의 출력을 사용해 문서 유형을 분류하는 계층입니다. hidden_size, num_class 사용 (hidden_size에서 10개의 문서 유형으로 분류)\n",
        "\n",
        "    def forward(self, x):\n",
        "        # 4. 입력 데이터 > Embedding 계층\n",
        "\n",
        "        # 5. Embedding 계층 > LSTM 계층\n",
        "\n",
        "        # 6. LSTM 계층 > FC 계층 (LSTM의 마지막 타임스텝의 출력을 사용해 FC 계층에 전달)\n",
        "\n",
        "        # 7. 값 반환\n",
        "\n",
        "\n",
        "model = DocumentClassifier(vocab_size=10000, embed_dim=128, hidden_size=256)\n",
        "model(torch.randint(0, 10000, (100, 20))).shape"
      ]
    }
  ],
  "metadata": {
    "kernelspec": {
      "display_name": "Python 3",
      "name": "python3"
    },
    "language_info": {
      "codemirror_mode": {
        "name": "ipython",
        "version": 3
      },
      "file_extension": ".py",
      "mimetype": "text/x-python",
      "name": "python",
      "nbconvert_exporter": "python",
      "pygments_lexer": "ipython3",
      "version": "3.10.16"
    },
    "colab": {
      "provenance": [],
      "gpuType": "T4",
      "include_colab_link": true
    },
    "accelerator": "GPU",
    "widgets": {
      "application/vnd.jupyter.widget-state+json": {
        "5cb34837e4e746dc9733944d28d50a16": {
          "model_module": "@jupyter-widgets/controls",
          "model_name": "HBoxModel",
          "model_module_version": "1.5.0",
          "state": {
            "_dom_classes": [],
            "_model_module": "@jupyter-widgets/controls",
            "_model_module_version": "1.5.0",
            "_model_name": "HBoxModel",
            "_view_count": null,
            "_view_module": "@jupyter-widgets/controls",
            "_view_module_version": "1.5.0",
            "_view_name": "HBoxView",
            "box_style": "",
            "children": [
              "IPY_MODEL_8354292a46fa4ee48e71ab7efd89f34f",
              "IPY_MODEL_c2a35f33dfaa4f6bb8fc232c0bde1b71",
              "IPY_MODEL_fc6ae17c152d473ab871164fbadb5113"
            ],
            "layout": "IPY_MODEL_13a71845780742918fb20b9982cff276"
          }
        },
        "8354292a46fa4ee48e71ab7efd89f34f": {
          "model_module": "@jupyter-widgets/controls",
          "model_name": "HTMLModel",
          "model_module_version": "1.5.0",
          "state": {
            "_dom_classes": [],
            "_model_module": "@jupyter-widgets/controls",
            "_model_module_version": "1.5.0",
            "_model_name": "HTMLModel",
            "_view_count": null,
            "_view_module": "@jupyter-widgets/controls",
            "_view_module_version": "1.5.0",
            "_view_name": "HTMLView",
            "description": "",
            "description_tooltip": null,
            "layout": "IPY_MODEL_dcc36c259e744306ab290eb258545acc",
            "placeholder": "​",
            "style": "IPY_MODEL_e451bd8efcd3421a85dce2fe377e33d3",
            "value": "tokenizer_config.json: 100%"
          }
        },
        "c2a35f33dfaa4f6bb8fc232c0bde1b71": {
          "model_module": "@jupyter-widgets/controls",
          "model_name": "FloatProgressModel",
          "model_module_version": "1.5.0",
          "state": {
            "_dom_classes": [],
            "_model_module": "@jupyter-widgets/controls",
            "_model_module_version": "1.5.0",
            "_model_name": "FloatProgressModel",
            "_view_count": null,
            "_view_module": "@jupyter-widgets/controls",
            "_view_module_version": "1.5.0",
            "_view_name": "ProgressView",
            "bar_style": "success",
            "description": "",
            "description_tooltip": null,
            "layout": "IPY_MODEL_f7f605441c6b4857977604733390985f",
            "max": 49,
            "min": 0,
            "orientation": "horizontal",
            "style": "IPY_MODEL_5af26f4336964b4fb5066b33bc78cbe7",
            "value": 49
          }
        },
        "fc6ae17c152d473ab871164fbadb5113": {
          "model_module": "@jupyter-widgets/controls",
          "model_name": "HTMLModel",
          "model_module_version": "1.5.0",
          "state": {
            "_dom_classes": [],
            "_model_module": "@jupyter-widgets/controls",
            "_model_module_version": "1.5.0",
            "_model_name": "HTMLModel",
            "_view_count": null,
            "_view_module": "@jupyter-widgets/controls",
            "_view_module_version": "1.5.0",
            "_view_name": "HTMLView",
            "description": "",
            "description_tooltip": null,
            "layout": "IPY_MODEL_9155979633d4478f97b2bd478eecfb56",
            "placeholder": "​",
            "style": "IPY_MODEL_235b686f169d4b299655210a9a138b5b",
            "value": " 49.0/49.0 [00:00&lt;00:00, 1.02kB/s]"
          }
        },
        "13a71845780742918fb20b9982cff276": {
          "model_module": "@jupyter-widgets/base",
          "model_name": "LayoutModel",
          "model_module_version": "1.2.0",
          "state": {
            "_model_module": "@jupyter-widgets/base",
            "_model_module_version": "1.2.0",
            "_model_name": "LayoutModel",
            "_view_count": null,
            "_view_module": "@jupyter-widgets/base",
            "_view_module_version": "1.2.0",
            "_view_name": "LayoutView",
            "align_content": null,
            "align_items": null,
            "align_self": null,
            "border": null,
            "bottom": null,
            "display": null,
            "flex": null,
            "flex_flow": null,
            "grid_area": null,
            "grid_auto_columns": null,
            "grid_auto_flow": null,
            "grid_auto_rows": null,
            "grid_column": null,
            "grid_gap": null,
            "grid_row": null,
            "grid_template_areas": null,
            "grid_template_columns": null,
            "grid_template_rows": null,
            "height": null,
            "justify_content": null,
            "justify_items": null,
            "left": null,
            "margin": null,
            "max_height": null,
            "max_width": null,
            "min_height": null,
            "min_width": null,
            "object_fit": null,
            "object_position": null,
            "order": null,
            "overflow": null,
            "overflow_x": null,
            "overflow_y": null,
            "padding": null,
            "right": null,
            "top": null,
            "visibility": null,
            "width": null
          }
        },
        "dcc36c259e744306ab290eb258545acc": {
          "model_module": "@jupyter-widgets/base",
          "model_name": "LayoutModel",
          "model_module_version": "1.2.0",
          "state": {
            "_model_module": "@jupyter-widgets/base",
            "_model_module_version": "1.2.0",
            "_model_name": "LayoutModel",
            "_view_count": null,
            "_view_module": "@jupyter-widgets/base",
            "_view_module_version": "1.2.0",
            "_view_name": "LayoutView",
            "align_content": null,
            "align_items": null,
            "align_self": null,
            "border": null,
            "bottom": null,
            "display": null,
            "flex": null,
            "flex_flow": null,
            "grid_area": null,
            "grid_auto_columns": null,
            "grid_auto_flow": null,
            "grid_auto_rows": null,
            "grid_column": null,
            "grid_gap": null,
            "grid_row": null,
            "grid_template_areas": null,
            "grid_template_columns": null,
            "grid_template_rows": null,
            "height": null,
            "justify_content": null,
            "justify_items": null,
            "left": null,
            "margin": null,
            "max_height": null,
            "max_width": null,
            "min_height": null,
            "min_width": null,
            "object_fit": null,
            "object_position": null,
            "order": null,
            "overflow": null,
            "overflow_x": null,
            "overflow_y": null,
            "padding": null,
            "right": null,
            "top": null,
            "visibility": null,
            "width": null
          }
        },
        "e451bd8efcd3421a85dce2fe377e33d3": {
          "model_module": "@jupyter-widgets/controls",
          "model_name": "DescriptionStyleModel",
          "model_module_version": "1.5.0",
          "state": {
            "_model_module": "@jupyter-widgets/controls",
            "_model_module_version": "1.5.0",
            "_model_name": "DescriptionStyleModel",
            "_view_count": null,
            "_view_module": "@jupyter-widgets/base",
            "_view_module_version": "1.2.0",
            "_view_name": "StyleView",
            "description_width": ""
          }
        },
        "f7f605441c6b4857977604733390985f": {
          "model_module": "@jupyter-widgets/base",
          "model_name": "LayoutModel",
          "model_module_version": "1.2.0",
          "state": {
            "_model_module": "@jupyter-widgets/base",
            "_model_module_version": "1.2.0",
            "_model_name": "LayoutModel",
            "_view_count": null,
            "_view_module": "@jupyter-widgets/base",
            "_view_module_version": "1.2.0",
            "_view_name": "LayoutView",
            "align_content": null,
            "align_items": null,
            "align_self": null,
            "border": null,
            "bottom": null,
            "display": null,
            "flex": null,
            "flex_flow": null,
            "grid_area": null,
            "grid_auto_columns": null,
            "grid_auto_flow": null,
            "grid_auto_rows": null,
            "grid_column": null,
            "grid_gap": null,
            "grid_row": null,
            "grid_template_areas": null,
            "grid_template_columns": null,
            "grid_template_rows": null,
            "height": null,
            "justify_content": null,
            "justify_items": null,
            "left": null,
            "margin": null,
            "max_height": null,
            "max_width": null,
            "min_height": null,
            "min_width": null,
            "object_fit": null,
            "object_position": null,
            "order": null,
            "overflow": null,
            "overflow_x": null,
            "overflow_y": null,
            "padding": null,
            "right": null,
            "top": null,
            "visibility": null,
            "width": null
          }
        },
        "5af26f4336964b4fb5066b33bc78cbe7": {
          "model_module": "@jupyter-widgets/controls",
          "model_name": "ProgressStyleModel",
          "model_module_version": "1.5.0",
          "state": {
            "_model_module": "@jupyter-widgets/controls",
            "_model_module_version": "1.5.0",
            "_model_name": "ProgressStyleModel",
            "_view_count": null,
            "_view_module": "@jupyter-widgets/base",
            "_view_module_version": "1.2.0",
            "_view_name": "StyleView",
            "bar_color": null,
            "description_width": ""
          }
        },
        "9155979633d4478f97b2bd478eecfb56": {
          "model_module": "@jupyter-widgets/base",
          "model_name": "LayoutModel",
          "model_module_version": "1.2.0",
          "state": {
            "_model_module": "@jupyter-widgets/base",
            "_model_module_version": "1.2.0",
            "_model_name": "LayoutModel",
            "_view_count": null,
            "_view_module": "@jupyter-widgets/base",
            "_view_module_version": "1.2.0",
            "_view_name": "LayoutView",
            "align_content": null,
            "align_items": null,
            "align_self": null,
            "border": null,
            "bottom": null,
            "display": null,
            "flex": null,
            "flex_flow": null,
            "grid_area": null,
            "grid_auto_columns": null,
            "grid_auto_flow": null,
            "grid_auto_rows": null,
            "grid_column": null,
            "grid_gap": null,
            "grid_row": null,
            "grid_template_areas": null,
            "grid_template_columns": null,
            "grid_template_rows": null,
            "height": null,
            "justify_content": null,
            "justify_items": null,
            "left": null,
            "margin": null,
            "max_height": null,
            "max_width": null,
            "min_height": null,
            "min_width": null,
            "object_fit": null,
            "object_position": null,
            "order": null,
            "overflow": null,
            "overflow_x": null,
            "overflow_y": null,
            "padding": null,
            "right": null,
            "top": null,
            "visibility": null,
            "width": null
          }
        },
        "235b686f169d4b299655210a9a138b5b": {
          "model_module": "@jupyter-widgets/controls",
          "model_name": "DescriptionStyleModel",
          "model_module_version": "1.5.0",
          "state": {
            "_model_module": "@jupyter-widgets/controls",
            "_model_module_version": "1.5.0",
            "_model_name": "DescriptionStyleModel",
            "_view_count": null,
            "_view_module": "@jupyter-widgets/base",
            "_view_module_version": "1.2.0",
            "_view_name": "StyleView",
            "description_width": ""
          }
        },
        "20c5713d8ca34cf48868c37822e6fea6": {
          "model_module": "@jupyter-widgets/controls",
          "model_name": "HBoxModel",
          "model_module_version": "1.5.0",
          "state": {
            "_dom_classes": [],
            "_model_module": "@jupyter-widgets/controls",
            "_model_module_version": "1.5.0",
            "_model_name": "HBoxModel",
            "_view_count": null,
            "_view_module": "@jupyter-widgets/controls",
            "_view_module_version": "1.5.0",
            "_view_name": "HBoxView",
            "box_style": "",
            "children": [
              "IPY_MODEL_2f6164cf38104269af911ddcd860caba",
              "IPY_MODEL_9fb936444a2943fe86f8051bade24f7f",
              "IPY_MODEL_67cb0b5b8fa745b0b72772b846b37747"
            ],
            "layout": "IPY_MODEL_797446b785384dd7a88a16524c031fce"
          }
        },
        "2f6164cf38104269af911ddcd860caba": {
          "model_module": "@jupyter-widgets/controls",
          "model_name": "HTMLModel",
          "model_module_version": "1.5.0",
          "state": {
            "_dom_classes": [],
            "_model_module": "@jupyter-widgets/controls",
            "_model_module_version": "1.5.0",
            "_model_name": "HTMLModel",
            "_view_count": null,
            "_view_module": "@jupyter-widgets/controls",
            "_view_module_version": "1.5.0",
            "_view_name": "HTMLView",
            "description": "",
            "description_tooltip": null,
            "layout": "IPY_MODEL_ce6b74ff5fe54a1bad399547895adebf",
            "placeholder": "​",
            "style": "IPY_MODEL_194b5c9226444deca82074110eac0f44",
            "value": "config.json: 100%"
          }
        },
        "9fb936444a2943fe86f8051bade24f7f": {
          "model_module": "@jupyter-widgets/controls",
          "model_name": "FloatProgressModel",
          "model_module_version": "1.5.0",
          "state": {
            "_dom_classes": [],
            "_model_module": "@jupyter-widgets/controls",
            "_model_module_version": "1.5.0",
            "_model_name": "FloatProgressModel",
            "_view_count": null,
            "_view_module": "@jupyter-widgets/controls",
            "_view_module_version": "1.5.0",
            "_view_name": "ProgressView",
            "bar_style": "success",
            "description": "",
            "description_tooltip": null,
            "layout": "IPY_MODEL_a54974138aa845b6a2623ec17d9ebb1d",
            "max": 570,
            "min": 0,
            "orientation": "horizontal",
            "style": "IPY_MODEL_a1968181c69c43c8a5be0adc865e2f79",
            "value": 570
          }
        },
        "67cb0b5b8fa745b0b72772b846b37747": {
          "model_module": "@jupyter-widgets/controls",
          "model_name": "HTMLModel",
          "model_module_version": "1.5.0",
          "state": {
            "_dom_classes": [],
            "_model_module": "@jupyter-widgets/controls",
            "_model_module_version": "1.5.0",
            "_model_name": "HTMLModel",
            "_view_count": null,
            "_view_module": "@jupyter-widgets/controls",
            "_view_module_version": "1.5.0",
            "_view_name": "HTMLView",
            "description": "",
            "description_tooltip": null,
            "layout": "IPY_MODEL_262f216531194160a1d91ee4fc3fd7b9",
            "placeholder": "​",
            "style": "IPY_MODEL_9ef6d5fd55fe4d46ba0d6d29df806cc6",
            "value": " 570/570 [00:00&lt;00:00, 8.42kB/s]"
          }
        },
        "797446b785384dd7a88a16524c031fce": {
          "model_module": "@jupyter-widgets/base",
          "model_name": "LayoutModel",
          "model_module_version": "1.2.0",
          "state": {
            "_model_module": "@jupyter-widgets/base",
            "_model_module_version": "1.2.0",
            "_model_name": "LayoutModel",
            "_view_count": null,
            "_view_module": "@jupyter-widgets/base",
            "_view_module_version": "1.2.0",
            "_view_name": "LayoutView",
            "align_content": null,
            "align_items": null,
            "align_self": null,
            "border": null,
            "bottom": null,
            "display": null,
            "flex": null,
            "flex_flow": null,
            "grid_area": null,
            "grid_auto_columns": null,
            "grid_auto_flow": null,
            "grid_auto_rows": null,
            "grid_column": null,
            "grid_gap": null,
            "grid_row": null,
            "grid_template_areas": null,
            "grid_template_columns": null,
            "grid_template_rows": null,
            "height": null,
            "justify_content": null,
            "justify_items": null,
            "left": null,
            "margin": null,
            "max_height": null,
            "max_width": null,
            "min_height": null,
            "min_width": null,
            "object_fit": null,
            "object_position": null,
            "order": null,
            "overflow": null,
            "overflow_x": null,
            "overflow_y": null,
            "padding": null,
            "right": null,
            "top": null,
            "visibility": null,
            "width": null
          }
        },
        "ce6b74ff5fe54a1bad399547895adebf": {
          "model_module": "@jupyter-widgets/base",
          "model_name": "LayoutModel",
          "model_module_version": "1.2.0",
          "state": {
            "_model_module": "@jupyter-widgets/base",
            "_model_module_version": "1.2.0",
            "_model_name": "LayoutModel",
            "_view_count": null,
            "_view_module": "@jupyter-widgets/base",
            "_view_module_version": "1.2.0",
            "_view_name": "LayoutView",
            "align_content": null,
            "align_items": null,
            "align_self": null,
            "border": null,
            "bottom": null,
            "display": null,
            "flex": null,
            "flex_flow": null,
            "grid_area": null,
            "grid_auto_columns": null,
            "grid_auto_flow": null,
            "grid_auto_rows": null,
            "grid_column": null,
            "grid_gap": null,
            "grid_row": null,
            "grid_template_areas": null,
            "grid_template_columns": null,
            "grid_template_rows": null,
            "height": null,
            "justify_content": null,
            "justify_items": null,
            "left": null,
            "margin": null,
            "max_height": null,
            "max_width": null,
            "min_height": null,
            "min_width": null,
            "object_fit": null,
            "object_position": null,
            "order": null,
            "overflow": null,
            "overflow_x": null,
            "overflow_y": null,
            "padding": null,
            "right": null,
            "top": null,
            "visibility": null,
            "width": null
          }
        },
        "194b5c9226444deca82074110eac0f44": {
          "model_module": "@jupyter-widgets/controls",
          "model_name": "DescriptionStyleModel",
          "model_module_version": "1.5.0",
          "state": {
            "_model_module": "@jupyter-widgets/controls",
            "_model_module_version": "1.5.0",
            "_model_name": "DescriptionStyleModel",
            "_view_count": null,
            "_view_module": "@jupyter-widgets/base",
            "_view_module_version": "1.2.0",
            "_view_name": "StyleView",
            "description_width": ""
          }
        },
        "a54974138aa845b6a2623ec17d9ebb1d": {
          "model_module": "@jupyter-widgets/base",
          "model_name": "LayoutModel",
          "model_module_version": "1.2.0",
          "state": {
            "_model_module": "@jupyter-widgets/base",
            "_model_module_version": "1.2.0",
            "_model_name": "LayoutModel",
            "_view_count": null,
            "_view_module": "@jupyter-widgets/base",
            "_view_module_version": "1.2.0",
            "_view_name": "LayoutView",
            "align_content": null,
            "align_items": null,
            "align_self": null,
            "border": null,
            "bottom": null,
            "display": null,
            "flex": null,
            "flex_flow": null,
            "grid_area": null,
            "grid_auto_columns": null,
            "grid_auto_flow": null,
            "grid_auto_rows": null,
            "grid_column": null,
            "grid_gap": null,
            "grid_row": null,
            "grid_template_areas": null,
            "grid_template_columns": null,
            "grid_template_rows": null,
            "height": null,
            "justify_content": null,
            "justify_items": null,
            "left": null,
            "margin": null,
            "max_height": null,
            "max_width": null,
            "min_height": null,
            "min_width": null,
            "object_fit": null,
            "object_position": null,
            "order": null,
            "overflow": null,
            "overflow_x": null,
            "overflow_y": null,
            "padding": null,
            "right": null,
            "top": null,
            "visibility": null,
            "width": null
          }
        },
        "a1968181c69c43c8a5be0adc865e2f79": {
          "model_module": "@jupyter-widgets/controls",
          "model_name": "ProgressStyleModel",
          "model_module_version": "1.5.0",
          "state": {
            "_model_module": "@jupyter-widgets/controls",
            "_model_module_version": "1.5.0",
            "_model_name": "ProgressStyleModel",
            "_view_count": null,
            "_view_module": "@jupyter-widgets/base",
            "_view_module_version": "1.2.0",
            "_view_name": "StyleView",
            "bar_color": null,
            "description_width": ""
          }
        },
        "262f216531194160a1d91ee4fc3fd7b9": {
          "model_module": "@jupyter-widgets/base",
          "model_name": "LayoutModel",
          "model_module_version": "1.2.0",
          "state": {
            "_model_module": "@jupyter-widgets/base",
            "_model_module_version": "1.2.0",
            "_model_name": "LayoutModel",
            "_view_count": null,
            "_view_module": "@jupyter-widgets/base",
            "_view_module_version": "1.2.0",
            "_view_name": "LayoutView",
            "align_content": null,
            "align_items": null,
            "align_self": null,
            "border": null,
            "bottom": null,
            "display": null,
            "flex": null,
            "flex_flow": null,
            "grid_area": null,
            "grid_auto_columns": null,
            "grid_auto_flow": null,
            "grid_auto_rows": null,
            "grid_column": null,
            "grid_gap": null,
            "grid_row": null,
            "grid_template_areas": null,
            "grid_template_columns": null,
            "grid_template_rows": null,
            "height": null,
            "justify_content": null,
            "justify_items": null,
            "left": null,
            "margin": null,
            "max_height": null,
            "max_width": null,
            "min_height": null,
            "min_width": null,
            "object_fit": null,
            "object_position": null,
            "order": null,
            "overflow": null,
            "overflow_x": null,
            "overflow_y": null,
            "padding": null,
            "right": null,
            "top": null,
            "visibility": null,
            "width": null
          }
        },
        "9ef6d5fd55fe4d46ba0d6d29df806cc6": {
          "model_module": "@jupyter-widgets/controls",
          "model_name": "DescriptionStyleModel",
          "model_module_version": "1.5.0",
          "state": {
            "_model_module": "@jupyter-widgets/controls",
            "_model_module_version": "1.5.0",
            "_model_name": "DescriptionStyleModel",
            "_view_count": null,
            "_view_module": "@jupyter-widgets/base",
            "_view_module_version": "1.2.0",
            "_view_name": "StyleView",
            "description_width": ""
          }
        },
        "1808a75010bd4672b352b25940feaa10": {
          "model_module": "@jupyter-widgets/controls",
          "model_name": "HBoxModel",
          "model_module_version": "1.5.0",
          "state": {
            "_dom_classes": [],
            "_model_module": "@jupyter-widgets/controls",
            "_model_module_version": "1.5.0",
            "_model_name": "HBoxModel",
            "_view_count": null,
            "_view_module": "@jupyter-widgets/controls",
            "_view_module_version": "1.5.0",
            "_view_name": "HBoxView",
            "box_style": "",
            "children": [
              "IPY_MODEL_ed7af61f0b3a4fd893488131b6e9fcd6",
              "IPY_MODEL_4f18ca2ccef14af7809613a1bced8070",
              "IPY_MODEL_d79d70549a9c4b9a89286fccce6b7947"
            ],
            "layout": "IPY_MODEL_7e3b9a5c88d44f75aa301fb9c6d203e2"
          }
        },
        "ed7af61f0b3a4fd893488131b6e9fcd6": {
          "model_module": "@jupyter-widgets/controls",
          "model_name": "HTMLModel",
          "model_module_version": "1.5.0",
          "state": {
            "_dom_classes": [],
            "_model_module": "@jupyter-widgets/controls",
            "_model_module_version": "1.5.0",
            "_model_name": "HTMLModel",
            "_view_count": null,
            "_view_module": "@jupyter-widgets/controls",
            "_view_module_version": "1.5.0",
            "_view_name": "HTMLView",
            "description": "",
            "description_tooltip": null,
            "layout": "IPY_MODEL_39f682f120b34594914e80c9595b2de0",
            "placeholder": "​",
            "style": "IPY_MODEL_68fb899853d24d1d882be6889f554763",
            "value": "vocab.txt: 100%"
          }
        },
        "4f18ca2ccef14af7809613a1bced8070": {
          "model_module": "@jupyter-widgets/controls",
          "model_name": "FloatProgressModel",
          "model_module_version": "1.5.0",
          "state": {
            "_dom_classes": [],
            "_model_module": "@jupyter-widgets/controls",
            "_model_module_version": "1.5.0",
            "_model_name": "FloatProgressModel",
            "_view_count": null,
            "_view_module": "@jupyter-widgets/controls",
            "_view_module_version": "1.5.0",
            "_view_name": "ProgressView",
            "bar_style": "success",
            "description": "",
            "description_tooltip": null,
            "layout": "IPY_MODEL_ededc4f885bf467a88f4140deca0db38",
            "max": 213450,
            "min": 0,
            "orientation": "horizontal",
            "style": "IPY_MODEL_ae13e61874094c63b1ae294d76c2e710",
            "value": 213450
          }
        },
        "d79d70549a9c4b9a89286fccce6b7947": {
          "model_module": "@jupyter-widgets/controls",
          "model_name": "HTMLModel",
          "model_module_version": "1.5.0",
          "state": {
            "_dom_classes": [],
            "_model_module": "@jupyter-widgets/controls",
            "_model_module_version": "1.5.0",
            "_model_name": "HTMLModel",
            "_view_count": null,
            "_view_module": "@jupyter-widgets/controls",
            "_view_module_version": "1.5.0",
            "_view_name": "HTMLView",
            "description": "",
            "description_tooltip": null,
            "layout": "IPY_MODEL_c0f268330f774153b998b16e04996983",
            "placeholder": "​",
            "style": "IPY_MODEL_72b4d8b0cb0c4d4bae1f1635db61e231",
            "value": " 213k/213k [00:00&lt;00:00, 1.53MB/s]"
          }
        },
        "7e3b9a5c88d44f75aa301fb9c6d203e2": {
          "model_module": "@jupyter-widgets/base",
          "model_name": "LayoutModel",
          "model_module_version": "1.2.0",
          "state": {
            "_model_module": "@jupyter-widgets/base",
            "_model_module_version": "1.2.0",
            "_model_name": "LayoutModel",
            "_view_count": null,
            "_view_module": "@jupyter-widgets/base",
            "_view_module_version": "1.2.0",
            "_view_name": "LayoutView",
            "align_content": null,
            "align_items": null,
            "align_self": null,
            "border": null,
            "bottom": null,
            "display": null,
            "flex": null,
            "flex_flow": null,
            "grid_area": null,
            "grid_auto_columns": null,
            "grid_auto_flow": null,
            "grid_auto_rows": null,
            "grid_column": null,
            "grid_gap": null,
            "grid_row": null,
            "grid_template_areas": null,
            "grid_template_columns": null,
            "grid_template_rows": null,
            "height": null,
            "justify_content": null,
            "justify_items": null,
            "left": null,
            "margin": null,
            "max_height": null,
            "max_width": null,
            "min_height": null,
            "min_width": null,
            "object_fit": null,
            "object_position": null,
            "order": null,
            "overflow": null,
            "overflow_x": null,
            "overflow_y": null,
            "padding": null,
            "right": null,
            "top": null,
            "visibility": null,
            "width": null
          }
        },
        "39f682f120b34594914e80c9595b2de0": {
          "model_module": "@jupyter-widgets/base",
          "model_name": "LayoutModel",
          "model_module_version": "1.2.0",
          "state": {
            "_model_module": "@jupyter-widgets/base",
            "_model_module_version": "1.2.0",
            "_model_name": "LayoutModel",
            "_view_count": null,
            "_view_module": "@jupyter-widgets/base",
            "_view_module_version": "1.2.0",
            "_view_name": "LayoutView",
            "align_content": null,
            "align_items": null,
            "align_self": null,
            "border": null,
            "bottom": null,
            "display": null,
            "flex": null,
            "flex_flow": null,
            "grid_area": null,
            "grid_auto_columns": null,
            "grid_auto_flow": null,
            "grid_auto_rows": null,
            "grid_column": null,
            "grid_gap": null,
            "grid_row": null,
            "grid_template_areas": null,
            "grid_template_columns": null,
            "grid_template_rows": null,
            "height": null,
            "justify_content": null,
            "justify_items": null,
            "left": null,
            "margin": null,
            "max_height": null,
            "max_width": null,
            "min_height": null,
            "min_width": null,
            "object_fit": null,
            "object_position": null,
            "order": null,
            "overflow": null,
            "overflow_x": null,
            "overflow_y": null,
            "padding": null,
            "right": null,
            "top": null,
            "visibility": null,
            "width": null
          }
        },
        "68fb899853d24d1d882be6889f554763": {
          "model_module": "@jupyter-widgets/controls",
          "model_name": "DescriptionStyleModel",
          "model_module_version": "1.5.0",
          "state": {
            "_model_module": "@jupyter-widgets/controls",
            "_model_module_version": "1.5.0",
            "_model_name": "DescriptionStyleModel",
            "_view_count": null,
            "_view_module": "@jupyter-widgets/base",
            "_view_module_version": "1.2.0",
            "_view_name": "StyleView",
            "description_width": ""
          }
        },
        "ededc4f885bf467a88f4140deca0db38": {
          "model_module": "@jupyter-widgets/base",
          "model_name": "LayoutModel",
          "model_module_version": "1.2.0",
          "state": {
            "_model_module": "@jupyter-widgets/base",
            "_model_module_version": "1.2.0",
            "_model_name": "LayoutModel",
            "_view_count": null,
            "_view_module": "@jupyter-widgets/base",
            "_view_module_version": "1.2.0",
            "_view_name": "LayoutView",
            "align_content": null,
            "align_items": null,
            "align_self": null,
            "border": null,
            "bottom": null,
            "display": null,
            "flex": null,
            "flex_flow": null,
            "grid_area": null,
            "grid_auto_columns": null,
            "grid_auto_flow": null,
            "grid_auto_rows": null,
            "grid_column": null,
            "grid_gap": null,
            "grid_row": null,
            "grid_template_areas": null,
            "grid_template_columns": null,
            "grid_template_rows": null,
            "height": null,
            "justify_content": null,
            "justify_items": null,
            "left": null,
            "margin": null,
            "max_height": null,
            "max_width": null,
            "min_height": null,
            "min_width": null,
            "object_fit": null,
            "object_position": null,
            "order": null,
            "overflow": null,
            "overflow_x": null,
            "overflow_y": null,
            "padding": null,
            "right": null,
            "top": null,
            "visibility": null,
            "width": null
          }
        },
        "ae13e61874094c63b1ae294d76c2e710": {
          "model_module": "@jupyter-widgets/controls",
          "model_name": "ProgressStyleModel",
          "model_module_version": "1.5.0",
          "state": {
            "_model_module": "@jupyter-widgets/controls",
            "_model_module_version": "1.5.0",
            "_model_name": "ProgressStyleModel",
            "_view_count": null,
            "_view_module": "@jupyter-widgets/base",
            "_view_module_version": "1.2.0",
            "_view_name": "StyleView",
            "bar_color": null,
            "description_width": ""
          }
        },
        "c0f268330f774153b998b16e04996983": {
          "model_module": "@jupyter-widgets/base",
          "model_name": "LayoutModel",
          "model_module_version": "1.2.0",
          "state": {
            "_model_module": "@jupyter-widgets/base",
            "_model_module_version": "1.2.0",
            "_model_name": "LayoutModel",
            "_view_count": null,
            "_view_module": "@jupyter-widgets/base",
            "_view_module_version": "1.2.0",
            "_view_name": "LayoutView",
            "align_content": null,
            "align_items": null,
            "align_self": null,
            "border": null,
            "bottom": null,
            "display": null,
            "flex": null,
            "flex_flow": null,
            "grid_area": null,
            "grid_auto_columns": null,
            "grid_auto_flow": null,
            "grid_auto_rows": null,
            "grid_column": null,
            "grid_gap": null,
            "grid_row": null,
            "grid_template_areas": null,
            "grid_template_columns": null,
            "grid_template_rows": null,
            "height": null,
            "justify_content": null,
            "justify_items": null,
            "left": null,
            "margin": null,
            "max_height": null,
            "max_width": null,
            "min_height": null,
            "min_width": null,
            "object_fit": null,
            "object_position": null,
            "order": null,
            "overflow": null,
            "overflow_x": null,
            "overflow_y": null,
            "padding": null,
            "right": null,
            "top": null,
            "visibility": null,
            "width": null
          }
        },
        "72b4d8b0cb0c4d4bae1f1635db61e231": {
          "model_module": "@jupyter-widgets/controls",
          "model_name": "DescriptionStyleModel",
          "model_module_version": "1.5.0",
          "state": {
            "_model_module": "@jupyter-widgets/controls",
            "_model_module_version": "1.5.0",
            "_model_name": "DescriptionStyleModel",
            "_view_count": null,
            "_view_module": "@jupyter-widgets/base",
            "_view_module_version": "1.2.0",
            "_view_name": "StyleView",
            "description_width": ""
          }
        },
        "241062e542b54c76a24e32b2e39010f8": {
          "model_module": "@jupyter-widgets/controls",
          "model_name": "HBoxModel",
          "model_module_version": "1.5.0",
          "state": {
            "_dom_classes": [],
            "_model_module": "@jupyter-widgets/controls",
            "_model_module_version": "1.5.0",
            "_model_name": "HBoxModel",
            "_view_count": null,
            "_view_module": "@jupyter-widgets/controls",
            "_view_module_version": "1.5.0",
            "_view_name": "HBoxView",
            "box_style": "",
            "children": [
              "IPY_MODEL_fc018d1e3441413d8294956d375eb22f",
              "IPY_MODEL_2e94542a8215497f8665b51fa6b3b6f9",
              "IPY_MODEL_10e2aabb8d864c3e8b9a7e0d436181ab"
            ],
            "layout": "IPY_MODEL_03dc60b3fe41478f9367070f40ee9610"
          }
        },
        "fc018d1e3441413d8294956d375eb22f": {
          "model_module": "@jupyter-widgets/controls",
          "model_name": "HTMLModel",
          "model_module_version": "1.5.0",
          "state": {
            "_dom_classes": [],
            "_model_module": "@jupyter-widgets/controls",
            "_model_module_version": "1.5.0",
            "_model_name": "HTMLModel",
            "_view_count": null,
            "_view_module": "@jupyter-widgets/controls",
            "_view_module_version": "1.5.0",
            "_view_name": "HTMLView",
            "description": "",
            "description_tooltip": null,
            "layout": "IPY_MODEL_8721bd5aed3d4adead5fa11220b37763",
            "placeholder": "​",
            "style": "IPY_MODEL_2ea224091d9b4ba0a78a3f576bd296e3",
            "value": "tokenizer.json: 100%"
          }
        },
        "2e94542a8215497f8665b51fa6b3b6f9": {
          "model_module": "@jupyter-widgets/controls",
          "model_name": "FloatProgressModel",
          "model_module_version": "1.5.0",
          "state": {
            "_dom_classes": [],
            "_model_module": "@jupyter-widgets/controls",
            "_model_module_version": "1.5.0",
            "_model_name": "FloatProgressModel",
            "_view_count": null,
            "_view_module": "@jupyter-widgets/controls",
            "_view_module_version": "1.5.0",
            "_view_name": "ProgressView",
            "bar_style": "success",
            "description": "",
            "description_tooltip": null,
            "layout": "IPY_MODEL_2444c654a0014e01840f13f826f66b60",
            "max": 435797,
            "min": 0,
            "orientation": "horizontal",
            "style": "IPY_MODEL_f31723a2abae451abc77367f5ca251a4",
            "value": 435797
          }
        },
        "10e2aabb8d864c3e8b9a7e0d436181ab": {
          "model_module": "@jupyter-widgets/controls",
          "model_name": "HTMLModel",
          "model_module_version": "1.5.0",
          "state": {
            "_dom_classes": [],
            "_model_module": "@jupyter-widgets/controls",
            "_model_module_version": "1.5.0",
            "_model_name": "HTMLModel",
            "_view_count": null,
            "_view_module": "@jupyter-widgets/controls",
            "_view_module_version": "1.5.0",
            "_view_name": "HTMLView",
            "description": "",
            "description_tooltip": null,
            "layout": "IPY_MODEL_0b74a3543c184eebaaf8fd8947254b92",
            "placeholder": "​",
            "style": "IPY_MODEL_4b80c33e1b004312bffeb759d46b53c9",
            "value": " 436k/436k [00:00&lt;00:00, 3.33MB/s]"
          }
        },
        "03dc60b3fe41478f9367070f40ee9610": {
          "model_module": "@jupyter-widgets/base",
          "model_name": "LayoutModel",
          "model_module_version": "1.2.0",
          "state": {
            "_model_module": "@jupyter-widgets/base",
            "_model_module_version": "1.2.0",
            "_model_name": "LayoutModel",
            "_view_count": null,
            "_view_module": "@jupyter-widgets/base",
            "_view_module_version": "1.2.0",
            "_view_name": "LayoutView",
            "align_content": null,
            "align_items": null,
            "align_self": null,
            "border": null,
            "bottom": null,
            "display": null,
            "flex": null,
            "flex_flow": null,
            "grid_area": null,
            "grid_auto_columns": null,
            "grid_auto_flow": null,
            "grid_auto_rows": null,
            "grid_column": null,
            "grid_gap": null,
            "grid_row": null,
            "grid_template_areas": null,
            "grid_template_columns": null,
            "grid_template_rows": null,
            "height": null,
            "justify_content": null,
            "justify_items": null,
            "left": null,
            "margin": null,
            "max_height": null,
            "max_width": null,
            "min_height": null,
            "min_width": null,
            "object_fit": null,
            "object_position": null,
            "order": null,
            "overflow": null,
            "overflow_x": null,
            "overflow_y": null,
            "padding": null,
            "right": null,
            "top": null,
            "visibility": null,
            "width": null
          }
        },
        "8721bd5aed3d4adead5fa11220b37763": {
          "model_module": "@jupyter-widgets/base",
          "model_name": "LayoutModel",
          "model_module_version": "1.2.0",
          "state": {
            "_model_module": "@jupyter-widgets/base",
            "_model_module_version": "1.2.0",
            "_model_name": "LayoutModel",
            "_view_count": null,
            "_view_module": "@jupyter-widgets/base",
            "_view_module_version": "1.2.0",
            "_view_name": "LayoutView",
            "align_content": null,
            "align_items": null,
            "align_self": null,
            "border": null,
            "bottom": null,
            "display": null,
            "flex": null,
            "flex_flow": null,
            "grid_area": null,
            "grid_auto_columns": null,
            "grid_auto_flow": null,
            "grid_auto_rows": null,
            "grid_column": null,
            "grid_gap": null,
            "grid_row": null,
            "grid_template_areas": null,
            "grid_template_columns": null,
            "grid_template_rows": null,
            "height": null,
            "justify_content": null,
            "justify_items": null,
            "left": null,
            "margin": null,
            "max_height": null,
            "max_width": null,
            "min_height": null,
            "min_width": null,
            "object_fit": null,
            "object_position": null,
            "order": null,
            "overflow": null,
            "overflow_x": null,
            "overflow_y": null,
            "padding": null,
            "right": null,
            "top": null,
            "visibility": null,
            "width": null
          }
        },
        "2ea224091d9b4ba0a78a3f576bd296e3": {
          "model_module": "@jupyter-widgets/controls",
          "model_name": "DescriptionStyleModel",
          "model_module_version": "1.5.0",
          "state": {
            "_model_module": "@jupyter-widgets/controls",
            "_model_module_version": "1.5.0",
            "_model_name": "DescriptionStyleModel",
            "_view_count": null,
            "_view_module": "@jupyter-widgets/base",
            "_view_module_version": "1.2.0",
            "_view_name": "StyleView",
            "description_width": ""
          }
        },
        "2444c654a0014e01840f13f826f66b60": {
          "model_module": "@jupyter-widgets/base",
          "model_name": "LayoutModel",
          "model_module_version": "1.2.0",
          "state": {
            "_model_module": "@jupyter-widgets/base",
            "_model_module_version": "1.2.0",
            "_model_name": "LayoutModel",
            "_view_count": null,
            "_view_module": "@jupyter-widgets/base",
            "_view_module_version": "1.2.0",
            "_view_name": "LayoutView",
            "align_content": null,
            "align_items": null,
            "align_self": null,
            "border": null,
            "bottom": null,
            "display": null,
            "flex": null,
            "flex_flow": null,
            "grid_area": null,
            "grid_auto_columns": null,
            "grid_auto_flow": null,
            "grid_auto_rows": null,
            "grid_column": null,
            "grid_gap": null,
            "grid_row": null,
            "grid_template_areas": null,
            "grid_template_columns": null,
            "grid_template_rows": null,
            "height": null,
            "justify_content": null,
            "justify_items": null,
            "left": null,
            "margin": null,
            "max_height": null,
            "max_width": null,
            "min_height": null,
            "min_width": null,
            "object_fit": null,
            "object_position": null,
            "order": null,
            "overflow": null,
            "overflow_x": null,
            "overflow_y": null,
            "padding": null,
            "right": null,
            "top": null,
            "visibility": null,
            "width": null
          }
        },
        "f31723a2abae451abc77367f5ca251a4": {
          "model_module": "@jupyter-widgets/controls",
          "model_name": "ProgressStyleModel",
          "model_module_version": "1.5.0",
          "state": {
            "_model_module": "@jupyter-widgets/controls",
            "_model_module_version": "1.5.0",
            "_model_name": "ProgressStyleModel",
            "_view_count": null,
            "_view_module": "@jupyter-widgets/base",
            "_view_module_version": "1.2.0",
            "_view_name": "StyleView",
            "bar_color": null,
            "description_width": ""
          }
        },
        "0b74a3543c184eebaaf8fd8947254b92": {
          "model_module": "@jupyter-widgets/base",
          "model_name": "LayoutModel",
          "model_module_version": "1.2.0",
          "state": {
            "_model_module": "@jupyter-widgets/base",
            "_model_module_version": "1.2.0",
            "_model_name": "LayoutModel",
            "_view_count": null,
            "_view_module": "@jupyter-widgets/base",
            "_view_module_version": "1.2.0",
            "_view_name": "LayoutView",
            "align_content": null,
            "align_items": null,
            "align_self": null,
            "border": null,
            "bottom": null,
            "display": null,
            "flex": null,
            "flex_flow": null,
            "grid_area": null,
            "grid_auto_columns": null,
            "grid_auto_flow": null,
            "grid_auto_rows": null,
            "grid_column": null,
            "grid_gap": null,
            "grid_row": null,
            "grid_template_areas": null,
            "grid_template_columns": null,
            "grid_template_rows": null,
            "height": null,
            "justify_content": null,
            "justify_items": null,
            "left": null,
            "margin": null,
            "max_height": null,
            "max_width": null,
            "min_height": null,
            "min_width": null,
            "object_fit": null,
            "object_position": null,
            "order": null,
            "overflow": null,
            "overflow_x": null,
            "overflow_y": null,
            "padding": null,
            "right": null,
            "top": null,
            "visibility": null,
            "width": null
          }
        },
        "4b80c33e1b004312bffeb759d46b53c9": {
          "model_module": "@jupyter-widgets/controls",
          "model_name": "DescriptionStyleModel",
          "model_module_version": "1.5.0",
          "state": {
            "_model_module": "@jupyter-widgets/controls",
            "_model_module_version": "1.5.0",
            "_model_name": "DescriptionStyleModel",
            "_view_count": null,
            "_view_module": "@jupyter-widgets/base",
            "_view_module_version": "1.2.0",
            "_view_name": "StyleView",
            "description_width": ""
          }
        },
        "c9b20c336c604f0387b9fca1185905c1": {
          "model_module": "@jupyter-widgets/controls",
          "model_name": "HBoxModel",
          "model_module_version": "1.5.0",
          "state": {
            "_dom_classes": [],
            "_model_module": "@jupyter-widgets/controls",
            "_model_module_version": "1.5.0",
            "_model_name": "HBoxModel",
            "_view_count": null,
            "_view_module": "@jupyter-widgets/controls",
            "_view_module_version": "1.5.0",
            "_view_name": "HBoxView",
            "box_style": "",
            "children": [
              "IPY_MODEL_e200742184fd4a2e9b45adc67b1982ff",
              "IPY_MODEL_43ceaa7b4087465ebfed0a95aafceab2",
              "IPY_MODEL_bbb1bd9ec08e406b9243ec6514002d1e"
            ],
            "layout": "IPY_MODEL_e7d03e16c12e49e3b58f54cd653b7216"
          }
        },
        "e200742184fd4a2e9b45adc67b1982ff": {
          "model_module": "@jupyter-widgets/controls",
          "model_name": "HTMLModel",
          "model_module_version": "1.5.0",
          "state": {
            "_dom_classes": [],
            "_model_module": "@jupyter-widgets/controls",
            "_model_module_version": "1.5.0",
            "_model_name": "HTMLModel",
            "_view_count": null,
            "_view_module": "@jupyter-widgets/controls",
            "_view_module_version": "1.5.0",
            "_view_name": "HTMLView",
            "description": "",
            "description_tooltip": null,
            "layout": "IPY_MODEL_4dbd0357ee284914a54b8fc2b74a88dd",
            "placeholder": "​",
            "style": "IPY_MODEL_4b5105feedce4e1a9a5c0f0bd81d2646",
            "value": "tokenizer_config.json: 100%"
          }
        },
        "43ceaa7b4087465ebfed0a95aafceab2": {
          "model_module": "@jupyter-widgets/controls",
          "model_name": "FloatProgressModel",
          "model_module_version": "1.5.0",
          "state": {
            "_dom_classes": [],
            "_model_module": "@jupyter-widgets/controls",
            "_model_module_version": "1.5.0",
            "_model_name": "FloatProgressModel",
            "_view_count": null,
            "_view_module": "@jupyter-widgets/controls",
            "_view_module_version": "1.5.0",
            "_view_name": "ProgressView",
            "bar_style": "success",
            "description": "",
            "description_tooltip": null,
            "layout": "IPY_MODEL_40e04e4c06924114bf17c1864ad93a95",
            "max": 560,
            "min": 0,
            "orientation": "horizontal",
            "style": "IPY_MODEL_b04f83e6488342d9b480b76d481ed8c2",
            "value": 560
          }
        },
        "bbb1bd9ec08e406b9243ec6514002d1e": {
          "model_module": "@jupyter-widgets/controls",
          "model_name": "HTMLModel",
          "model_module_version": "1.5.0",
          "state": {
            "_dom_classes": [],
            "_model_module": "@jupyter-widgets/controls",
            "_model_module_version": "1.5.0",
            "_model_name": "HTMLModel",
            "_view_count": null,
            "_view_module": "@jupyter-widgets/controls",
            "_view_module_version": "1.5.0",
            "_view_name": "HTMLView",
            "description": "",
            "description_tooltip": null,
            "layout": "IPY_MODEL_f0e49c9e3e284c778ba3d86cfc2c8830",
            "placeholder": "​",
            "style": "IPY_MODEL_1032760f84bd4a0d9d27d71c436e400c",
            "value": " 560/560 [00:00&lt;00:00, 16.9kB/s]"
          }
        },
        "e7d03e16c12e49e3b58f54cd653b7216": {
          "model_module": "@jupyter-widgets/base",
          "model_name": "LayoutModel",
          "model_module_version": "1.2.0",
          "state": {
            "_model_module": "@jupyter-widgets/base",
            "_model_module_version": "1.2.0",
            "_model_name": "LayoutModel",
            "_view_count": null,
            "_view_module": "@jupyter-widgets/base",
            "_view_module_version": "1.2.0",
            "_view_name": "LayoutView",
            "align_content": null,
            "align_items": null,
            "align_self": null,
            "border": null,
            "bottom": null,
            "display": null,
            "flex": null,
            "flex_flow": null,
            "grid_area": null,
            "grid_auto_columns": null,
            "grid_auto_flow": null,
            "grid_auto_rows": null,
            "grid_column": null,
            "grid_gap": null,
            "grid_row": null,
            "grid_template_areas": null,
            "grid_template_columns": null,
            "grid_template_rows": null,
            "height": null,
            "justify_content": null,
            "justify_items": null,
            "left": null,
            "margin": null,
            "max_height": null,
            "max_width": null,
            "min_height": null,
            "min_width": null,
            "object_fit": null,
            "object_position": null,
            "order": null,
            "overflow": null,
            "overflow_x": null,
            "overflow_y": null,
            "padding": null,
            "right": null,
            "top": null,
            "visibility": null,
            "width": null
          }
        },
        "4dbd0357ee284914a54b8fc2b74a88dd": {
          "model_module": "@jupyter-widgets/base",
          "model_name": "LayoutModel",
          "model_module_version": "1.2.0",
          "state": {
            "_model_module": "@jupyter-widgets/base",
            "_model_module_version": "1.2.0",
            "_model_name": "LayoutModel",
            "_view_count": null,
            "_view_module": "@jupyter-widgets/base",
            "_view_module_version": "1.2.0",
            "_view_name": "LayoutView",
            "align_content": null,
            "align_items": null,
            "align_self": null,
            "border": null,
            "bottom": null,
            "display": null,
            "flex": null,
            "flex_flow": null,
            "grid_area": null,
            "grid_auto_columns": null,
            "grid_auto_flow": null,
            "grid_auto_rows": null,
            "grid_column": null,
            "grid_gap": null,
            "grid_row": null,
            "grid_template_areas": null,
            "grid_template_columns": null,
            "grid_template_rows": null,
            "height": null,
            "justify_content": null,
            "justify_items": null,
            "left": null,
            "margin": null,
            "max_height": null,
            "max_width": null,
            "min_height": null,
            "min_width": null,
            "object_fit": null,
            "object_position": null,
            "order": null,
            "overflow": null,
            "overflow_x": null,
            "overflow_y": null,
            "padding": null,
            "right": null,
            "top": null,
            "visibility": null,
            "width": null
          }
        },
        "4b5105feedce4e1a9a5c0f0bd81d2646": {
          "model_module": "@jupyter-widgets/controls",
          "model_name": "DescriptionStyleModel",
          "model_module_version": "1.5.0",
          "state": {
            "_model_module": "@jupyter-widgets/controls",
            "_model_module_version": "1.5.0",
            "_model_name": "DescriptionStyleModel",
            "_view_count": null,
            "_view_module": "@jupyter-widgets/base",
            "_view_module_version": "1.2.0",
            "_view_name": "StyleView",
            "description_width": ""
          }
        },
        "40e04e4c06924114bf17c1864ad93a95": {
          "model_module": "@jupyter-widgets/base",
          "model_name": "LayoutModel",
          "model_module_version": "1.2.0",
          "state": {
            "_model_module": "@jupyter-widgets/base",
            "_model_module_version": "1.2.0",
            "_model_name": "LayoutModel",
            "_view_count": null,
            "_view_module": "@jupyter-widgets/base",
            "_view_module_version": "1.2.0",
            "_view_name": "LayoutView",
            "align_content": null,
            "align_items": null,
            "align_self": null,
            "border": null,
            "bottom": null,
            "display": null,
            "flex": null,
            "flex_flow": null,
            "grid_area": null,
            "grid_auto_columns": null,
            "grid_auto_flow": null,
            "grid_auto_rows": null,
            "grid_column": null,
            "grid_gap": null,
            "grid_row": null,
            "grid_template_areas": null,
            "grid_template_columns": null,
            "grid_template_rows": null,
            "height": null,
            "justify_content": null,
            "justify_items": null,
            "left": null,
            "margin": null,
            "max_height": null,
            "max_width": null,
            "min_height": null,
            "min_width": null,
            "object_fit": null,
            "object_position": null,
            "order": null,
            "overflow": null,
            "overflow_x": null,
            "overflow_y": null,
            "padding": null,
            "right": null,
            "top": null,
            "visibility": null,
            "width": null
          }
        },
        "b04f83e6488342d9b480b76d481ed8c2": {
          "model_module": "@jupyter-widgets/controls",
          "model_name": "ProgressStyleModel",
          "model_module_version": "1.5.0",
          "state": {
            "_model_module": "@jupyter-widgets/controls",
            "_model_module_version": "1.5.0",
            "_model_name": "ProgressStyleModel",
            "_view_count": null,
            "_view_module": "@jupyter-widgets/base",
            "_view_module_version": "1.2.0",
            "_view_name": "StyleView",
            "bar_color": null,
            "description_width": ""
          }
        },
        "f0e49c9e3e284c778ba3d86cfc2c8830": {
          "model_module": "@jupyter-widgets/base",
          "model_name": "LayoutModel",
          "model_module_version": "1.2.0",
          "state": {
            "_model_module": "@jupyter-widgets/base",
            "_model_module_version": "1.2.0",
            "_model_name": "LayoutModel",
            "_view_count": null,
            "_view_module": "@jupyter-widgets/base",
            "_view_module_version": "1.2.0",
            "_view_name": "LayoutView",
            "align_content": null,
            "align_items": null,
            "align_self": null,
            "border": null,
            "bottom": null,
            "display": null,
            "flex": null,
            "flex_flow": null,
            "grid_area": null,
            "grid_auto_columns": null,
            "grid_auto_flow": null,
            "grid_auto_rows": null,
            "grid_column": null,
            "grid_gap": null,
            "grid_row": null,
            "grid_template_areas": null,
            "grid_template_columns": null,
            "grid_template_rows": null,
            "height": null,
            "justify_content": null,
            "justify_items": null,
            "left": null,
            "margin": null,
            "max_height": null,
            "max_width": null,
            "min_height": null,
            "min_width": null,
            "object_fit": null,
            "object_position": null,
            "order": null,
            "overflow": null,
            "overflow_x": null,
            "overflow_y": null,
            "padding": null,
            "right": null,
            "top": null,
            "visibility": null,
            "width": null
          }
        },
        "1032760f84bd4a0d9d27d71c436e400c": {
          "model_module": "@jupyter-widgets/controls",
          "model_name": "DescriptionStyleModel",
          "model_module_version": "1.5.0",
          "state": {
            "_model_module": "@jupyter-widgets/controls",
            "_model_module_version": "1.5.0",
            "_model_name": "DescriptionStyleModel",
            "_view_count": null,
            "_view_module": "@jupyter-widgets/base",
            "_view_module_version": "1.2.0",
            "_view_name": "StyleView",
            "description_width": ""
          }
        },
        "fc92681d54a44658afa4a35ef1f2b52b": {
          "model_module": "@jupyter-widgets/controls",
          "model_name": "HBoxModel",
          "model_module_version": "1.5.0",
          "state": {
            "_dom_classes": [],
            "_model_module": "@jupyter-widgets/controls",
            "_model_module_version": "1.5.0",
            "_model_name": "HBoxModel",
            "_view_count": null,
            "_view_module": "@jupyter-widgets/controls",
            "_view_module_version": "1.5.0",
            "_view_name": "HBoxView",
            "box_style": "",
            "children": [
              "IPY_MODEL_4d0106e5876d44f19326143b97c0b3b1",
              "IPY_MODEL_eb674533c0b74d17bc3690388b52b33d",
              "IPY_MODEL_a12f35eedb1f4ecfadde3b009a08f44b"
            ],
            "layout": "IPY_MODEL_ed32da0e7b5a42588a530130e82906c0"
          }
        },
        "4d0106e5876d44f19326143b97c0b3b1": {
          "model_module": "@jupyter-widgets/controls",
          "model_name": "HTMLModel",
          "model_module_version": "1.5.0",
          "state": {
            "_dom_classes": [],
            "_model_module": "@jupyter-widgets/controls",
            "_model_module_version": "1.5.0",
            "_model_name": "HTMLModel",
            "_view_count": null,
            "_view_module": "@jupyter-widgets/controls",
            "_view_module_version": "1.5.0",
            "_view_name": "HTMLView",
            "description": "",
            "description_tooltip": null,
            "layout": "IPY_MODEL_c120cf77683e4344aca610430364c8a2",
            "placeholder": "​",
            "style": "IPY_MODEL_3f9bc6f189d145ad8403e9579ac5e2ba",
            "value": "tokenizer.json: 100%"
          }
        },
        "eb674533c0b74d17bc3690388b52b33d": {
          "model_module": "@jupyter-widgets/controls",
          "model_name": "FloatProgressModel",
          "model_module_version": "1.5.0",
          "state": {
            "_dom_classes": [],
            "_model_module": "@jupyter-widgets/controls",
            "_model_module_version": "1.5.0",
            "_model_name": "FloatProgressModel",
            "_view_count": null,
            "_view_module": "@jupyter-widgets/controls",
            "_view_module_version": "1.5.0",
            "_view_name": "ProgressView",
            "bar_style": "success",
            "description": "",
            "description_tooltip": null,
            "layout": "IPY_MODEL_c2a681af70ec4fab8bdbe1e6d662f846",
            "max": 977,
            "min": 0,
            "orientation": "horizontal",
            "style": "IPY_MODEL_593fac93eeaa4fd79e7b1f180a7a93e3",
            "value": 977
          }
        },
        "a12f35eedb1f4ecfadde3b009a08f44b": {
          "model_module": "@jupyter-widgets/controls",
          "model_name": "HTMLModel",
          "model_module_version": "1.5.0",
          "state": {
            "_dom_classes": [],
            "_model_module": "@jupyter-widgets/controls",
            "_model_module_version": "1.5.0",
            "_model_name": "HTMLModel",
            "_view_count": null,
            "_view_module": "@jupyter-widgets/controls",
            "_view_module_version": "1.5.0",
            "_view_name": "HTMLView",
            "description": "",
            "description_tooltip": null,
            "layout": "IPY_MODEL_289234087d764b169f15763a1cfe0333",
            "placeholder": "​",
            "style": "IPY_MODEL_1b8d6d31e228414ea2c6a7e292c920ae",
            "value": " 977/977 [00:00&lt;00:00, 33.1kB/s]"
          }
        },
        "ed32da0e7b5a42588a530130e82906c0": {
          "model_module": "@jupyter-widgets/base",
          "model_name": "LayoutModel",
          "model_module_version": "1.2.0",
          "state": {
            "_model_module": "@jupyter-widgets/base",
            "_model_module_version": "1.2.0",
            "_model_name": "LayoutModel",
            "_view_count": null,
            "_view_module": "@jupyter-widgets/base",
            "_view_module_version": "1.2.0",
            "_view_name": "LayoutView",
            "align_content": null,
            "align_items": null,
            "align_self": null,
            "border": null,
            "bottom": null,
            "display": null,
            "flex": null,
            "flex_flow": null,
            "grid_area": null,
            "grid_auto_columns": null,
            "grid_auto_flow": null,
            "grid_auto_rows": null,
            "grid_column": null,
            "grid_gap": null,
            "grid_row": null,
            "grid_template_areas": null,
            "grid_template_columns": null,
            "grid_template_rows": null,
            "height": null,
            "justify_content": null,
            "justify_items": null,
            "left": null,
            "margin": null,
            "max_height": null,
            "max_width": null,
            "min_height": null,
            "min_width": null,
            "object_fit": null,
            "object_position": null,
            "order": null,
            "overflow": null,
            "overflow_x": null,
            "overflow_y": null,
            "padding": null,
            "right": null,
            "top": null,
            "visibility": null,
            "width": null
          }
        },
        "c120cf77683e4344aca610430364c8a2": {
          "model_module": "@jupyter-widgets/base",
          "model_name": "LayoutModel",
          "model_module_version": "1.2.0",
          "state": {
            "_model_module": "@jupyter-widgets/base",
            "_model_module_version": "1.2.0",
            "_model_name": "LayoutModel",
            "_view_count": null,
            "_view_module": "@jupyter-widgets/base",
            "_view_module_version": "1.2.0",
            "_view_name": "LayoutView",
            "align_content": null,
            "align_items": null,
            "align_self": null,
            "border": null,
            "bottom": null,
            "display": null,
            "flex": null,
            "flex_flow": null,
            "grid_area": null,
            "grid_auto_columns": null,
            "grid_auto_flow": null,
            "grid_auto_rows": null,
            "grid_column": null,
            "grid_gap": null,
            "grid_row": null,
            "grid_template_areas": null,
            "grid_template_columns": null,
            "grid_template_rows": null,
            "height": null,
            "justify_content": null,
            "justify_items": null,
            "left": null,
            "margin": null,
            "max_height": null,
            "max_width": null,
            "min_height": null,
            "min_width": null,
            "object_fit": null,
            "object_position": null,
            "order": null,
            "overflow": null,
            "overflow_x": null,
            "overflow_y": null,
            "padding": null,
            "right": null,
            "top": null,
            "visibility": null,
            "width": null
          }
        },
        "3f9bc6f189d145ad8403e9579ac5e2ba": {
          "model_module": "@jupyter-widgets/controls",
          "model_name": "DescriptionStyleModel",
          "model_module_version": "1.5.0",
          "state": {
            "_model_module": "@jupyter-widgets/controls",
            "_model_module_version": "1.5.0",
            "_model_name": "DescriptionStyleModel",
            "_view_count": null,
            "_view_module": "@jupyter-widgets/base",
            "_view_module_version": "1.2.0",
            "_view_name": "StyleView",
            "description_width": ""
          }
        },
        "c2a681af70ec4fab8bdbe1e6d662f846": {
          "model_module": "@jupyter-widgets/base",
          "model_name": "LayoutModel",
          "model_module_version": "1.2.0",
          "state": {
            "_model_module": "@jupyter-widgets/base",
            "_model_module_version": "1.2.0",
            "_model_name": "LayoutModel",
            "_view_count": null,
            "_view_module": "@jupyter-widgets/base",
            "_view_module_version": "1.2.0",
            "_view_name": "LayoutView",
            "align_content": null,
            "align_items": null,
            "align_self": null,
            "border": null,
            "bottom": null,
            "display": null,
            "flex": null,
            "flex_flow": null,
            "grid_area": null,
            "grid_auto_columns": null,
            "grid_auto_flow": null,
            "grid_auto_rows": null,
            "grid_column": null,
            "grid_gap": null,
            "grid_row": null,
            "grid_template_areas": null,
            "grid_template_columns": null,
            "grid_template_rows": null,
            "height": null,
            "justify_content": null,
            "justify_items": null,
            "left": null,
            "margin": null,
            "max_height": null,
            "max_width": null,
            "min_height": null,
            "min_width": null,
            "object_fit": null,
            "object_position": null,
            "order": null,
            "overflow": null,
            "overflow_x": null,
            "overflow_y": null,
            "padding": null,
            "right": null,
            "top": null,
            "visibility": null,
            "width": null
          }
        },
        "593fac93eeaa4fd79e7b1f180a7a93e3": {
          "model_module": "@jupyter-widgets/controls",
          "model_name": "ProgressStyleModel",
          "model_module_version": "1.5.0",
          "state": {
            "_model_module": "@jupyter-widgets/controls",
            "_model_module_version": "1.5.0",
            "_model_name": "ProgressStyleModel",
            "_view_count": null,
            "_view_module": "@jupyter-widgets/base",
            "_view_module_version": "1.2.0",
            "_view_name": "StyleView",
            "bar_color": null,
            "description_width": ""
          }
        },
        "289234087d764b169f15763a1cfe0333": {
          "model_module": "@jupyter-widgets/base",
          "model_name": "LayoutModel",
          "model_module_version": "1.2.0",
          "state": {
            "_model_module": "@jupyter-widgets/base",
            "_model_module_version": "1.2.0",
            "_model_name": "LayoutModel",
            "_view_count": null,
            "_view_module": "@jupyter-widgets/base",
            "_view_module_version": "1.2.0",
            "_view_name": "LayoutView",
            "align_content": null,
            "align_items": null,
            "align_self": null,
            "border": null,
            "bottom": null,
            "display": null,
            "flex": null,
            "flex_flow": null,
            "grid_area": null,
            "grid_auto_columns": null,
            "grid_auto_flow": null,
            "grid_auto_rows": null,
            "grid_column": null,
            "grid_gap": null,
            "grid_row": null,
            "grid_template_areas": null,
            "grid_template_columns": null,
            "grid_template_rows": null,
            "height": null,
            "justify_content": null,
            "justify_items": null,
            "left": null,
            "margin": null,
            "max_height": null,
            "max_width": null,
            "min_height": null,
            "min_width": null,
            "object_fit": null,
            "object_position": null,
            "order": null,
            "overflow": null,
            "overflow_x": null,
            "overflow_y": null,
            "padding": null,
            "right": null,
            "top": null,
            "visibility": null,
            "width": null
          }
        },
        "1b8d6d31e228414ea2c6a7e292c920ae": {
          "model_module": "@jupyter-widgets/controls",
          "model_name": "DescriptionStyleModel",
          "model_module_version": "1.5.0",
          "state": {
            "_model_module": "@jupyter-widgets/controls",
            "_model_module_version": "1.5.0",
            "_model_name": "DescriptionStyleModel",
            "_view_count": null,
            "_view_module": "@jupyter-widgets/base",
            "_view_module_version": "1.2.0",
            "_view_name": "StyleView",
            "description_width": ""
          }
        },
        "82988d183a0e48bc94a09bf4ef4e2b9c": {
          "model_module": "@jupyter-widgets/controls",
          "model_name": "HBoxModel",
          "model_module_version": "1.5.0",
          "state": {
            "_dom_classes": [],
            "_model_module": "@jupyter-widgets/controls",
            "_model_module_version": "1.5.0",
            "_model_name": "HBoxModel",
            "_view_count": null,
            "_view_module": "@jupyter-widgets/controls",
            "_view_module_version": "1.5.0",
            "_view_name": "HBoxView",
            "box_style": "",
            "children": [
              "IPY_MODEL_cc5f01eae07f4945bfcb9e27912999e1",
              "IPY_MODEL_c566492be61748699509b4a143df4c71",
              "IPY_MODEL_845eb5dbb7624033a38c902d0e34d5e4"
            ],
            "layout": "IPY_MODEL_c9cfbfab1cf24c1dbfdfbaf99d501b2c"
          }
        },
        "cc5f01eae07f4945bfcb9e27912999e1": {
          "model_module": "@jupyter-widgets/controls",
          "model_name": "HTMLModel",
          "model_module_version": "1.5.0",
          "state": {
            "_dom_classes": [],
            "_model_module": "@jupyter-widgets/controls",
            "_model_module_version": "1.5.0",
            "_model_name": "HTMLModel",
            "_view_count": null,
            "_view_module": "@jupyter-widgets/controls",
            "_view_module_version": "1.5.0",
            "_view_name": "HTMLView",
            "description": "",
            "description_tooltip": null,
            "layout": "IPY_MODEL_824a552dd380401cb7fba56849253354",
            "placeholder": "​",
            "style": "IPY_MODEL_13a00590ce31422c8009525afebe5a53",
            "value": "special_tokens_map.json: 100%"
          }
        },
        "c566492be61748699509b4a143df4c71": {
          "model_module": "@jupyter-widgets/controls",
          "model_name": "FloatProgressModel",
          "model_module_version": "1.5.0",
          "state": {
            "_dom_classes": [],
            "_model_module": "@jupyter-widgets/controls",
            "_model_module_version": "1.5.0",
            "_model_name": "FloatProgressModel",
            "_view_count": null,
            "_view_module": "@jupyter-widgets/controls",
            "_view_module_version": "1.5.0",
            "_view_name": "ProgressView",
            "bar_style": "success",
            "description": "",
            "description_tooltip": null,
            "layout": "IPY_MODEL_35ca9836eafc4192893b45a38b9ac076",
            "max": 51,
            "min": 0,
            "orientation": "horizontal",
            "style": "IPY_MODEL_9c641b08a72f40e4b28912ce1c260586",
            "value": 51
          }
        },
        "845eb5dbb7624033a38c902d0e34d5e4": {
          "model_module": "@jupyter-widgets/controls",
          "model_name": "HTMLModel",
          "model_module_version": "1.5.0",
          "state": {
            "_dom_classes": [],
            "_model_module": "@jupyter-widgets/controls",
            "_model_module_version": "1.5.0",
            "_model_name": "HTMLModel",
            "_view_count": null,
            "_view_module": "@jupyter-widgets/controls",
            "_view_module_version": "1.5.0",
            "_view_name": "HTMLView",
            "description": "",
            "description_tooltip": null,
            "layout": "IPY_MODEL_2b96b947864b4bf1b58af98f553b6bba",
            "placeholder": "​",
            "style": "IPY_MODEL_5f0cba6ae55548f98a22aa4380df3d44",
            "value": " 51.0/51.0 [00:00&lt;00:00, 2.05kB/s]"
          }
        },
        "c9cfbfab1cf24c1dbfdfbaf99d501b2c": {
          "model_module": "@jupyter-widgets/base",
          "model_name": "LayoutModel",
          "model_module_version": "1.2.0",
          "state": {
            "_model_module": "@jupyter-widgets/base",
            "_model_module_version": "1.2.0",
            "_model_name": "LayoutModel",
            "_view_count": null,
            "_view_module": "@jupyter-widgets/base",
            "_view_module_version": "1.2.0",
            "_view_name": "LayoutView",
            "align_content": null,
            "align_items": null,
            "align_self": null,
            "border": null,
            "bottom": null,
            "display": null,
            "flex": null,
            "flex_flow": null,
            "grid_area": null,
            "grid_auto_columns": null,
            "grid_auto_flow": null,
            "grid_auto_rows": null,
            "grid_column": null,
            "grid_gap": null,
            "grid_row": null,
            "grid_template_areas": null,
            "grid_template_columns": null,
            "grid_template_rows": null,
            "height": null,
            "justify_content": null,
            "justify_items": null,
            "left": null,
            "margin": null,
            "max_height": null,
            "max_width": null,
            "min_height": null,
            "min_width": null,
            "object_fit": null,
            "object_position": null,
            "order": null,
            "overflow": null,
            "overflow_x": null,
            "overflow_y": null,
            "padding": null,
            "right": null,
            "top": null,
            "visibility": null,
            "width": null
          }
        },
        "824a552dd380401cb7fba56849253354": {
          "model_module": "@jupyter-widgets/base",
          "model_name": "LayoutModel",
          "model_module_version": "1.2.0",
          "state": {
            "_model_module": "@jupyter-widgets/base",
            "_model_module_version": "1.2.0",
            "_model_name": "LayoutModel",
            "_view_count": null,
            "_view_module": "@jupyter-widgets/base",
            "_view_module_version": "1.2.0",
            "_view_name": "LayoutView",
            "align_content": null,
            "align_items": null,
            "align_self": null,
            "border": null,
            "bottom": null,
            "display": null,
            "flex": null,
            "flex_flow": null,
            "grid_area": null,
            "grid_auto_columns": null,
            "grid_auto_flow": null,
            "grid_auto_rows": null,
            "grid_column": null,
            "grid_gap": null,
            "grid_row": null,
            "grid_template_areas": null,
            "grid_template_columns": null,
            "grid_template_rows": null,
            "height": null,
            "justify_content": null,
            "justify_items": null,
            "left": null,
            "margin": null,
            "max_height": null,
            "max_width": null,
            "min_height": null,
            "min_width": null,
            "object_fit": null,
            "object_position": null,
            "order": null,
            "overflow": null,
            "overflow_x": null,
            "overflow_y": null,
            "padding": null,
            "right": null,
            "top": null,
            "visibility": null,
            "width": null
          }
        },
        "13a00590ce31422c8009525afebe5a53": {
          "model_module": "@jupyter-widgets/controls",
          "model_name": "DescriptionStyleModel",
          "model_module_version": "1.5.0",
          "state": {
            "_model_module": "@jupyter-widgets/controls",
            "_model_module_version": "1.5.0",
            "_model_name": "DescriptionStyleModel",
            "_view_count": null,
            "_view_module": "@jupyter-widgets/base",
            "_view_module_version": "1.2.0",
            "_view_name": "StyleView",
            "description_width": ""
          }
        },
        "35ca9836eafc4192893b45a38b9ac076": {
          "model_module": "@jupyter-widgets/base",
          "model_name": "LayoutModel",
          "model_module_version": "1.2.0",
          "state": {
            "_model_module": "@jupyter-widgets/base",
            "_model_module_version": "1.2.0",
            "_model_name": "LayoutModel",
            "_view_count": null,
            "_view_module": "@jupyter-widgets/base",
            "_view_module_version": "1.2.0",
            "_view_name": "LayoutView",
            "align_content": null,
            "align_items": null,
            "align_self": null,
            "border": null,
            "bottom": null,
            "display": null,
            "flex": null,
            "flex_flow": null,
            "grid_area": null,
            "grid_auto_columns": null,
            "grid_auto_flow": null,
            "grid_auto_rows": null,
            "grid_column": null,
            "grid_gap": null,
            "grid_row": null,
            "grid_template_areas": null,
            "grid_template_columns": null,
            "grid_template_rows": null,
            "height": null,
            "justify_content": null,
            "justify_items": null,
            "left": null,
            "margin": null,
            "max_height": null,
            "max_width": null,
            "min_height": null,
            "min_width": null,
            "object_fit": null,
            "object_position": null,
            "order": null,
            "overflow": null,
            "overflow_x": null,
            "overflow_y": null,
            "padding": null,
            "right": null,
            "top": null,
            "visibility": null,
            "width": null
          }
        },
        "9c641b08a72f40e4b28912ce1c260586": {
          "model_module": "@jupyter-widgets/controls",
          "model_name": "ProgressStyleModel",
          "model_module_version": "1.5.0",
          "state": {
            "_model_module": "@jupyter-widgets/controls",
            "_model_module_version": "1.5.0",
            "_model_name": "ProgressStyleModel",
            "_view_count": null,
            "_view_module": "@jupyter-widgets/base",
            "_view_module_version": "1.2.0",
            "_view_name": "StyleView",
            "bar_color": null,
            "description_width": ""
          }
        },
        "2b96b947864b4bf1b58af98f553b6bba": {
          "model_module": "@jupyter-widgets/base",
          "model_name": "LayoutModel",
          "model_module_version": "1.2.0",
          "state": {
            "_model_module": "@jupyter-widgets/base",
            "_model_module_version": "1.2.0",
            "_model_name": "LayoutModel",
            "_view_count": null,
            "_view_module": "@jupyter-widgets/base",
            "_view_module_version": "1.2.0",
            "_view_name": "LayoutView",
            "align_content": null,
            "align_items": null,
            "align_self": null,
            "border": null,
            "bottom": null,
            "display": null,
            "flex": null,
            "flex_flow": null,
            "grid_area": null,
            "grid_auto_columns": null,
            "grid_auto_flow": null,
            "grid_auto_rows": null,
            "grid_column": null,
            "grid_gap": null,
            "grid_row": null,
            "grid_template_areas": null,
            "grid_template_columns": null,
            "grid_template_rows": null,
            "height": null,
            "justify_content": null,
            "justify_items": null,
            "left": null,
            "margin": null,
            "max_height": null,
            "max_width": null,
            "min_height": null,
            "min_width": null,
            "object_fit": null,
            "object_position": null,
            "order": null,
            "overflow": null,
            "overflow_x": null,
            "overflow_y": null,
            "padding": null,
            "right": null,
            "top": null,
            "visibility": null,
            "width": null
          }
        },
        "5f0cba6ae55548f98a22aa4380df3d44": {
          "model_module": "@jupyter-widgets/controls",
          "model_name": "DescriptionStyleModel",
          "model_module_version": "1.5.0",
          "state": {
            "_model_module": "@jupyter-widgets/controls",
            "_model_module_version": "1.5.0",
            "_model_name": "DescriptionStyleModel",
            "_view_count": null,
            "_view_module": "@jupyter-widgets/base",
            "_view_module_version": "1.2.0",
            "_view_name": "StyleView",
            "description_width": ""
          }
        }
      }
    }
  },
  "nbformat": 4,
  "nbformat_minor": 5
}